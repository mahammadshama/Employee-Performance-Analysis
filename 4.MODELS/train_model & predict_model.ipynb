{
 "cells": [
  {
   "cell_type": "code",
   "execution_count": 1,
   "id": "04670179",
   "metadata": {},
   "outputs": [],
   "source": [
    "#Loading libraries\n",
    "import numpy as np\n",
    "import pandas as pd\n",
    "import matplotlib.pyplot as plt\n",
    "import seaborn as sns\n",
    "import joblib\n",
    "import random\n",
    "random.seed(42)\n",
    "np.random.seed(42)\n",
    "from sklearn.preprocessing import LabelEncoder,OneHotEncoder\n",
    "from sklearn.preprocessing import StandardScaler\n",
    "from imblearn.over_sampling import SMOTE\n",
    "from sklearn.model_selection import train_test_split\n",
    "from tabulate import tabulate\n",
    "from scipy.stats import uniform, randint\n",
    "\n",
    "\n",
    "from sklearn.model_selection import cross_val_score\n",
    "from sklearn.metrics import accuracy_score,precision_score,recall_score,f1_score,classification_report,roc_auc_score,confusion_matrix\n",
    "from sklearn.model_selection import RandomizedSearchCV, GridSearchCV"
   ]
  },
  {
   "cell_type": "code",
   "execution_count": null,
   "id": "e4287e0b",
   "metadata": {},
   "outputs": [],
   "source": []
  },
  {
   "cell_type": "markdown",
   "id": "7c025e87",
   "metadata": {},
   "source": [
    "# Loading the processed dataset"
   ]
  },
  {
   "cell_type": "code",
   "execution_count": 2,
   "id": "07f6f9c9",
   "metadata": {},
   "outputs": [
    {
     "data": {
      "text/html": [
       "<div>\n",
       "<style scoped>\n",
       "    .dataframe tbody tr th:only-of-type {\n",
       "        vertical-align: middle;\n",
       "    }\n",
       "\n",
       "    .dataframe tbody tr th {\n",
       "        vertical-align: top;\n",
       "    }\n",
       "\n",
       "    .dataframe thead th {\n",
       "        text-align: right;\n",
       "    }\n",
       "</style>\n",
       "<table border=\"1\" class=\"dataframe\">\n",
       "  <thead>\n",
       "    <tr style=\"text-align: right;\">\n",
       "      <th></th>\n",
       "      <th>Age</th>\n",
       "      <th>Gender</th>\n",
       "      <th>EducationBackground</th>\n",
       "      <th>MaritalStatus</th>\n",
       "      <th>EmpDepartment</th>\n",
       "      <th>EmpJobRole</th>\n",
       "      <th>BusinessTravelFrequency</th>\n",
       "      <th>DistanceFromHome</th>\n",
       "      <th>EmpEducationLevel</th>\n",
       "      <th>EmpEnvironmentSatisfaction</th>\n",
       "      <th>...</th>\n",
       "      <th>EmpRelationshipSatisfaction</th>\n",
       "      <th>TotalWorkExperienceInYears</th>\n",
       "      <th>TrainingTimesLastYear</th>\n",
       "      <th>EmpWorkLifeBalance</th>\n",
       "      <th>ExperienceYearsAtThisCompany</th>\n",
       "      <th>ExperienceYearsInCurrentRole</th>\n",
       "      <th>YearsSinceLastPromotion</th>\n",
       "      <th>YearsWithCurrManager</th>\n",
       "      <th>Attrition</th>\n",
       "      <th>PerformanceRating</th>\n",
       "    </tr>\n",
       "  </thead>\n",
       "  <tbody>\n",
       "    <tr>\n",
       "      <th>0</th>\n",
       "      <td>32</td>\n",
       "      <td>1</td>\n",
       "      <td>3</td>\n",
       "      <td>2</td>\n",
       "      <td>5</td>\n",
       "      <td>13</td>\n",
       "      <td>2</td>\n",
       "      <td>10</td>\n",
       "      <td>3</td>\n",
       "      <td>4</td>\n",
       "      <td>...</td>\n",
       "      <td>4</td>\n",
       "      <td>10</td>\n",
       "      <td>2</td>\n",
       "      <td>2</td>\n",
       "      <td>10</td>\n",
       "      <td>7</td>\n",
       "      <td>0.000000</td>\n",
       "      <td>8</td>\n",
       "      <td>0</td>\n",
       "      <td>3</td>\n",
       "    </tr>\n",
       "    <tr>\n",
       "      <th>1</th>\n",
       "      <td>47</td>\n",
       "      <td>1</td>\n",
       "      <td>3</td>\n",
       "      <td>2</td>\n",
       "      <td>5</td>\n",
       "      <td>13</td>\n",
       "      <td>2</td>\n",
       "      <td>14</td>\n",
       "      <td>4</td>\n",
       "      <td>4</td>\n",
       "      <td>...</td>\n",
       "      <td>4</td>\n",
       "      <td>20</td>\n",
       "      <td>2</td>\n",
       "      <td>3</td>\n",
       "      <td>7</td>\n",
       "      <td>7</td>\n",
       "      <td>0.693147</td>\n",
       "      <td>7</td>\n",
       "      <td>0</td>\n",
       "      <td>3</td>\n",
       "    </tr>\n",
       "    <tr>\n",
       "      <th>2</th>\n",
       "      <td>40</td>\n",
       "      <td>1</td>\n",
       "      <td>5</td>\n",
       "      <td>1</td>\n",
       "      <td>5</td>\n",
       "      <td>13</td>\n",
       "      <td>1</td>\n",
       "      <td>5</td>\n",
       "      <td>4</td>\n",
       "      <td>4</td>\n",
       "      <td>...</td>\n",
       "      <td>3</td>\n",
       "      <td>20</td>\n",
       "      <td>2</td>\n",
       "      <td>3</td>\n",
       "      <td>18</td>\n",
       "      <td>11</td>\n",
       "      <td>0.693147</td>\n",
       "      <td>10</td>\n",
       "      <td>0</td>\n",
       "      <td>4</td>\n",
       "    </tr>\n",
       "    <tr>\n",
       "      <th>3</th>\n",
       "      <td>41</td>\n",
       "      <td>1</td>\n",
       "      <td>0</td>\n",
       "      <td>0</td>\n",
       "      <td>2</td>\n",
       "      <td>8</td>\n",
       "      <td>2</td>\n",
       "      <td>10</td>\n",
       "      <td>4</td>\n",
       "      <td>2</td>\n",
       "      <td>...</td>\n",
       "      <td>2</td>\n",
       "      <td>23</td>\n",
       "      <td>2</td>\n",
       "      <td>2</td>\n",
       "      <td>20</td>\n",
       "      <td>6</td>\n",
       "      <td>2.397895</td>\n",
       "      <td>6</td>\n",
       "      <td>0</td>\n",
       "      <td>3</td>\n",
       "    </tr>\n",
       "    <tr>\n",
       "      <th>4</th>\n",
       "      <td>60</td>\n",
       "      <td>1</td>\n",
       "      <td>3</td>\n",
       "      <td>2</td>\n",
       "      <td>5</td>\n",
       "      <td>13</td>\n",
       "      <td>2</td>\n",
       "      <td>16</td>\n",
       "      <td>4</td>\n",
       "      <td>1</td>\n",
       "      <td>...</td>\n",
       "      <td>4</td>\n",
       "      <td>10</td>\n",
       "      <td>1</td>\n",
       "      <td>3</td>\n",
       "      <td>2</td>\n",
       "      <td>2</td>\n",
       "      <td>1.098612</td>\n",
       "      <td>2</td>\n",
       "      <td>0</td>\n",
       "      <td>3</td>\n",
       "    </tr>\n",
       "    <tr>\n",
       "      <th>...</th>\n",
       "      <td>...</td>\n",
       "      <td>...</td>\n",
       "      <td>...</td>\n",
       "      <td>...</td>\n",
       "      <td>...</td>\n",
       "      <td>...</td>\n",
       "      <td>...</td>\n",
       "      <td>...</td>\n",
       "      <td>...</td>\n",
       "      <td>...</td>\n",
       "      <td>...</td>\n",
       "      <td>...</td>\n",
       "      <td>...</td>\n",
       "      <td>...</td>\n",
       "      <td>...</td>\n",
       "      <td>...</td>\n",
       "      <td>...</td>\n",
       "      <td>...</td>\n",
       "      <td>...</td>\n",
       "      <td>...</td>\n",
       "      <td>...</td>\n",
       "    </tr>\n",
       "    <tr>\n",
       "      <th>1195</th>\n",
       "      <td>27</td>\n",
       "      <td>0</td>\n",
       "      <td>4</td>\n",
       "      <td>0</td>\n",
       "      <td>5</td>\n",
       "      <td>13</td>\n",
       "      <td>1</td>\n",
       "      <td>3</td>\n",
       "      <td>1</td>\n",
       "      <td>4</td>\n",
       "      <td>...</td>\n",
       "      <td>2</td>\n",
       "      <td>6</td>\n",
       "      <td>3</td>\n",
       "      <td>3</td>\n",
       "      <td>6</td>\n",
       "      <td>5</td>\n",
       "      <td>0.000000</td>\n",
       "      <td>4</td>\n",
       "      <td>0</td>\n",
       "      <td>4</td>\n",
       "    </tr>\n",
       "    <tr>\n",
       "      <th>1196</th>\n",
       "      <td>37</td>\n",
       "      <td>1</td>\n",
       "      <td>5</td>\n",
       "      <td>2</td>\n",
       "      <td>4</td>\n",
       "      <td>15</td>\n",
       "      <td>2</td>\n",
       "      <td>10</td>\n",
       "      <td>2</td>\n",
       "      <td>4</td>\n",
       "      <td>...</td>\n",
       "      <td>1</td>\n",
       "      <td>4</td>\n",
       "      <td>2</td>\n",
       "      <td>3</td>\n",
       "      <td>1</td>\n",
       "      <td>0</td>\n",
       "      <td>0.000000</td>\n",
       "      <td>0</td>\n",
       "      <td>0</td>\n",
       "      <td>3</td>\n",
       "    </tr>\n",
       "    <tr>\n",
       "      <th>1197</th>\n",
       "      <td>50</td>\n",
       "      <td>1</td>\n",
       "      <td>4</td>\n",
       "      <td>1</td>\n",
       "      <td>4</td>\n",
       "      <td>15</td>\n",
       "      <td>2</td>\n",
       "      <td>28</td>\n",
       "      <td>1</td>\n",
       "      <td>4</td>\n",
       "      <td>...</td>\n",
       "      <td>3</td>\n",
       "      <td>20</td>\n",
       "      <td>3</td>\n",
       "      <td>3</td>\n",
       "      <td>20</td>\n",
       "      <td>8</td>\n",
       "      <td>1.386294</td>\n",
       "      <td>8</td>\n",
       "      <td>0</td>\n",
       "      <td>3</td>\n",
       "    </tr>\n",
       "    <tr>\n",
       "      <th>1198</th>\n",
       "      <td>34</td>\n",
       "      <td>0</td>\n",
       "      <td>4</td>\n",
       "      <td>2</td>\n",
       "      <td>0</td>\n",
       "      <td>1</td>\n",
       "      <td>2</td>\n",
       "      <td>9</td>\n",
       "      <td>3</td>\n",
       "      <td>4</td>\n",
       "      <td>...</td>\n",
       "      <td>2</td>\n",
       "      <td>9</td>\n",
       "      <td>3</td>\n",
       "      <td>4</td>\n",
       "      <td>8</td>\n",
       "      <td>7</td>\n",
       "      <td>2.079442</td>\n",
       "      <td>7</td>\n",
       "      <td>0</td>\n",
       "      <td>3</td>\n",
       "    </tr>\n",
       "    <tr>\n",
       "      <th>1199</th>\n",
       "      <td>24</td>\n",
       "      <td>0</td>\n",
       "      <td>5</td>\n",
       "      <td>2</td>\n",
       "      <td>5</td>\n",
       "      <td>13</td>\n",
       "      <td>2</td>\n",
       "      <td>3</td>\n",
       "      <td>2</td>\n",
       "      <td>1</td>\n",
       "      <td>...</td>\n",
       "      <td>1</td>\n",
       "      <td>4</td>\n",
       "      <td>3</td>\n",
       "      <td>3</td>\n",
       "      <td>2</td>\n",
       "      <td>2</td>\n",
       "      <td>1.098612</td>\n",
       "      <td>0</td>\n",
       "      <td>1</td>\n",
       "      <td>2</td>\n",
       "    </tr>\n",
       "  </tbody>\n",
       "</table>\n",
       "<p>1200 rows × 27 columns</p>\n",
       "</div>"
      ],
      "text/plain": [
       "      Age  Gender  EducationBackground  MaritalStatus  EmpDepartment  \\\n",
       "0      32       1                    3              2              5   \n",
       "1      47       1                    3              2              5   \n",
       "2      40       1                    5              1              5   \n",
       "3      41       1                    0              0              2   \n",
       "4      60       1                    3              2              5   \n",
       "...   ...     ...                  ...            ...            ...   \n",
       "1195   27       0                    4              0              5   \n",
       "1196   37       1                    5              2              4   \n",
       "1197   50       1                    4              1              4   \n",
       "1198   34       0                    4              2              0   \n",
       "1199   24       0                    5              2              5   \n",
       "\n",
       "      EmpJobRole  BusinessTravelFrequency  DistanceFromHome  \\\n",
       "0             13                        2                10   \n",
       "1             13                        2                14   \n",
       "2             13                        1                 5   \n",
       "3              8                        2                10   \n",
       "4             13                        2                16   \n",
       "...          ...                      ...               ...   \n",
       "1195          13                        1                 3   \n",
       "1196          15                        2                10   \n",
       "1197          15                        2                28   \n",
       "1198           1                        2                 9   \n",
       "1199          13                        2                 3   \n",
       "\n",
       "      EmpEducationLevel  EmpEnvironmentSatisfaction  ...  \\\n",
       "0                     3                           4  ...   \n",
       "1                     4                           4  ...   \n",
       "2                     4                           4  ...   \n",
       "3                     4                           2  ...   \n",
       "4                     4                           1  ...   \n",
       "...                 ...                         ...  ...   \n",
       "1195                  1                           4  ...   \n",
       "1196                  2                           4  ...   \n",
       "1197                  1                           4  ...   \n",
       "1198                  3                           4  ...   \n",
       "1199                  2                           1  ...   \n",
       "\n",
       "      EmpRelationshipSatisfaction  TotalWorkExperienceInYears  \\\n",
       "0                               4                          10   \n",
       "1                               4                          20   \n",
       "2                               3                          20   \n",
       "3                               2                          23   \n",
       "4                               4                          10   \n",
       "...                           ...                         ...   \n",
       "1195                            2                           6   \n",
       "1196                            1                           4   \n",
       "1197                            3                          20   \n",
       "1198                            2                           9   \n",
       "1199                            1                           4   \n",
       "\n",
       "      TrainingTimesLastYear  EmpWorkLifeBalance  ExperienceYearsAtThisCompany  \\\n",
       "0                         2                   2                            10   \n",
       "1                         2                   3                             7   \n",
       "2                         2                   3                            18   \n",
       "3                         2                   2                            20   \n",
       "4                         1                   3                             2   \n",
       "...                     ...                 ...                           ...   \n",
       "1195                      3                   3                             6   \n",
       "1196                      2                   3                             1   \n",
       "1197                      3                   3                            20   \n",
       "1198                      3                   4                             8   \n",
       "1199                      3                   3                             2   \n",
       "\n",
       "      ExperienceYearsInCurrentRole  YearsSinceLastPromotion  \\\n",
       "0                                7                 0.000000   \n",
       "1                                7                 0.693147   \n",
       "2                               11                 0.693147   \n",
       "3                                6                 2.397895   \n",
       "4                                2                 1.098612   \n",
       "...                            ...                      ...   \n",
       "1195                             5                 0.000000   \n",
       "1196                             0                 0.000000   \n",
       "1197                             8                 1.386294   \n",
       "1198                             7                 2.079442   \n",
       "1199                             2                 1.098612   \n",
       "\n",
       "      YearsWithCurrManager  Attrition  PerformanceRating  \n",
       "0                        8          0                  3  \n",
       "1                        7          0                  3  \n",
       "2                       10          0                  4  \n",
       "3                        6          0                  3  \n",
       "4                        2          0                  3  \n",
       "...                    ...        ...                ...  \n",
       "1195                     4          0                  4  \n",
       "1196                     0          0                  3  \n",
       "1197                     8          0                  3  \n",
       "1198                     7          0                  3  \n",
       "1199                     0          1                  2  \n",
       "\n",
       "[1200 rows x 27 columns]"
      ]
     },
     "execution_count": 2,
     "metadata": {},
     "output_type": "execute_result"
    }
   ],
   "source": [
    "df = pd.read_csv('processed_data.csv')\n",
    "df"
   ]
  },
  {
   "cell_type": "code",
   "execution_count": 3,
   "id": "128f9ab9",
   "metadata": {},
   "outputs": [
    {
     "data": {
      "text/plain": [
       "Index(['Age', 'Gender', 'EducationBackground', 'MaritalStatus',\n",
       "       'EmpDepartment', 'EmpJobRole', 'BusinessTravelFrequency',\n",
       "       'DistanceFromHome', 'EmpEducationLevel', 'EmpEnvironmentSatisfaction',\n",
       "       'EmpHourlyRate', 'EmpJobInvolvement', 'EmpJobLevel',\n",
       "       'EmpJobSatisfaction', 'NumCompaniesWorked', 'OverTime',\n",
       "       'EmpLastSalaryHikePercent', 'EmpRelationshipSatisfaction',\n",
       "       'TotalWorkExperienceInYears', 'TrainingTimesLastYear',\n",
       "       'EmpWorkLifeBalance', 'ExperienceYearsAtThisCompany',\n",
       "       'ExperienceYearsInCurrentRole', 'YearsSinceLastPromotion',\n",
       "       'YearsWithCurrManager', 'Attrition', 'PerformanceRating'],\n",
       "      dtype='object')"
      ]
     },
     "execution_count": 3,
     "metadata": {},
     "output_type": "execute_result"
    }
   ],
   "source": [
    "df.columns"
   ]
  },
  {
   "cell_type": "code",
   "execution_count": null,
   "id": "a6292205",
   "metadata": {},
   "outputs": [],
   "source": []
  },
  {
   "cell_type": "markdown",
   "id": "a868d7c8",
   "metadata": {},
   "source": [
    "# splitting dataset into train and test"
   ]
  },
  {
   "cell_type": "code",
   "execution_count": 4,
   "id": "314ce6d2",
   "metadata": {},
   "outputs": [],
   "source": [
    "x = df.drop(columns = ['PerformanceRating'])"
   ]
  },
  {
   "cell_type": "code",
   "execution_count": 5,
   "id": "a12e0e8d",
   "metadata": {},
   "outputs": [],
   "source": [
    "y = df['PerformanceRating']"
   ]
  },
  {
   "cell_type": "code",
   "execution_count": 6,
   "id": "343d5770",
   "metadata": {},
   "outputs": [],
   "source": [
    "x_train,x_test,y_train,y_test = train_test_split(x,y,test_size=0.2,random_state = 42, stratify = y)"
   ]
  },
  {
   "cell_type": "code",
   "execution_count": 7,
   "id": "330ca4f1",
   "metadata": {},
   "outputs": [
    {
     "data": {
      "text/plain": [
       "(960, 26)"
      ]
     },
     "execution_count": 7,
     "metadata": {},
     "output_type": "execute_result"
    }
   ],
   "source": [
    "x_train.shape"
   ]
  },
  {
   "cell_type": "code",
   "execution_count": 8,
   "id": "8e0a1c3c",
   "metadata": {},
   "outputs": [
    {
     "data": {
      "text/plain": [
       "(960,)"
      ]
     },
     "execution_count": 8,
     "metadata": {},
     "output_type": "execute_result"
    }
   ],
   "source": [
    "y_train.shape"
   ]
  },
  {
   "cell_type": "code",
   "execution_count": 9,
   "id": "4c84b56e",
   "metadata": {},
   "outputs": [
    {
     "data": {
      "text/plain": [
       "(240, 26)"
      ]
     },
     "execution_count": 9,
     "metadata": {},
     "output_type": "execute_result"
    }
   ],
   "source": [
    "x_test.shape"
   ]
  },
  {
   "cell_type": "code",
   "execution_count": 10,
   "id": "d3ee66b7",
   "metadata": {},
   "outputs": [
    {
     "data": {
      "text/plain": [
       "(240,)"
      ]
     },
     "execution_count": 10,
     "metadata": {},
     "output_type": "execute_result"
    }
   ],
   "source": [
    "y_test.shape"
   ]
  },
  {
   "cell_type": "code",
   "execution_count": 11,
   "id": "6570d77b",
   "metadata": {},
   "outputs": [
    {
     "data": {
      "text/plain": [
       "811     4\n",
       "1149    4\n",
       "662     5\n",
       "542     1\n",
       "858     4\n",
       "       ..\n",
       "623     3\n",
       "580     5\n",
       "147     4\n",
       "798     5\n",
       "208     3\n",
       "Name: EmpDepartment, Length: 240, dtype: int64"
      ]
     },
     "execution_count": 11,
     "metadata": {},
     "output_type": "execute_result"
    }
   ],
   "source": [
    "df.loc[x_test.index,'EmpDepartment']"
   ]
  },
  {
   "cell_type": "code",
   "execution_count": null,
   "id": "1d60897d",
   "metadata": {},
   "outputs": [],
   "source": []
  },
  {
   "cell_type": "code",
   "execution_count": null,
   "id": "8a5355d0",
   "metadata": {},
   "outputs": [],
   "source": []
  },
  {
   "cell_type": "code",
   "execution_count": null,
   "id": "2267b454",
   "metadata": {},
   "outputs": [],
   "source": []
  },
  {
   "cell_type": "code",
   "execution_count": null,
   "id": "45d58d07",
   "metadata": {},
   "outputs": [],
   "source": []
  },
  {
   "cell_type": "code",
   "execution_count": null,
   "id": "3b794808",
   "metadata": {},
   "outputs": [],
   "source": []
  },
  {
   "cell_type": "markdown",
   "id": "0f7f705e",
   "metadata": {},
   "source": [
    "# Scaling"
   ]
  },
  {
   "cell_type": "code",
   "execution_count": 12,
   "id": "f3e07767",
   "metadata": {},
   "outputs": [],
   "source": [
    "scaler = StandardScaler()"
   ]
  },
  {
   "cell_type": "code",
   "execution_count": 13,
   "id": "2b25ebda",
   "metadata": {},
   "outputs": [],
   "source": [
    "#scaling only continous columns\n",
    "continous_columns = ['Age','DistanceFromHome','EmpHourlyRate','EmpLastSalaryHikePercent','TotalWorkExperienceInYears','TrainingTimesLastYear',\n",
    "                        'ExperienceYearsAtThisCompany','ExperienceYearsInCurrentRole','YearsSinceLastPromotion','YearsWithCurrManager']"
   ]
  },
  {
   "cell_type": "code",
   "execution_count": 14,
   "id": "0a11a41c",
   "metadata": {},
   "outputs": [],
   "source": [
    "#scaling on splitted data to avoid data leakage\n",
    "x_train[continous_columns] = scaler.fit_transform(x_train[continous_columns])\n"
   ]
  },
  {
   "cell_type": "code",
   "execution_count": 15,
   "id": "55a927ae",
   "metadata": {},
   "outputs": [],
   "source": [
    "x_test[continous_columns] = scaler.transform(x_test[continous_columns])\n"
   ]
  },
  {
   "cell_type": "markdown",
   "id": "ac716604",
   "metadata": {},
   "source": [
    "# Balancing"
   ]
  },
  {
   "cell_type": "code",
   "execution_count": 16,
   "id": "bca640f8",
   "metadata": {},
   "outputs": [],
   "source": [
    "sm = SMOTE()"
   ]
  },
  {
   "cell_type": "code",
   "execution_count": 17,
   "id": "df7fbc81",
   "metadata": {},
   "outputs": [],
   "source": [
    "x_sm,y_sm = sm.fit_resample(x_train,y_train)"
   ]
  },
  {
   "cell_type": "code",
   "execution_count": 18,
   "id": "615fa749",
   "metadata": {},
   "outputs": [
    {
     "name": "stdout",
     "output_type": "stream",
     "text": [
      "Counter({3: 699, 2: 155, 4: 106})\n",
      "Counter({3: 699, 2: 699, 4: 699})\n"
     ]
    }
   ],
   "source": [
    "from collections import Counter\n",
    "print(Counter(y_train))\n",
    "print(Counter(y_sm))"
   ]
  },
  {
   "cell_type": "code",
   "execution_count": 19,
   "id": "c02d9bf4",
   "metadata": {},
   "outputs": [
    {
     "data": {
      "text/plain": [
       "(2097, 26)"
      ]
     },
     "execution_count": 19,
     "metadata": {},
     "output_type": "execute_result"
    }
   ],
   "source": [
    "x_sm.shape #balanced data"
   ]
  },
  {
   "cell_type": "code",
   "execution_count": 20,
   "id": "9a7eaa4f",
   "metadata": {},
   "outputs": [
    {
     "data": {
      "text/plain": [
       "(240, 26)"
      ]
     },
     "execution_count": 20,
     "metadata": {},
     "output_type": "execute_result"
    }
   ],
   "source": [
    "x_test.shape  #unbalanced to reflect real-world problem"
   ]
  },
  {
   "cell_type": "code",
   "execution_count": 21,
   "id": "51199763",
   "metadata": {},
   "outputs": [
    {
     "data": {
      "text/plain": [
       "(2097,)"
      ]
     },
     "execution_count": 21,
     "metadata": {},
     "output_type": "execute_result"
    }
   ],
   "source": [
    "y_sm.shape"
   ]
  },
  {
   "cell_type": "code",
   "execution_count": 22,
   "id": "c473b4c3",
   "metadata": {},
   "outputs": [
    {
     "data": {
      "text/plain": [
       "(240,)"
      ]
     },
     "execution_count": 22,
     "metadata": {},
     "output_type": "execute_result"
    }
   ],
   "source": [
    "y_test.shape"
   ]
  },
  {
   "cell_type": "markdown",
   "id": "e4aa1616",
   "metadata": {},
   "source": [
    "# Models"
   ]
  },
  {
   "cell_type": "markdown",
   "id": "02db95a7",
   "metadata": {},
   "source": [
    "# 1. Logistic Regression"
   ]
  },
  {
   "cell_type": "code",
   "execution_count": 23,
   "id": "53ed6398",
   "metadata": {},
   "outputs": [],
   "source": [
    "from sklearn.linear_model import LogisticRegression"
   ]
  },
  {
   "cell_type": "code",
   "execution_count": 24,
   "id": "ba337c50",
   "metadata": {},
   "outputs": [],
   "source": [
    "LR = LogisticRegression(multi_class = 'multinomial', solver ='lbfgs', max_iter = 1000, random_state = 42)"
   ]
  },
  {
   "cell_type": "code",
   "execution_count": 25,
   "id": "d6272e71",
   "metadata": {},
   "outputs": [
    {
     "data": {
      "text/html": [
       "<style>#sk-container-id-1 {color: black;background-color: white;}#sk-container-id-1 pre{padding: 0;}#sk-container-id-1 div.sk-toggleable {background-color: white;}#sk-container-id-1 label.sk-toggleable__label {cursor: pointer;display: block;width: 100%;margin-bottom: 0;padding: 0.3em;box-sizing: border-box;text-align: center;}#sk-container-id-1 label.sk-toggleable__label-arrow:before {content: \"▸\";float: left;margin-right: 0.25em;color: #696969;}#sk-container-id-1 label.sk-toggleable__label-arrow:hover:before {color: black;}#sk-container-id-1 div.sk-estimator:hover label.sk-toggleable__label-arrow:before {color: black;}#sk-container-id-1 div.sk-toggleable__content {max-height: 0;max-width: 0;overflow: hidden;text-align: left;background-color: #f0f8ff;}#sk-container-id-1 div.sk-toggleable__content pre {margin: 0.2em;color: black;border-radius: 0.25em;background-color: #f0f8ff;}#sk-container-id-1 input.sk-toggleable__control:checked~div.sk-toggleable__content {max-height: 200px;max-width: 100%;overflow: auto;}#sk-container-id-1 input.sk-toggleable__control:checked~label.sk-toggleable__label-arrow:before {content: \"▾\";}#sk-container-id-1 div.sk-estimator input.sk-toggleable__control:checked~label.sk-toggleable__label {background-color: #d4ebff;}#sk-container-id-1 div.sk-label input.sk-toggleable__control:checked~label.sk-toggleable__label {background-color: #d4ebff;}#sk-container-id-1 input.sk-hidden--visually {border: 0;clip: rect(1px 1px 1px 1px);clip: rect(1px, 1px, 1px, 1px);height: 1px;margin: -1px;overflow: hidden;padding: 0;position: absolute;width: 1px;}#sk-container-id-1 div.sk-estimator {font-family: monospace;background-color: #f0f8ff;border: 1px dotted black;border-radius: 0.25em;box-sizing: border-box;margin-bottom: 0.5em;}#sk-container-id-1 div.sk-estimator:hover {background-color: #d4ebff;}#sk-container-id-1 div.sk-parallel-item::after {content: \"\";width: 100%;border-bottom: 1px solid gray;flex-grow: 1;}#sk-container-id-1 div.sk-label:hover label.sk-toggleable__label {background-color: #d4ebff;}#sk-container-id-1 div.sk-serial::before {content: \"\";position: absolute;border-left: 1px solid gray;box-sizing: border-box;top: 0;bottom: 0;left: 50%;z-index: 0;}#sk-container-id-1 div.sk-serial {display: flex;flex-direction: column;align-items: center;background-color: white;padding-right: 0.2em;padding-left: 0.2em;position: relative;}#sk-container-id-1 div.sk-item {position: relative;z-index: 1;}#sk-container-id-1 div.sk-parallel {display: flex;align-items: stretch;justify-content: center;background-color: white;position: relative;}#sk-container-id-1 div.sk-item::before, #sk-container-id-1 div.sk-parallel-item::before {content: \"\";position: absolute;border-left: 1px solid gray;box-sizing: border-box;top: 0;bottom: 0;left: 50%;z-index: -1;}#sk-container-id-1 div.sk-parallel-item {display: flex;flex-direction: column;z-index: 1;position: relative;background-color: white;}#sk-container-id-1 div.sk-parallel-item:first-child::after {align-self: flex-end;width: 50%;}#sk-container-id-1 div.sk-parallel-item:last-child::after {align-self: flex-start;width: 50%;}#sk-container-id-1 div.sk-parallel-item:only-child::after {width: 0;}#sk-container-id-1 div.sk-dashed-wrapped {border: 1px dashed gray;margin: 0 0.4em 0.5em 0.4em;box-sizing: border-box;padding-bottom: 0.4em;background-color: white;}#sk-container-id-1 div.sk-label label {font-family: monospace;font-weight: bold;display: inline-block;line-height: 1.2em;}#sk-container-id-1 div.sk-label-container {text-align: center;}#sk-container-id-1 div.sk-container {/* jupyter's `normalize.less` sets `[hidden] { display: none; }` but bootstrap.min.css set `[hidden] { display: none !important; }` so we also need the `!important` here to be able to override the default hidden behavior on the sphinx rendered scikit-learn.org. See: https://github.com/scikit-learn/scikit-learn/issues/21755 */display: inline-block !important;position: relative;}#sk-container-id-1 div.sk-text-repr-fallback {display: none;}</style><div id=\"sk-container-id-1\" class=\"sk-top-container\"><div class=\"sk-text-repr-fallback\"><pre>LogisticRegression(max_iter=1000, multi_class=&#x27;multinomial&#x27;, random_state=42)</pre><b>In a Jupyter environment, please rerun this cell to show the HTML representation or trust the notebook. <br />On GitHub, the HTML representation is unable to render, please try loading this page with nbviewer.org.</b></div><div class=\"sk-container\" hidden><div class=\"sk-item\"><div class=\"sk-estimator sk-toggleable\"><input class=\"sk-toggleable__control sk-hidden--visually\" id=\"sk-estimator-id-1\" type=\"checkbox\" checked><label for=\"sk-estimator-id-1\" class=\"sk-toggleable__label sk-toggleable__label-arrow\">LogisticRegression</label><div class=\"sk-toggleable__content\"><pre>LogisticRegression(max_iter=1000, multi_class=&#x27;multinomial&#x27;, random_state=42)</pre></div></div></div></div></div>"
      ],
      "text/plain": [
       "LogisticRegression(max_iter=1000, multi_class='multinomial', random_state=42)"
      ]
     },
     "execution_count": 25,
     "metadata": {},
     "output_type": "execute_result"
    }
   ],
   "source": [
    "LR.fit(x_sm,y_sm)"
   ]
  },
  {
   "cell_type": "markdown",
   "id": "c3667056",
   "metadata": {},
   "source": [
    "###### Prediction"
   ]
  },
  {
   "cell_type": "code",
   "execution_count": 26,
   "id": "8336a34b",
   "metadata": {},
   "outputs": [
    {
     "data": {
      "text/plain": [
       "array([3, 3, 3, ..., 4, 4, 4], dtype=int64)"
      ]
     },
     "execution_count": 26,
     "metadata": {},
     "output_type": "execute_result"
    }
   ],
   "source": [
    "LR_y_train = LR.predict(x_sm)\n",
    "LR_y_train"
   ]
  },
  {
   "cell_type": "code",
   "execution_count": 27,
   "id": "c1179d70",
   "metadata": {},
   "outputs": [
    {
     "data": {
      "text/plain": [
       "array([3, 3, 3, 3, 3, 3, 3, 3, 3, 3, 3, 3, 3, 3, 3, 3, 3, 3, 4, 3, 2, 2,\n",
       "       2, 3, 2, 4, 4, 3, 2, 3, 3, 4, 4, 3, 3, 4, 3, 3, 4, 3, 3, 3, 3, 2,\n",
       "       3, 4, 4, 3, 4, 3, 3, 2, 3, 4, 2, 3, 3, 3, 3, 3, 3, 4, 4, 3, 3, 3,\n",
       "       2, 3, 3, 4, 3, 3, 3, 3, 3, 3, 4, 3, 3, 3, 3, 2, 2, 3, 3, 3, 2, 4,\n",
       "       3, 3, 3, 4, 4, 3, 3, 3, 4, 3, 3, 2, 4, 3, 2, 3, 3, 3, 2, 2, 2, 3,\n",
       "       3, 3, 4, 3, 3, 3, 3, 3, 3, 3, 3, 4, 3, 2, 3, 3, 2, 3, 3, 4, 3, 3,\n",
       "       3, 4, 3, 4, 2, 4, 2, 4, 3, 2, 3, 2, 3, 4, 3, 2, 3, 4, 2, 3, 3, 4,\n",
       "       3, 4, 2, 2, 3, 4, 3, 3, 3, 2, 3, 3, 3, 3, 3, 3, 4, 2, 2, 2, 3, 3,\n",
       "       4, 3, 2, 3, 3, 3, 3, 3, 3, 3, 2, 3, 4, 4, 3, 3, 3, 3, 3, 3, 3, 3,\n",
       "       3, 3, 3, 3, 3, 3, 3, 3, 3, 3, 3, 4, 3, 3, 3, 3, 3, 3, 2, 2, 2, 4,\n",
       "       4, 3, 2, 4, 3, 3, 2, 2, 2, 3, 3, 3, 3, 3, 3, 2, 3, 3, 3, 2],\n",
       "      dtype=int64)"
      ]
     },
     "execution_count": 27,
     "metadata": {},
     "output_type": "execute_result"
    }
   ],
   "source": [
    "LR_y_pred = LR.predict(x_test)\n",
    "LR_y_pred"
   ]
  },
  {
   "cell_type": "markdown",
   "id": "93c76277",
   "metadata": {},
   "source": [
    "###### Evaluation"
   ]
  },
  {
   "cell_type": "code",
   "execution_count": 28,
   "id": "55c11a82",
   "metadata": {},
   "outputs": [
    {
     "data": {
      "text/plain": [
       "0.8822126847877921"
      ]
     },
     "execution_count": 28,
     "metadata": {},
     "output_type": "execute_result"
    }
   ],
   "source": [
    "LR_acc_train = accuracy_score(y_sm,LR_y_train)\n",
    "LR_acc_train"
   ]
  },
  {
   "cell_type": "code",
   "execution_count": 29,
   "id": "60dc6d80",
   "metadata": {},
   "outputs": [
    {
     "name": "stdout",
     "output_type": "stream",
     "text": [
      "              precision    recall  f1-score   support\n",
      "\n",
      "           2       0.89      0.91      0.90       699\n",
      "           3       0.87      0.82      0.84       699\n",
      "           4       0.89      0.91      0.90       699\n",
      "\n",
      "    accuracy                           0.88      2097\n",
      "   macro avg       0.88      0.88      0.88      2097\n",
      "weighted avg       0.88      0.88      0.88      2097\n",
      "\n"
     ]
    }
   ],
   "source": [
    "print(classification_report(y_sm,LR_y_train))"
   ]
  },
  {
   "cell_type": "code",
   "execution_count": 30,
   "id": "e5381df6",
   "metadata": {},
   "outputs": [
    {
     "name": "stdout",
     "output_type": "stream",
     "text": [
      "ACCURACY SCORE: 0.7791666666666667\n",
      "PRECISION SCORE: 0.8073805756479807\n",
      "RECALL SCORE: 0.7791666666666667\n",
      "F1 SCORE: 0.7885665968999302\n",
      "-----\n",
      "LR CLASSIFICATION REPORT:\n",
      "              precision    recall  f1-score   support\n",
      "\n",
      "           2       0.62      0.67      0.64        39\n",
      "           3       0.90      0.81      0.85       175\n",
      "           4       0.47      0.73      0.58        26\n",
      "\n",
      "    accuracy                           0.78       240\n",
      "   macro avg       0.66      0.74      0.69       240\n",
      "weighted avg       0.81      0.78      0.79       240\n",
      "\n"
     ]
    }
   ],
   "source": [
    "LR_acc_test = accuracy_score(y_test,LR_y_pred)\n",
    "print('ACCURACY SCORE:',LR_acc_test)\n",
    "LR_pre = precision_score(y_test,LR_y_pred,average = 'weighted')\n",
    "print('PRECISION SCORE:',LR_pre)\n",
    "LR_recall = recall_score(y_test,LR_y_pred, average = 'weighted')\n",
    "print('RECALL SCORE:',LR_recall)\n",
    "LR_f1 = f1_score(y_test,LR_y_pred, average ='weighted')\n",
    "print('F1 SCORE:',LR_f1)\n",
    "print('-----')\n",
    "print('LR CLASSIFICATION REPORT:')\n",
    "print(classification_report(y_test,LR_y_pred))"
   ]
  },
  {
   "cell_type": "code",
   "execution_count": 31,
   "id": "540d1a87",
   "metadata": {},
   "outputs": [
    {
     "data": {
      "text/html": [
       "<div>\n",
       "<style scoped>\n",
       "    .dataframe tbody tr th:only-of-type {\n",
       "        vertical-align: middle;\n",
       "    }\n",
       "\n",
       "    .dataframe tbody tr th {\n",
       "        vertical-align: top;\n",
       "    }\n",
       "\n",
       "    .dataframe thead th {\n",
       "        text-align: right;\n",
       "    }\n",
       "</style>\n",
       "<table border=\"1\" class=\"dataframe\">\n",
       "  <thead>\n",
       "    <tr style=\"text-align: right;\">\n",
       "      <th>col_0</th>\n",
       "      <th>2</th>\n",
       "      <th>3</th>\n",
       "      <th>4</th>\n",
       "    </tr>\n",
       "    <tr>\n",
       "      <th>PerformanceRating</th>\n",
       "      <th></th>\n",
       "      <th></th>\n",
       "      <th></th>\n",
       "    </tr>\n",
       "  </thead>\n",
       "  <tbody>\n",
       "    <tr>\n",
       "      <th>2</th>\n",
       "      <td>26</td>\n",
       "      <td>11</td>\n",
       "      <td>2</td>\n",
       "    </tr>\n",
       "    <tr>\n",
       "      <th>3</th>\n",
       "      <td>14</td>\n",
       "      <td>142</td>\n",
       "      <td>19</td>\n",
       "    </tr>\n",
       "    <tr>\n",
       "      <th>4</th>\n",
       "      <td>2</td>\n",
       "      <td>5</td>\n",
       "      <td>19</td>\n",
       "    </tr>\n",
       "  </tbody>\n",
       "</table>\n",
       "</div>"
      ],
      "text/plain": [
       "col_0               2    3   4\n",
       "PerformanceRating             \n",
       "2                  26   11   2\n",
       "3                  14  142  19\n",
       "4                   2    5  19"
      ]
     },
     "execution_count": 31,
     "metadata": {},
     "output_type": "execute_result"
    }
   ],
   "source": [
    "pd.crosstab(y_test,LR_y_pred)"
   ]
  },
  {
   "cell_type": "code",
   "execution_count": 32,
   "id": "e6b41fdb",
   "metadata": {},
   "outputs": [
    {
     "data": {
      "text/html": [
       "<div>\n",
       "<style scoped>\n",
       "    .dataframe tbody tr th:only-of-type {\n",
       "        vertical-align: middle;\n",
       "    }\n",
       "\n",
       "    .dataframe tbody tr th {\n",
       "        vertical-align: top;\n",
       "    }\n",
       "\n",
       "    .dataframe thead th {\n",
       "        text-align: right;\n",
       "    }\n",
       "</style>\n",
       "<table border=\"1\" class=\"dataframe\">\n",
       "  <thead>\n",
       "    <tr style=\"text-align: right;\">\n",
       "      <th></th>\n",
       "      <th>METRIC</th>\n",
       "      <th>VALUE</th>\n",
       "    </tr>\n",
       "  </thead>\n",
       "  <tbody>\n",
       "    <tr>\n",
       "      <th>0</th>\n",
       "      <td>Accuracy</td>\n",
       "      <td>0.779167</td>\n",
       "    </tr>\n",
       "    <tr>\n",
       "      <th>1</th>\n",
       "      <td>Precision</td>\n",
       "      <td>0.807381</td>\n",
       "    </tr>\n",
       "    <tr>\n",
       "      <th>2</th>\n",
       "      <td>Recall</td>\n",
       "      <td>0.779167</td>\n",
       "    </tr>\n",
       "    <tr>\n",
       "      <th>3</th>\n",
       "      <td>F1 Score</td>\n",
       "      <td>0.788567</td>\n",
       "    </tr>\n",
       "  </tbody>\n",
       "</table>\n",
       "</div>"
      ],
      "text/plain": [
       "      METRIC     VALUE\n",
       "0   Accuracy  0.779167\n",
       "1  Precision  0.807381\n",
       "2     Recall  0.779167\n",
       "3   F1 Score  0.788567"
      ]
     },
     "execution_count": 32,
     "metadata": {},
     "output_type": "execute_result"
    }
   ],
   "source": [
    "LR_Metrics =pd.DataFrame({'METRIC': ['Accuracy','Precision','Recall','F1 Score'],'VALUE' : [LR_acc_test,LR_pre,LR_recall,LR_f1]})\n",
    "LR_Metrics"
   ]
  },
  {
   "cell_type": "code",
   "execution_count": 33,
   "id": "0c8bb3a4",
   "metadata": {},
   "outputs": [
    {
     "name": "stdout",
     "output_type": "stream",
     "text": [
      "LOGISTIC REGRESSION METRICS:\n",
      "+-----------+----------+\n",
      "| METRIC    |    VALUE |\n",
      "+===========+==========+\n",
      "| Accuracy  | 0.779167 |\n",
      "+-----------+----------+\n",
      "| Precision | 0.807381 |\n",
      "+-----------+----------+\n",
      "| Recall    | 0.779167 |\n",
      "+-----------+----------+\n",
      "| F1 Score  | 0.788567 |\n",
      "+-----------+----------+\n"
     ]
    }
   ],
   "source": [
    "print(\"LOGISTIC REGRESSION METRICS:\")\n",
    "print(tabulate(LR_Metrics,headers ='keys',tablefmt= 'grid',showindex = False))"
   ]
  },
  {
   "cell_type": "markdown",
   "id": "7de0d843",
   "metadata": {},
   "source": [
    "### HyperParameter Tuning in LR"
   ]
  },
  {
   "cell_type": "code",
   "execution_count": 34,
   "id": "eaeb7648",
   "metadata": {},
   "outputs": [],
   "source": [
    "param_grid = {\n",
    "    'C': [0.1, 1, 10, 100],  # Regularization strength\n",
    "    'solver': ['lbfgs', 'saga'],  # Optimization algorithms\n",
    "    'max_iter': [100, 200],  # Maximum iterations\n",
    "    'multi_class': ['ovr', 'multinomial'],  # Multi-class strategy\n",
    "    'penalty': ['l2'],  # Regularization penalty\n",
    "}\n"
   ]
  },
  {
   "cell_type": "code",
   "execution_count": 35,
   "id": "00d44a9a",
   "metadata": {},
   "outputs": [],
   "source": [
    "grid_search = GridSearchCV(estimator=LR, param_grid=param_grid, cv=5, n_jobs=-1, verbose=1)\n"
   ]
  },
  {
   "cell_type": "code",
   "execution_count": 36,
   "id": "43826896",
   "metadata": {},
   "outputs": [
    {
     "name": "stdout",
     "output_type": "stream",
     "text": [
      "Fitting 5 folds for each of 32 candidates, totalling 160 fits\n"
     ]
    },
    {
     "name": "stderr",
     "output_type": "stream",
     "text": [
      "C:\\Users\\mdsmb\\anaconda3\\Lib\\site-packages\\sklearn\\linear_model\\_logistic.py:458: ConvergenceWarning: lbfgs failed to converge (status=1):\n",
      "STOP: TOTAL NO. of ITERATIONS REACHED LIMIT.\n",
      "\n",
      "Increase the number of iterations (max_iter) or scale the data as shown in:\n",
      "    https://scikit-learn.org/stable/modules/preprocessing.html\n",
      "Please also refer to the documentation for alternative solver options:\n",
      "    https://scikit-learn.org/stable/modules/linear_model.html#logistic-regression\n",
      "  n_iter_i = _check_optimize_result(\n"
     ]
    },
    {
     "data": {
      "text/html": [
       "<style>#sk-container-id-2 {color: black;background-color: white;}#sk-container-id-2 pre{padding: 0;}#sk-container-id-2 div.sk-toggleable {background-color: white;}#sk-container-id-2 label.sk-toggleable__label {cursor: pointer;display: block;width: 100%;margin-bottom: 0;padding: 0.3em;box-sizing: border-box;text-align: center;}#sk-container-id-2 label.sk-toggleable__label-arrow:before {content: \"▸\";float: left;margin-right: 0.25em;color: #696969;}#sk-container-id-2 label.sk-toggleable__label-arrow:hover:before {color: black;}#sk-container-id-2 div.sk-estimator:hover label.sk-toggleable__label-arrow:before {color: black;}#sk-container-id-2 div.sk-toggleable__content {max-height: 0;max-width: 0;overflow: hidden;text-align: left;background-color: #f0f8ff;}#sk-container-id-2 div.sk-toggleable__content pre {margin: 0.2em;color: black;border-radius: 0.25em;background-color: #f0f8ff;}#sk-container-id-2 input.sk-toggleable__control:checked~div.sk-toggleable__content {max-height: 200px;max-width: 100%;overflow: auto;}#sk-container-id-2 input.sk-toggleable__control:checked~label.sk-toggleable__label-arrow:before {content: \"▾\";}#sk-container-id-2 div.sk-estimator input.sk-toggleable__control:checked~label.sk-toggleable__label {background-color: #d4ebff;}#sk-container-id-2 div.sk-label input.sk-toggleable__control:checked~label.sk-toggleable__label {background-color: #d4ebff;}#sk-container-id-2 input.sk-hidden--visually {border: 0;clip: rect(1px 1px 1px 1px);clip: rect(1px, 1px, 1px, 1px);height: 1px;margin: -1px;overflow: hidden;padding: 0;position: absolute;width: 1px;}#sk-container-id-2 div.sk-estimator {font-family: monospace;background-color: #f0f8ff;border: 1px dotted black;border-radius: 0.25em;box-sizing: border-box;margin-bottom: 0.5em;}#sk-container-id-2 div.sk-estimator:hover {background-color: #d4ebff;}#sk-container-id-2 div.sk-parallel-item::after {content: \"\";width: 100%;border-bottom: 1px solid gray;flex-grow: 1;}#sk-container-id-2 div.sk-label:hover label.sk-toggleable__label {background-color: #d4ebff;}#sk-container-id-2 div.sk-serial::before {content: \"\";position: absolute;border-left: 1px solid gray;box-sizing: border-box;top: 0;bottom: 0;left: 50%;z-index: 0;}#sk-container-id-2 div.sk-serial {display: flex;flex-direction: column;align-items: center;background-color: white;padding-right: 0.2em;padding-left: 0.2em;position: relative;}#sk-container-id-2 div.sk-item {position: relative;z-index: 1;}#sk-container-id-2 div.sk-parallel {display: flex;align-items: stretch;justify-content: center;background-color: white;position: relative;}#sk-container-id-2 div.sk-item::before, #sk-container-id-2 div.sk-parallel-item::before {content: \"\";position: absolute;border-left: 1px solid gray;box-sizing: border-box;top: 0;bottom: 0;left: 50%;z-index: -1;}#sk-container-id-2 div.sk-parallel-item {display: flex;flex-direction: column;z-index: 1;position: relative;background-color: white;}#sk-container-id-2 div.sk-parallel-item:first-child::after {align-self: flex-end;width: 50%;}#sk-container-id-2 div.sk-parallel-item:last-child::after {align-self: flex-start;width: 50%;}#sk-container-id-2 div.sk-parallel-item:only-child::after {width: 0;}#sk-container-id-2 div.sk-dashed-wrapped {border: 1px dashed gray;margin: 0 0.4em 0.5em 0.4em;box-sizing: border-box;padding-bottom: 0.4em;background-color: white;}#sk-container-id-2 div.sk-label label {font-family: monospace;font-weight: bold;display: inline-block;line-height: 1.2em;}#sk-container-id-2 div.sk-label-container {text-align: center;}#sk-container-id-2 div.sk-container {/* jupyter's `normalize.less` sets `[hidden] { display: none; }` but bootstrap.min.css set `[hidden] { display: none !important; }` so we also need the `!important` here to be able to override the default hidden behavior on the sphinx rendered scikit-learn.org. See: https://github.com/scikit-learn/scikit-learn/issues/21755 */display: inline-block !important;position: relative;}#sk-container-id-2 div.sk-text-repr-fallback {display: none;}</style><div id=\"sk-container-id-2\" class=\"sk-top-container\"><div class=\"sk-text-repr-fallback\"><pre>GridSearchCV(cv=5,\n",
       "             estimator=LogisticRegression(max_iter=1000,\n",
       "                                          multi_class=&#x27;multinomial&#x27;,\n",
       "                                          random_state=42),\n",
       "             n_jobs=-1,\n",
       "             param_grid={&#x27;C&#x27;: [0.1, 1, 10, 100], &#x27;max_iter&#x27;: [100, 200],\n",
       "                         &#x27;multi_class&#x27;: [&#x27;ovr&#x27;, &#x27;multinomial&#x27;],\n",
       "                         &#x27;penalty&#x27;: [&#x27;l2&#x27;], &#x27;solver&#x27;: [&#x27;lbfgs&#x27;, &#x27;saga&#x27;]},\n",
       "             verbose=1)</pre><b>In a Jupyter environment, please rerun this cell to show the HTML representation or trust the notebook. <br />On GitHub, the HTML representation is unable to render, please try loading this page with nbviewer.org.</b></div><div class=\"sk-container\" hidden><div class=\"sk-item sk-dashed-wrapped\"><div class=\"sk-label-container\"><div class=\"sk-label sk-toggleable\"><input class=\"sk-toggleable__control sk-hidden--visually\" id=\"sk-estimator-id-2\" type=\"checkbox\" ><label for=\"sk-estimator-id-2\" class=\"sk-toggleable__label sk-toggleable__label-arrow\">GridSearchCV</label><div class=\"sk-toggleable__content\"><pre>GridSearchCV(cv=5,\n",
       "             estimator=LogisticRegression(max_iter=1000,\n",
       "                                          multi_class=&#x27;multinomial&#x27;,\n",
       "                                          random_state=42),\n",
       "             n_jobs=-1,\n",
       "             param_grid={&#x27;C&#x27;: [0.1, 1, 10, 100], &#x27;max_iter&#x27;: [100, 200],\n",
       "                         &#x27;multi_class&#x27;: [&#x27;ovr&#x27;, &#x27;multinomial&#x27;],\n",
       "                         &#x27;penalty&#x27;: [&#x27;l2&#x27;], &#x27;solver&#x27;: [&#x27;lbfgs&#x27;, &#x27;saga&#x27;]},\n",
       "             verbose=1)</pre></div></div></div><div class=\"sk-parallel\"><div class=\"sk-parallel-item\"><div class=\"sk-item\"><div class=\"sk-label-container\"><div class=\"sk-label sk-toggleable\"><input class=\"sk-toggleable__control sk-hidden--visually\" id=\"sk-estimator-id-3\" type=\"checkbox\" ><label for=\"sk-estimator-id-3\" class=\"sk-toggleable__label sk-toggleable__label-arrow\">estimator: LogisticRegression</label><div class=\"sk-toggleable__content\"><pre>LogisticRegression(max_iter=1000, multi_class=&#x27;multinomial&#x27;, random_state=42)</pre></div></div></div><div class=\"sk-serial\"><div class=\"sk-item\"><div class=\"sk-estimator sk-toggleable\"><input class=\"sk-toggleable__control sk-hidden--visually\" id=\"sk-estimator-id-4\" type=\"checkbox\" ><label for=\"sk-estimator-id-4\" class=\"sk-toggleable__label sk-toggleable__label-arrow\">LogisticRegression</label><div class=\"sk-toggleable__content\"><pre>LogisticRegression(max_iter=1000, multi_class=&#x27;multinomial&#x27;, random_state=42)</pre></div></div></div></div></div></div></div></div></div></div>"
      ],
      "text/plain": [
       "GridSearchCV(cv=5,\n",
       "             estimator=LogisticRegression(max_iter=1000,\n",
       "                                          multi_class='multinomial',\n",
       "                                          random_state=42),\n",
       "             n_jobs=-1,\n",
       "             param_grid={'C': [0.1, 1, 10, 100], 'max_iter': [100, 200],\n",
       "                         'multi_class': ['ovr', 'multinomial'],\n",
       "                         'penalty': ['l2'], 'solver': ['lbfgs', 'saga']},\n",
       "             verbose=1)"
      ]
     },
     "execution_count": 36,
     "metadata": {},
     "output_type": "execute_result"
    }
   ],
   "source": [
    "grid_search.fit(x_sm,y_sm)"
   ]
  },
  {
   "cell_type": "code",
   "execution_count": 37,
   "id": "c65524b6",
   "metadata": {},
   "outputs": [
    {
     "data": {
      "text/plain": [
       "{'C': 0.1,\n",
       " 'max_iter': 100,\n",
       " 'multi_class': 'multinomial',\n",
       " 'penalty': 'l2',\n",
       " 'solver': 'lbfgs'}"
      ]
     },
     "execution_count": 37,
     "metadata": {},
     "output_type": "execute_result"
    }
   ],
   "source": [
    "grid_search.best_params_"
   ]
  },
  {
   "cell_type": "code",
   "execution_count": 38,
   "id": "d0e3f5e5",
   "metadata": {},
   "outputs": [],
   "source": [
    "LR1 = LogisticRegression(C= 0.1,\n",
    " max_iter = 100,\n",
    " multi_class = 'multinomial',\n",
    " penalty = 'l2',\n",
    " solver = 'saga')"
   ]
  },
  {
   "cell_type": "code",
   "execution_count": 39,
   "id": "aa5f056f",
   "metadata": {},
   "outputs": [
    {
     "name": "stderr",
     "output_type": "stream",
     "text": [
      "C:\\Users\\mdsmb\\anaconda3\\Lib\\site-packages\\sklearn\\linear_model\\_sag.py:350: ConvergenceWarning: The max_iter was reached which means the coef_ did not converge\n",
      "  warnings.warn(\n"
     ]
    },
    {
     "data": {
      "text/html": [
       "<style>#sk-container-id-3 {color: black;background-color: white;}#sk-container-id-3 pre{padding: 0;}#sk-container-id-3 div.sk-toggleable {background-color: white;}#sk-container-id-3 label.sk-toggleable__label {cursor: pointer;display: block;width: 100%;margin-bottom: 0;padding: 0.3em;box-sizing: border-box;text-align: center;}#sk-container-id-3 label.sk-toggleable__label-arrow:before {content: \"▸\";float: left;margin-right: 0.25em;color: #696969;}#sk-container-id-3 label.sk-toggleable__label-arrow:hover:before {color: black;}#sk-container-id-3 div.sk-estimator:hover label.sk-toggleable__label-arrow:before {color: black;}#sk-container-id-3 div.sk-toggleable__content {max-height: 0;max-width: 0;overflow: hidden;text-align: left;background-color: #f0f8ff;}#sk-container-id-3 div.sk-toggleable__content pre {margin: 0.2em;color: black;border-radius: 0.25em;background-color: #f0f8ff;}#sk-container-id-3 input.sk-toggleable__control:checked~div.sk-toggleable__content {max-height: 200px;max-width: 100%;overflow: auto;}#sk-container-id-3 input.sk-toggleable__control:checked~label.sk-toggleable__label-arrow:before {content: \"▾\";}#sk-container-id-3 div.sk-estimator input.sk-toggleable__control:checked~label.sk-toggleable__label {background-color: #d4ebff;}#sk-container-id-3 div.sk-label input.sk-toggleable__control:checked~label.sk-toggleable__label {background-color: #d4ebff;}#sk-container-id-3 input.sk-hidden--visually {border: 0;clip: rect(1px 1px 1px 1px);clip: rect(1px, 1px, 1px, 1px);height: 1px;margin: -1px;overflow: hidden;padding: 0;position: absolute;width: 1px;}#sk-container-id-3 div.sk-estimator {font-family: monospace;background-color: #f0f8ff;border: 1px dotted black;border-radius: 0.25em;box-sizing: border-box;margin-bottom: 0.5em;}#sk-container-id-3 div.sk-estimator:hover {background-color: #d4ebff;}#sk-container-id-3 div.sk-parallel-item::after {content: \"\";width: 100%;border-bottom: 1px solid gray;flex-grow: 1;}#sk-container-id-3 div.sk-label:hover label.sk-toggleable__label {background-color: #d4ebff;}#sk-container-id-3 div.sk-serial::before {content: \"\";position: absolute;border-left: 1px solid gray;box-sizing: border-box;top: 0;bottom: 0;left: 50%;z-index: 0;}#sk-container-id-3 div.sk-serial {display: flex;flex-direction: column;align-items: center;background-color: white;padding-right: 0.2em;padding-left: 0.2em;position: relative;}#sk-container-id-3 div.sk-item {position: relative;z-index: 1;}#sk-container-id-3 div.sk-parallel {display: flex;align-items: stretch;justify-content: center;background-color: white;position: relative;}#sk-container-id-3 div.sk-item::before, #sk-container-id-3 div.sk-parallel-item::before {content: \"\";position: absolute;border-left: 1px solid gray;box-sizing: border-box;top: 0;bottom: 0;left: 50%;z-index: -1;}#sk-container-id-3 div.sk-parallel-item {display: flex;flex-direction: column;z-index: 1;position: relative;background-color: white;}#sk-container-id-3 div.sk-parallel-item:first-child::after {align-self: flex-end;width: 50%;}#sk-container-id-3 div.sk-parallel-item:last-child::after {align-self: flex-start;width: 50%;}#sk-container-id-3 div.sk-parallel-item:only-child::after {width: 0;}#sk-container-id-3 div.sk-dashed-wrapped {border: 1px dashed gray;margin: 0 0.4em 0.5em 0.4em;box-sizing: border-box;padding-bottom: 0.4em;background-color: white;}#sk-container-id-3 div.sk-label label {font-family: monospace;font-weight: bold;display: inline-block;line-height: 1.2em;}#sk-container-id-3 div.sk-label-container {text-align: center;}#sk-container-id-3 div.sk-container {/* jupyter's `normalize.less` sets `[hidden] { display: none; }` but bootstrap.min.css set `[hidden] { display: none !important; }` so we also need the `!important` here to be able to override the default hidden behavior on the sphinx rendered scikit-learn.org. See: https://github.com/scikit-learn/scikit-learn/issues/21755 */display: inline-block !important;position: relative;}#sk-container-id-3 div.sk-text-repr-fallback {display: none;}</style><div id=\"sk-container-id-3\" class=\"sk-top-container\"><div class=\"sk-text-repr-fallback\"><pre>LogisticRegression(C=0.1, multi_class=&#x27;multinomial&#x27;, solver=&#x27;saga&#x27;)</pre><b>In a Jupyter environment, please rerun this cell to show the HTML representation or trust the notebook. <br />On GitHub, the HTML representation is unable to render, please try loading this page with nbviewer.org.</b></div><div class=\"sk-container\" hidden><div class=\"sk-item\"><div class=\"sk-estimator sk-toggleable\"><input class=\"sk-toggleable__control sk-hidden--visually\" id=\"sk-estimator-id-5\" type=\"checkbox\" checked><label for=\"sk-estimator-id-5\" class=\"sk-toggleable__label sk-toggleable__label-arrow\">LogisticRegression</label><div class=\"sk-toggleable__content\"><pre>LogisticRegression(C=0.1, multi_class=&#x27;multinomial&#x27;, solver=&#x27;saga&#x27;)</pre></div></div></div></div></div>"
      ],
      "text/plain": [
       "LogisticRegression(C=0.1, multi_class='multinomial', solver='saga')"
      ]
     },
     "execution_count": 39,
     "metadata": {},
     "output_type": "execute_result"
    }
   ],
   "source": [
    "LR1.fit(x_sm,y_sm)"
   ]
  },
  {
   "cell_type": "code",
   "execution_count": 40,
   "id": "c4ddb792",
   "metadata": {},
   "outputs": [
    {
     "data": {
      "text/plain": [
       "array([3, 3, 3, 3, 3, 3, 3, 3, 3, 3, 3, 3, 3, 3, 3, 3, 3, 3, 4, 3, 3, 2,\n",
       "       2, 3, 2, 4, 4, 3, 2, 3, 3, 4, 4, 3, 3, 4, 3, 3, 4, 3, 3, 3, 3, 2,\n",
       "       3, 4, 4, 3, 4, 3, 3, 2, 3, 4, 2, 3, 3, 3, 3, 2, 3, 4, 4, 3, 3, 3,\n",
       "       2, 3, 3, 4, 3, 3, 3, 3, 3, 3, 4, 3, 3, 3, 3, 2, 2, 3, 3, 3, 2, 4,\n",
       "       3, 3, 3, 2, 4, 3, 3, 3, 4, 3, 3, 2, 4, 3, 2, 3, 3, 3, 2, 2, 2, 3,\n",
       "       3, 3, 4, 3, 3, 3, 3, 3, 3, 3, 3, 4, 3, 2, 3, 3, 3, 3, 3, 4, 3, 3,\n",
       "       3, 4, 3, 4, 2, 4, 2, 4, 3, 2, 3, 2, 3, 4, 3, 2, 3, 4, 2, 3, 3, 4,\n",
       "       3, 4, 2, 2, 3, 4, 3, 3, 3, 2, 3, 3, 3, 3, 3, 3, 4, 2, 2, 2, 3, 3,\n",
       "       4, 3, 2, 3, 3, 3, 3, 3, 3, 3, 2, 3, 4, 4, 3, 3, 3, 3, 3, 3, 3, 3,\n",
       "       3, 3, 3, 3, 3, 3, 3, 3, 3, 3, 3, 4, 3, 3, 2, 3, 3, 2, 2, 2, 2, 3,\n",
       "       4, 3, 3, 4, 3, 3, 2, 2, 2, 3, 3, 4, 3, 3, 3, 2, 3, 3, 3, 2],\n",
       "      dtype=int64)"
      ]
     },
     "execution_count": 40,
     "metadata": {},
     "output_type": "execute_result"
    }
   ],
   "source": [
    "LR1_y_pred = LR1.predict(x_test)\n",
    "LR1_y_pred"
   ]
  },
  {
   "cell_type": "code",
   "execution_count": 41,
   "id": "464288a3",
   "metadata": {},
   "outputs": [
    {
     "name": "stdout",
     "output_type": "stream",
     "text": [
      "ACCURACY SCORE: 0.7708333333333334\n",
      "PRECISION SCORE: 0.7979665472802799\n",
      "RECALL SCORE: 0.7708333333333334\n",
      "F1 SCORE: 0.7799111916794844\n",
      "-----\n",
      "LR CLASSIFICATION REPORT:\n",
      "              precision    recall  f1-score   support\n",
      "\n",
      "           2       0.58      0.64      0.61        39\n",
      "           3       0.89      0.81      0.85       175\n",
      "           4       0.49      0.73      0.58        26\n",
      "\n",
      "    accuracy                           0.77       240\n",
      "   macro avg       0.65      0.73      0.68       240\n",
      "weighted avg       0.80      0.77      0.78       240\n",
      "\n"
     ]
    }
   ],
   "source": [
    "LR1_acc_test = accuracy_score(y_test,LR1_y_pred)\n",
    "print('ACCURACY SCORE:',LR1_acc_test)\n",
    "LR1_pre = precision_score(y_test,LR1_y_pred,average = 'weighted')\n",
    "print('PRECISION SCORE:',LR1_pre)\n",
    "LR1_recall = recall_score(y_test,LR1_y_pred, average = 'weighted')\n",
    "print('RECALL SCORE:',LR1_recall)\n",
    "LR1_f1 = f1_score(y_test,LR1_y_pred, average ='weighted')\n",
    "print('F1 SCORE:',LR1_f1)\n",
    "print('-----')\n",
    "print('LR CLASSIFICATION REPORT:')\n",
    "print(classification_report(y_test,LR1_y_pred))"
   ]
  },
  {
   "cell_type": "code",
   "execution_count": 42,
   "id": "ad5232b2",
   "metadata": {},
   "outputs": [
    {
     "data": {
      "text/html": [
       "<div>\n",
       "<style scoped>\n",
       "    .dataframe tbody tr th:only-of-type {\n",
       "        vertical-align: middle;\n",
       "    }\n",
       "\n",
       "    .dataframe tbody tr th {\n",
       "        vertical-align: top;\n",
       "    }\n",
       "\n",
       "    .dataframe thead th {\n",
       "        text-align: right;\n",
       "    }\n",
       "</style>\n",
       "<table border=\"1\" class=\"dataframe\">\n",
       "  <thead>\n",
       "    <tr style=\"text-align: right;\">\n",
       "      <th>col_0</th>\n",
       "      <th>2</th>\n",
       "      <th>3</th>\n",
       "      <th>4</th>\n",
       "    </tr>\n",
       "    <tr>\n",
       "      <th>PerformanceRating</th>\n",
       "      <th></th>\n",
       "      <th></th>\n",
       "      <th></th>\n",
       "    </tr>\n",
       "  </thead>\n",
       "  <tbody>\n",
       "    <tr>\n",
       "      <th>2</th>\n",
       "      <td>25</td>\n",
       "      <td>12</td>\n",
       "      <td>2</td>\n",
       "    </tr>\n",
       "    <tr>\n",
       "      <th>3</th>\n",
       "      <td>16</td>\n",
       "      <td>141</td>\n",
       "      <td>18</td>\n",
       "    </tr>\n",
       "    <tr>\n",
       "      <th>4</th>\n",
       "      <td>2</td>\n",
       "      <td>5</td>\n",
       "      <td>19</td>\n",
       "    </tr>\n",
       "  </tbody>\n",
       "</table>\n",
       "</div>"
      ],
      "text/plain": [
       "col_0               2    3   4\n",
       "PerformanceRating             \n",
       "2                  25   12   2\n",
       "3                  16  141  18\n",
       "4                   2    5  19"
      ]
     },
     "execution_count": 42,
     "metadata": {},
     "output_type": "execute_result"
    }
   ],
   "source": [
    "pd.crosstab(y_test,LR1_y_pred)"
   ]
  },
  {
   "cell_type": "code",
   "execution_count": 43,
   "id": "f0f24c18",
   "metadata": {},
   "outputs": [
    {
     "data": {
      "text/html": [
       "<div>\n",
       "<style scoped>\n",
       "    .dataframe tbody tr th:only-of-type {\n",
       "        vertical-align: middle;\n",
       "    }\n",
       "\n",
       "    .dataframe tbody tr th {\n",
       "        vertical-align: top;\n",
       "    }\n",
       "\n",
       "    .dataframe thead th {\n",
       "        text-align: right;\n",
       "    }\n",
       "</style>\n",
       "<table border=\"1\" class=\"dataframe\">\n",
       "  <thead>\n",
       "    <tr style=\"text-align: right;\">\n",
       "      <th></th>\n",
       "      <th>METRIC</th>\n",
       "      <th>VALUE</th>\n",
       "    </tr>\n",
       "  </thead>\n",
       "  <tbody>\n",
       "    <tr>\n",
       "      <th>0</th>\n",
       "      <td>Accuracy</td>\n",
       "      <td>0.770833</td>\n",
       "    </tr>\n",
       "    <tr>\n",
       "      <th>1</th>\n",
       "      <td>Precision</td>\n",
       "      <td>0.797967</td>\n",
       "    </tr>\n",
       "    <tr>\n",
       "      <th>2</th>\n",
       "      <td>Recall</td>\n",
       "      <td>0.770833</td>\n",
       "    </tr>\n",
       "    <tr>\n",
       "      <th>3</th>\n",
       "      <td>F1 Score</td>\n",
       "      <td>0.779911</td>\n",
       "    </tr>\n",
       "  </tbody>\n",
       "</table>\n",
       "</div>"
      ],
      "text/plain": [
       "      METRIC     VALUE\n",
       "0   Accuracy  0.770833\n",
       "1  Precision  0.797967\n",
       "2     Recall  0.770833\n",
       "3   F1 Score  0.779911"
      ]
     },
     "execution_count": 43,
     "metadata": {},
     "output_type": "execute_result"
    }
   ],
   "source": [
    "LR1_Metrics =pd.DataFrame({'METRIC': ['Accuracy','Precision','Recall','F1 Score'],'VALUE' : [LR1_acc_test,LR1_pre,LR1_recall,LR1_f1]})\n",
    "LR1_Metrics"
   ]
  },
  {
   "cell_type": "code",
   "execution_count": 44,
   "id": "f463c61b",
   "metadata": {},
   "outputs": [
    {
     "name": "stdout",
     "output_type": "stream",
     "text": [
      "LOGISTIC REGRESSION METRICS AFTER HYPERPARAMATERTUNING:\n",
      "+-----------+----------+\n",
      "| METRIC    |    VALUE |\n",
      "+===========+==========+\n",
      "| Accuracy  | 0.770833 |\n",
      "+-----------+----------+\n",
      "| Precision | 0.797967 |\n",
      "+-----------+----------+\n",
      "| Recall    | 0.770833 |\n",
      "+-----------+----------+\n",
      "| F1 Score  | 0.779911 |\n",
      "+-----------+----------+\n"
     ]
    }
   ],
   "source": [
    "print(\"LOGISTIC REGRESSION METRICS AFTER HYPERPARAMATERTUNING:\")\n",
    "print(tabulate(LR1_Metrics,headers ='keys',tablefmt= 'grid',showindex = False))"
   ]
  },
  {
   "cell_type": "code",
   "execution_count": null,
   "id": "c16e081f",
   "metadata": {},
   "outputs": [],
   "source": []
  },
  {
   "cell_type": "markdown",
   "id": "bd3e79f0",
   "metadata": {},
   "source": [
    "- Logistic Regression showed decent performance before and after tuning, but it still falls short when compared to more complex models. Although hyperparameter tuning slightly improved precision and recall, it's still less effective in capturing the complexity of employee performance."
   ]
  },
  {
   "cell_type": "code",
   "execution_count": null,
   "id": "5acf3a11",
   "metadata": {},
   "outputs": [],
   "source": []
  },
  {
   "cell_type": "code",
   "execution_count": null,
   "id": "f4375378",
   "metadata": {},
   "outputs": [],
   "source": []
  },
  {
   "cell_type": "code",
   "execution_count": null,
   "id": "7b08d31c",
   "metadata": {},
   "outputs": [],
   "source": []
  },
  {
   "cell_type": "code",
   "execution_count": null,
   "id": "4a62dc5e",
   "metadata": {},
   "outputs": [],
   "source": []
  },
  {
   "cell_type": "code",
   "execution_count": null,
   "id": "00eba0b8",
   "metadata": {},
   "outputs": [],
   "source": []
  },
  {
   "cell_type": "markdown",
   "id": "882efa4d",
   "metadata": {},
   "source": [
    "# 2. SVM"
   ]
  },
  {
   "cell_type": "code",
   "execution_count": 45,
   "id": "9d08c028",
   "metadata": {},
   "outputs": [],
   "source": [
    "from sklearn.svm import SVC\n",
    "sv = SVC(kernel = 'linear', decision_function_shape='ovr',random_state=42)"
   ]
  },
  {
   "cell_type": "code",
   "execution_count": 46,
   "id": "0c751e6d",
   "metadata": {},
   "outputs": [
    {
     "data": {
      "text/html": [
       "<style>#sk-container-id-4 {color: black;background-color: white;}#sk-container-id-4 pre{padding: 0;}#sk-container-id-4 div.sk-toggleable {background-color: white;}#sk-container-id-4 label.sk-toggleable__label {cursor: pointer;display: block;width: 100%;margin-bottom: 0;padding: 0.3em;box-sizing: border-box;text-align: center;}#sk-container-id-4 label.sk-toggleable__label-arrow:before {content: \"▸\";float: left;margin-right: 0.25em;color: #696969;}#sk-container-id-4 label.sk-toggleable__label-arrow:hover:before {color: black;}#sk-container-id-4 div.sk-estimator:hover label.sk-toggleable__label-arrow:before {color: black;}#sk-container-id-4 div.sk-toggleable__content {max-height: 0;max-width: 0;overflow: hidden;text-align: left;background-color: #f0f8ff;}#sk-container-id-4 div.sk-toggleable__content pre {margin: 0.2em;color: black;border-radius: 0.25em;background-color: #f0f8ff;}#sk-container-id-4 input.sk-toggleable__control:checked~div.sk-toggleable__content {max-height: 200px;max-width: 100%;overflow: auto;}#sk-container-id-4 input.sk-toggleable__control:checked~label.sk-toggleable__label-arrow:before {content: \"▾\";}#sk-container-id-4 div.sk-estimator input.sk-toggleable__control:checked~label.sk-toggleable__label {background-color: #d4ebff;}#sk-container-id-4 div.sk-label input.sk-toggleable__control:checked~label.sk-toggleable__label {background-color: #d4ebff;}#sk-container-id-4 input.sk-hidden--visually {border: 0;clip: rect(1px 1px 1px 1px);clip: rect(1px, 1px, 1px, 1px);height: 1px;margin: -1px;overflow: hidden;padding: 0;position: absolute;width: 1px;}#sk-container-id-4 div.sk-estimator {font-family: monospace;background-color: #f0f8ff;border: 1px dotted black;border-radius: 0.25em;box-sizing: border-box;margin-bottom: 0.5em;}#sk-container-id-4 div.sk-estimator:hover {background-color: #d4ebff;}#sk-container-id-4 div.sk-parallel-item::after {content: \"\";width: 100%;border-bottom: 1px solid gray;flex-grow: 1;}#sk-container-id-4 div.sk-label:hover label.sk-toggleable__label {background-color: #d4ebff;}#sk-container-id-4 div.sk-serial::before {content: \"\";position: absolute;border-left: 1px solid gray;box-sizing: border-box;top: 0;bottom: 0;left: 50%;z-index: 0;}#sk-container-id-4 div.sk-serial {display: flex;flex-direction: column;align-items: center;background-color: white;padding-right: 0.2em;padding-left: 0.2em;position: relative;}#sk-container-id-4 div.sk-item {position: relative;z-index: 1;}#sk-container-id-4 div.sk-parallel {display: flex;align-items: stretch;justify-content: center;background-color: white;position: relative;}#sk-container-id-4 div.sk-item::before, #sk-container-id-4 div.sk-parallel-item::before {content: \"\";position: absolute;border-left: 1px solid gray;box-sizing: border-box;top: 0;bottom: 0;left: 50%;z-index: -1;}#sk-container-id-4 div.sk-parallel-item {display: flex;flex-direction: column;z-index: 1;position: relative;background-color: white;}#sk-container-id-4 div.sk-parallel-item:first-child::after {align-self: flex-end;width: 50%;}#sk-container-id-4 div.sk-parallel-item:last-child::after {align-self: flex-start;width: 50%;}#sk-container-id-4 div.sk-parallel-item:only-child::after {width: 0;}#sk-container-id-4 div.sk-dashed-wrapped {border: 1px dashed gray;margin: 0 0.4em 0.5em 0.4em;box-sizing: border-box;padding-bottom: 0.4em;background-color: white;}#sk-container-id-4 div.sk-label label {font-family: monospace;font-weight: bold;display: inline-block;line-height: 1.2em;}#sk-container-id-4 div.sk-label-container {text-align: center;}#sk-container-id-4 div.sk-container {/* jupyter's `normalize.less` sets `[hidden] { display: none; }` but bootstrap.min.css set `[hidden] { display: none !important; }` so we also need the `!important` here to be able to override the default hidden behavior on the sphinx rendered scikit-learn.org. See: https://github.com/scikit-learn/scikit-learn/issues/21755 */display: inline-block !important;position: relative;}#sk-container-id-4 div.sk-text-repr-fallback {display: none;}</style><div id=\"sk-container-id-4\" class=\"sk-top-container\"><div class=\"sk-text-repr-fallback\"><pre>SVC(kernel=&#x27;linear&#x27;, random_state=42)</pre><b>In a Jupyter environment, please rerun this cell to show the HTML representation or trust the notebook. <br />On GitHub, the HTML representation is unable to render, please try loading this page with nbviewer.org.</b></div><div class=\"sk-container\" hidden><div class=\"sk-item\"><div class=\"sk-estimator sk-toggleable\"><input class=\"sk-toggleable__control sk-hidden--visually\" id=\"sk-estimator-id-6\" type=\"checkbox\" checked><label for=\"sk-estimator-id-6\" class=\"sk-toggleable__label sk-toggleable__label-arrow\">SVC</label><div class=\"sk-toggleable__content\"><pre>SVC(kernel=&#x27;linear&#x27;, random_state=42)</pre></div></div></div></div></div>"
      ],
      "text/plain": [
       "SVC(kernel='linear', random_state=42)"
      ]
     },
     "execution_count": 46,
     "metadata": {},
     "output_type": "execute_result"
    }
   ],
   "source": [
    "sv.fit(x_sm,y_sm)"
   ]
  },
  {
   "cell_type": "markdown",
   "id": "bc2c3ea4",
   "metadata": {},
   "source": [
    "###### Prediction"
   ]
  },
  {
   "cell_type": "code",
   "execution_count": 47,
   "id": "df319f1a",
   "metadata": {},
   "outputs": [
    {
     "data": {
      "text/plain": [
       "array([3, 3, 3, ..., 4, 4, 4], dtype=int64)"
      ]
     },
     "execution_count": 47,
     "metadata": {},
     "output_type": "execute_result"
    }
   ],
   "source": [
    "SV_y_train = sv.predict(x_sm)\n",
    "SV_y_train"
   ]
  },
  {
   "cell_type": "code",
   "execution_count": 48,
   "id": "4e5713b9",
   "metadata": {},
   "outputs": [
    {
     "data": {
      "text/plain": [
       "array([3, 3, 3, 3, 3, 4, 3, 3, 3, 3, 3, 3, 3, 3, 3, 3, 3, 3, 4, 3, 2, 2,\n",
       "       2, 3, 2, 4, 4, 3, 2, 3, 3, 4, 4, 3, 3, 4, 3, 3, 4, 3, 3, 3, 3, 2,\n",
       "       3, 4, 4, 3, 4, 3, 3, 2, 3, 4, 2, 3, 3, 4, 3, 3, 3, 3, 4, 3, 3, 2,\n",
       "       2, 3, 3, 4, 3, 3, 3, 3, 3, 3, 4, 3, 3, 3, 3, 2, 2, 2, 3, 4, 2, 4,\n",
       "       3, 3, 3, 4, 4, 3, 3, 3, 4, 3, 3, 2, 3, 3, 4, 3, 3, 3, 2, 2, 2, 3,\n",
       "       3, 3, 4, 3, 3, 3, 3, 3, 3, 3, 3, 4, 3, 2, 3, 3, 2, 3, 3, 4, 3, 3,\n",
       "       3, 4, 3, 4, 3, 4, 3, 4, 3, 2, 3, 2, 3, 4, 3, 2, 3, 4, 2, 3, 3, 4,\n",
       "       3, 4, 3, 2, 3, 4, 3, 3, 3, 2, 3, 3, 3, 3, 3, 3, 4, 2, 2, 2, 3, 3,\n",
       "       4, 3, 2, 3, 3, 3, 3, 3, 3, 3, 2, 3, 4, 4, 3, 3, 3, 3, 3, 3, 3, 3,\n",
       "       3, 3, 3, 3, 3, 3, 3, 2, 3, 3, 3, 4, 3, 3, 3, 3, 3, 3, 2, 2, 2, 4,\n",
       "       4, 3, 2, 4, 3, 3, 2, 2, 2, 3, 3, 4, 3, 3, 3, 2, 3, 3, 3, 2],\n",
       "      dtype=int64)"
      ]
     },
     "execution_count": 48,
     "metadata": {},
     "output_type": "execute_result"
    }
   ],
   "source": [
    "SV_y_pred = sv.predict(x_test)\n",
    "SV_y_pred"
   ]
  },
  {
   "cell_type": "markdown",
   "id": "166a7f86",
   "metadata": {},
   "source": [
    "###### Evaluation"
   ]
  },
  {
   "cell_type": "code",
   "execution_count": 49,
   "id": "e68a8b3f",
   "metadata": {},
   "outputs": [
    {
     "data": {
      "text/plain": [
       "0.8845970433953266"
      ]
     },
     "execution_count": 49,
     "metadata": {},
     "output_type": "execute_result"
    }
   ],
   "source": [
    "SV_acc_train = accuracy_score(y_sm,SV_y_train)\n",
    "SV_acc_train"
   ]
  },
  {
   "cell_type": "code",
   "execution_count": 50,
   "id": "ced74b99",
   "metadata": {},
   "outputs": [
    {
     "name": "stdout",
     "output_type": "stream",
     "text": [
      "ACCURACY SCORE: 0.7708333333333334\n",
      "PRECISION SCORE: 0.8052973394224102\n",
      "RECALL SCORE: 0.7708333333333334\n",
      "F1 SCORE: 0.7821045598172717\n",
      "-----\n",
      "SVM CLASSIFICATION REPORT:\n",
      "              precision    recall  f1-score   support\n",
      "\n",
      "           2       0.63      0.67      0.65        39\n",
      "           3       0.90      0.80      0.85       175\n",
      "           4       0.44      0.73      0.55        26\n",
      "\n",
      "    accuracy                           0.77       240\n",
      "   macro avg       0.66      0.73      0.68       240\n",
      "weighted avg       0.81      0.77      0.78       240\n",
      "\n"
     ]
    }
   ],
   "source": [
    "SV_acc_test = accuracy_score(y_test,SV_y_pred)\n",
    "print('ACCURACY SCORE:',SV_acc_test)\n",
    "SV_pre = precision_score(y_test,SV_y_pred, average='weighted')\n",
    "print('PRECISION SCORE:',SV_pre)\n",
    "SV_recall = recall_score(y_test,SV_y_pred, average = 'weighted')\n",
    "print('RECALL SCORE:',SV_recall)\n",
    "SV_f1 = f1_score(y_test,SV_y_pred, average = 'weighted')\n",
    "print('F1 SCORE:',SV_f1)\n",
    "print('-----')\n",
    "print('SVM CLASSIFICATION REPORT:')\n",
    "print(classification_report(y_test,SV_y_pred))"
   ]
  },
  {
   "cell_type": "code",
   "execution_count": 51,
   "id": "c60afe76",
   "metadata": {},
   "outputs": [
    {
     "data": {
      "text/html": [
       "<div>\n",
       "<style scoped>\n",
       "    .dataframe tbody tr th:only-of-type {\n",
       "        vertical-align: middle;\n",
       "    }\n",
       "\n",
       "    .dataframe tbody tr th {\n",
       "        vertical-align: top;\n",
       "    }\n",
       "\n",
       "    .dataframe thead th {\n",
       "        text-align: right;\n",
       "    }\n",
       "</style>\n",
       "<table border=\"1\" class=\"dataframe\">\n",
       "  <thead>\n",
       "    <tr style=\"text-align: right;\">\n",
       "      <th>col_0</th>\n",
       "      <th>2</th>\n",
       "      <th>3</th>\n",
       "      <th>4</th>\n",
       "    </tr>\n",
       "    <tr>\n",
       "      <th>PerformanceRating</th>\n",
       "      <th></th>\n",
       "      <th></th>\n",
       "      <th></th>\n",
       "    </tr>\n",
       "  </thead>\n",
       "  <tbody>\n",
       "    <tr>\n",
       "      <th>2</th>\n",
       "      <td>26</td>\n",
       "      <td>10</td>\n",
       "      <td>3</td>\n",
       "    </tr>\n",
       "    <tr>\n",
       "      <th>3</th>\n",
       "      <td>14</td>\n",
       "      <td>140</td>\n",
       "      <td>21</td>\n",
       "    </tr>\n",
       "    <tr>\n",
       "      <th>4</th>\n",
       "      <td>1</td>\n",
       "      <td>6</td>\n",
       "      <td>19</td>\n",
       "    </tr>\n",
       "  </tbody>\n",
       "</table>\n",
       "</div>"
      ],
      "text/plain": [
       "col_0               2    3   4\n",
       "PerformanceRating             \n",
       "2                  26   10   3\n",
       "3                  14  140  21\n",
       "4                   1    6  19"
      ]
     },
     "execution_count": 51,
     "metadata": {},
     "output_type": "execute_result"
    }
   ],
   "source": [
    "pd.crosstab(y_test,SV_y_pred)"
   ]
  },
  {
   "cell_type": "code",
   "execution_count": 52,
   "id": "26a9430e",
   "metadata": {},
   "outputs": [
    {
     "data": {
      "text/html": [
       "<div>\n",
       "<style scoped>\n",
       "    .dataframe tbody tr th:only-of-type {\n",
       "        vertical-align: middle;\n",
       "    }\n",
       "\n",
       "    .dataframe tbody tr th {\n",
       "        vertical-align: top;\n",
       "    }\n",
       "\n",
       "    .dataframe thead th {\n",
       "        text-align: right;\n",
       "    }\n",
       "</style>\n",
       "<table border=\"1\" class=\"dataframe\">\n",
       "  <thead>\n",
       "    <tr style=\"text-align: right;\">\n",
       "      <th></th>\n",
       "      <th>METRIC</th>\n",
       "      <th>VALUE</th>\n",
       "    </tr>\n",
       "  </thead>\n",
       "  <tbody>\n",
       "    <tr>\n",
       "      <th>0</th>\n",
       "      <td>Accuracy</td>\n",
       "      <td>0.770833</td>\n",
       "    </tr>\n",
       "    <tr>\n",
       "      <th>1</th>\n",
       "      <td>Precision</td>\n",
       "      <td>0.805297</td>\n",
       "    </tr>\n",
       "    <tr>\n",
       "      <th>2</th>\n",
       "      <td>Recall</td>\n",
       "      <td>0.770833</td>\n",
       "    </tr>\n",
       "    <tr>\n",
       "      <th>3</th>\n",
       "      <td>F1 Score</td>\n",
       "      <td>0.782105</td>\n",
       "    </tr>\n",
       "  </tbody>\n",
       "</table>\n",
       "</div>"
      ],
      "text/plain": [
       "      METRIC     VALUE\n",
       "0   Accuracy  0.770833\n",
       "1  Precision  0.805297\n",
       "2     Recall  0.770833\n",
       "3   F1 Score  0.782105"
      ]
     },
     "execution_count": 52,
     "metadata": {},
     "output_type": "execute_result"
    }
   ],
   "source": [
    "SV_Metrics =pd.DataFrame({'METRIC': ['Accuracy','Precision','Recall','F1 Score'],'VALUE' : [SV_acc_test,SV_pre,SV_recall,SV_f1]})\n",
    "SV_Metrics"
   ]
  },
  {
   "cell_type": "code",
   "execution_count": 53,
   "id": "232809ac",
   "metadata": {},
   "outputs": [
    {
     "name": "stdout",
     "output_type": "stream",
     "text": [
      "SVM METRICS:\n",
      "+-----------+----------+\n",
      "| METRIC    |    VALUE |\n",
      "+===========+==========+\n",
      "| Accuracy  | 0.770833 |\n",
      "+-----------+----------+\n",
      "| Precision | 0.805297 |\n",
      "+-----------+----------+\n",
      "| Recall    | 0.770833 |\n",
      "+-----------+----------+\n",
      "| F1 Score  | 0.782105 |\n",
      "+-----------+----------+\n"
     ]
    }
   ],
   "source": [
    "print(\"SVM METRICS:\")\n",
    "print(tabulate(SV_Metrics,headers ='keys',tablefmt= 'grid',showindex = False))"
   ]
  },
  {
   "cell_type": "markdown",
   "id": "2533f9a9",
   "metadata": {},
   "source": [
    "### HyperParamater Tuning In SVM:"
   ]
  },
  {
   "cell_type": "code",
   "execution_count": 54,
   "id": "0ff3e477",
   "metadata": {},
   "outputs": [],
   "source": [
    "param_dist = {\n",
    "    'C': uniform(0.1, 10),  # Regularization parameter\n",
    "    'kernel': ['linear', 'rbf', 'poly'],  # Kernel types\n",
    "    'gamma': ['scale', 'auto'],  # Kernel coefficient\n",
    "    'degree': [3, 4, 5],  # Degree of the polynomial kernel function (only for poly)\n",
    "    'class_weight': ['balanced', None],  # Class weights for handling imbalance\n",
    "    'probability': [True],  # Enable probability estimates\n",
    "}\n"
   ]
  },
  {
   "cell_type": "code",
   "execution_count": 55,
   "id": "ce4a9775",
   "metadata": {},
   "outputs": [],
   "source": [
    "random_search = RandomizedSearchCV(estimator=sv, param_distributions=param_dist, n_iter=100, cv=5, n_jobs=-1, verbose=1)\n"
   ]
  },
  {
   "cell_type": "code",
   "execution_count": 56,
   "id": "5979930a",
   "metadata": {},
   "outputs": [
    {
     "name": "stdout",
     "output_type": "stream",
     "text": [
      "Fitting 5 folds for each of 100 candidates, totalling 500 fits\n"
     ]
    },
    {
     "data": {
      "text/html": [
       "<style>#sk-container-id-5 {color: black;background-color: white;}#sk-container-id-5 pre{padding: 0;}#sk-container-id-5 div.sk-toggleable {background-color: white;}#sk-container-id-5 label.sk-toggleable__label {cursor: pointer;display: block;width: 100%;margin-bottom: 0;padding: 0.3em;box-sizing: border-box;text-align: center;}#sk-container-id-5 label.sk-toggleable__label-arrow:before {content: \"▸\";float: left;margin-right: 0.25em;color: #696969;}#sk-container-id-5 label.sk-toggleable__label-arrow:hover:before {color: black;}#sk-container-id-5 div.sk-estimator:hover label.sk-toggleable__label-arrow:before {color: black;}#sk-container-id-5 div.sk-toggleable__content {max-height: 0;max-width: 0;overflow: hidden;text-align: left;background-color: #f0f8ff;}#sk-container-id-5 div.sk-toggleable__content pre {margin: 0.2em;color: black;border-radius: 0.25em;background-color: #f0f8ff;}#sk-container-id-5 input.sk-toggleable__control:checked~div.sk-toggleable__content {max-height: 200px;max-width: 100%;overflow: auto;}#sk-container-id-5 input.sk-toggleable__control:checked~label.sk-toggleable__label-arrow:before {content: \"▾\";}#sk-container-id-5 div.sk-estimator input.sk-toggleable__control:checked~label.sk-toggleable__label {background-color: #d4ebff;}#sk-container-id-5 div.sk-label input.sk-toggleable__control:checked~label.sk-toggleable__label {background-color: #d4ebff;}#sk-container-id-5 input.sk-hidden--visually {border: 0;clip: rect(1px 1px 1px 1px);clip: rect(1px, 1px, 1px, 1px);height: 1px;margin: -1px;overflow: hidden;padding: 0;position: absolute;width: 1px;}#sk-container-id-5 div.sk-estimator {font-family: monospace;background-color: #f0f8ff;border: 1px dotted black;border-radius: 0.25em;box-sizing: border-box;margin-bottom: 0.5em;}#sk-container-id-5 div.sk-estimator:hover {background-color: #d4ebff;}#sk-container-id-5 div.sk-parallel-item::after {content: \"\";width: 100%;border-bottom: 1px solid gray;flex-grow: 1;}#sk-container-id-5 div.sk-label:hover label.sk-toggleable__label {background-color: #d4ebff;}#sk-container-id-5 div.sk-serial::before {content: \"\";position: absolute;border-left: 1px solid gray;box-sizing: border-box;top: 0;bottom: 0;left: 50%;z-index: 0;}#sk-container-id-5 div.sk-serial {display: flex;flex-direction: column;align-items: center;background-color: white;padding-right: 0.2em;padding-left: 0.2em;position: relative;}#sk-container-id-5 div.sk-item {position: relative;z-index: 1;}#sk-container-id-5 div.sk-parallel {display: flex;align-items: stretch;justify-content: center;background-color: white;position: relative;}#sk-container-id-5 div.sk-item::before, #sk-container-id-5 div.sk-parallel-item::before {content: \"\";position: absolute;border-left: 1px solid gray;box-sizing: border-box;top: 0;bottom: 0;left: 50%;z-index: -1;}#sk-container-id-5 div.sk-parallel-item {display: flex;flex-direction: column;z-index: 1;position: relative;background-color: white;}#sk-container-id-5 div.sk-parallel-item:first-child::after {align-self: flex-end;width: 50%;}#sk-container-id-5 div.sk-parallel-item:last-child::after {align-self: flex-start;width: 50%;}#sk-container-id-5 div.sk-parallel-item:only-child::after {width: 0;}#sk-container-id-5 div.sk-dashed-wrapped {border: 1px dashed gray;margin: 0 0.4em 0.5em 0.4em;box-sizing: border-box;padding-bottom: 0.4em;background-color: white;}#sk-container-id-5 div.sk-label label {font-family: monospace;font-weight: bold;display: inline-block;line-height: 1.2em;}#sk-container-id-5 div.sk-label-container {text-align: center;}#sk-container-id-5 div.sk-container {/* jupyter's `normalize.less` sets `[hidden] { display: none; }` but bootstrap.min.css set `[hidden] { display: none !important; }` so we also need the `!important` here to be able to override the default hidden behavior on the sphinx rendered scikit-learn.org. See: https://github.com/scikit-learn/scikit-learn/issues/21755 */display: inline-block !important;position: relative;}#sk-container-id-5 div.sk-text-repr-fallback {display: none;}</style><div id=\"sk-container-id-5\" class=\"sk-top-container\"><div class=\"sk-text-repr-fallback\"><pre>RandomizedSearchCV(cv=5, estimator=SVC(kernel=&#x27;linear&#x27;, random_state=42),\n",
       "                   n_iter=100, n_jobs=-1,\n",
       "                   param_distributions={&#x27;C&#x27;: &lt;scipy.stats._distn_infrastructure.rv_continuous_frozen object at 0x000001F0DDBC9010&gt;,\n",
       "                                        &#x27;class_weight&#x27;: [&#x27;balanced&#x27;, None],\n",
       "                                        &#x27;degree&#x27;: [3, 4, 5],\n",
       "                                        &#x27;gamma&#x27;: [&#x27;scale&#x27;, &#x27;auto&#x27;],\n",
       "                                        &#x27;kernel&#x27;: [&#x27;linear&#x27;, &#x27;rbf&#x27;, &#x27;poly&#x27;],\n",
       "                                        &#x27;probability&#x27;: [True]},\n",
       "                   verbose=1)</pre><b>In a Jupyter environment, please rerun this cell to show the HTML representation or trust the notebook. <br />On GitHub, the HTML representation is unable to render, please try loading this page with nbviewer.org.</b></div><div class=\"sk-container\" hidden><div class=\"sk-item sk-dashed-wrapped\"><div class=\"sk-label-container\"><div class=\"sk-label sk-toggleable\"><input class=\"sk-toggleable__control sk-hidden--visually\" id=\"sk-estimator-id-7\" type=\"checkbox\" ><label for=\"sk-estimator-id-7\" class=\"sk-toggleable__label sk-toggleable__label-arrow\">RandomizedSearchCV</label><div class=\"sk-toggleable__content\"><pre>RandomizedSearchCV(cv=5, estimator=SVC(kernel=&#x27;linear&#x27;, random_state=42),\n",
       "                   n_iter=100, n_jobs=-1,\n",
       "                   param_distributions={&#x27;C&#x27;: &lt;scipy.stats._distn_infrastructure.rv_continuous_frozen object at 0x000001F0DDBC9010&gt;,\n",
       "                                        &#x27;class_weight&#x27;: [&#x27;balanced&#x27;, None],\n",
       "                                        &#x27;degree&#x27;: [3, 4, 5],\n",
       "                                        &#x27;gamma&#x27;: [&#x27;scale&#x27;, &#x27;auto&#x27;],\n",
       "                                        &#x27;kernel&#x27;: [&#x27;linear&#x27;, &#x27;rbf&#x27;, &#x27;poly&#x27;],\n",
       "                                        &#x27;probability&#x27;: [True]},\n",
       "                   verbose=1)</pre></div></div></div><div class=\"sk-parallel\"><div class=\"sk-parallel-item\"><div class=\"sk-item\"><div class=\"sk-label-container\"><div class=\"sk-label sk-toggleable\"><input class=\"sk-toggleable__control sk-hidden--visually\" id=\"sk-estimator-id-8\" type=\"checkbox\" ><label for=\"sk-estimator-id-8\" class=\"sk-toggleable__label sk-toggleable__label-arrow\">estimator: SVC</label><div class=\"sk-toggleable__content\"><pre>SVC(kernel=&#x27;linear&#x27;, random_state=42)</pre></div></div></div><div class=\"sk-serial\"><div class=\"sk-item\"><div class=\"sk-estimator sk-toggleable\"><input class=\"sk-toggleable__control sk-hidden--visually\" id=\"sk-estimator-id-9\" type=\"checkbox\" ><label for=\"sk-estimator-id-9\" class=\"sk-toggleable__label sk-toggleable__label-arrow\">SVC</label><div class=\"sk-toggleable__content\"><pre>SVC(kernel=&#x27;linear&#x27;, random_state=42)</pre></div></div></div></div></div></div></div></div></div></div>"
      ],
      "text/plain": [
       "RandomizedSearchCV(cv=5, estimator=SVC(kernel='linear', random_state=42),\n",
       "                   n_iter=100, n_jobs=-1,\n",
       "                   param_distributions={'C': <scipy.stats._distn_infrastructure.rv_continuous_frozen object at 0x000001F0DDBC9010>,\n",
       "                                        'class_weight': ['balanced', None],\n",
       "                                        'degree': [3, 4, 5],\n",
       "                                        'gamma': ['scale', 'auto'],\n",
       "                                        'kernel': ['linear', 'rbf', 'poly'],\n",
       "                                        'probability': [True]},\n",
       "                   verbose=1)"
      ]
     },
     "execution_count": 56,
     "metadata": {},
     "output_type": "execute_result"
    }
   ],
   "source": [
    "random_search.fit(x_sm,y_sm)"
   ]
  },
  {
   "cell_type": "code",
   "execution_count": 57,
   "id": "ef93c815",
   "metadata": {},
   "outputs": [
    {
     "data": {
      "text/plain": [
       "{'C': 7.044504561307088,\n",
       " 'class_weight': None,\n",
       " 'degree': 4,\n",
       " 'gamma': 'auto',\n",
       " 'kernel': 'rbf',\n",
       " 'probability': True}"
      ]
     },
     "execution_count": 57,
     "metadata": {},
     "output_type": "execute_result"
    }
   ],
   "source": [
    "random_search.best_params_"
   ]
  },
  {
   "cell_type": "code",
   "execution_count": 58,
   "id": "0b910a8f",
   "metadata": {},
   "outputs": [],
   "source": [
    "sv1 = SVC(C = 6.474299014982066,\n",
    "class_weight = None,\n",
    " degree = 3,\n",
    " gamma = 'auto',\n",
    " kernel = 'rbf',\n",
    " probability = True)"
   ]
  },
  {
   "cell_type": "code",
   "execution_count": 59,
   "id": "ed6b0e02",
   "metadata": {},
   "outputs": [
    {
     "data": {
      "text/html": [
       "<style>#sk-container-id-6 {color: black;background-color: white;}#sk-container-id-6 pre{padding: 0;}#sk-container-id-6 div.sk-toggleable {background-color: white;}#sk-container-id-6 label.sk-toggleable__label {cursor: pointer;display: block;width: 100%;margin-bottom: 0;padding: 0.3em;box-sizing: border-box;text-align: center;}#sk-container-id-6 label.sk-toggleable__label-arrow:before {content: \"▸\";float: left;margin-right: 0.25em;color: #696969;}#sk-container-id-6 label.sk-toggleable__label-arrow:hover:before {color: black;}#sk-container-id-6 div.sk-estimator:hover label.sk-toggleable__label-arrow:before {color: black;}#sk-container-id-6 div.sk-toggleable__content {max-height: 0;max-width: 0;overflow: hidden;text-align: left;background-color: #f0f8ff;}#sk-container-id-6 div.sk-toggleable__content pre {margin: 0.2em;color: black;border-radius: 0.25em;background-color: #f0f8ff;}#sk-container-id-6 input.sk-toggleable__control:checked~div.sk-toggleable__content {max-height: 200px;max-width: 100%;overflow: auto;}#sk-container-id-6 input.sk-toggleable__control:checked~label.sk-toggleable__label-arrow:before {content: \"▾\";}#sk-container-id-6 div.sk-estimator input.sk-toggleable__control:checked~label.sk-toggleable__label {background-color: #d4ebff;}#sk-container-id-6 div.sk-label input.sk-toggleable__control:checked~label.sk-toggleable__label {background-color: #d4ebff;}#sk-container-id-6 input.sk-hidden--visually {border: 0;clip: rect(1px 1px 1px 1px);clip: rect(1px, 1px, 1px, 1px);height: 1px;margin: -1px;overflow: hidden;padding: 0;position: absolute;width: 1px;}#sk-container-id-6 div.sk-estimator {font-family: monospace;background-color: #f0f8ff;border: 1px dotted black;border-radius: 0.25em;box-sizing: border-box;margin-bottom: 0.5em;}#sk-container-id-6 div.sk-estimator:hover {background-color: #d4ebff;}#sk-container-id-6 div.sk-parallel-item::after {content: \"\";width: 100%;border-bottom: 1px solid gray;flex-grow: 1;}#sk-container-id-6 div.sk-label:hover label.sk-toggleable__label {background-color: #d4ebff;}#sk-container-id-6 div.sk-serial::before {content: \"\";position: absolute;border-left: 1px solid gray;box-sizing: border-box;top: 0;bottom: 0;left: 50%;z-index: 0;}#sk-container-id-6 div.sk-serial {display: flex;flex-direction: column;align-items: center;background-color: white;padding-right: 0.2em;padding-left: 0.2em;position: relative;}#sk-container-id-6 div.sk-item {position: relative;z-index: 1;}#sk-container-id-6 div.sk-parallel {display: flex;align-items: stretch;justify-content: center;background-color: white;position: relative;}#sk-container-id-6 div.sk-item::before, #sk-container-id-6 div.sk-parallel-item::before {content: \"\";position: absolute;border-left: 1px solid gray;box-sizing: border-box;top: 0;bottom: 0;left: 50%;z-index: -1;}#sk-container-id-6 div.sk-parallel-item {display: flex;flex-direction: column;z-index: 1;position: relative;background-color: white;}#sk-container-id-6 div.sk-parallel-item:first-child::after {align-self: flex-end;width: 50%;}#sk-container-id-6 div.sk-parallel-item:last-child::after {align-self: flex-start;width: 50%;}#sk-container-id-6 div.sk-parallel-item:only-child::after {width: 0;}#sk-container-id-6 div.sk-dashed-wrapped {border: 1px dashed gray;margin: 0 0.4em 0.5em 0.4em;box-sizing: border-box;padding-bottom: 0.4em;background-color: white;}#sk-container-id-6 div.sk-label label {font-family: monospace;font-weight: bold;display: inline-block;line-height: 1.2em;}#sk-container-id-6 div.sk-label-container {text-align: center;}#sk-container-id-6 div.sk-container {/* jupyter's `normalize.less` sets `[hidden] { display: none; }` but bootstrap.min.css set `[hidden] { display: none !important; }` so we also need the `!important` here to be able to override the default hidden behavior on the sphinx rendered scikit-learn.org. See: https://github.com/scikit-learn/scikit-learn/issues/21755 */display: inline-block !important;position: relative;}#sk-container-id-6 div.sk-text-repr-fallback {display: none;}</style><div id=\"sk-container-id-6\" class=\"sk-top-container\"><div class=\"sk-text-repr-fallback\"><pre>SVC(C=6.474299014982066, gamma=&#x27;auto&#x27;, probability=True)</pre><b>In a Jupyter environment, please rerun this cell to show the HTML representation or trust the notebook. <br />On GitHub, the HTML representation is unable to render, please try loading this page with nbviewer.org.</b></div><div class=\"sk-container\" hidden><div class=\"sk-item\"><div class=\"sk-estimator sk-toggleable\"><input class=\"sk-toggleable__control sk-hidden--visually\" id=\"sk-estimator-id-10\" type=\"checkbox\" checked><label for=\"sk-estimator-id-10\" class=\"sk-toggleable__label sk-toggleable__label-arrow\">SVC</label><div class=\"sk-toggleable__content\"><pre>SVC(C=6.474299014982066, gamma=&#x27;auto&#x27;, probability=True)</pre></div></div></div></div></div>"
      ],
      "text/plain": [
       "SVC(C=6.474299014982066, gamma='auto', probability=True)"
      ]
     },
     "execution_count": 59,
     "metadata": {},
     "output_type": "execute_result"
    }
   ],
   "source": [
    "sv1.fit(x_sm,y_sm)"
   ]
  },
  {
   "cell_type": "code",
   "execution_count": 60,
   "id": "31235912",
   "metadata": {},
   "outputs": [
    {
     "data": {
      "text/plain": [
       "array([3, 3, 3, 3, 3, 3, 3, 3, 3, 3, 3, 2, 3, 3, 3, 3, 3, 3, 3, 3, 3, 2,\n",
       "       3, 3, 2, 4, 3, 3, 3, 3, 3, 4, 3, 3, 3, 3, 3, 3, 4, 3, 3, 3, 3, 3,\n",
       "       3, 4, 4, 3, 4, 3, 3, 2, 3, 4, 3, 3, 3, 3, 3, 3, 3, 4, 4, 3, 3, 3,\n",
       "       2, 3, 3, 3, 3, 3, 3, 3, 3, 3, 3, 3, 2, 3, 3, 2, 3, 3, 3, 3, 3, 4,\n",
       "       3, 3, 3, 3, 3, 3, 3, 3, 3, 3, 3, 3, 3, 3, 2, 3, 3, 3, 3, 2, 3, 3,\n",
       "       3, 3, 4, 3, 3, 3, 3, 3, 3, 3, 3, 4, 2, 2, 3, 3, 3, 3, 3, 4, 3, 3,\n",
       "       3, 3, 3, 2, 3, 3, 3, 4, 3, 2, 3, 2, 3, 3, 3, 2, 3, 2, 3, 3, 3, 4,\n",
       "       3, 3, 3, 2, 3, 3, 3, 3, 3, 2, 3, 3, 3, 3, 3, 3, 4, 2, 2, 2, 3, 3,\n",
       "       3, 3, 2, 3, 3, 3, 3, 3, 3, 2, 3, 3, 4, 3, 3, 3, 3, 3, 3, 3, 3, 3,\n",
       "       3, 3, 2, 3, 3, 3, 3, 2, 3, 3, 3, 3, 3, 3, 2, 3, 3, 3, 2, 2, 3, 3,\n",
       "       4, 3, 3, 3, 3, 3, 3, 3, 2, 3, 3, 3, 2, 3, 3, 3, 3, 3, 3, 3],\n",
       "      dtype=int64)"
      ]
     },
     "execution_count": 60,
     "metadata": {},
     "output_type": "execute_result"
    }
   ],
   "source": [
    "SV1_y_pred = sv1.predict(x_test)\n",
    "SV1_y_pred"
   ]
  },
  {
   "cell_type": "code",
   "execution_count": 61,
   "id": "29737096",
   "metadata": {},
   "outputs": [
    {
     "name": "stdout",
     "output_type": "stream",
     "text": [
      "ACCURACY SCORE: 0.8\n",
      "PRECISION SCORE: 0.7865755208333333\n",
      "RECALL SCORE: 0.8\n",
      "F1 SCORE: 0.7883429724325353\n",
      "-----\n",
      "SVM CLASSIFICATION REPORT:\n",
      "              precision    recall  f1-score   support\n",
      "\n",
      "           2       0.63      0.49      0.55        39\n",
      "           3       0.84      0.92      0.88       175\n",
      "           4       0.67      0.46      0.55        26\n",
      "\n",
      "    accuracy                           0.80       240\n",
      "   macro avg       0.71      0.62      0.66       240\n",
      "weighted avg       0.79      0.80      0.79       240\n",
      "\n"
     ]
    }
   ],
   "source": [
    "SV1_acc_test = accuracy_score(y_test,SV1_y_pred)\n",
    "print('ACCURACY SCORE:',SV1_acc_test)\n",
    "SV1_pre = precision_score(y_test,SV1_y_pred, average='weighted')\n",
    "print('PRECISION SCORE:',SV1_pre)\n",
    "SV1_recall = recall_score(y_test,SV1_y_pred, average = 'weighted')\n",
    "print('RECALL SCORE:',SV1_recall)\n",
    "SV1_f1 = f1_score(y_test,SV1_y_pred, average = 'weighted')\n",
    "print('F1 SCORE:',SV1_f1)\n",
    "print('-----')\n",
    "print('SVM CLASSIFICATION REPORT:')\n",
    "print(classification_report(y_test,SV1_y_pred))"
   ]
  },
  {
   "cell_type": "code",
   "execution_count": 62,
   "id": "c3984c38",
   "metadata": {},
   "outputs": [
    {
     "data": {
      "text/html": [
       "<div>\n",
       "<style scoped>\n",
       "    .dataframe tbody tr th:only-of-type {\n",
       "        vertical-align: middle;\n",
       "    }\n",
       "\n",
       "    .dataframe tbody tr th {\n",
       "        vertical-align: top;\n",
       "    }\n",
       "\n",
       "    .dataframe thead th {\n",
       "        text-align: right;\n",
       "    }\n",
       "</style>\n",
       "<table border=\"1\" class=\"dataframe\">\n",
       "  <thead>\n",
       "    <tr style=\"text-align: right;\">\n",
       "      <th>col_0</th>\n",
       "      <th>2</th>\n",
       "      <th>3</th>\n",
       "      <th>4</th>\n",
       "    </tr>\n",
       "    <tr>\n",
       "      <th>PerformanceRating</th>\n",
       "      <th></th>\n",
       "      <th></th>\n",
       "      <th></th>\n",
       "    </tr>\n",
       "  </thead>\n",
       "  <tbody>\n",
       "    <tr>\n",
       "      <th>2</th>\n",
       "      <td>19</td>\n",
       "      <td>19</td>\n",
       "      <td>1</td>\n",
       "    </tr>\n",
       "    <tr>\n",
       "      <th>3</th>\n",
       "      <td>9</td>\n",
       "      <td>161</td>\n",
       "      <td>5</td>\n",
       "    </tr>\n",
       "    <tr>\n",
       "      <th>4</th>\n",
       "      <td>2</td>\n",
       "      <td>12</td>\n",
       "      <td>12</td>\n",
       "    </tr>\n",
       "  </tbody>\n",
       "</table>\n",
       "</div>"
      ],
      "text/plain": [
       "col_0               2    3   4\n",
       "PerformanceRating             \n",
       "2                  19   19   1\n",
       "3                   9  161   5\n",
       "4                   2   12  12"
      ]
     },
     "execution_count": 62,
     "metadata": {},
     "output_type": "execute_result"
    }
   ],
   "source": [
    "pd.crosstab(y_test,SV1_y_pred)"
   ]
  },
  {
   "cell_type": "code",
   "execution_count": 63,
   "id": "3fe7ecba",
   "metadata": {},
   "outputs": [
    {
     "data": {
      "text/html": [
       "<div>\n",
       "<style scoped>\n",
       "    .dataframe tbody tr th:only-of-type {\n",
       "        vertical-align: middle;\n",
       "    }\n",
       "\n",
       "    .dataframe tbody tr th {\n",
       "        vertical-align: top;\n",
       "    }\n",
       "\n",
       "    .dataframe thead th {\n",
       "        text-align: right;\n",
       "    }\n",
       "</style>\n",
       "<table border=\"1\" class=\"dataframe\">\n",
       "  <thead>\n",
       "    <tr style=\"text-align: right;\">\n",
       "      <th></th>\n",
       "      <th>METRIC</th>\n",
       "      <th>VALUE</th>\n",
       "    </tr>\n",
       "  </thead>\n",
       "  <tbody>\n",
       "    <tr>\n",
       "      <th>0</th>\n",
       "      <td>Accuracy</td>\n",
       "      <td>0.800000</td>\n",
       "    </tr>\n",
       "    <tr>\n",
       "      <th>1</th>\n",
       "      <td>Precision</td>\n",
       "      <td>0.786576</td>\n",
       "    </tr>\n",
       "    <tr>\n",
       "      <th>2</th>\n",
       "      <td>Recall</td>\n",
       "      <td>0.800000</td>\n",
       "    </tr>\n",
       "    <tr>\n",
       "      <th>3</th>\n",
       "      <td>F1 Score</td>\n",
       "      <td>0.788343</td>\n",
       "    </tr>\n",
       "  </tbody>\n",
       "</table>\n",
       "</div>"
      ],
      "text/plain": [
       "      METRIC     VALUE\n",
       "0   Accuracy  0.800000\n",
       "1  Precision  0.786576\n",
       "2     Recall  0.800000\n",
       "3   F1 Score  0.788343"
      ]
     },
     "execution_count": 63,
     "metadata": {},
     "output_type": "execute_result"
    }
   ],
   "source": [
    "SV1_Metrics =pd.DataFrame({'METRIC': ['Accuracy','Precision','Recall','F1 Score'],'VALUE' : [SV1_acc_test,SV1_pre,SV1_recall,SV1_f1]})\n",
    "SV1_Metrics"
   ]
  },
  {
   "cell_type": "code",
   "execution_count": 64,
   "id": "95765c01",
   "metadata": {},
   "outputs": [
    {
     "name": "stdout",
     "output_type": "stream",
     "text": [
      "SVM METRICS AFTER HYPERPARAMETER TUNING:\n",
      "+-----------+----------+\n",
      "| METRIC    |    VALUE |\n",
      "+===========+==========+\n",
      "| Accuracy  | 0.8      |\n",
      "+-----------+----------+\n",
      "| Precision | 0.786576 |\n",
      "+-----------+----------+\n",
      "| Recall    | 0.8      |\n",
      "+-----------+----------+\n",
      "| F1 Score  | 0.788343 |\n",
      "+-----------+----------+\n"
     ]
    }
   ],
   "source": [
    "print(\"SVM METRICS AFTER HYPERPARAMETER TUNING:\")\n",
    "print(tabulate(SV1_Metrics,headers ='keys',tablefmt= 'grid',showindex = False))"
   ]
  },
  {
   "cell_type": "code",
   "execution_count": null,
   "id": "db07b594",
   "metadata": {},
   "outputs": [],
   "source": []
  },
  {
   "cell_type": "markdown",
   "id": "f4712b45",
   "metadata": {},
   "source": [
    "- Hyperparameter tuning improved the SVM model's accuracy, recall, and precision slightly. However, SVM still struggles to outperform ensemble methods, making it moderately useful for this task."
   ]
  },
  {
   "cell_type": "code",
   "execution_count": null,
   "id": "dfa765a8",
   "metadata": {},
   "outputs": [],
   "source": []
  },
  {
   "cell_type": "code",
   "execution_count": null,
   "id": "b486e601",
   "metadata": {},
   "outputs": [],
   "source": []
  },
  {
   "cell_type": "code",
   "execution_count": null,
   "id": "f327648a",
   "metadata": {},
   "outputs": [],
   "source": []
  },
  {
   "cell_type": "markdown",
   "id": "c148a908",
   "metadata": {},
   "source": [
    "# 3. Decision Tree"
   ]
  },
  {
   "cell_type": "code",
   "execution_count": 65,
   "id": "7f7ccd04",
   "metadata": {},
   "outputs": [],
   "source": [
    "from sklearn.tree import DecisionTreeClassifier\n",
    "dt = DecisionTreeClassifier(random_state=42)"
   ]
  },
  {
   "cell_type": "code",
   "execution_count": 66,
   "id": "d5bec65a",
   "metadata": {},
   "outputs": [
    {
     "data": {
      "text/html": [
       "<style>#sk-container-id-7 {color: black;background-color: white;}#sk-container-id-7 pre{padding: 0;}#sk-container-id-7 div.sk-toggleable {background-color: white;}#sk-container-id-7 label.sk-toggleable__label {cursor: pointer;display: block;width: 100%;margin-bottom: 0;padding: 0.3em;box-sizing: border-box;text-align: center;}#sk-container-id-7 label.sk-toggleable__label-arrow:before {content: \"▸\";float: left;margin-right: 0.25em;color: #696969;}#sk-container-id-7 label.sk-toggleable__label-arrow:hover:before {color: black;}#sk-container-id-7 div.sk-estimator:hover label.sk-toggleable__label-arrow:before {color: black;}#sk-container-id-7 div.sk-toggleable__content {max-height: 0;max-width: 0;overflow: hidden;text-align: left;background-color: #f0f8ff;}#sk-container-id-7 div.sk-toggleable__content pre {margin: 0.2em;color: black;border-radius: 0.25em;background-color: #f0f8ff;}#sk-container-id-7 input.sk-toggleable__control:checked~div.sk-toggleable__content {max-height: 200px;max-width: 100%;overflow: auto;}#sk-container-id-7 input.sk-toggleable__control:checked~label.sk-toggleable__label-arrow:before {content: \"▾\";}#sk-container-id-7 div.sk-estimator input.sk-toggleable__control:checked~label.sk-toggleable__label {background-color: #d4ebff;}#sk-container-id-7 div.sk-label input.sk-toggleable__control:checked~label.sk-toggleable__label {background-color: #d4ebff;}#sk-container-id-7 input.sk-hidden--visually {border: 0;clip: rect(1px 1px 1px 1px);clip: rect(1px, 1px, 1px, 1px);height: 1px;margin: -1px;overflow: hidden;padding: 0;position: absolute;width: 1px;}#sk-container-id-7 div.sk-estimator {font-family: monospace;background-color: #f0f8ff;border: 1px dotted black;border-radius: 0.25em;box-sizing: border-box;margin-bottom: 0.5em;}#sk-container-id-7 div.sk-estimator:hover {background-color: #d4ebff;}#sk-container-id-7 div.sk-parallel-item::after {content: \"\";width: 100%;border-bottom: 1px solid gray;flex-grow: 1;}#sk-container-id-7 div.sk-label:hover label.sk-toggleable__label {background-color: #d4ebff;}#sk-container-id-7 div.sk-serial::before {content: \"\";position: absolute;border-left: 1px solid gray;box-sizing: border-box;top: 0;bottom: 0;left: 50%;z-index: 0;}#sk-container-id-7 div.sk-serial {display: flex;flex-direction: column;align-items: center;background-color: white;padding-right: 0.2em;padding-left: 0.2em;position: relative;}#sk-container-id-7 div.sk-item {position: relative;z-index: 1;}#sk-container-id-7 div.sk-parallel {display: flex;align-items: stretch;justify-content: center;background-color: white;position: relative;}#sk-container-id-7 div.sk-item::before, #sk-container-id-7 div.sk-parallel-item::before {content: \"\";position: absolute;border-left: 1px solid gray;box-sizing: border-box;top: 0;bottom: 0;left: 50%;z-index: -1;}#sk-container-id-7 div.sk-parallel-item {display: flex;flex-direction: column;z-index: 1;position: relative;background-color: white;}#sk-container-id-7 div.sk-parallel-item:first-child::after {align-self: flex-end;width: 50%;}#sk-container-id-7 div.sk-parallel-item:last-child::after {align-self: flex-start;width: 50%;}#sk-container-id-7 div.sk-parallel-item:only-child::after {width: 0;}#sk-container-id-7 div.sk-dashed-wrapped {border: 1px dashed gray;margin: 0 0.4em 0.5em 0.4em;box-sizing: border-box;padding-bottom: 0.4em;background-color: white;}#sk-container-id-7 div.sk-label label {font-family: monospace;font-weight: bold;display: inline-block;line-height: 1.2em;}#sk-container-id-7 div.sk-label-container {text-align: center;}#sk-container-id-7 div.sk-container {/* jupyter's `normalize.less` sets `[hidden] { display: none; }` but bootstrap.min.css set `[hidden] { display: none !important; }` so we also need the `!important` here to be able to override the default hidden behavior on the sphinx rendered scikit-learn.org. See: https://github.com/scikit-learn/scikit-learn/issues/21755 */display: inline-block !important;position: relative;}#sk-container-id-7 div.sk-text-repr-fallback {display: none;}</style><div id=\"sk-container-id-7\" class=\"sk-top-container\"><div class=\"sk-text-repr-fallback\"><pre>DecisionTreeClassifier(random_state=42)</pre><b>In a Jupyter environment, please rerun this cell to show the HTML representation or trust the notebook. <br />On GitHub, the HTML representation is unable to render, please try loading this page with nbviewer.org.</b></div><div class=\"sk-container\" hidden><div class=\"sk-item\"><div class=\"sk-estimator sk-toggleable\"><input class=\"sk-toggleable__control sk-hidden--visually\" id=\"sk-estimator-id-11\" type=\"checkbox\" checked><label for=\"sk-estimator-id-11\" class=\"sk-toggleable__label sk-toggleable__label-arrow\">DecisionTreeClassifier</label><div class=\"sk-toggleable__content\"><pre>DecisionTreeClassifier(random_state=42)</pre></div></div></div></div></div>"
      ],
      "text/plain": [
       "DecisionTreeClassifier(random_state=42)"
      ]
     },
     "execution_count": 66,
     "metadata": {},
     "output_type": "execute_result"
    }
   ],
   "source": [
    "dt.fit(x_sm,y_sm)"
   ]
  },
  {
   "cell_type": "markdown",
   "id": "f75bb020",
   "metadata": {},
   "source": [
    "###### Prediction"
   ]
  },
  {
   "cell_type": "code",
   "execution_count": 67,
   "id": "e5ec27fa",
   "metadata": {},
   "outputs": [
    {
     "data": {
      "text/plain": [
       "array([3, 2, 3, ..., 4, 4, 4], dtype=int64)"
      ]
     },
     "execution_count": 67,
     "metadata": {},
     "output_type": "execute_result"
    }
   ],
   "source": [
    "dt_y_train= dt.predict(x_sm)\n",
    "dt_y_train"
   ]
  },
  {
   "cell_type": "code",
   "execution_count": 68,
   "id": "c2d64c14",
   "metadata": {},
   "outputs": [
    {
     "data": {
      "text/plain": [
       "array([3, 3, 3, 2, 3, 3, 2, 3, 3, 3, 3, 2, 3, 3, 3, 3, 3, 3, 4, 3, 3, 2,\n",
       "       3, 3, 3, 4, 4, 3, 3, 3, 3, 4, 2, 3, 3, 4, 3, 3, 4, 3, 3, 3, 3, 3,\n",
       "       3, 4, 4, 3, 3, 3, 3, 2, 3, 4, 3, 3, 3, 3, 3, 3, 3, 4, 4, 3, 3, 3,\n",
       "       2, 3, 3, 4, 3, 3, 3, 3, 3, 3, 4, 3, 3, 3, 3, 3, 3, 4, 3, 2, 3, 3,\n",
       "       3, 3, 3, 2, 4, 3, 3, 3, 3, 3, 2, 3, 3, 3, 2, 3, 3, 3, 2, 2, 2, 3,\n",
       "       3, 3, 4, 3, 3, 4, 3, 3, 3, 3, 3, 4, 2, 2, 3, 2, 2, 3, 3, 4, 3, 3,\n",
       "       3, 4, 3, 2, 3, 3, 3, 3, 3, 2, 2, 2, 3, 4, 3, 2, 3, 4, 3, 3, 3, 3,\n",
       "       4, 4, 3, 2, 3, 3, 3, 3, 3, 3, 3, 3, 3, 3, 3, 3, 4, 2, 3, 2, 3, 3,\n",
       "       3, 3, 2, 3, 4, 3, 3, 3, 3, 3, 4, 3, 3, 2, 3, 3, 3, 3, 3, 3, 3, 3,\n",
       "       3, 3, 2, 3, 3, 3, 2, 3, 2, 3, 3, 3, 3, 3, 3, 3, 3, 3, 3, 3, 2, 3,\n",
       "       4, 3, 2, 4, 2, 3, 4, 2, 3, 3, 3, 3, 3, 3, 3, 2, 3, 3, 3, 3],\n",
       "      dtype=int64)"
      ]
     },
     "execution_count": 68,
     "metadata": {},
     "output_type": "execute_result"
    }
   ],
   "source": [
    "dt_y_pred = dt.predict(x_test)\n",
    "dt_y_pred"
   ]
  },
  {
   "cell_type": "markdown",
   "id": "a89c16a4",
   "metadata": {},
   "source": [
    "###### Evaluation"
   ]
  },
  {
   "cell_type": "code",
   "execution_count": 69,
   "id": "c8ba9192",
   "metadata": {},
   "outputs": [
    {
     "data": {
      "text/plain": [
       "1.0"
      ]
     },
     "execution_count": 69,
     "metadata": {},
     "output_type": "execute_result"
    }
   ],
   "source": [
    "dt_acc_train = accuracy_score(y_sm,dt_y_train)\n",
    "dt_acc_train"
   ]
  },
  {
   "cell_type": "code",
   "execution_count": 70,
   "id": "76b19de9",
   "metadata": {},
   "outputs": [
    {
     "name": "stdout",
     "output_type": "stream",
     "text": [
      "              precision    recall  f1-score   support\n",
      "\n",
      "           2       1.00      1.00      1.00       699\n",
      "           3       1.00      1.00      1.00       699\n",
      "           4       1.00      1.00      1.00       699\n",
      "\n",
      "    accuracy                           1.00      2097\n",
      "   macro avg       1.00      1.00      1.00      2097\n",
      "weighted avg       1.00      1.00      1.00      2097\n",
      "\n"
     ]
    }
   ],
   "source": [
    "print(classification_report(y_sm,dt_y_train))"
   ]
  },
  {
   "cell_type": "code",
   "execution_count": 71,
   "id": "f2a47d78",
   "metadata": {},
   "outputs": [
    {
     "name": "stdout",
     "output_type": "stream",
     "text": [
      "ACCURACY SCORE: 0.8625\n",
      "PRECISION SCORE: 0.8640158045977011\n",
      "RECALL SCORE: 0.8625\n",
      "F1 SCORE: 0.8626482808022922\n",
      "----\n",
      "DECISION TREE CLASSIFICATION REPORT:\n",
      "              precision    recall  f1-score   support\n",
      "\n",
      "           2       0.75      0.69      0.72        39\n",
      "           3       0.91      0.91      0.91       175\n",
      "           4       0.70      0.81      0.75        26\n",
      "\n",
      "    accuracy                           0.86       240\n",
      "   macro avg       0.79      0.80      0.79       240\n",
      "weighted avg       0.86      0.86      0.86       240\n",
      "\n"
     ]
    }
   ],
   "source": [
    "dt_acc_test = accuracy_score(y_test,dt_y_pred)\n",
    "print('ACCURACY SCORE:',dt_acc_test)\n",
    "dt_pre = precision_score(y_test,dt_y_pred, average = 'weighted')\n",
    "print('PRECISION SCORE:',dt_pre)\n",
    "dt_recall = recall_score(y_test,dt_y_pred,average = 'weighted')\n",
    "print('RECALL SCORE:',dt_recall)\n",
    "dt_f1 = f1_score(y_test,dt_y_pred, average = 'weighted')\n",
    "print('F1 SCORE:',dt_f1)\n",
    "print('----')\n",
    "print('DECISION TREE CLASSIFICATION REPORT:')\n",
    "print(classification_report(y_test,dt_y_pred))"
   ]
  },
  {
   "cell_type": "code",
   "execution_count": 72,
   "id": "c87c2ac1",
   "metadata": {},
   "outputs": [
    {
     "data": {
      "text/html": [
       "<div>\n",
       "<style scoped>\n",
       "    .dataframe tbody tr th:only-of-type {\n",
       "        vertical-align: middle;\n",
       "    }\n",
       "\n",
       "    .dataframe tbody tr th {\n",
       "        vertical-align: top;\n",
       "    }\n",
       "\n",
       "    .dataframe thead th {\n",
       "        text-align: right;\n",
       "    }\n",
       "</style>\n",
       "<table border=\"1\" class=\"dataframe\">\n",
       "  <thead>\n",
       "    <tr style=\"text-align: right;\">\n",
       "      <th>col_0</th>\n",
       "      <th>2</th>\n",
       "      <th>3</th>\n",
       "      <th>4</th>\n",
       "    </tr>\n",
       "    <tr>\n",
       "      <th>PerformanceRating</th>\n",
       "      <th></th>\n",
       "      <th></th>\n",
       "      <th></th>\n",
       "    </tr>\n",
       "  </thead>\n",
       "  <tbody>\n",
       "    <tr>\n",
       "      <th>2</th>\n",
       "      <td>27</td>\n",
       "      <td>11</td>\n",
       "      <td>1</td>\n",
       "    </tr>\n",
       "    <tr>\n",
       "      <th>3</th>\n",
       "      <td>8</td>\n",
       "      <td>159</td>\n",
       "      <td>8</td>\n",
       "    </tr>\n",
       "    <tr>\n",
       "      <th>4</th>\n",
       "      <td>1</td>\n",
       "      <td>4</td>\n",
       "      <td>21</td>\n",
       "    </tr>\n",
       "  </tbody>\n",
       "</table>\n",
       "</div>"
      ],
      "text/plain": [
       "col_0               2    3   4\n",
       "PerformanceRating             \n",
       "2                  27   11   1\n",
       "3                   8  159   8\n",
       "4                   1    4  21"
      ]
     },
     "execution_count": 72,
     "metadata": {},
     "output_type": "execute_result"
    }
   ],
   "source": [
    "pd.crosstab(y_test,dt_y_pred)"
   ]
  },
  {
   "cell_type": "code",
   "execution_count": 73,
   "id": "6f2fb312",
   "metadata": {},
   "outputs": [
    {
     "data": {
      "text/html": [
       "<div>\n",
       "<style scoped>\n",
       "    .dataframe tbody tr th:only-of-type {\n",
       "        vertical-align: middle;\n",
       "    }\n",
       "\n",
       "    .dataframe tbody tr th {\n",
       "        vertical-align: top;\n",
       "    }\n",
       "\n",
       "    .dataframe thead th {\n",
       "        text-align: right;\n",
       "    }\n",
       "</style>\n",
       "<table border=\"1\" class=\"dataframe\">\n",
       "  <thead>\n",
       "    <tr style=\"text-align: right;\">\n",
       "      <th></th>\n",
       "      <th>METRIC</th>\n",
       "      <th>VALUE</th>\n",
       "    </tr>\n",
       "  </thead>\n",
       "  <tbody>\n",
       "    <tr>\n",
       "      <th>0</th>\n",
       "      <td>Accuracy</td>\n",
       "      <td>0.862500</td>\n",
       "    </tr>\n",
       "    <tr>\n",
       "      <th>1</th>\n",
       "      <td>Precision</td>\n",
       "      <td>0.864016</td>\n",
       "    </tr>\n",
       "    <tr>\n",
       "      <th>2</th>\n",
       "      <td>Recall</td>\n",
       "      <td>0.862500</td>\n",
       "    </tr>\n",
       "    <tr>\n",
       "      <th>3</th>\n",
       "      <td>F1 Score</td>\n",
       "      <td>0.862648</td>\n",
       "    </tr>\n",
       "  </tbody>\n",
       "</table>\n",
       "</div>"
      ],
      "text/plain": [
       "      METRIC     VALUE\n",
       "0   Accuracy  0.862500\n",
       "1  Precision  0.864016\n",
       "2     Recall  0.862500\n",
       "3   F1 Score  0.862648"
      ]
     },
     "execution_count": 73,
     "metadata": {},
     "output_type": "execute_result"
    }
   ],
   "source": [
    "dt_Metrics =pd.DataFrame({'METRIC': ['Accuracy','Precision','Recall','F1 Score'],'VALUE' : [dt_acc_test,dt_pre,dt_recall,dt_f1]})\n",
    "dt_Metrics"
   ]
  },
  {
   "cell_type": "code",
   "execution_count": 74,
   "id": "0c430476",
   "metadata": {},
   "outputs": [
    {
     "name": "stdout",
     "output_type": "stream",
     "text": [
      "DECISION TREE METRICS:\n",
      "+-----------+----------+\n",
      "| METRIC    |    VALUE |\n",
      "+===========+==========+\n",
      "| Accuracy  | 0.8625   |\n",
      "+-----------+----------+\n",
      "| Precision | 0.864016 |\n",
      "+-----------+----------+\n",
      "| Recall    | 0.8625   |\n",
      "+-----------+----------+\n",
      "| F1 Score  | 0.862648 |\n",
      "+-----------+----------+\n"
     ]
    }
   ],
   "source": [
    "print(\"DECISION TREE METRICS:\")\n",
    "print(tabulate(dt_Metrics,headers ='keys',tablefmt= 'grid',showindex = False))"
   ]
  },
  {
   "cell_type": "code",
   "execution_count": null,
   "id": "b130914e",
   "metadata": {},
   "outputs": [],
   "source": []
  },
  {
   "cell_type": "markdown",
   "id": "6490c163",
   "metadata": {},
   "source": [
    "### Hyperparameter tuning in dt"
   ]
  },
  {
   "cell_type": "code",
   "execution_count": 75,
   "id": "d7483cf3",
   "metadata": {},
   "outputs": [],
   "source": [
    "from sklearn.model_selection import GridSearchCV"
   ]
  },
  {
   "cell_type": "code",
   "execution_count": 76,
   "id": "4748ad31",
   "metadata": {},
   "outputs": [],
   "source": [
    "params = {\n",
    "    \"criterion\":(\"gini\", \"entropy\"),\n",
    "    \"splitter\":(\"best\", \"random\"), \n",
    "    \"max_depth\":(list(range(1, 20))), \n",
    "    \"min_samples_split\":[2, 3, 4],    \n",
    "    \"min_samples_leaf\":list(range(1, 20))\n",
    "}"
   ]
  },
  {
   "cell_type": "code",
   "execution_count": 77,
   "id": "6d8004fc",
   "metadata": {},
   "outputs": [],
   "source": [
    "grid = GridSearchCV(dt, params, scoring='accuracy', cv = 5, verbose = 3, n_jobs=-1)"
   ]
  },
  {
   "cell_type": "code",
   "execution_count": 78,
   "id": "4e1aeee9",
   "metadata": {},
   "outputs": [
    {
     "name": "stdout",
     "output_type": "stream",
     "text": [
      "Fitting 5 folds for each of 4332 candidates, totalling 21660 fits\n"
     ]
    },
    {
     "data": {
      "text/html": [
       "<style>#sk-container-id-8 {color: black;background-color: white;}#sk-container-id-8 pre{padding: 0;}#sk-container-id-8 div.sk-toggleable {background-color: white;}#sk-container-id-8 label.sk-toggleable__label {cursor: pointer;display: block;width: 100%;margin-bottom: 0;padding: 0.3em;box-sizing: border-box;text-align: center;}#sk-container-id-8 label.sk-toggleable__label-arrow:before {content: \"▸\";float: left;margin-right: 0.25em;color: #696969;}#sk-container-id-8 label.sk-toggleable__label-arrow:hover:before {color: black;}#sk-container-id-8 div.sk-estimator:hover label.sk-toggleable__label-arrow:before {color: black;}#sk-container-id-8 div.sk-toggleable__content {max-height: 0;max-width: 0;overflow: hidden;text-align: left;background-color: #f0f8ff;}#sk-container-id-8 div.sk-toggleable__content pre {margin: 0.2em;color: black;border-radius: 0.25em;background-color: #f0f8ff;}#sk-container-id-8 input.sk-toggleable__control:checked~div.sk-toggleable__content {max-height: 200px;max-width: 100%;overflow: auto;}#sk-container-id-8 input.sk-toggleable__control:checked~label.sk-toggleable__label-arrow:before {content: \"▾\";}#sk-container-id-8 div.sk-estimator input.sk-toggleable__control:checked~label.sk-toggleable__label {background-color: #d4ebff;}#sk-container-id-8 div.sk-label input.sk-toggleable__control:checked~label.sk-toggleable__label {background-color: #d4ebff;}#sk-container-id-8 input.sk-hidden--visually {border: 0;clip: rect(1px 1px 1px 1px);clip: rect(1px, 1px, 1px, 1px);height: 1px;margin: -1px;overflow: hidden;padding: 0;position: absolute;width: 1px;}#sk-container-id-8 div.sk-estimator {font-family: monospace;background-color: #f0f8ff;border: 1px dotted black;border-radius: 0.25em;box-sizing: border-box;margin-bottom: 0.5em;}#sk-container-id-8 div.sk-estimator:hover {background-color: #d4ebff;}#sk-container-id-8 div.sk-parallel-item::after {content: \"\";width: 100%;border-bottom: 1px solid gray;flex-grow: 1;}#sk-container-id-8 div.sk-label:hover label.sk-toggleable__label {background-color: #d4ebff;}#sk-container-id-8 div.sk-serial::before {content: \"\";position: absolute;border-left: 1px solid gray;box-sizing: border-box;top: 0;bottom: 0;left: 50%;z-index: 0;}#sk-container-id-8 div.sk-serial {display: flex;flex-direction: column;align-items: center;background-color: white;padding-right: 0.2em;padding-left: 0.2em;position: relative;}#sk-container-id-8 div.sk-item {position: relative;z-index: 1;}#sk-container-id-8 div.sk-parallel {display: flex;align-items: stretch;justify-content: center;background-color: white;position: relative;}#sk-container-id-8 div.sk-item::before, #sk-container-id-8 div.sk-parallel-item::before {content: \"\";position: absolute;border-left: 1px solid gray;box-sizing: border-box;top: 0;bottom: 0;left: 50%;z-index: -1;}#sk-container-id-8 div.sk-parallel-item {display: flex;flex-direction: column;z-index: 1;position: relative;background-color: white;}#sk-container-id-8 div.sk-parallel-item:first-child::after {align-self: flex-end;width: 50%;}#sk-container-id-8 div.sk-parallel-item:last-child::after {align-self: flex-start;width: 50%;}#sk-container-id-8 div.sk-parallel-item:only-child::after {width: 0;}#sk-container-id-8 div.sk-dashed-wrapped {border: 1px dashed gray;margin: 0 0.4em 0.5em 0.4em;box-sizing: border-box;padding-bottom: 0.4em;background-color: white;}#sk-container-id-8 div.sk-label label {font-family: monospace;font-weight: bold;display: inline-block;line-height: 1.2em;}#sk-container-id-8 div.sk-label-container {text-align: center;}#sk-container-id-8 div.sk-container {/* jupyter's `normalize.less` sets `[hidden] { display: none; }` but bootstrap.min.css set `[hidden] { display: none !important; }` so we also need the `!important` here to be able to override the default hidden behavior on the sphinx rendered scikit-learn.org. See: https://github.com/scikit-learn/scikit-learn/issues/21755 */display: inline-block !important;position: relative;}#sk-container-id-8 div.sk-text-repr-fallback {display: none;}</style><div id=\"sk-container-id-8\" class=\"sk-top-container\"><div class=\"sk-text-repr-fallback\"><pre>GridSearchCV(cv=5, estimator=DecisionTreeClassifier(random_state=42), n_jobs=-1,\n",
       "             param_grid={&#x27;criterion&#x27;: (&#x27;gini&#x27;, &#x27;entropy&#x27;),\n",
       "                         &#x27;max_depth&#x27;: [1, 2, 3, 4, 5, 6, 7, 8, 9, 10, 11, 12,\n",
       "                                       13, 14, 15, 16, 17, 18, 19],\n",
       "                         &#x27;min_samples_leaf&#x27;: [1, 2, 3, 4, 5, 6, 7, 8, 9, 10, 11,\n",
       "                                              12, 13, 14, 15, 16, 17, 18, 19],\n",
       "                         &#x27;min_samples_split&#x27;: [2, 3, 4],\n",
       "                         &#x27;splitter&#x27;: (&#x27;best&#x27;, &#x27;random&#x27;)},\n",
       "             scoring=&#x27;accuracy&#x27;, verbose=3)</pre><b>In a Jupyter environment, please rerun this cell to show the HTML representation or trust the notebook. <br />On GitHub, the HTML representation is unable to render, please try loading this page with nbviewer.org.</b></div><div class=\"sk-container\" hidden><div class=\"sk-item sk-dashed-wrapped\"><div class=\"sk-label-container\"><div class=\"sk-label sk-toggleable\"><input class=\"sk-toggleable__control sk-hidden--visually\" id=\"sk-estimator-id-12\" type=\"checkbox\" ><label for=\"sk-estimator-id-12\" class=\"sk-toggleable__label sk-toggleable__label-arrow\">GridSearchCV</label><div class=\"sk-toggleable__content\"><pre>GridSearchCV(cv=5, estimator=DecisionTreeClassifier(random_state=42), n_jobs=-1,\n",
       "             param_grid={&#x27;criterion&#x27;: (&#x27;gini&#x27;, &#x27;entropy&#x27;),\n",
       "                         &#x27;max_depth&#x27;: [1, 2, 3, 4, 5, 6, 7, 8, 9, 10, 11, 12,\n",
       "                                       13, 14, 15, 16, 17, 18, 19],\n",
       "                         &#x27;min_samples_leaf&#x27;: [1, 2, 3, 4, 5, 6, 7, 8, 9, 10, 11,\n",
       "                                              12, 13, 14, 15, 16, 17, 18, 19],\n",
       "                         &#x27;min_samples_split&#x27;: [2, 3, 4],\n",
       "                         &#x27;splitter&#x27;: (&#x27;best&#x27;, &#x27;random&#x27;)},\n",
       "             scoring=&#x27;accuracy&#x27;, verbose=3)</pre></div></div></div><div class=\"sk-parallel\"><div class=\"sk-parallel-item\"><div class=\"sk-item\"><div class=\"sk-label-container\"><div class=\"sk-label sk-toggleable\"><input class=\"sk-toggleable__control sk-hidden--visually\" id=\"sk-estimator-id-13\" type=\"checkbox\" ><label for=\"sk-estimator-id-13\" class=\"sk-toggleable__label sk-toggleable__label-arrow\">estimator: DecisionTreeClassifier</label><div class=\"sk-toggleable__content\"><pre>DecisionTreeClassifier(random_state=42)</pre></div></div></div><div class=\"sk-serial\"><div class=\"sk-item\"><div class=\"sk-estimator sk-toggleable\"><input class=\"sk-toggleable__control sk-hidden--visually\" id=\"sk-estimator-id-14\" type=\"checkbox\" ><label for=\"sk-estimator-id-14\" class=\"sk-toggleable__label sk-toggleable__label-arrow\">DecisionTreeClassifier</label><div class=\"sk-toggleable__content\"><pre>DecisionTreeClassifier(random_state=42)</pre></div></div></div></div></div></div></div></div></div></div>"
      ],
      "text/plain": [
       "GridSearchCV(cv=5, estimator=DecisionTreeClassifier(random_state=42), n_jobs=-1,\n",
       "             param_grid={'criterion': ('gini', 'entropy'),\n",
       "                         'max_depth': [1, 2, 3, 4, 5, 6, 7, 8, 9, 10, 11, 12,\n",
       "                                       13, 14, 15, 16, 17, 18, 19],\n",
       "                         'min_samples_leaf': [1, 2, 3, 4, 5, 6, 7, 8, 9, 10, 11,\n",
       "                                              12, 13, 14, 15, 16, 17, 18, 19],\n",
       "                         'min_samples_split': [2, 3, 4],\n",
       "                         'splitter': ('best', 'random')},\n",
       "             scoring='accuracy', verbose=3)"
      ]
     },
     "execution_count": 78,
     "metadata": {},
     "output_type": "execute_result"
    }
   ],
   "source": [
    "grid.fit(x_sm, y_sm)"
   ]
  },
  {
   "cell_type": "code",
   "execution_count": 79,
   "id": "f4e84755",
   "metadata": {},
   "outputs": [
    {
     "data": {
      "text/plain": [
       "{'criterion': 'entropy',\n",
       " 'max_depth': 7,\n",
       " 'min_samples_leaf': 5,\n",
       " 'min_samples_split': 2,\n",
       " 'splitter': 'best'}"
      ]
     },
     "execution_count": 79,
     "metadata": {},
     "output_type": "execute_result"
    }
   ],
   "source": [
    "grid.best_params_"
   ]
  },
  {
   "cell_type": "code",
   "execution_count": 80,
   "id": "c1ba4ae4",
   "metadata": {},
   "outputs": [],
   "source": [
    "dt1 = DecisionTreeClassifier(criterion= 'entropy',\n",
    " max_depth= 12,\n",
    " min_samples_leaf= 1,\n",
    " min_samples_split= 4,\n",
    " splitter= 'best')"
   ]
  },
  {
   "cell_type": "code",
   "execution_count": 81,
   "id": "519e06e4",
   "metadata": {},
   "outputs": [
    {
     "data": {
      "text/html": [
       "<style>#sk-container-id-9 {color: black;background-color: white;}#sk-container-id-9 pre{padding: 0;}#sk-container-id-9 div.sk-toggleable {background-color: white;}#sk-container-id-9 label.sk-toggleable__label {cursor: pointer;display: block;width: 100%;margin-bottom: 0;padding: 0.3em;box-sizing: border-box;text-align: center;}#sk-container-id-9 label.sk-toggleable__label-arrow:before {content: \"▸\";float: left;margin-right: 0.25em;color: #696969;}#sk-container-id-9 label.sk-toggleable__label-arrow:hover:before {color: black;}#sk-container-id-9 div.sk-estimator:hover label.sk-toggleable__label-arrow:before {color: black;}#sk-container-id-9 div.sk-toggleable__content {max-height: 0;max-width: 0;overflow: hidden;text-align: left;background-color: #f0f8ff;}#sk-container-id-9 div.sk-toggleable__content pre {margin: 0.2em;color: black;border-radius: 0.25em;background-color: #f0f8ff;}#sk-container-id-9 input.sk-toggleable__control:checked~div.sk-toggleable__content {max-height: 200px;max-width: 100%;overflow: auto;}#sk-container-id-9 input.sk-toggleable__control:checked~label.sk-toggleable__label-arrow:before {content: \"▾\";}#sk-container-id-9 div.sk-estimator input.sk-toggleable__control:checked~label.sk-toggleable__label {background-color: #d4ebff;}#sk-container-id-9 div.sk-label input.sk-toggleable__control:checked~label.sk-toggleable__label {background-color: #d4ebff;}#sk-container-id-9 input.sk-hidden--visually {border: 0;clip: rect(1px 1px 1px 1px);clip: rect(1px, 1px, 1px, 1px);height: 1px;margin: -1px;overflow: hidden;padding: 0;position: absolute;width: 1px;}#sk-container-id-9 div.sk-estimator {font-family: monospace;background-color: #f0f8ff;border: 1px dotted black;border-radius: 0.25em;box-sizing: border-box;margin-bottom: 0.5em;}#sk-container-id-9 div.sk-estimator:hover {background-color: #d4ebff;}#sk-container-id-9 div.sk-parallel-item::after {content: \"\";width: 100%;border-bottom: 1px solid gray;flex-grow: 1;}#sk-container-id-9 div.sk-label:hover label.sk-toggleable__label {background-color: #d4ebff;}#sk-container-id-9 div.sk-serial::before {content: \"\";position: absolute;border-left: 1px solid gray;box-sizing: border-box;top: 0;bottom: 0;left: 50%;z-index: 0;}#sk-container-id-9 div.sk-serial {display: flex;flex-direction: column;align-items: center;background-color: white;padding-right: 0.2em;padding-left: 0.2em;position: relative;}#sk-container-id-9 div.sk-item {position: relative;z-index: 1;}#sk-container-id-9 div.sk-parallel {display: flex;align-items: stretch;justify-content: center;background-color: white;position: relative;}#sk-container-id-9 div.sk-item::before, #sk-container-id-9 div.sk-parallel-item::before {content: \"\";position: absolute;border-left: 1px solid gray;box-sizing: border-box;top: 0;bottom: 0;left: 50%;z-index: -1;}#sk-container-id-9 div.sk-parallel-item {display: flex;flex-direction: column;z-index: 1;position: relative;background-color: white;}#sk-container-id-9 div.sk-parallel-item:first-child::after {align-self: flex-end;width: 50%;}#sk-container-id-9 div.sk-parallel-item:last-child::after {align-self: flex-start;width: 50%;}#sk-container-id-9 div.sk-parallel-item:only-child::after {width: 0;}#sk-container-id-9 div.sk-dashed-wrapped {border: 1px dashed gray;margin: 0 0.4em 0.5em 0.4em;box-sizing: border-box;padding-bottom: 0.4em;background-color: white;}#sk-container-id-9 div.sk-label label {font-family: monospace;font-weight: bold;display: inline-block;line-height: 1.2em;}#sk-container-id-9 div.sk-label-container {text-align: center;}#sk-container-id-9 div.sk-container {/* jupyter's `normalize.less` sets `[hidden] { display: none; }` but bootstrap.min.css set `[hidden] { display: none !important; }` so we also need the `!important` here to be able to override the default hidden behavior on the sphinx rendered scikit-learn.org. See: https://github.com/scikit-learn/scikit-learn/issues/21755 */display: inline-block !important;position: relative;}#sk-container-id-9 div.sk-text-repr-fallback {display: none;}</style><div id=\"sk-container-id-9\" class=\"sk-top-container\"><div class=\"sk-text-repr-fallback\"><pre>DecisionTreeClassifier(criterion=&#x27;entropy&#x27;, max_depth=12, min_samples_split=4)</pre><b>In a Jupyter environment, please rerun this cell to show the HTML representation or trust the notebook. <br />On GitHub, the HTML representation is unable to render, please try loading this page with nbviewer.org.</b></div><div class=\"sk-container\" hidden><div class=\"sk-item\"><div class=\"sk-estimator sk-toggleable\"><input class=\"sk-toggleable__control sk-hidden--visually\" id=\"sk-estimator-id-15\" type=\"checkbox\" checked><label for=\"sk-estimator-id-15\" class=\"sk-toggleable__label sk-toggleable__label-arrow\">DecisionTreeClassifier</label><div class=\"sk-toggleable__content\"><pre>DecisionTreeClassifier(criterion=&#x27;entropy&#x27;, max_depth=12, min_samples_split=4)</pre></div></div></div></div></div>"
      ],
      "text/plain": [
       "DecisionTreeClassifier(criterion='entropy', max_depth=12, min_samples_split=4)"
      ]
     },
     "execution_count": 81,
     "metadata": {},
     "output_type": "execute_result"
    }
   ],
   "source": [
    "dt1.fit(x_sm,y_sm)"
   ]
  },
  {
   "cell_type": "code",
   "execution_count": 82,
   "id": "57d27420",
   "metadata": {},
   "outputs": [
    {
     "data": {
      "text/plain": [
       "array([3, 2, 3, 2, 3, 3, 2, 3, 3, 3, 3, 2, 3, 3, 3, 3, 3, 3, 4, 3, 3, 2,\n",
       "       3, 3, 4, 2, 4, 3, 3, 3, 3, 4, 4, 3, 3, 4, 3, 3, 4, 3, 3, 3, 3, 3,\n",
       "       3, 4, 4, 3, 3, 3, 3, 2, 3, 4, 3, 3, 3, 4, 3, 3, 3, 4, 4, 3, 3, 3,\n",
       "       2, 3, 3, 4, 3, 3, 3, 3, 3, 3, 4, 3, 3, 3, 3, 2, 3, 3, 3, 2, 2, 3,\n",
       "       3, 3, 3, 3, 4, 3, 3, 3, 3, 3, 2, 3, 3, 3, 2, 3, 3, 3, 2, 2, 2, 3,\n",
       "       3, 3, 4, 3, 3, 4, 3, 3, 3, 3, 3, 4, 2, 2, 3, 2, 2, 3, 3, 4, 3, 3,\n",
       "       3, 4, 3, 2, 3, 4, 3, 3, 3, 2, 2, 2, 3, 4, 3, 2, 3, 4, 3, 3, 3, 3,\n",
       "       4, 4, 3, 2, 3, 3, 3, 3, 3, 3, 3, 3, 3, 3, 3, 3, 4, 2, 3, 2, 3, 3,\n",
       "       3, 3, 2, 3, 4, 3, 3, 3, 3, 3, 4, 3, 3, 2, 3, 3, 3, 3, 3, 3, 3, 3,\n",
       "       3, 3, 2, 3, 3, 3, 2, 3, 3, 3, 3, 3, 3, 3, 4, 3, 3, 2, 3, 3, 2, 3,\n",
       "       4, 3, 2, 4, 3, 3, 4, 2, 3, 3, 3, 2, 3, 3, 3, 2, 3, 3, 3, 3],\n",
       "      dtype=int64)"
      ]
     },
     "execution_count": 82,
     "metadata": {},
     "output_type": "execute_result"
    }
   ],
   "source": [
    "dt1_y_pred = dt1.predict(x_test)\n",
    "dt1_y_pred"
   ]
  },
  {
   "cell_type": "code",
   "execution_count": 83,
   "id": "e2fde8df",
   "metadata": {},
   "outputs": [
    {
     "name": "stdout",
     "output_type": "stream",
     "text": [
      "ACCURACY SCORE: 0.8625\n",
      "PRECISION SCORE: 0.8703057907005276\n",
      "RECALL SCORE: 0.8625\n",
      "F1 SCORE: 0.865079229993499\n",
      "----\n",
      "DECISION TREE CLASSIFICATION REPORT:\n",
      "              precision    recall  f1-score   support\n",
      "\n",
      "           2       0.79      0.77      0.78        39\n",
      "           3       0.92      0.89      0.91       175\n",
      "           4       0.64      0.81      0.71        26\n",
      "\n",
      "    accuracy                           0.86       240\n",
      "   macro avg       0.78      0.82      0.80       240\n",
      "weighted avg       0.87      0.86      0.87       240\n",
      "\n"
     ]
    }
   ],
   "source": [
    "dt1_acc_test = accuracy_score(y_test,dt1_y_pred)\n",
    "print('ACCURACY SCORE:',dt1_acc_test)\n",
    "dt1_pre = precision_score(y_test,dt1_y_pred, average = 'weighted')\n",
    "print('PRECISION SCORE:',dt1_pre)\n",
    "dt1_recall = recall_score(y_test,dt1_y_pred,average = 'weighted')\n",
    "print('RECALL SCORE:',dt1_recall)\n",
    "dt1_f1 = f1_score(y_test,dt1_y_pred, average = 'weighted')\n",
    "print('F1 SCORE:',dt1_f1)\n",
    "print('----')\n",
    "print('DECISION TREE CLASSIFICATION REPORT:')\n",
    "print(classification_report(y_test,dt1_y_pred))"
   ]
  },
  {
   "cell_type": "code",
   "execution_count": 84,
   "id": "0c7d063a",
   "metadata": {},
   "outputs": [
    {
     "data": {
      "text/html": [
       "<div>\n",
       "<style scoped>\n",
       "    .dataframe tbody tr th:only-of-type {\n",
       "        vertical-align: middle;\n",
       "    }\n",
       "\n",
       "    .dataframe tbody tr th {\n",
       "        vertical-align: top;\n",
       "    }\n",
       "\n",
       "    .dataframe thead th {\n",
       "        text-align: right;\n",
       "    }\n",
       "</style>\n",
       "<table border=\"1\" class=\"dataframe\">\n",
       "  <thead>\n",
       "    <tr style=\"text-align: right;\">\n",
       "      <th>col_0</th>\n",
       "      <th>2</th>\n",
       "      <th>3</th>\n",
       "      <th>4</th>\n",
       "    </tr>\n",
       "    <tr>\n",
       "      <th>PerformanceRating</th>\n",
       "      <th></th>\n",
       "      <th></th>\n",
       "      <th></th>\n",
       "    </tr>\n",
       "  </thead>\n",
       "  <tbody>\n",
       "    <tr>\n",
       "      <th>2</th>\n",
       "      <td>30</td>\n",
       "      <td>9</td>\n",
       "      <td>0</td>\n",
       "    </tr>\n",
       "    <tr>\n",
       "      <th>3</th>\n",
       "      <td>7</td>\n",
       "      <td>156</td>\n",
       "      <td>12</td>\n",
       "    </tr>\n",
       "    <tr>\n",
       "      <th>4</th>\n",
       "      <td>1</td>\n",
       "      <td>4</td>\n",
       "      <td>21</td>\n",
       "    </tr>\n",
       "  </tbody>\n",
       "</table>\n",
       "</div>"
      ],
      "text/plain": [
       "col_0               2    3   4\n",
       "PerformanceRating             \n",
       "2                  30    9   0\n",
       "3                   7  156  12\n",
       "4                   1    4  21"
      ]
     },
     "execution_count": 84,
     "metadata": {},
     "output_type": "execute_result"
    }
   ],
   "source": [
    "pd.crosstab(y_test,dt1_y_pred)"
   ]
  },
  {
   "cell_type": "code",
   "execution_count": 85,
   "id": "bd1e995b",
   "metadata": {},
   "outputs": [
    {
     "data": {
      "text/html": [
       "<div>\n",
       "<style scoped>\n",
       "    .dataframe tbody tr th:only-of-type {\n",
       "        vertical-align: middle;\n",
       "    }\n",
       "\n",
       "    .dataframe tbody tr th {\n",
       "        vertical-align: top;\n",
       "    }\n",
       "\n",
       "    .dataframe thead th {\n",
       "        text-align: right;\n",
       "    }\n",
       "</style>\n",
       "<table border=\"1\" class=\"dataframe\">\n",
       "  <thead>\n",
       "    <tr style=\"text-align: right;\">\n",
       "      <th></th>\n",
       "      <th>METRIC</th>\n",
       "      <th>VALUE</th>\n",
       "    </tr>\n",
       "  </thead>\n",
       "  <tbody>\n",
       "    <tr>\n",
       "      <th>0</th>\n",
       "      <td>Accuracy</td>\n",
       "      <td>0.862500</td>\n",
       "    </tr>\n",
       "    <tr>\n",
       "      <th>1</th>\n",
       "      <td>Precision</td>\n",
       "      <td>0.870306</td>\n",
       "    </tr>\n",
       "    <tr>\n",
       "      <th>2</th>\n",
       "      <td>Recall</td>\n",
       "      <td>0.862500</td>\n",
       "    </tr>\n",
       "    <tr>\n",
       "      <th>3</th>\n",
       "      <td>F1 Score</td>\n",
       "      <td>0.865079</td>\n",
       "    </tr>\n",
       "  </tbody>\n",
       "</table>\n",
       "</div>"
      ],
      "text/plain": [
       "      METRIC     VALUE\n",
       "0   Accuracy  0.862500\n",
       "1  Precision  0.870306\n",
       "2     Recall  0.862500\n",
       "3   F1 Score  0.865079"
      ]
     },
     "execution_count": 85,
     "metadata": {},
     "output_type": "execute_result"
    }
   ],
   "source": [
    "dt1_Metrics =pd.DataFrame({'METRIC': ['Accuracy','Precision','Recall','F1 Score'],'VALUE' : [dt1_acc_test,dt1_pre,dt1_recall,dt1_f1]})\n",
    "dt1_Metrics"
   ]
  },
  {
   "cell_type": "code",
   "execution_count": 86,
   "id": "1ed0a3a1",
   "metadata": {},
   "outputs": [
    {
     "name": "stdout",
     "output_type": "stream",
     "text": [
      "DECISION TREE METRICS AFTER HYPERPARAMETER TUNING:\n",
      "+-----------+----------+\n",
      "| METRIC    |    VALUE |\n",
      "+===========+==========+\n",
      "| Accuracy  | 0.8625   |\n",
      "+-----------+----------+\n",
      "| Precision | 0.864016 |\n",
      "+-----------+----------+\n",
      "| Recall    | 0.8625   |\n",
      "+-----------+----------+\n",
      "| F1 Score  | 0.862648 |\n",
      "+-----------+----------+\n"
     ]
    }
   ],
   "source": [
    "print(\"DECISION TREE METRICS AFTER HYPERPARAMETER TUNING:\")\n",
    "print(tabulate(dt_Metrics,headers ='keys',tablefmt= 'grid',showindex = False))"
   ]
  },
  {
   "cell_type": "code",
   "execution_count": null,
   "id": "1d389606",
   "metadata": {},
   "outputs": [],
   "source": []
  },
  {
   "cell_type": "markdown",
   "id": "cc0f7672",
   "metadata": {},
   "source": [
    "- The Decision Tree performed consistently before and after hyperparameter tuning. While the results were stable, the model didn’t show significant improvement, but its interpretability and stable performance make it useful for predicting employee performance."
   ]
  },
  {
   "cell_type": "code",
   "execution_count": null,
   "id": "ce456ca5",
   "metadata": {},
   "outputs": [],
   "source": []
  },
  {
   "cell_type": "code",
   "execution_count": null,
   "id": "cd97b1c6",
   "metadata": {},
   "outputs": [],
   "source": []
  },
  {
   "cell_type": "code",
   "execution_count": null,
   "id": "cc571971",
   "metadata": {},
   "outputs": [],
   "source": []
  },
  {
   "cell_type": "code",
   "execution_count": null,
   "id": "e30221ba",
   "metadata": {},
   "outputs": [],
   "source": []
  },
  {
   "cell_type": "markdown",
   "id": "26b136ee",
   "metadata": {},
   "source": [
    "# 4. Random Forest"
   ]
  },
  {
   "cell_type": "code",
   "execution_count": 87,
   "id": "558661f0",
   "metadata": {},
   "outputs": [],
   "source": [
    "from sklearn.ensemble import RandomForestClassifier\n",
    "rf = RandomForestClassifier(n_estimators = 100)"
   ]
  },
  {
   "cell_type": "code",
   "execution_count": 88,
   "id": "cb336975",
   "metadata": {},
   "outputs": [
    {
     "data": {
      "text/html": [
       "<style>#sk-container-id-10 {color: black;background-color: white;}#sk-container-id-10 pre{padding: 0;}#sk-container-id-10 div.sk-toggleable {background-color: white;}#sk-container-id-10 label.sk-toggleable__label {cursor: pointer;display: block;width: 100%;margin-bottom: 0;padding: 0.3em;box-sizing: border-box;text-align: center;}#sk-container-id-10 label.sk-toggleable__label-arrow:before {content: \"▸\";float: left;margin-right: 0.25em;color: #696969;}#sk-container-id-10 label.sk-toggleable__label-arrow:hover:before {color: black;}#sk-container-id-10 div.sk-estimator:hover label.sk-toggleable__label-arrow:before {color: black;}#sk-container-id-10 div.sk-toggleable__content {max-height: 0;max-width: 0;overflow: hidden;text-align: left;background-color: #f0f8ff;}#sk-container-id-10 div.sk-toggleable__content pre {margin: 0.2em;color: black;border-radius: 0.25em;background-color: #f0f8ff;}#sk-container-id-10 input.sk-toggleable__control:checked~div.sk-toggleable__content {max-height: 200px;max-width: 100%;overflow: auto;}#sk-container-id-10 input.sk-toggleable__control:checked~label.sk-toggleable__label-arrow:before {content: \"▾\";}#sk-container-id-10 div.sk-estimator input.sk-toggleable__control:checked~label.sk-toggleable__label {background-color: #d4ebff;}#sk-container-id-10 div.sk-label input.sk-toggleable__control:checked~label.sk-toggleable__label {background-color: #d4ebff;}#sk-container-id-10 input.sk-hidden--visually {border: 0;clip: rect(1px 1px 1px 1px);clip: rect(1px, 1px, 1px, 1px);height: 1px;margin: -1px;overflow: hidden;padding: 0;position: absolute;width: 1px;}#sk-container-id-10 div.sk-estimator {font-family: monospace;background-color: #f0f8ff;border: 1px dotted black;border-radius: 0.25em;box-sizing: border-box;margin-bottom: 0.5em;}#sk-container-id-10 div.sk-estimator:hover {background-color: #d4ebff;}#sk-container-id-10 div.sk-parallel-item::after {content: \"\";width: 100%;border-bottom: 1px solid gray;flex-grow: 1;}#sk-container-id-10 div.sk-label:hover label.sk-toggleable__label {background-color: #d4ebff;}#sk-container-id-10 div.sk-serial::before {content: \"\";position: absolute;border-left: 1px solid gray;box-sizing: border-box;top: 0;bottom: 0;left: 50%;z-index: 0;}#sk-container-id-10 div.sk-serial {display: flex;flex-direction: column;align-items: center;background-color: white;padding-right: 0.2em;padding-left: 0.2em;position: relative;}#sk-container-id-10 div.sk-item {position: relative;z-index: 1;}#sk-container-id-10 div.sk-parallel {display: flex;align-items: stretch;justify-content: center;background-color: white;position: relative;}#sk-container-id-10 div.sk-item::before, #sk-container-id-10 div.sk-parallel-item::before {content: \"\";position: absolute;border-left: 1px solid gray;box-sizing: border-box;top: 0;bottom: 0;left: 50%;z-index: -1;}#sk-container-id-10 div.sk-parallel-item {display: flex;flex-direction: column;z-index: 1;position: relative;background-color: white;}#sk-container-id-10 div.sk-parallel-item:first-child::after {align-self: flex-end;width: 50%;}#sk-container-id-10 div.sk-parallel-item:last-child::after {align-self: flex-start;width: 50%;}#sk-container-id-10 div.sk-parallel-item:only-child::after {width: 0;}#sk-container-id-10 div.sk-dashed-wrapped {border: 1px dashed gray;margin: 0 0.4em 0.5em 0.4em;box-sizing: border-box;padding-bottom: 0.4em;background-color: white;}#sk-container-id-10 div.sk-label label {font-family: monospace;font-weight: bold;display: inline-block;line-height: 1.2em;}#sk-container-id-10 div.sk-label-container {text-align: center;}#sk-container-id-10 div.sk-container {/* jupyter's `normalize.less` sets `[hidden] { display: none; }` but bootstrap.min.css set `[hidden] { display: none !important; }` so we also need the `!important` here to be able to override the default hidden behavior on the sphinx rendered scikit-learn.org. See: https://github.com/scikit-learn/scikit-learn/issues/21755 */display: inline-block !important;position: relative;}#sk-container-id-10 div.sk-text-repr-fallback {display: none;}</style><div id=\"sk-container-id-10\" class=\"sk-top-container\"><div class=\"sk-text-repr-fallback\"><pre>RandomForestClassifier()</pre><b>In a Jupyter environment, please rerun this cell to show the HTML representation or trust the notebook. <br />On GitHub, the HTML representation is unable to render, please try loading this page with nbviewer.org.</b></div><div class=\"sk-container\" hidden><div class=\"sk-item\"><div class=\"sk-estimator sk-toggleable\"><input class=\"sk-toggleable__control sk-hidden--visually\" id=\"sk-estimator-id-16\" type=\"checkbox\" checked><label for=\"sk-estimator-id-16\" class=\"sk-toggleable__label sk-toggleable__label-arrow\">RandomForestClassifier</label><div class=\"sk-toggleable__content\"><pre>RandomForestClassifier()</pre></div></div></div></div></div>"
      ],
      "text/plain": [
       "RandomForestClassifier()"
      ]
     },
     "execution_count": 88,
     "metadata": {},
     "output_type": "execute_result"
    }
   ],
   "source": [
    "rf.fit(x_sm,y_sm)"
   ]
  },
  {
   "cell_type": "markdown",
   "id": "c47e125a",
   "metadata": {},
   "source": [
    "###### Prediction"
   ]
  },
  {
   "cell_type": "code",
   "execution_count": 89,
   "id": "09480d7d",
   "metadata": {},
   "outputs": [
    {
     "data": {
      "text/plain": [
       "array([3, 2, 3, ..., 4, 4, 4], dtype=int64)"
      ]
     },
     "execution_count": 89,
     "metadata": {},
     "output_type": "execute_result"
    }
   ],
   "source": [
    "rf_y_train= rf.predict(x_sm)\n",
    "rf_y_train"
   ]
  },
  {
   "cell_type": "code",
   "execution_count": 90,
   "id": "bfe9f397",
   "metadata": {},
   "outputs": [
    {
     "data": {
      "text/plain": [
       "array([3, 3, 3, 2, 3, 3, 2, 3, 3, 3, 3, 2, 3, 3, 3, 3, 3, 3, 3, 3, 3, 2,\n",
       "       3, 3, 3, 2, 4, 3, 2, 3, 3, 4, 3, 3, 3, 4, 3, 3, 4, 3, 3, 3, 3, 3,\n",
       "       3, 4, 4, 3, 3, 3, 3, 2, 3, 4, 3, 3, 3, 3, 3, 3, 3, 4, 4, 3, 3, 3,\n",
       "       2, 3, 3, 4, 3, 3, 3, 3, 3, 3, 3, 3, 3, 3, 3, 2, 3, 3, 3, 2, 2, 3,\n",
       "       3, 3, 3, 2, 4, 3, 3, 3, 3, 3, 2, 2, 3, 3, 3, 3, 3, 3, 2, 2, 2, 3,\n",
       "       3, 3, 4, 3, 3, 4, 3, 3, 3, 3, 3, 4, 3, 2, 3, 3, 2, 3, 3, 4, 3, 3,\n",
       "       3, 3, 3, 2, 3, 3, 3, 3, 3, 2, 2, 2, 3, 3, 3, 2, 3, 4, 3, 3, 3, 3,\n",
       "       3, 4, 3, 2, 3, 3, 3, 3, 3, 3, 3, 3, 3, 3, 3, 3, 4, 2, 3, 2, 3, 3,\n",
       "       3, 3, 2, 3, 3, 3, 3, 3, 3, 3, 4, 3, 3, 2, 3, 3, 3, 3, 3, 3, 3, 3,\n",
       "       3, 3, 2, 3, 3, 3, 2, 3, 3, 3, 3, 4, 3, 3, 3, 3, 3, 2, 2, 2, 2, 3,\n",
       "       4, 3, 2, 4, 3, 3, 4, 3, 3, 3, 3, 3, 3, 3, 3, 2, 3, 3, 3, 2],\n",
       "      dtype=int64)"
      ]
     },
     "execution_count": 90,
     "metadata": {},
     "output_type": "execute_result"
    }
   ],
   "source": [
    "rf_y_pred = rf.predict(x_test)\n",
    "rf_y_pred"
   ]
  },
  {
   "cell_type": "markdown",
   "id": "8789acbd",
   "metadata": {},
   "source": [
    "###### Evaluation"
   ]
  },
  {
   "cell_type": "code",
   "execution_count": 91,
   "id": "11514547",
   "metadata": {},
   "outputs": [
    {
     "data": {
      "text/plain": [
       "1.0"
      ]
     },
     "execution_count": 91,
     "metadata": {},
     "output_type": "execute_result"
    }
   ],
   "source": [
    "rf_acc_train = accuracy_score(y_sm,rf_y_train)\n",
    "rf_acc_train"
   ]
  },
  {
   "cell_type": "code",
   "execution_count": 92,
   "id": "cf982c85",
   "metadata": {},
   "outputs": [
    {
     "name": "stdout",
     "output_type": "stream",
     "text": [
      "              precision    recall  f1-score   support\n",
      "\n",
      "           2       1.00      1.00      1.00       699\n",
      "           3       1.00      1.00      1.00       699\n",
      "           4       1.00      1.00      1.00       699\n",
      "\n",
      "    accuracy                           1.00      2097\n",
      "   macro avg       1.00      1.00      1.00      2097\n",
      "weighted avg       1.00      1.00      1.00      2097\n",
      "\n"
     ]
    }
   ],
   "source": [
    "print(classification_report(y_sm,rf_y_train))"
   ]
  },
  {
   "cell_type": "code",
   "execution_count": 93,
   "id": "45152211",
   "metadata": {},
   "outputs": [
    {
     "name": "stdout",
     "output_type": "stream",
     "text": [
      "ACCURACY SCORE: 0.9333333333333333\n",
      "PRECISION SCORE: 0.9327388790168278\n",
      "RECALL SCORE: 0.9333333333333333\n",
      "F1 SCORE: 0.9325736175312447\n",
      "------\n",
      "RANDOM FOREST CLASSIFICATION REPORT:\n",
      "              precision    recall  f1-score   support\n",
      "\n",
      "           2       0.89      0.87      0.88        39\n",
      "           3       0.94      0.97      0.95       175\n",
      "           4       0.91      0.81      0.86        26\n",
      "\n",
      "    accuracy                           0.93       240\n",
      "   macro avg       0.92      0.88      0.90       240\n",
      "weighted avg       0.93      0.93      0.93       240\n",
      "\n"
     ]
    }
   ],
   "source": [
    "rf_acc_test = accuracy_score(y_test,rf_y_pred)\n",
    "print('ACCURACY SCORE:',rf_acc_test)\n",
    "rf_pre = precision_score(y_test,rf_y_pred, average = 'weighted')\n",
    "print('PRECISION SCORE:',rf_pre)\n",
    "rf_recall = recall_score(y_test,rf_y_pred, average = 'weighted')\n",
    "print('RECALL SCORE:',rf_recall)\n",
    "rf_f1 = f1_score(y_test,rf_y_pred, average = 'weighted')\n",
    "print('F1 SCORE:',rf_f1)\n",
    "print('------')\n",
    "print('RANDOM FOREST CLASSIFICATION REPORT:')\n",
    "print(classification_report(y_test ,rf_y_pred))"
   ]
  },
  {
   "cell_type": "code",
   "execution_count": 94,
   "id": "ded0045d",
   "metadata": {},
   "outputs": [
    {
     "data": {
      "text/html": [
       "<div>\n",
       "<style scoped>\n",
       "    .dataframe tbody tr th:only-of-type {\n",
       "        vertical-align: middle;\n",
       "    }\n",
       "\n",
       "    .dataframe tbody tr th {\n",
       "        vertical-align: top;\n",
       "    }\n",
       "\n",
       "    .dataframe thead th {\n",
       "        text-align: right;\n",
       "    }\n",
       "</style>\n",
       "<table border=\"1\" class=\"dataframe\">\n",
       "  <thead>\n",
       "    <tr style=\"text-align: right;\">\n",
       "      <th>col_0</th>\n",
       "      <th>2</th>\n",
       "      <th>3</th>\n",
       "      <th>4</th>\n",
       "    </tr>\n",
       "    <tr>\n",
       "      <th>PerformanceRating</th>\n",
       "      <th></th>\n",
       "      <th></th>\n",
       "      <th></th>\n",
       "    </tr>\n",
       "  </thead>\n",
       "  <tbody>\n",
       "    <tr>\n",
       "      <th>2</th>\n",
       "      <td>34</td>\n",
       "      <td>5</td>\n",
       "      <td>0</td>\n",
       "    </tr>\n",
       "    <tr>\n",
       "      <th>3</th>\n",
       "      <td>4</td>\n",
       "      <td>169</td>\n",
       "      <td>2</td>\n",
       "    </tr>\n",
       "    <tr>\n",
       "      <th>4</th>\n",
       "      <td>0</td>\n",
       "      <td>5</td>\n",
       "      <td>21</td>\n",
       "    </tr>\n",
       "  </tbody>\n",
       "</table>\n",
       "</div>"
      ],
      "text/plain": [
       "col_0               2    3   4\n",
       "PerformanceRating             \n",
       "2                  34    5   0\n",
       "3                   4  169   2\n",
       "4                   0    5  21"
      ]
     },
     "execution_count": 94,
     "metadata": {},
     "output_type": "execute_result"
    }
   ],
   "source": [
    "pd.crosstab(y_test,rf_y_pred)"
   ]
  },
  {
   "cell_type": "code",
   "execution_count": 95,
   "id": "56ba5c1f",
   "metadata": {},
   "outputs": [
    {
     "data": {
      "text/html": [
       "<div>\n",
       "<style scoped>\n",
       "    .dataframe tbody tr th:only-of-type {\n",
       "        vertical-align: middle;\n",
       "    }\n",
       "\n",
       "    .dataframe tbody tr th {\n",
       "        vertical-align: top;\n",
       "    }\n",
       "\n",
       "    .dataframe thead th {\n",
       "        text-align: right;\n",
       "    }\n",
       "</style>\n",
       "<table border=\"1\" class=\"dataframe\">\n",
       "  <thead>\n",
       "    <tr style=\"text-align: right;\">\n",
       "      <th></th>\n",
       "      <th>METRIC</th>\n",
       "      <th>VALUE</th>\n",
       "    </tr>\n",
       "  </thead>\n",
       "  <tbody>\n",
       "    <tr>\n",
       "      <th>0</th>\n",
       "      <td>Accuracy</td>\n",
       "      <td>0.933333</td>\n",
       "    </tr>\n",
       "    <tr>\n",
       "      <th>1</th>\n",
       "      <td>Precision</td>\n",
       "      <td>0.932739</td>\n",
       "    </tr>\n",
       "    <tr>\n",
       "      <th>2</th>\n",
       "      <td>Recall</td>\n",
       "      <td>0.933333</td>\n",
       "    </tr>\n",
       "    <tr>\n",
       "      <th>3</th>\n",
       "      <td>F1 Score</td>\n",
       "      <td>0.932574</td>\n",
       "    </tr>\n",
       "  </tbody>\n",
       "</table>\n",
       "</div>"
      ],
      "text/plain": [
       "      METRIC     VALUE\n",
       "0   Accuracy  0.933333\n",
       "1  Precision  0.932739\n",
       "2     Recall  0.933333\n",
       "3   F1 Score  0.932574"
      ]
     },
     "execution_count": 95,
     "metadata": {},
     "output_type": "execute_result"
    }
   ],
   "source": [
    "rf_Metrics =pd.DataFrame({'METRIC': ['Accuracy','Precision','Recall','F1 Score'],'VALUE' : [rf_acc_test,rf_pre,rf_recall,rf_f1]})\n",
    "rf_Metrics"
   ]
  },
  {
   "cell_type": "code",
   "execution_count": 96,
   "id": "e8aaf259",
   "metadata": {},
   "outputs": [
    {
     "name": "stdout",
     "output_type": "stream",
     "text": [
      "RANDOM FOREST METRICS\n",
      "+-----------+----------+\n",
      "| METRIC    |    VALUE |\n",
      "+===========+==========+\n",
      "| Accuracy  | 0.933333 |\n",
      "+-----------+----------+\n",
      "| Precision | 0.932739 |\n",
      "+-----------+----------+\n",
      "| Recall    | 0.933333 |\n",
      "+-----------+----------+\n",
      "| F1 Score  | 0.932574 |\n",
      "+-----------+----------+\n"
     ]
    }
   ],
   "source": [
    "print(\"RANDOM FOREST METRICS\")\n",
    "print(tabulate(rf_Metrics,headers ='keys',tablefmt= 'grid',showindex = False))"
   ]
  },
  {
   "cell_type": "code",
   "execution_count": null,
   "id": "f37f3102",
   "metadata": {},
   "outputs": [],
   "source": []
  },
  {
   "cell_type": "code",
   "execution_count": null,
   "id": "c1df2041",
   "metadata": {},
   "outputs": [],
   "source": []
  },
  {
   "cell_type": "markdown",
   "id": "97130469",
   "metadata": {},
   "source": [
    "### Hyperparameter Tuning in Random Forest"
   ]
  },
  {
   "cell_type": "code",
   "execution_count": 97,
   "id": "f54f3523",
   "metadata": {},
   "outputs": [],
   "source": [
    "n_estimators = [50,100,200]\n",
    "max_features = ['auto', 'sqrt']\n",
    "max_depth = [5,10,None]\n",
    "min_samples_split = [2, 5, 10]\n",
    "min_samples_leaf = [1, 2, 4]\n",
    "bootstrap = [True, False] "
   ]
  },
  {
   "cell_type": "code",
   "execution_count": 98,
   "id": "5cb01208",
   "metadata": {},
   "outputs": [],
   "source": [
    "paramgrid = {'n_estimators': n_estimators, 'max_features': max_features,\n",
    "               'max_depth': max_depth, 'min_samples_split': min_samples_split,\n",
    "               'min_samples_leaf': min_samples_leaf, 'bootstrap': bootstrap}"
   ]
  },
  {
   "cell_type": "code",
   "execution_count": 99,
   "id": "fc6aef05",
   "metadata": {},
   "outputs": [],
   "source": [
    "gridsearch = GridSearchCV(rf, paramgrid, scoring='accuracy', cv = 3, verbose = 3, n_jobs=-1)"
   ]
  },
  {
   "cell_type": "code",
   "execution_count": 100,
   "id": "ca35ecd4",
   "metadata": {},
   "outputs": [
    {
     "name": "stdout",
     "output_type": "stream",
     "text": [
      "Fitting 3 folds for each of 324 candidates, totalling 972 fits\n"
     ]
    },
    {
     "name": "stderr",
     "output_type": "stream",
     "text": [
      "C:\\Users\\mdsmb\\anaconda3\\Lib\\site-packages\\sklearn\\ensemble\\_forest.py:424: FutureWarning: `max_features='auto'` has been deprecated in 1.1 and will be removed in 1.3. To keep the past behaviour, explicitly set `max_features='sqrt'` or remove this parameter as it is also the default value for RandomForestClassifiers and ExtraTreesClassifiers.\n",
      "  warn(\n"
     ]
    },
    {
     "data": {
      "text/html": [
       "<style>#sk-container-id-11 {color: black;background-color: white;}#sk-container-id-11 pre{padding: 0;}#sk-container-id-11 div.sk-toggleable {background-color: white;}#sk-container-id-11 label.sk-toggleable__label {cursor: pointer;display: block;width: 100%;margin-bottom: 0;padding: 0.3em;box-sizing: border-box;text-align: center;}#sk-container-id-11 label.sk-toggleable__label-arrow:before {content: \"▸\";float: left;margin-right: 0.25em;color: #696969;}#sk-container-id-11 label.sk-toggleable__label-arrow:hover:before {color: black;}#sk-container-id-11 div.sk-estimator:hover label.sk-toggleable__label-arrow:before {color: black;}#sk-container-id-11 div.sk-toggleable__content {max-height: 0;max-width: 0;overflow: hidden;text-align: left;background-color: #f0f8ff;}#sk-container-id-11 div.sk-toggleable__content pre {margin: 0.2em;color: black;border-radius: 0.25em;background-color: #f0f8ff;}#sk-container-id-11 input.sk-toggleable__control:checked~div.sk-toggleable__content {max-height: 200px;max-width: 100%;overflow: auto;}#sk-container-id-11 input.sk-toggleable__control:checked~label.sk-toggleable__label-arrow:before {content: \"▾\";}#sk-container-id-11 div.sk-estimator input.sk-toggleable__control:checked~label.sk-toggleable__label {background-color: #d4ebff;}#sk-container-id-11 div.sk-label input.sk-toggleable__control:checked~label.sk-toggleable__label {background-color: #d4ebff;}#sk-container-id-11 input.sk-hidden--visually {border: 0;clip: rect(1px 1px 1px 1px);clip: rect(1px, 1px, 1px, 1px);height: 1px;margin: -1px;overflow: hidden;padding: 0;position: absolute;width: 1px;}#sk-container-id-11 div.sk-estimator {font-family: monospace;background-color: #f0f8ff;border: 1px dotted black;border-radius: 0.25em;box-sizing: border-box;margin-bottom: 0.5em;}#sk-container-id-11 div.sk-estimator:hover {background-color: #d4ebff;}#sk-container-id-11 div.sk-parallel-item::after {content: \"\";width: 100%;border-bottom: 1px solid gray;flex-grow: 1;}#sk-container-id-11 div.sk-label:hover label.sk-toggleable__label {background-color: #d4ebff;}#sk-container-id-11 div.sk-serial::before {content: \"\";position: absolute;border-left: 1px solid gray;box-sizing: border-box;top: 0;bottom: 0;left: 50%;z-index: 0;}#sk-container-id-11 div.sk-serial {display: flex;flex-direction: column;align-items: center;background-color: white;padding-right: 0.2em;padding-left: 0.2em;position: relative;}#sk-container-id-11 div.sk-item {position: relative;z-index: 1;}#sk-container-id-11 div.sk-parallel {display: flex;align-items: stretch;justify-content: center;background-color: white;position: relative;}#sk-container-id-11 div.sk-item::before, #sk-container-id-11 div.sk-parallel-item::before {content: \"\";position: absolute;border-left: 1px solid gray;box-sizing: border-box;top: 0;bottom: 0;left: 50%;z-index: -1;}#sk-container-id-11 div.sk-parallel-item {display: flex;flex-direction: column;z-index: 1;position: relative;background-color: white;}#sk-container-id-11 div.sk-parallel-item:first-child::after {align-self: flex-end;width: 50%;}#sk-container-id-11 div.sk-parallel-item:last-child::after {align-self: flex-start;width: 50%;}#sk-container-id-11 div.sk-parallel-item:only-child::after {width: 0;}#sk-container-id-11 div.sk-dashed-wrapped {border: 1px dashed gray;margin: 0 0.4em 0.5em 0.4em;box-sizing: border-box;padding-bottom: 0.4em;background-color: white;}#sk-container-id-11 div.sk-label label {font-family: monospace;font-weight: bold;display: inline-block;line-height: 1.2em;}#sk-container-id-11 div.sk-label-container {text-align: center;}#sk-container-id-11 div.sk-container {/* jupyter's `normalize.less` sets `[hidden] { display: none; }` but bootstrap.min.css set `[hidden] { display: none !important; }` so we also need the `!important` here to be able to override the default hidden behavior on the sphinx rendered scikit-learn.org. See: https://github.com/scikit-learn/scikit-learn/issues/21755 */display: inline-block !important;position: relative;}#sk-container-id-11 div.sk-text-repr-fallback {display: none;}</style><div id=\"sk-container-id-11\" class=\"sk-top-container\"><div class=\"sk-text-repr-fallback\"><pre>GridSearchCV(cv=3, estimator=RandomForestClassifier(), n_jobs=-1,\n",
       "             param_grid={&#x27;bootstrap&#x27;: [True, False], &#x27;max_depth&#x27;: [5, 10, None],\n",
       "                         &#x27;max_features&#x27;: [&#x27;auto&#x27;, &#x27;sqrt&#x27;],\n",
       "                         &#x27;min_samples_leaf&#x27;: [1, 2, 4],\n",
       "                         &#x27;min_samples_split&#x27;: [2, 5, 10],\n",
       "                         &#x27;n_estimators&#x27;: [50, 100, 200]},\n",
       "             scoring=&#x27;accuracy&#x27;, verbose=3)</pre><b>In a Jupyter environment, please rerun this cell to show the HTML representation or trust the notebook. <br />On GitHub, the HTML representation is unable to render, please try loading this page with nbviewer.org.</b></div><div class=\"sk-container\" hidden><div class=\"sk-item sk-dashed-wrapped\"><div class=\"sk-label-container\"><div class=\"sk-label sk-toggleable\"><input class=\"sk-toggleable__control sk-hidden--visually\" id=\"sk-estimator-id-17\" type=\"checkbox\" ><label for=\"sk-estimator-id-17\" class=\"sk-toggleable__label sk-toggleable__label-arrow\">GridSearchCV</label><div class=\"sk-toggleable__content\"><pre>GridSearchCV(cv=3, estimator=RandomForestClassifier(), n_jobs=-1,\n",
       "             param_grid={&#x27;bootstrap&#x27;: [True, False], &#x27;max_depth&#x27;: [5, 10, None],\n",
       "                         &#x27;max_features&#x27;: [&#x27;auto&#x27;, &#x27;sqrt&#x27;],\n",
       "                         &#x27;min_samples_leaf&#x27;: [1, 2, 4],\n",
       "                         &#x27;min_samples_split&#x27;: [2, 5, 10],\n",
       "                         &#x27;n_estimators&#x27;: [50, 100, 200]},\n",
       "             scoring=&#x27;accuracy&#x27;, verbose=3)</pre></div></div></div><div class=\"sk-parallel\"><div class=\"sk-parallel-item\"><div class=\"sk-item\"><div class=\"sk-label-container\"><div class=\"sk-label sk-toggleable\"><input class=\"sk-toggleable__control sk-hidden--visually\" id=\"sk-estimator-id-18\" type=\"checkbox\" ><label for=\"sk-estimator-id-18\" class=\"sk-toggleable__label sk-toggleable__label-arrow\">estimator: RandomForestClassifier</label><div class=\"sk-toggleable__content\"><pre>RandomForestClassifier()</pre></div></div></div><div class=\"sk-serial\"><div class=\"sk-item\"><div class=\"sk-estimator sk-toggleable\"><input class=\"sk-toggleable__control sk-hidden--visually\" id=\"sk-estimator-id-19\" type=\"checkbox\" ><label for=\"sk-estimator-id-19\" class=\"sk-toggleable__label sk-toggleable__label-arrow\">RandomForestClassifier</label><div class=\"sk-toggleable__content\"><pre>RandomForestClassifier()</pre></div></div></div></div></div></div></div></div></div></div>"
      ],
      "text/plain": [
       "GridSearchCV(cv=3, estimator=RandomForestClassifier(), n_jobs=-1,\n",
       "             param_grid={'bootstrap': [True, False], 'max_depth': [5, 10, None],\n",
       "                         'max_features': ['auto', 'sqrt'],\n",
       "                         'min_samples_leaf': [1, 2, 4],\n",
       "                         'min_samples_split': [2, 5, 10],\n",
       "                         'n_estimators': [50, 100, 200]},\n",
       "             scoring='accuracy', verbose=3)"
      ]
     },
     "execution_count": 100,
     "metadata": {},
     "output_type": "execute_result"
    }
   ],
   "source": [
    "gridsearch.fit(x_sm, y_sm)"
   ]
  },
  {
   "cell_type": "code",
   "execution_count": 101,
   "id": "f1725a8a",
   "metadata": {},
   "outputs": [
    {
     "data": {
      "text/plain": [
       "{'bootstrap': False,\n",
       " 'max_depth': None,\n",
       " 'max_features': 'auto',\n",
       " 'min_samples_leaf': 1,\n",
       " 'min_samples_split': 2,\n",
       " 'n_estimators': 100}"
      ]
     },
     "execution_count": 101,
     "metadata": {},
     "output_type": "execute_result"
    }
   ],
   "source": [
    "gridsearch.best_params_"
   ]
  },
  {
   "cell_type": "code",
   "execution_count": 102,
   "id": "86bdc955",
   "metadata": {},
   "outputs": [],
   "source": [
    "rf1 = RandomForestClassifier(bootstrap = False,\n",
    " max_depth = None,\n",
    " max_features = 'auto',\n",
    " min_samples_leaf = 1,\n",
    " min_samples_split = 2,\n",
    " n_estimators = 50)"
   ]
  },
  {
   "cell_type": "code",
   "execution_count": 103,
   "id": "13b5c6da",
   "metadata": {},
   "outputs": [
    {
     "name": "stderr",
     "output_type": "stream",
     "text": [
      "C:\\Users\\mdsmb\\anaconda3\\Lib\\site-packages\\sklearn\\ensemble\\_forest.py:424: FutureWarning: `max_features='auto'` has been deprecated in 1.1 and will be removed in 1.3. To keep the past behaviour, explicitly set `max_features='sqrt'` or remove this parameter as it is also the default value for RandomForestClassifiers and ExtraTreesClassifiers.\n",
      "  warn(\n"
     ]
    },
    {
     "data": {
      "text/html": [
       "<style>#sk-container-id-12 {color: black;background-color: white;}#sk-container-id-12 pre{padding: 0;}#sk-container-id-12 div.sk-toggleable {background-color: white;}#sk-container-id-12 label.sk-toggleable__label {cursor: pointer;display: block;width: 100%;margin-bottom: 0;padding: 0.3em;box-sizing: border-box;text-align: center;}#sk-container-id-12 label.sk-toggleable__label-arrow:before {content: \"▸\";float: left;margin-right: 0.25em;color: #696969;}#sk-container-id-12 label.sk-toggleable__label-arrow:hover:before {color: black;}#sk-container-id-12 div.sk-estimator:hover label.sk-toggleable__label-arrow:before {color: black;}#sk-container-id-12 div.sk-toggleable__content {max-height: 0;max-width: 0;overflow: hidden;text-align: left;background-color: #f0f8ff;}#sk-container-id-12 div.sk-toggleable__content pre {margin: 0.2em;color: black;border-radius: 0.25em;background-color: #f0f8ff;}#sk-container-id-12 input.sk-toggleable__control:checked~div.sk-toggleable__content {max-height: 200px;max-width: 100%;overflow: auto;}#sk-container-id-12 input.sk-toggleable__control:checked~label.sk-toggleable__label-arrow:before {content: \"▾\";}#sk-container-id-12 div.sk-estimator input.sk-toggleable__control:checked~label.sk-toggleable__label {background-color: #d4ebff;}#sk-container-id-12 div.sk-label input.sk-toggleable__control:checked~label.sk-toggleable__label {background-color: #d4ebff;}#sk-container-id-12 input.sk-hidden--visually {border: 0;clip: rect(1px 1px 1px 1px);clip: rect(1px, 1px, 1px, 1px);height: 1px;margin: -1px;overflow: hidden;padding: 0;position: absolute;width: 1px;}#sk-container-id-12 div.sk-estimator {font-family: monospace;background-color: #f0f8ff;border: 1px dotted black;border-radius: 0.25em;box-sizing: border-box;margin-bottom: 0.5em;}#sk-container-id-12 div.sk-estimator:hover {background-color: #d4ebff;}#sk-container-id-12 div.sk-parallel-item::after {content: \"\";width: 100%;border-bottom: 1px solid gray;flex-grow: 1;}#sk-container-id-12 div.sk-label:hover label.sk-toggleable__label {background-color: #d4ebff;}#sk-container-id-12 div.sk-serial::before {content: \"\";position: absolute;border-left: 1px solid gray;box-sizing: border-box;top: 0;bottom: 0;left: 50%;z-index: 0;}#sk-container-id-12 div.sk-serial {display: flex;flex-direction: column;align-items: center;background-color: white;padding-right: 0.2em;padding-left: 0.2em;position: relative;}#sk-container-id-12 div.sk-item {position: relative;z-index: 1;}#sk-container-id-12 div.sk-parallel {display: flex;align-items: stretch;justify-content: center;background-color: white;position: relative;}#sk-container-id-12 div.sk-item::before, #sk-container-id-12 div.sk-parallel-item::before {content: \"\";position: absolute;border-left: 1px solid gray;box-sizing: border-box;top: 0;bottom: 0;left: 50%;z-index: -1;}#sk-container-id-12 div.sk-parallel-item {display: flex;flex-direction: column;z-index: 1;position: relative;background-color: white;}#sk-container-id-12 div.sk-parallel-item:first-child::after {align-self: flex-end;width: 50%;}#sk-container-id-12 div.sk-parallel-item:last-child::after {align-self: flex-start;width: 50%;}#sk-container-id-12 div.sk-parallel-item:only-child::after {width: 0;}#sk-container-id-12 div.sk-dashed-wrapped {border: 1px dashed gray;margin: 0 0.4em 0.5em 0.4em;box-sizing: border-box;padding-bottom: 0.4em;background-color: white;}#sk-container-id-12 div.sk-label label {font-family: monospace;font-weight: bold;display: inline-block;line-height: 1.2em;}#sk-container-id-12 div.sk-label-container {text-align: center;}#sk-container-id-12 div.sk-container {/* jupyter's `normalize.less` sets `[hidden] { display: none; }` but bootstrap.min.css set `[hidden] { display: none !important; }` so we also need the `!important` here to be able to override the default hidden behavior on the sphinx rendered scikit-learn.org. See: https://github.com/scikit-learn/scikit-learn/issues/21755 */display: inline-block !important;position: relative;}#sk-container-id-12 div.sk-text-repr-fallback {display: none;}</style><div id=\"sk-container-id-12\" class=\"sk-top-container\"><div class=\"sk-text-repr-fallback\"><pre>RandomForestClassifier(bootstrap=False, max_features=&#x27;auto&#x27;, n_estimators=50)</pre><b>In a Jupyter environment, please rerun this cell to show the HTML representation or trust the notebook. <br />On GitHub, the HTML representation is unable to render, please try loading this page with nbviewer.org.</b></div><div class=\"sk-container\" hidden><div class=\"sk-item\"><div class=\"sk-estimator sk-toggleable\"><input class=\"sk-toggleable__control sk-hidden--visually\" id=\"sk-estimator-id-20\" type=\"checkbox\" checked><label for=\"sk-estimator-id-20\" class=\"sk-toggleable__label sk-toggleable__label-arrow\">RandomForestClassifier</label><div class=\"sk-toggleable__content\"><pre>RandomForestClassifier(bootstrap=False, max_features=&#x27;auto&#x27;, n_estimators=50)</pre></div></div></div></div></div>"
      ],
      "text/plain": [
       "RandomForestClassifier(bootstrap=False, max_features='auto', n_estimators=50)"
      ]
     },
     "execution_count": 103,
     "metadata": {},
     "output_type": "execute_result"
    }
   ],
   "source": [
    "rf1.fit(x_sm,y_sm)"
   ]
  },
  {
   "cell_type": "code",
   "execution_count": 104,
   "id": "3812e654",
   "metadata": {},
   "outputs": [
    {
     "data": {
      "text/plain": [
       "array([3, 3, 3, 2, 3, 3, 2, 3, 3, 3, 3, 2, 3, 3, 3, 3, 3, 3, 3, 3, 3, 2,\n",
       "       3, 3, 3, 3, 4, 3, 3, 3, 3, 4, 3, 3, 3, 3, 3, 3, 4, 3, 3, 3, 3, 3,\n",
       "       3, 4, 4, 3, 3, 3, 3, 2, 3, 4, 3, 3, 3, 3, 3, 3, 3, 4, 4, 3, 3, 3,\n",
       "       2, 3, 3, 4, 3, 3, 3, 3, 3, 3, 3, 3, 3, 3, 3, 2, 3, 3, 3, 2, 2, 3,\n",
       "       3, 3, 3, 2, 4, 3, 3, 3, 3, 3, 2, 2, 3, 3, 2, 3, 3, 3, 2, 2, 2, 3,\n",
       "       3, 3, 4, 3, 3, 4, 3, 3, 3, 3, 3, 4, 3, 2, 3, 3, 2, 3, 3, 4, 3, 3,\n",
       "       3, 3, 3, 2, 3, 3, 3, 3, 3, 2, 2, 2, 3, 3, 3, 2, 3, 4, 3, 3, 3, 3,\n",
       "       3, 4, 3, 2, 3, 3, 3, 3, 3, 3, 3, 3, 3, 3, 3, 3, 4, 2, 3, 2, 3, 3,\n",
       "       3, 3, 2, 3, 3, 3, 3, 3, 3, 3, 4, 3, 3, 2, 3, 3, 3, 3, 3, 3, 3, 3,\n",
       "       3, 3, 2, 3, 3, 3, 2, 3, 3, 3, 3, 4, 3, 3, 3, 3, 3, 3, 2, 2, 2, 3,\n",
       "       4, 3, 2, 4, 3, 3, 4, 3, 3, 3, 3, 3, 3, 3, 3, 2, 3, 3, 3, 2],\n",
       "      dtype=int64)"
      ]
     },
     "execution_count": 104,
     "metadata": {},
     "output_type": "execute_result"
    }
   ],
   "source": [
    "rf1_y_pred = rf1.predict(x_test)\n",
    "rf1_y_pred"
   ]
  },
  {
   "cell_type": "code",
   "execution_count": 105,
   "id": "f3b7aea2",
   "metadata": {},
   "outputs": [
    {
     "name": "stdout",
     "output_type": "stream",
     "text": [
      "ACCURACY SCORE: 0.9166666666666666\n",
      "PRECISION SCORE: 0.9154987373737373\n",
      "RECALL SCORE: 0.9166666666666666\n",
      "F1 SCORE: 0.9149705882352941\n",
      "----\n",
      "DECISION TREE CLASSIFICATION REPORT:\n",
      "              precision    recall  f1-score   support\n",
      "\n",
      "           2       0.86      0.79      0.83        39\n",
      "           3       0.93      0.97      0.95       175\n",
      "           4       0.91      0.77      0.83        26\n",
      "\n",
      "    accuracy                           0.92       240\n",
      "   macro avg       0.90      0.84      0.87       240\n",
      "weighted avg       0.92      0.92      0.91       240\n",
      "\n"
     ]
    }
   ],
   "source": [
    "rf1_acc_test = accuracy_score(y_test,rf1_y_pred)\n",
    "print('ACCURACY SCORE:',rf1_acc_test)\n",
    "rf1_pre = precision_score(y_test,rf1_y_pred, average = 'weighted')\n",
    "print('PRECISION SCORE:',rf1_pre)\n",
    "rf1_recall = recall_score(y_test,rf1_y_pred,average = 'weighted')\n",
    "print('RECALL SCORE:',rf1_recall)\n",
    "rf1_f1 = f1_score(y_test,rf1_y_pred, average = 'weighted')\n",
    "print('F1 SCORE:',rf1_f1)\n",
    "print('----')\n",
    "print('DECISION TREE CLASSIFICATION REPORT:')\n",
    "print(classification_report(y_test,rf1_y_pred))"
   ]
  },
  {
   "cell_type": "code",
   "execution_count": 106,
   "id": "44080244",
   "metadata": {},
   "outputs": [
    {
     "data": {
      "text/html": [
       "<div>\n",
       "<style scoped>\n",
       "    .dataframe tbody tr th:only-of-type {\n",
       "        vertical-align: middle;\n",
       "    }\n",
       "\n",
       "    .dataframe tbody tr th {\n",
       "        vertical-align: top;\n",
       "    }\n",
       "\n",
       "    .dataframe thead th {\n",
       "        text-align: right;\n",
       "    }\n",
       "</style>\n",
       "<table border=\"1\" class=\"dataframe\">\n",
       "  <thead>\n",
       "    <tr style=\"text-align: right;\">\n",
       "      <th>col_0</th>\n",
       "      <th>2</th>\n",
       "      <th>3</th>\n",
       "      <th>4</th>\n",
       "    </tr>\n",
       "    <tr>\n",
       "      <th>PerformanceRating</th>\n",
       "      <th></th>\n",
       "      <th></th>\n",
       "      <th></th>\n",
       "    </tr>\n",
       "  </thead>\n",
       "  <tbody>\n",
       "    <tr>\n",
       "      <th>2</th>\n",
       "      <td>31</td>\n",
       "      <td>8</td>\n",
       "      <td>0</td>\n",
       "    </tr>\n",
       "    <tr>\n",
       "      <th>3</th>\n",
       "      <td>4</td>\n",
       "      <td>169</td>\n",
       "      <td>2</td>\n",
       "    </tr>\n",
       "    <tr>\n",
       "      <th>4</th>\n",
       "      <td>1</td>\n",
       "      <td>5</td>\n",
       "      <td>20</td>\n",
       "    </tr>\n",
       "  </tbody>\n",
       "</table>\n",
       "</div>"
      ],
      "text/plain": [
       "col_0               2    3   4\n",
       "PerformanceRating             \n",
       "2                  31    8   0\n",
       "3                   4  169   2\n",
       "4                   1    5  20"
      ]
     },
     "execution_count": 106,
     "metadata": {},
     "output_type": "execute_result"
    }
   ],
   "source": [
    "pd.crosstab(y_test,rf1_y_pred)"
   ]
  },
  {
   "cell_type": "code",
   "execution_count": 107,
   "id": "1192c8c5",
   "metadata": {},
   "outputs": [
    {
     "data": {
      "text/html": [
       "<div>\n",
       "<style scoped>\n",
       "    .dataframe tbody tr th:only-of-type {\n",
       "        vertical-align: middle;\n",
       "    }\n",
       "\n",
       "    .dataframe tbody tr th {\n",
       "        vertical-align: top;\n",
       "    }\n",
       "\n",
       "    .dataframe thead th {\n",
       "        text-align: right;\n",
       "    }\n",
       "</style>\n",
       "<table border=\"1\" class=\"dataframe\">\n",
       "  <thead>\n",
       "    <tr style=\"text-align: right;\">\n",
       "      <th></th>\n",
       "      <th>METRIC</th>\n",
       "      <th>VALUE</th>\n",
       "    </tr>\n",
       "  </thead>\n",
       "  <tbody>\n",
       "    <tr>\n",
       "      <th>0</th>\n",
       "      <td>Accuracy</td>\n",
       "      <td>0.916667</td>\n",
       "    </tr>\n",
       "    <tr>\n",
       "      <th>1</th>\n",
       "      <td>Precision</td>\n",
       "      <td>0.915499</td>\n",
       "    </tr>\n",
       "    <tr>\n",
       "      <th>2</th>\n",
       "      <td>Recall</td>\n",
       "      <td>0.916667</td>\n",
       "    </tr>\n",
       "    <tr>\n",
       "      <th>3</th>\n",
       "      <td>F1 Score</td>\n",
       "      <td>0.914971</td>\n",
       "    </tr>\n",
       "  </tbody>\n",
       "</table>\n",
       "</div>"
      ],
      "text/plain": [
       "      METRIC     VALUE\n",
       "0   Accuracy  0.916667\n",
       "1  Precision  0.915499\n",
       "2     Recall  0.916667\n",
       "3   F1 Score  0.914971"
      ]
     },
     "execution_count": 107,
     "metadata": {},
     "output_type": "execute_result"
    }
   ],
   "source": [
    "rf1_Metrics =pd.DataFrame({'METRIC': ['Accuracy','Precision','Recall','F1 Score'],'VALUE' : [rf1_acc_test,rf1_pre,rf1_recall,rf1_f1]})\n",
    "rf1_Metrics"
   ]
  },
  {
   "cell_type": "code",
   "execution_count": 108,
   "id": "e8294b12",
   "metadata": {},
   "outputs": [
    {
     "name": "stdout",
     "output_type": "stream",
     "text": [
      "RANDOM FOREST METRICS AFTER HYPERPARAMETER TUNING\n",
      "+-----------+----------+\n",
      "| METRIC    |    VALUE |\n",
      "+===========+==========+\n",
      "| Accuracy  | 0.916667 |\n",
      "+-----------+----------+\n",
      "| Precision | 0.915499 |\n",
      "+-----------+----------+\n",
      "| Recall    | 0.916667 |\n",
      "+-----------+----------+\n",
      "| F1 Score  | 0.914971 |\n",
      "+-----------+----------+\n"
     ]
    }
   ],
   "source": [
    "print(\"RANDOM FOREST METRICS AFTER HYPERPARAMETER TUNING\")\n",
    "print(tabulate(rf1_Metrics,headers ='keys',tablefmt= 'grid',showindex = False))"
   ]
  },
  {
   "cell_type": "code",
   "execution_count": null,
   "id": "ef2b1725",
   "metadata": {},
   "outputs": [],
   "source": []
  },
  {
   "cell_type": "markdown",
   "id": "25c3e44a",
   "metadata": {},
   "source": [
    "- Random Forest showed excellent performance both before and after hyperparameter tuning, though the accuracy slightly decreased after tuning. Despite this, it remains one of the top performers for this task due to its strong generalization and ability to handle complex patterns. Highly recommended for employee performance prediction."
   ]
  },
  {
   "cell_type": "code",
   "execution_count": null,
   "id": "b64103df",
   "metadata": {},
   "outputs": [],
   "source": []
  },
  {
   "cell_type": "code",
   "execution_count": null,
   "id": "d0dab16d",
   "metadata": {},
   "outputs": [],
   "source": []
  },
  {
   "cell_type": "code",
   "execution_count": null,
   "id": "6aa9ed90",
   "metadata": {},
   "outputs": [],
   "source": []
  },
  {
   "cell_type": "markdown",
   "id": "dd9dde8e",
   "metadata": {},
   "source": [
    "# 5 . KNN"
   ]
  },
  {
   "cell_type": "code",
   "execution_count": 109,
   "id": "c998cdb7",
   "metadata": {},
   "outputs": [],
   "source": [
    "from sklearn.neighbors import KNeighborsClassifier"
   ]
  },
  {
   "cell_type": "code",
   "execution_count": 110,
   "id": "54e23470",
   "metadata": {},
   "outputs": [],
   "source": [
    "knn = KNeighborsClassifier(n_neighbors = 5)"
   ]
  },
  {
   "cell_type": "code",
   "execution_count": 111,
   "id": "f7644b3c",
   "metadata": {},
   "outputs": [
    {
     "data": {
      "text/html": [
       "<style>#sk-container-id-13 {color: black;background-color: white;}#sk-container-id-13 pre{padding: 0;}#sk-container-id-13 div.sk-toggleable {background-color: white;}#sk-container-id-13 label.sk-toggleable__label {cursor: pointer;display: block;width: 100%;margin-bottom: 0;padding: 0.3em;box-sizing: border-box;text-align: center;}#sk-container-id-13 label.sk-toggleable__label-arrow:before {content: \"▸\";float: left;margin-right: 0.25em;color: #696969;}#sk-container-id-13 label.sk-toggleable__label-arrow:hover:before {color: black;}#sk-container-id-13 div.sk-estimator:hover label.sk-toggleable__label-arrow:before {color: black;}#sk-container-id-13 div.sk-toggleable__content {max-height: 0;max-width: 0;overflow: hidden;text-align: left;background-color: #f0f8ff;}#sk-container-id-13 div.sk-toggleable__content pre {margin: 0.2em;color: black;border-radius: 0.25em;background-color: #f0f8ff;}#sk-container-id-13 input.sk-toggleable__control:checked~div.sk-toggleable__content {max-height: 200px;max-width: 100%;overflow: auto;}#sk-container-id-13 input.sk-toggleable__control:checked~label.sk-toggleable__label-arrow:before {content: \"▾\";}#sk-container-id-13 div.sk-estimator input.sk-toggleable__control:checked~label.sk-toggleable__label {background-color: #d4ebff;}#sk-container-id-13 div.sk-label input.sk-toggleable__control:checked~label.sk-toggleable__label {background-color: #d4ebff;}#sk-container-id-13 input.sk-hidden--visually {border: 0;clip: rect(1px 1px 1px 1px);clip: rect(1px, 1px, 1px, 1px);height: 1px;margin: -1px;overflow: hidden;padding: 0;position: absolute;width: 1px;}#sk-container-id-13 div.sk-estimator {font-family: monospace;background-color: #f0f8ff;border: 1px dotted black;border-radius: 0.25em;box-sizing: border-box;margin-bottom: 0.5em;}#sk-container-id-13 div.sk-estimator:hover {background-color: #d4ebff;}#sk-container-id-13 div.sk-parallel-item::after {content: \"\";width: 100%;border-bottom: 1px solid gray;flex-grow: 1;}#sk-container-id-13 div.sk-label:hover label.sk-toggleable__label {background-color: #d4ebff;}#sk-container-id-13 div.sk-serial::before {content: \"\";position: absolute;border-left: 1px solid gray;box-sizing: border-box;top: 0;bottom: 0;left: 50%;z-index: 0;}#sk-container-id-13 div.sk-serial {display: flex;flex-direction: column;align-items: center;background-color: white;padding-right: 0.2em;padding-left: 0.2em;position: relative;}#sk-container-id-13 div.sk-item {position: relative;z-index: 1;}#sk-container-id-13 div.sk-parallel {display: flex;align-items: stretch;justify-content: center;background-color: white;position: relative;}#sk-container-id-13 div.sk-item::before, #sk-container-id-13 div.sk-parallel-item::before {content: \"\";position: absolute;border-left: 1px solid gray;box-sizing: border-box;top: 0;bottom: 0;left: 50%;z-index: -1;}#sk-container-id-13 div.sk-parallel-item {display: flex;flex-direction: column;z-index: 1;position: relative;background-color: white;}#sk-container-id-13 div.sk-parallel-item:first-child::after {align-self: flex-end;width: 50%;}#sk-container-id-13 div.sk-parallel-item:last-child::after {align-self: flex-start;width: 50%;}#sk-container-id-13 div.sk-parallel-item:only-child::after {width: 0;}#sk-container-id-13 div.sk-dashed-wrapped {border: 1px dashed gray;margin: 0 0.4em 0.5em 0.4em;box-sizing: border-box;padding-bottom: 0.4em;background-color: white;}#sk-container-id-13 div.sk-label label {font-family: monospace;font-weight: bold;display: inline-block;line-height: 1.2em;}#sk-container-id-13 div.sk-label-container {text-align: center;}#sk-container-id-13 div.sk-container {/* jupyter's `normalize.less` sets `[hidden] { display: none; }` but bootstrap.min.css set `[hidden] { display: none !important; }` so we also need the `!important` here to be able to override the default hidden behavior on the sphinx rendered scikit-learn.org. See: https://github.com/scikit-learn/scikit-learn/issues/21755 */display: inline-block !important;position: relative;}#sk-container-id-13 div.sk-text-repr-fallback {display: none;}</style><div id=\"sk-container-id-13\" class=\"sk-top-container\"><div class=\"sk-text-repr-fallback\"><pre>KNeighborsClassifier()</pre><b>In a Jupyter environment, please rerun this cell to show the HTML representation or trust the notebook. <br />On GitHub, the HTML representation is unable to render, please try loading this page with nbviewer.org.</b></div><div class=\"sk-container\" hidden><div class=\"sk-item\"><div class=\"sk-estimator sk-toggleable\"><input class=\"sk-toggleable__control sk-hidden--visually\" id=\"sk-estimator-id-21\" type=\"checkbox\" checked><label for=\"sk-estimator-id-21\" class=\"sk-toggleable__label sk-toggleable__label-arrow\">KNeighborsClassifier</label><div class=\"sk-toggleable__content\"><pre>KNeighborsClassifier()</pre></div></div></div></div></div>"
      ],
      "text/plain": [
       "KNeighborsClassifier()"
      ]
     },
     "execution_count": 111,
     "metadata": {},
     "output_type": "execute_result"
    }
   ],
   "source": [
    "knn.fit(x_sm,y_sm)"
   ]
  },
  {
   "cell_type": "markdown",
   "id": "d28266c3",
   "metadata": {},
   "source": [
    "###### Prediction"
   ]
  },
  {
   "cell_type": "code",
   "execution_count": 112,
   "id": "15d376bf",
   "metadata": {},
   "outputs": [
    {
     "data": {
      "text/plain": [
       "array([3, 2, 4, ..., 4, 4, 4], dtype=int64)"
      ]
     },
     "execution_count": 112,
     "metadata": {},
     "output_type": "execute_result"
    }
   ],
   "source": [
    "knn_y_train = knn.predict(x_sm)\n",
    "knn_y_train"
   ]
  },
  {
   "cell_type": "code",
   "execution_count": 113,
   "id": "ddf457de",
   "metadata": {},
   "outputs": [
    {
     "data": {
      "text/plain": [
       "array([3, 3, 3, 3, 3, 4, 2, 3, 4, 3, 4, 2, 4, 3, 3, 2, 4, 3, 4, 3, 2, 2,\n",
       "       3, 3, 2, 4, 2, 3, 2, 3, 4, 4, 3, 3, 3, 2, 3, 3, 4, 3, 3, 3, 3, 4,\n",
       "       3, 4, 4, 3, 4, 3, 3, 2, 3, 4, 3, 3, 3, 3, 2, 3, 2, 4, 4, 3, 2, 2,\n",
       "       3, 3, 3, 4, 3, 3, 3, 3, 3, 3, 3, 3, 2, 2, 3, 2, 3, 4, 3, 3, 2, 4,\n",
       "       3, 3, 2, 2, 4, 4, 3, 4, 4, 3, 4, 2, 3, 4, 2, 2, 2, 3, 2, 2, 3, 3,\n",
       "       4, 3, 4, 4, 3, 4, 4, 3, 3, 3, 3, 4, 2, 2, 3, 3, 2, 4, 3, 4, 3, 3,\n",
       "       3, 4, 3, 2, 3, 3, 2, 4, 3, 2, 2, 2, 3, 3, 4, 2, 3, 2, 3, 4, 3, 4,\n",
       "       2, 3, 2, 2, 3, 4, 3, 3, 3, 2, 4, 4, 3, 4, 4, 2, 4, 4, 2, 2, 3, 3,\n",
       "       3, 2, 2, 2, 3, 3, 4, 3, 3, 2, 4, 3, 4, 2, 3, 4, 3, 3, 3, 2, 3, 3,\n",
       "       4, 2, 2, 3, 3, 3, 3, 2, 3, 3, 3, 4, 3, 3, 2, 3, 3, 2, 2, 2, 2, 3,\n",
       "       4, 2, 3, 4, 2, 3, 4, 3, 4, 3, 3, 4, 2, 3, 2, 3, 3, 4, 3, 2],\n",
       "      dtype=int64)"
      ]
     },
     "execution_count": 113,
     "metadata": {},
     "output_type": "execute_result"
    }
   ],
   "source": [
    "knn_y_pred = knn.predict(x_test)\n",
    "knn_y_pred"
   ]
  },
  {
   "cell_type": "markdown",
   "id": "af722e9f",
   "metadata": {},
   "source": [
    "###### Evaluation"
   ]
  },
  {
   "cell_type": "code",
   "execution_count": 114,
   "id": "0ca290c0",
   "metadata": {},
   "outputs": [
    {
     "data": {
      "text/plain": [
       "0.9012875536480687"
      ]
     },
     "execution_count": 114,
     "metadata": {},
     "output_type": "execute_result"
    }
   ],
   "source": [
    "knn_acc_train  = accuracy_score(y_sm,knn_y_train)\n",
    "knn_acc_train"
   ]
  },
  {
   "cell_type": "code",
   "execution_count": 115,
   "id": "24d8352e",
   "metadata": {},
   "outputs": [
    {
     "name": "stdout",
     "output_type": "stream",
     "text": [
      "              precision    recall  f1-score   support\n",
      "\n",
      "           2       0.87      1.00      0.93       699\n",
      "           3       1.00      0.71      0.83       699\n",
      "           4       0.87      1.00      0.93       699\n",
      "\n",
      "    accuracy                           0.90      2097\n",
      "   macro avg       0.91      0.90      0.90      2097\n",
      "weighted avg       0.91      0.90      0.90      2097\n",
      "\n"
     ]
    }
   ],
   "source": [
    "print(classification_report(y_sm,knn_y_train))"
   ]
  },
  {
   "cell_type": "code",
   "execution_count": 116,
   "id": "d9f45f6f",
   "metadata": {},
   "outputs": [
    {
     "name": "stdout",
     "output_type": "stream",
     "text": [
      "ACCURACY SCORE: 0.6291666666666667\n",
      "PRECISION SCORE: 0.7511863104066248\n",
      "RECALL SCORE: 0.6291666666666667\n",
      "F1 SCORE: 0.658408283322279\n",
      "------\n",
      "KNN CLASSIFICATION REPORT:\n",
      "              precision    recall  f1-score   support\n",
      "\n",
      "           2       0.40      0.64      0.50        39\n",
      "           3       0.89      0.61      0.73       175\n",
      "           4       0.33      0.73      0.45        26\n",
      "\n",
      "    accuracy                           0.63       240\n",
      "   macro avg       0.54      0.66      0.56       240\n",
      "weighted avg       0.75      0.63      0.66       240\n",
      "\n"
     ]
    }
   ],
   "source": [
    "knn_acc_test = accuracy_score(y_test,knn_y_pred)\n",
    "print('ACCURACY SCORE:',knn_acc_test)\n",
    "knn_pre = precision_score(y_test,knn_y_pred, average ='weighted')\n",
    "print('PRECISION SCORE:',knn_pre)\n",
    "knn_recall = recall_score(y_test,knn_y_pred, average ='weighted')\n",
    "print('RECALL SCORE:',knn_recall)\n",
    "knn_f1 = f1_score(y_test,knn_y_pred, average = 'weighted')\n",
    "print('F1 SCORE:',knn_f1)\n",
    "print('------')\n",
    "print('KNN CLASSIFICATION REPORT:')\n",
    "print(classification_report(y_test,knn_y_pred))"
   ]
  },
  {
   "cell_type": "code",
   "execution_count": 117,
   "id": "c1692493",
   "metadata": {},
   "outputs": [
    {
     "data": {
      "text/html": [
       "<div>\n",
       "<style scoped>\n",
       "    .dataframe tbody tr th:only-of-type {\n",
       "        vertical-align: middle;\n",
       "    }\n",
       "\n",
       "    .dataframe tbody tr th {\n",
       "        vertical-align: top;\n",
       "    }\n",
       "\n",
       "    .dataframe thead th {\n",
       "        text-align: right;\n",
       "    }\n",
       "</style>\n",
       "<table border=\"1\" class=\"dataframe\">\n",
       "  <thead>\n",
       "    <tr style=\"text-align: right;\">\n",
       "      <th>col_0</th>\n",
       "      <th>2</th>\n",
       "      <th>3</th>\n",
       "      <th>4</th>\n",
       "    </tr>\n",
       "    <tr>\n",
       "      <th>PerformanceRating</th>\n",
       "      <th></th>\n",
       "      <th></th>\n",
       "      <th></th>\n",
       "    </tr>\n",
       "  </thead>\n",
       "  <tbody>\n",
       "    <tr>\n",
       "      <th>2</th>\n",
       "      <td>25</td>\n",
       "      <td>10</td>\n",
       "      <td>4</td>\n",
       "    </tr>\n",
       "    <tr>\n",
       "      <th>3</th>\n",
       "      <td>33</td>\n",
       "      <td>107</td>\n",
       "      <td>35</td>\n",
       "    </tr>\n",
       "    <tr>\n",
       "      <th>4</th>\n",
       "      <td>4</td>\n",
       "      <td>3</td>\n",
       "      <td>19</td>\n",
       "    </tr>\n",
       "  </tbody>\n",
       "</table>\n",
       "</div>"
      ],
      "text/plain": [
       "col_0               2    3   4\n",
       "PerformanceRating             \n",
       "2                  25   10   4\n",
       "3                  33  107  35\n",
       "4                   4    3  19"
      ]
     },
     "execution_count": 117,
     "metadata": {},
     "output_type": "execute_result"
    }
   ],
   "source": [
    "pd.crosstab(y_test,knn_y_pred)"
   ]
  },
  {
   "cell_type": "code",
   "execution_count": 118,
   "id": "28953d38",
   "metadata": {},
   "outputs": [
    {
     "data": {
      "text/html": [
       "<div>\n",
       "<style scoped>\n",
       "    .dataframe tbody tr th:only-of-type {\n",
       "        vertical-align: middle;\n",
       "    }\n",
       "\n",
       "    .dataframe tbody tr th {\n",
       "        vertical-align: top;\n",
       "    }\n",
       "\n",
       "    .dataframe thead th {\n",
       "        text-align: right;\n",
       "    }\n",
       "</style>\n",
       "<table border=\"1\" class=\"dataframe\">\n",
       "  <thead>\n",
       "    <tr style=\"text-align: right;\">\n",
       "      <th></th>\n",
       "      <th>METRIC</th>\n",
       "      <th>VALUE</th>\n",
       "    </tr>\n",
       "  </thead>\n",
       "  <tbody>\n",
       "    <tr>\n",
       "      <th>0</th>\n",
       "      <td>Accuracy</td>\n",
       "      <td>0.629167</td>\n",
       "    </tr>\n",
       "    <tr>\n",
       "      <th>1</th>\n",
       "      <td>Precision</td>\n",
       "      <td>0.751186</td>\n",
       "    </tr>\n",
       "    <tr>\n",
       "      <th>2</th>\n",
       "      <td>Recall</td>\n",
       "      <td>0.629167</td>\n",
       "    </tr>\n",
       "    <tr>\n",
       "      <th>3</th>\n",
       "      <td>F1 Score</td>\n",
       "      <td>0.658408</td>\n",
       "    </tr>\n",
       "  </tbody>\n",
       "</table>\n",
       "</div>"
      ],
      "text/plain": [
       "      METRIC     VALUE\n",
       "0   Accuracy  0.629167\n",
       "1  Precision  0.751186\n",
       "2     Recall  0.629167\n",
       "3   F1 Score  0.658408"
      ]
     },
     "execution_count": 118,
     "metadata": {},
     "output_type": "execute_result"
    }
   ],
   "source": [
    "knn_Metrics =pd.DataFrame({'METRIC': ['Accuracy','Precision','Recall','F1 Score'],'VALUE' : [knn_acc_test,knn_pre,knn_recall,knn_f1]})\n",
    "knn_Metrics"
   ]
  },
  {
   "cell_type": "code",
   "execution_count": 119,
   "id": "20b0c07e",
   "metadata": {},
   "outputs": [
    {
     "name": "stdout",
     "output_type": "stream",
     "text": [
      "KNN EVALUATION METRIC:\n",
      "+-----------+----------+\n",
      "| METRIC    |    VALUE |\n",
      "+===========+==========+\n",
      "| Accuracy  | 0.629167 |\n",
      "+-----------+----------+\n",
      "| Precision | 0.751186 |\n",
      "+-----------+----------+\n",
      "| Recall    | 0.629167 |\n",
      "+-----------+----------+\n",
      "| F1 Score  | 0.658408 |\n",
      "+-----------+----------+\n"
     ]
    }
   ],
   "source": [
    "print(\"KNN EVALUATION METRIC:\")\n",
    "print(tabulate(knn_Metrics,headers ='keys',tablefmt= 'grid',showindex = False))"
   ]
  },
  {
   "cell_type": "code",
   "execution_count": null,
   "id": "f3ceb3b3",
   "metadata": {},
   "outputs": [],
   "source": []
  },
  {
   "cell_type": "markdown",
   "id": "c96ab3ba",
   "metadata": {},
   "source": [
    "### HyperParameter Tuning in KNN"
   ]
  },
  {
   "cell_type": "code",
   "execution_count": 120,
   "id": "714623ad",
   "metadata": {},
   "outputs": [
    {
     "name": "stdout",
     "output_type": "stream",
     "text": [
      "Best Parameters: {'metric': 'manhattan', 'n_neighbors': 3, 'weights': 'distance'}\n"
     ]
    }
   ],
   "source": [
    "param_grid = {\n",
    "    'n_neighbors': [3, 5, 7, 9],\n",
    "    'weights': ['uniform', 'distance'],\n",
    "    'metric': ['euclidean', 'manhattan', 'minkowski']\n",
    "}\n",
    "\n",
    "grid_search = GridSearchCV(KNeighborsClassifier(), param_grid, cv=5)\n",
    "grid_search.fit(x_sm, y_sm)\n",
    "\n",
    "print(\"Best Parameters:\", grid_search.best_params_)"
   ]
  },
  {
   "cell_type": "code",
   "execution_count": 121,
   "id": "d0c0d7de",
   "metadata": {},
   "outputs": [],
   "source": [
    "knn1 = KNeighborsClassifier(n_neighbors = 3, metric ='manhattan',weights ='distance')"
   ]
  },
  {
   "cell_type": "code",
   "execution_count": 122,
   "id": "a546e601",
   "metadata": {},
   "outputs": [
    {
     "data": {
      "text/html": [
       "<style>#sk-container-id-14 {color: black;background-color: white;}#sk-container-id-14 pre{padding: 0;}#sk-container-id-14 div.sk-toggleable {background-color: white;}#sk-container-id-14 label.sk-toggleable__label {cursor: pointer;display: block;width: 100%;margin-bottom: 0;padding: 0.3em;box-sizing: border-box;text-align: center;}#sk-container-id-14 label.sk-toggleable__label-arrow:before {content: \"▸\";float: left;margin-right: 0.25em;color: #696969;}#sk-container-id-14 label.sk-toggleable__label-arrow:hover:before {color: black;}#sk-container-id-14 div.sk-estimator:hover label.sk-toggleable__label-arrow:before {color: black;}#sk-container-id-14 div.sk-toggleable__content {max-height: 0;max-width: 0;overflow: hidden;text-align: left;background-color: #f0f8ff;}#sk-container-id-14 div.sk-toggleable__content pre {margin: 0.2em;color: black;border-radius: 0.25em;background-color: #f0f8ff;}#sk-container-id-14 input.sk-toggleable__control:checked~div.sk-toggleable__content {max-height: 200px;max-width: 100%;overflow: auto;}#sk-container-id-14 input.sk-toggleable__control:checked~label.sk-toggleable__label-arrow:before {content: \"▾\";}#sk-container-id-14 div.sk-estimator input.sk-toggleable__control:checked~label.sk-toggleable__label {background-color: #d4ebff;}#sk-container-id-14 div.sk-label input.sk-toggleable__control:checked~label.sk-toggleable__label {background-color: #d4ebff;}#sk-container-id-14 input.sk-hidden--visually {border: 0;clip: rect(1px 1px 1px 1px);clip: rect(1px, 1px, 1px, 1px);height: 1px;margin: -1px;overflow: hidden;padding: 0;position: absolute;width: 1px;}#sk-container-id-14 div.sk-estimator {font-family: monospace;background-color: #f0f8ff;border: 1px dotted black;border-radius: 0.25em;box-sizing: border-box;margin-bottom: 0.5em;}#sk-container-id-14 div.sk-estimator:hover {background-color: #d4ebff;}#sk-container-id-14 div.sk-parallel-item::after {content: \"\";width: 100%;border-bottom: 1px solid gray;flex-grow: 1;}#sk-container-id-14 div.sk-label:hover label.sk-toggleable__label {background-color: #d4ebff;}#sk-container-id-14 div.sk-serial::before {content: \"\";position: absolute;border-left: 1px solid gray;box-sizing: border-box;top: 0;bottom: 0;left: 50%;z-index: 0;}#sk-container-id-14 div.sk-serial {display: flex;flex-direction: column;align-items: center;background-color: white;padding-right: 0.2em;padding-left: 0.2em;position: relative;}#sk-container-id-14 div.sk-item {position: relative;z-index: 1;}#sk-container-id-14 div.sk-parallel {display: flex;align-items: stretch;justify-content: center;background-color: white;position: relative;}#sk-container-id-14 div.sk-item::before, #sk-container-id-14 div.sk-parallel-item::before {content: \"\";position: absolute;border-left: 1px solid gray;box-sizing: border-box;top: 0;bottom: 0;left: 50%;z-index: -1;}#sk-container-id-14 div.sk-parallel-item {display: flex;flex-direction: column;z-index: 1;position: relative;background-color: white;}#sk-container-id-14 div.sk-parallel-item:first-child::after {align-self: flex-end;width: 50%;}#sk-container-id-14 div.sk-parallel-item:last-child::after {align-self: flex-start;width: 50%;}#sk-container-id-14 div.sk-parallel-item:only-child::after {width: 0;}#sk-container-id-14 div.sk-dashed-wrapped {border: 1px dashed gray;margin: 0 0.4em 0.5em 0.4em;box-sizing: border-box;padding-bottom: 0.4em;background-color: white;}#sk-container-id-14 div.sk-label label {font-family: monospace;font-weight: bold;display: inline-block;line-height: 1.2em;}#sk-container-id-14 div.sk-label-container {text-align: center;}#sk-container-id-14 div.sk-container {/* jupyter's `normalize.less` sets `[hidden] { display: none; }` but bootstrap.min.css set `[hidden] { display: none !important; }` so we also need the `!important` here to be able to override the default hidden behavior on the sphinx rendered scikit-learn.org. See: https://github.com/scikit-learn/scikit-learn/issues/21755 */display: inline-block !important;position: relative;}#sk-container-id-14 div.sk-text-repr-fallback {display: none;}</style><div id=\"sk-container-id-14\" class=\"sk-top-container\"><div class=\"sk-text-repr-fallback\"><pre>KNeighborsClassifier(metric=&#x27;manhattan&#x27;, n_neighbors=3, weights=&#x27;distance&#x27;)</pre><b>In a Jupyter environment, please rerun this cell to show the HTML representation or trust the notebook. <br />On GitHub, the HTML representation is unable to render, please try loading this page with nbviewer.org.</b></div><div class=\"sk-container\" hidden><div class=\"sk-item\"><div class=\"sk-estimator sk-toggleable\"><input class=\"sk-toggleable__control sk-hidden--visually\" id=\"sk-estimator-id-22\" type=\"checkbox\" checked><label for=\"sk-estimator-id-22\" class=\"sk-toggleable__label sk-toggleable__label-arrow\">KNeighborsClassifier</label><div class=\"sk-toggleable__content\"><pre>KNeighborsClassifier(metric=&#x27;manhattan&#x27;, n_neighbors=3, weights=&#x27;distance&#x27;)</pre></div></div></div></div></div>"
      ],
      "text/plain": [
       "KNeighborsClassifier(metric='manhattan', n_neighbors=3, weights='distance')"
      ]
     },
     "execution_count": 122,
     "metadata": {},
     "output_type": "execute_result"
    }
   ],
   "source": [
    "knn1.fit(x_sm,y_sm)"
   ]
  },
  {
   "cell_type": "code",
   "execution_count": 123,
   "id": "6c264f9a",
   "metadata": {},
   "outputs": [
    {
     "data": {
      "text/plain": [
       "array([3, 3, 3, 3, 3, 4, 2, 3, 4, 3, 4, 3, 4, 3, 3, 3, 3, 3, 4, 3, 3, 2,\n",
       "       3, 3, 2, 4, 3, 3, 3, 3, 3, 4, 3, 3, 2, 2, 3, 3, 4, 3, 3, 3, 3, 4,\n",
       "       3, 4, 2, 3, 4, 3, 3, 2, 3, 4, 3, 3, 3, 3, 3, 3, 2, 4, 4, 3, 3, 3,\n",
       "       2, 3, 3, 2, 3, 3, 3, 2, 3, 3, 4, 3, 2, 2, 3, 2, 3, 4, 3, 3, 3, 4,\n",
       "       3, 3, 3, 2, 4, 3, 3, 3, 4, 3, 4, 2, 3, 4, 2, 3, 3, 3, 2, 2, 3, 4,\n",
       "       2, 3, 4, 4, 2, 4, 4, 3, 3, 3, 4, 4, 2, 2, 3, 3, 2, 3, 3, 3, 3, 3,\n",
       "       3, 3, 3, 2, 3, 3, 3, 4, 3, 2, 2, 2, 4, 3, 3, 2, 3, 2, 3, 3, 3, 4,\n",
       "       3, 3, 3, 2, 3, 3, 3, 3, 2, 2, 4, 4, 3, 4, 3, 2, 4, 2, 2, 2, 3, 4,\n",
       "       3, 3, 2, 3, 3, 3, 4, 3, 3, 3, 3, 3, 4, 2, 3, 4, 3, 3, 3, 3, 3, 3,\n",
       "       2, 2, 2, 3, 3, 3, 3, 2, 3, 3, 3, 4, 3, 3, 2, 3, 3, 4, 2, 2, 2, 3,\n",
       "       4, 2, 2, 3, 3, 3, 4, 3, 4, 3, 3, 4, 2, 3, 2, 3, 3, 4, 3, 2],\n",
       "      dtype=int64)"
      ]
     },
     "execution_count": 123,
     "metadata": {},
     "output_type": "execute_result"
    }
   ],
   "source": [
    "knn1_y_pred = knn1.predict(x_test)\n",
    "knn1_y_pred"
   ]
  },
  {
   "cell_type": "code",
   "execution_count": 124,
   "id": "1f4b231a",
   "metadata": {},
   "outputs": [
    {
     "name": "stdout",
     "output_type": "stream",
     "text": [
      "ACCURACY SCORE: 0.675\n",
      "PRECISION SCORE: 0.7454780312308634\n",
      "RECALL SCORE: 0.675\n",
      "F1 SCORE: 0.6988582402817418\n",
      "----\n",
      "KNN CLASSIFICATION REPORT:\n",
      "              precision    recall  f1-score   support\n",
      "\n",
      "           2       0.48      0.64      0.55        39\n",
      "           3       0.87      0.71      0.78       175\n",
      "           4       0.28      0.50      0.36        26\n",
      "\n",
      "    accuracy                           0.68       240\n",
      "   macro avg       0.55      0.62      0.56       240\n",
      "weighted avg       0.75      0.68      0.70       240\n",
      "\n"
     ]
    }
   ],
   "source": [
    "knn1_acc_test = accuracy_score(y_test,knn1_y_pred)\n",
    "print('ACCURACY SCORE:',knn1_acc_test)\n",
    "knn1_pre = precision_score(y_test,knn1_y_pred, average = 'weighted')\n",
    "print('PRECISION SCORE:',knn1_pre)\n",
    "knn1_recall = recall_score(y_test,knn1_y_pred,average = 'weighted')\n",
    "print('RECALL SCORE:',knn1_recall)\n",
    "knn1_f1 = f1_score(y_test,knn1_y_pred, average = 'weighted')\n",
    "print('F1 SCORE:',knn1_f1)\n",
    "print('----')\n",
    "print('KNN CLASSIFICATION REPORT:')\n",
    "print(classification_report(y_test,knn1_y_pred))"
   ]
  },
  {
   "cell_type": "code",
   "execution_count": 125,
   "id": "32a2b959",
   "metadata": {},
   "outputs": [
    {
     "data": {
      "text/html": [
       "<div>\n",
       "<style scoped>\n",
       "    .dataframe tbody tr th:only-of-type {\n",
       "        vertical-align: middle;\n",
       "    }\n",
       "\n",
       "    .dataframe tbody tr th {\n",
       "        vertical-align: top;\n",
       "    }\n",
       "\n",
       "    .dataframe thead th {\n",
       "        text-align: right;\n",
       "    }\n",
       "</style>\n",
       "<table border=\"1\" class=\"dataframe\">\n",
       "  <thead>\n",
       "    <tr style=\"text-align: right;\">\n",
       "      <th>col_0</th>\n",
       "      <th>2</th>\n",
       "      <th>3</th>\n",
       "      <th>4</th>\n",
       "    </tr>\n",
       "    <tr>\n",
       "      <th>PerformanceRating</th>\n",
       "      <th></th>\n",
       "      <th></th>\n",
       "      <th></th>\n",
       "    </tr>\n",
       "  </thead>\n",
       "  <tbody>\n",
       "    <tr>\n",
       "      <th>2</th>\n",
       "      <td>25</td>\n",
       "      <td>10</td>\n",
       "      <td>4</td>\n",
       "    </tr>\n",
       "    <tr>\n",
       "      <th>3</th>\n",
       "      <td>22</td>\n",
       "      <td>124</td>\n",
       "      <td>29</td>\n",
       "    </tr>\n",
       "    <tr>\n",
       "      <th>4</th>\n",
       "      <td>5</td>\n",
       "      <td>8</td>\n",
       "      <td>13</td>\n",
       "    </tr>\n",
       "  </tbody>\n",
       "</table>\n",
       "</div>"
      ],
      "text/plain": [
       "col_0               2    3   4\n",
       "PerformanceRating             \n",
       "2                  25   10   4\n",
       "3                  22  124  29\n",
       "4                   5    8  13"
      ]
     },
     "execution_count": 125,
     "metadata": {},
     "output_type": "execute_result"
    }
   ],
   "source": [
    "pd.crosstab(y_test,knn1_y_pred)"
   ]
  },
  {
   "cell_type": "code",
   "execution_count": 126,
   "id": "b7cb1b5a",
   "metadata": {},
   "outputs": [
    {
     "data": {
      "text/html": [
       "<div>\n",
       "<style scoped>\n",
       "    .dataframe tbody tr th:only-of-type {\n",
       "        vertical-align: middle;\n",
       "    }\n",
       "\n",
       "    .dataframe tbody tr th {\n",
       "        vertical-align: top;\n",
       "    }\n",
       "\n",
       "    .dataframe thead th {\n",
       "        text-align: right;\n",
       "    }\n",
       "</style>\n",
       "<table border=\"1\" class=\"dataframe\">\n",
       "  <thead>\n",
       "    <tr style=\"text-align: right;\">\n",
       "      <th></th>\n",
       "      <th>METRIC</th>\n",
       "      <th>VALUE</th>\n",
       "    </tr>\n",
       "  </thead>\n",
       "  <tbody>\n",
       "    <tr>\n",
       "      <th>0</th>\n",
       "      <td>Accuracy</td>\n",
       "      <td>0.675000</td>\n",
       "    </tr>\n",
       "    <tr>\n",
       "      <th>1</th>\n",
       "      <td>Precision</td>\n",
       "      <td>0.745478</td>\n",
       "    </tr>\n",
       "    <tr>\n",
       "      <th>2</th>\n",
       "      <td>Recall</td>\n",
       "      <td>0.675000</td>\n",
       "    </tr>\n",
       "    <tr>\n",
       "      <th>3</th>\n",
       "      <td>F1 Score</td>\n",
       "      <td>0.698858</td>\n",
       "    </tr>\n",
       "  </tbody>\n",
       "</table>\n",
       "</div>"
      ],
      "text/plain": [
       "      METRIC     VALUE\n",
       "0   Accuracy  0.675000\n",
       "1  Precision  0.745478\n",
       "2     Recall  0.675000\n",
       "3   F1 Score  0.698858"
      ]
     },
     "execution_count": 126,
     "metadata": {},
     "output_type": "execute_result"
    }
   ],
   "source": [
    "knn1_Metrics =pd.DataFrame({'METRIC': ['Accuracy','Precision','Recall','F1 Score'],'VALUE' : [knn1_acc_test,knn1_pre,knn1_recall,knn1_f1]})\n",
    "knn1_Metrics"
   ]
  },
  {
   "cell_type": "code",
   "execution_count": 127,
   "id": "3f048104",
   "metadata": {},
   "outputs": [
    {
     "name": "stdout",
     "output_type": "stream",
     "text": [
      "KNN EVALUATION METRIC AFTER HYPERPARAMETER:\n",
      "+-----------+----------+\n",
      "| METRIC    |    VALUE |\n",
      "+===========+==========+\n",
      "| Accuracy  | 0.675    |\n",
      "+-----------+----------+\n",
      "| Precision | 0.745478 |\n",
      "+-----------+----------+\n",
      "| Recall    | 0.675    |\n",
      "+-----------+----------+\n",
      "| F1 Score  | 0.698858 |\n",
      "+-----------+----------+\n"
     ]
    }
   ],
   "source": [
    "print(\"KNN EVALUATION METRIC AFTER HYPERPARAMETER:\")\n",
    "print(tabulate(knn1_Metrics,headers ='keys',tablefmt= 'grid',showindex = False))"
   ]
  },
  {
   "cell_type": "code",
   "execution_count": null,
   "id": "53eb36e8",
   "metadata": {},
   "outputs": [],
   "source": []
  },
  {
   "cell_type": "markdown",
   "id": "75c721bc",
   "metadata": {},
   "source": [
    "- Even after hyperparameter tuning, KNN failed to provide a significant improvement. Its low accuracy and recall make it not useful for predicting employee performance, and it is not recommended for this task."
   ]
  },
  {
   "cell_type": "code",
   "execution_count": null,
   "id": "42772adb",
   "metadata": {},
   "outputs": [],
   "source": []
  },
  {
   "cell_type": "code",
   "execution_count": null,
   "id": "ef734a29",
   "metadata": {},
   "outputs": [],
   "source": []
  },
  {
   "cell_type": "markdown",
   "id": "3f3648df",
   "metadata": {},
   "source": [
    "# 6. Gradient Boosting Classifier"
   ]
  },
  {
   "cell_type": "code",
   "execution_count": 128,
   "id": "aec117b5",
   "metadata": {},
   "outputs": [],
   "source": [
    "from sklearn.ensemble import GradientBoostingClassifier"
   ]
  },
  {
   "cell_type": "code",
   "execution_count": 129,
   "id": "7a7bee5a",
   "metadata": {},
   "outputs": [],
   "source": [
    "gbc = GradientBoostingClassifier()"
   ]
  },
  {
   "cell_type": "code",
   "execution_count": 130,
   "id": "3c437a74",
   "metadata": {},
   "outputs": [
    {
     "data": {
      "text/html": [
       "<style>#sk-container-id-15 {color: black;background-color: white;}#sk-container-id-15 pre{padding: 0;}#sk-container-id-15 div.sk-toggleable {background-color: white;}#sk-container-id-15 label.sk-toggleable__label {cursor: pointer;display: block;width: 100%;margin-bottom: 0;padding: 0.3em;box-sizing: border-box;text-align: center;}#sk-container-id-15 label.sk-toggleable__label-arrow:before {content: \"▸\";float: left;margin-right: 0.25em;color: #696969;}#sk-container-id-15 label.sk-toggleable__label-arrow:hover:before {color: black;}#sk-container-id-15 div.sk-estimator:hover label.sk-toggleable__label-arrow:before {color: black;}#sk-container-id-15 div.sk-toggleable__content {max-height: 0;max-width: 0;overflow: hidden;text-align: left;background-color: #f0f8ff;}#sk-container-id-15 div.sk-toggleable__content pre {margin: 0.2em;color: black;border-radius: 0.25em;background-color: #f0f8ff;}#sk-container-id-15 input.sk-toggleable__control:checked~div.sk-toggleable__content {max-height: 200px;max-width: 100%;overflow: auto;}#sk-container-id-15 input.sk-toggleable__control:checked~label.sk-toggleable__label-arrow:before {content: \"▾\";}#sk-container-id-15 div.sk-estimator input.sk-toggleable__control:checked~label.sk-toggleable__label {background-color: #d4ebff;}#sk-container-id-15 div.sk-label input.sk-toggleable__control:checked~label.sk-toggleable__label {background-color: #d4ebff;}#sk-container-id-15 input.sk-hidden--visually {border: 0;clip: rect(1px 1px 1px 1px);clip: rect(1px, 1px, 1px, 1px);height: 1px;margin: -1px;overflow: hidden;padding: 0;position: absolute;width: 1px;}#sk-container-id-15 div.sk-estimator {font-family: monospace;background-color: #f0f8ff;border: 1px dotted black;border-radius: 0.25em;box-sizing: border-box;margin-bottom: 0.5em;}#sk-container-id-15 div.sk-estimator:hover {background-color: #d4ebff;}#sk-container-id-15 div.sk-parallel-item::after {content: \"\";width: 100%;border-bottom: 1px solid gray;flex-grow: 1;}#sk-container-id-15 div.sk-label:hover label.sk-toggleable__label {background-color: #d4ebff;}#sk-container-id-15 div.sk-serial::before {content: \"\";position: absolute;border-left: 1px solid gray;box-sizing: border-box;top: 0;bottom: 0;left: 50%;z-index: 0;}#sk-container-id-15 div.sk-serial {display: flex;flex-direction: column;align-items: center;background-color: white;padding-right: 0.2em;padding-left: 0.2em;position: relative;}#sk-container-id-15 div.sk-item {position: relative;z-index: 1;}#sk-container-id-15 div.sk-parallel {display: flex;align-items: stretch;justify-content: center;background-color: white;position: relative;}#sk-container-id-15 div.sk-item::before, #sk-container-id-15 div.sk-parallel-item::before {content: \"\";position: absolute;border-left: 1px solid gray;box-sizing: border-box;top: 0;bottom: 0;left: 50%;z-index: -1;}#sk-container-id-15 div.sk-parallel-item {display: flex;flex-direction: column;z-index: 1;position: relative;background-color: white;}#sk-container-id-15 div.sk-parallel-item:first-child::after {align-self: flex-end;width: 50%;}#sk-container-id-15 div.sk-parallel-item:last-child::after {align-self: flex-start;width: 50%;}#sk-container-id-15 div.sk-parallel-item:only-child::after {width: 0;}#sk-container-id-15 div.sk-dashed-wrapped {border: 1px dashed gray;margin: 0 0.4em 0.5em 0.4em;box-sizing: border-box;padding-bottom: 0.4em;background-color: white;}#sk-container-id-15 div.sk-label label {font-family: monospace;font-weight: bold;display: inline-block;line-height: 1.2em;}#sk-container-id-15 div.sk-label-container {text-align: center;}#sk-container-id-15 div.sk-container {/* jupyter's `normalize.less` sets `[hidden] { display: none; }` but bootstrap.min.css set `[hidden] { display: none !important; }` so we also need the `!important` here to be able to override the default hidden behavior on the sphinx rendered scikit-learn.org. See: https://github.com/scikit-learn/scikit-learn/issues/21755 */display: inline-block !important;position: relative;}#sk-container-id-15 div.sk-text-repr-fallback {display: none;}</style><div id=\"sk-container-id-15\" class=\"sk-top-container\"><div class=\"sk-text-repr-fallback\"><pre>GradientBoostingClassifier()</pre><b>In a Jupyter environment, please rerun this cell to show the HTML representation or trust the notebook. <br />On GitHub, the HTML representation is unable to render, please try loading this page with nbviewer.org.</b></div><div class=\"sk-container\" hidden><div class=\"sk-item\"><div class=\"sk-estimator sk-toggleable\"><input class=\"sk-toggleable__control sk-hidden--visually\" id=\"sk-estimator-id-23\" type=\"checkbox\" checked><label for=\"sk-estimator-id-23\" class=\"sk-toggleable__label sk-toggleable__label-arrow\">GradientBoostingClassifier</label><div class=\"sk-toggleable__content\"><pre>GradientBoostingClassifier()</pre></div></div></div></div></div>"
      ],
      "text/plain": [
       "GradientBoostingClassifier()"
      ]
     },
     "execution_count": 130,
     "metadata": {},
     "output_type": "execute_result"
    }
   ],
   "source": [
    "gbc.fit(x_sm,y_sm)"
   ]
  },
  {
   "cell_type": "markdown",
   "id": "363ec165",
   "metadata": {},
   "source": [
    "###### Prediction"
   ]
  },
  {
   "cell_type": "code",
   "execution_count": 131,
   "id": "1294859e",
   "metadata": {},
   "outputs": [
    {
     "data": {
      "text/plain": [
       "array([3, 2, 3, ..., 4, 4, 4], dtype=int64)"
      ]
     },
     "execution_count": 131,
     "metadata": {},
     "output_type": "execute_result"
    }
   ],
   "source": [
    "gbc_y_train = gbc.predict(x_sm)\n",
    "gbc_y_train"
   ]
  },
  {
   "cell_type": "code",
   "execution_count": 132,
   "id": "c9f5129e",
   "metadata": {},
   "outputs": [
    {
     "data": {
      "text/plain": [
       "array([3, 3, 3, 2, 3, 3, 2, 3, 3, 3, 3, 2, 3, 3, 3, 3, 3, 3, 3, 3, 3, 2,\n",
       "       3, 3, 3, 2, 4, 3, 3, 3, 3, 4, 3, 3, 3, 4, 3, 3, 4, 3, 3, 3, 3, 2,\n",
       "       3, 4, 4, 3, 3, 3, 3, 2, 3, 4, 3, 3, 3, 3, 3, 3, 3, 4, 4, 3, 3, 3,\n",
       "       2, 3, 3, 4, 3, 3, 3, 3, 3, 3, 3, 3, 3, 3, 3, 2, 3, 3, 3, 2, 2, 3,\n",
       "       3, 3, 3, 2, 4, 3, 3, 3, 3, 3, 2, 3, 3, 3, 3, 3, 3, 3, 2, 2, 2, 3,\n",
       "       3, 3, 4, 3, 3, 4, 3, 3, 3, 3, 3, 4, 3, 2, 3, 3, 2, 3, 3, 4, 3, 3,\n",
       "       3, 3, 3, 2, 3, 3, 3, 4, 3, 2, 2, 2, 3, 3, 3, 2, 3, 4, 3, 3, 3, 3,\n",
       "       3, 4, 3, 2, 3, 3, 3, 3, 3, 2, 3, 3, 3, 3, 3, 3, 4, 2, 3, 2, 3, 3,\n",
       "       3, 3, 2, 3, 3, 3, 3, 3, 3, 3, 3, 3, 3, 2, 3, 3, 3, 3, 3, 3, 3, 3,\n",
       "       3, 3, 2, 3, 3, 3, 2, 3, 3, 3, 3, 4, 3, 3, 3, 3, 3, 2, 2, 2, 2, 3,\n",
       "       4, 3, 2, 4, 3, 3, 3, 3, 3, 3, 3, 3, 3, 3, 3, 2, 3, 3, 3, 3],\n",
       "      dtype=int64)"
      ]
     },
     "execution_count": 132,
     "metadata": {},
     "output_type": "execute_result"
    }
   ],
   "source": [
    "gbc_y_pred = gbc.predict(x_test)\n",
    "gbc_y_pred"
   ]
  },
  {
   "cell_type": "markdown",
   "id": "a4dba4cc",
   "metadata": {},
   "source": [
    "###### Evaluation"
   ]
  },
  {
   "cell_type": "code",
   "execution_count": 133,
   "id": "becdc0b8",
   "metadata": {},
   "outputs": [
    {
     "data": {
      "text/plain": [
       "0.9918931807343825"
      ]
     },
     "execution_count": 133,
     "metadata": {},
     "output_type": "execute_result"
    }
   ],
   "source": [
    "gbc_acc_train  = accuracy_score(y_sm,gbc_y_train)\n",
    "gbc_acc_train"
   ]
  },
  {
   "cell_type": "code",
   "execution_count": 134,
   "id": "cb4aef6d",
   "metadata": {},
   "outputs": [
    {
     "name": "stdout",
     "output_type": "stream",
     "text": [
      "              precision    recall  f1-score   support\n",
      "\n",
      "           2       0.99      1.00      0.99       699\n",
      "           3       0.99      0.98      0.99       699\n",
      "           4       1.00      0.99      0.99       699\n",
      "\n",
      "    accuracy                           0.99      2097\n",
      "   macro avg       0.99      0.99      0.99      2097\n",
      "weighted avg       0.99      0.99      0.99      2097\n",
      "\n"
     ]
    }
   ],
   "source": [
    "print(classification_report(y_sm,gbc_y_train))"
   ]
  },
  {
   "cell_type": "code",
   "execution_count": 135,
   "id": "13ace167",
   "metadata": {},
   "outputs": [
    {
     "name": "stdout",
     "output_type": "stream",
     "text": [
      "ACCURACY SCORE: 0.925\n",
      "PRECISION SCORE: 0.9242414061474834\n",
      "RECALL SCORE: 0.925\n",
      "F1 SCORE: 0.9236948879689861\n",
      "------\n",
      "KNN CLASSIFICATION REPORT:\n",
      "              precision    recall  f1-score   support\n",
      "\n",
      "           2       0.89      0.85      0.87        39\n",
      "           3       0.93      0.97      0.95       175\n",
      "           4       0.91      0.77      0.83        26\n",
      "\n",
      "    accuracy                           0.93       240\n",
      "   macro avg       0.91      0.86      0.88       240\n",
      "weighted avg       0.92      0.93      0.92       240\n",
      "\n"
     ]
    }
   ],
   "source": [
    "gbc_acc_test = accuracy_score(y_test,gbc_y_pred)\n",
    "print('ACCURACY SCORE:', gbc_acc_test)\n",
    "gbc_pre = precision_score(y_test,gbc_y_pred, average = 'weighted')\n",
    "print('PRECISION SCORE:',gbc_pre)\n",
    "gbc_recall = recall_score(y_test,gbc_y_pred, average ='weighted')\n",
    "print('RECALL SCORE:',gbc_recall)\n",
    "gbc_f1 = f1_score(y_test,gbc_y_pred, average = 'weighted')\n",
    "print('F1 SCORE:',gbc_f1)\n",
    "print('------')\n",
    "print('KNN CLASSIFICATION REPORT:')\n",
    "print(classification_report(y_test,gbc_y_pred))"
   ]
  },
  {
   "cell_type": "code",
   "execution_count": 136,
   "id": "3b327a29",
   "metadata": {},
   "outputs": [
    {
     "data": {
      "text/html": [
       "<div>\n",
       "<style scoped>\n",
       "    .dataframe tbody tr th:only-of-type {\n",
       "        vertical-align: middle;\n",
       "    }\n",
       "\n",
       "    .dataframe tbody tr th {\n",
       "        vertical-align: top;\n",
       "    }\n",
       "\n",
       "    .dataframe thead th {\n",
       "        text-align: right;\n",
       "    }\n",
       "</style>\n",
       "<table border=\"1\" class=\"dataframe\">\n",
       "  <thead>\n",
       "    <tr style=\"text-align: right;\">\n",
       "      <th>col_0</th>\n",
       "      <th>2</th>\n",
       "      <th>3</th>\n",
       "      <th>4</th>\n",
       "    </tr>\n",
       "    <tr>\n",
       "      <th>PerformanceRating</th>\n",
       "      <th></th>\n",
       "      <th></th>\n",
       "      <th></th>\n",
       "    </tr>\n",
       "  </thead>\n",
       "  <tbody>\n",
       "    <tr>\n",
       "      <th>2</th>\n",
       "      <td>33</td>\n",
       "      <td>6</td>\n",
       "      <td>0</td>\n",
       "    </tr>\n",
       "    <tr>\n",
       "      <th>3</th>\n",
       "      <td>4</td>\n",
       "      <td>169</td>\n",
       "      <td>2</td>\n",
       "    </tr>\n",
       "    <tr>\n",
       "      <th>4</th>\n",
       "      <td>0</td>\n",
       "      <td>6</td>\n",
       "      <td>20</td>\n",
       "    </tr>\n",
       "  </tbody>\n",
       "</table>\n",
       "</div>"
      ],
      "text/plain": [
       "col_0               2    3   4\n",
       "PerformanceRating             \n",
       "2                  33    6   0\n",
       "3                   4  169   2\n",
       "4                   0    6  20"
      ]
     },
     "execution_count": 136,
     "metadata": {},
     "output_type": "execute_result"
    }
   ],
   "source": [
    "pd.crosstab(y_test,gbc_y_pred)"
   ]
  },
  {
   "cell_type": "code",
   "execution_count": 137,
   "id": "5bc0a3fc",
   "metadata": {},
   "outputs": [
    {
     "data": {
      "text/html": [
       "<div>\n",
       "<style scoped>\n",
       "    .dataframe tbody tr th:only-of-type {\n",
       "        vertical-align: middle;\n",
       "    }\n",
       "\n",
       "    .dataframe tbody tr th {\n",
       "        vertical-align: top;\n",
       "    }\n",
       "\n",
       "    .dataframe thead th {\n",
       "        text-align: right;\n",
       "    }\n",
       "</style>\n",
       "<table border=\"1\" class=\"dataframe\">\n",
       "  <thead>\n",
       "    <tr style=\"text-align: right;\">\n",
       "      <th></th>\n",
       "      <th>METRIC</th>\n",
       "      <th>VALUE</th>\n",
       "    </tr>\n",
       "  </thead>\n",
       "  <tbody>\n",
       "    <tr>\n",
       "      <th>0</th>\n",
       "      <td>Accuracy</td>\n",
       "      <td>0.925000</td>\n",
       "    </tr>\n",
       "    <tr>\n",
       "      <th>1</th>\n",
       "      <td>Precision</td>\n",
       "      <td>0.924241</td>\n",
       "    </tr>\n",
       "    <tr>\n",
       "      <th>2</th>\n",
       "      <td>Recall</td>\n",
       "      <td>0.925000</td>\n",
       "    </tr>\n",
       "    <tr>\n",
       "      <th>3</th>\n",
       "      <td>F1 Score</td>\n",
       "      <td>0.923695</td>\n",
       "    </tr>\n",
       "  </tbody>\n",
       "</table>\n",
       "</div>"
      ],
      "text/plain": [
       "      METRIC     VALUE\n",
       "0   Accuracy  0.925000\n",
       "1  Precision  0.924241\n",
       "2     Recall  0.925000\n",
       "3   F1 Score  0.923695"
      ]
     },
     "execution_count": 137,
     "metadata": {},
     "output_type": "execute_result"
    }
   ],
   "source": [
    "gbc_Metrics =pd.DataFrame({'METRIC': ['Accuracy','Precision','Recall','F1 Score'],'VALUE' : [gbc_acc_test,gbc_pre,gbc_recall,gbc_f1]})\n",
    "gbc_Metrics"
   ]
  },
  {
   "cell_type": "code",
   "execution_count": 138,
   "id": "a3709eaa",
   "metadata": {},
   "outputs": [
    {
     "name": "stdout",
     "output_type": "stream",
     "text": [
      "GBC EVALUATION METRIC:\n",
      "+-----------+----------+\n",
      "| METRIC    |    VALUE |\n",
      "+===========+==========+\n",
      "| Accuracy  | 0.925    |\n",
      "+-----------+----------+\n",
      "| Precision | 0.924241 |\n",
      "+-----------+----------+\n",
      "| Recall    | 0.925    |\n",
      "+-----------+----------+\n",
      "| F1 Score  | 0.923695 |\n",
      "+-----------+----------+\n"
     ]
    }
   ],
   "source": [
    "print(\"GBC EVALUATION METRIC:\")\n",
    "print(tabulate(gbc_Metrics,headers ='keys',tablefmt= 'grid',showindex = False))"
   ]
  },
  {
   "cell_type": "code",
   "execution_count": null,
   "id": "a289cf26",
   "metadata": {},
   "outputs": [],
   "source": []
  },
  {
   "cell_type": "markdown",
   "id": "a7ee5ddf",
   "metadata": {},
   "source": [
    "### HyperParameter in GradientBoosting"
   ]
  },
  {
   "cell_type": "code",
   "execution_count": 139,
   "id": "d7862eef",
   "metadata": {},
   "outputs": [],
   "source": [
    "param_Grid = {\n",
    "    'n_estimators' : [50,100,150],\n",
    "    'learning_rate' : [0.01,0.1,0.2],\n",
    "    'max_depth' : [3,5,7],\n",
    "    'subsample' : [0.8,1.0]\n",
    "}"
   ]
  },
  {
   "cell_type": "code",
   "execution_count": 140,
   "id": "3a5de6b8",
   "metadata": {},
   "outputs": [],
   "source": [
    "grid_Search = GridSearchCV(GradientBoostingClassifier(random_state=42), param_Grid, cv = 3)"
   ]
  },
  {
   "cell_type": "code",
   "execution_count": 141,
   "id": "97fdab4f",
   "metadata": {},
   "outputs": [
    {
     "data": {
      "text/html": [
       "<style>#sk-container-id-16 {color: black;background-color: white;}#sk-container-id-16 pre{padding: 0;}#sk-container-id-16 div.sk-toggleable {background-color: white;}#sk-container-id-16 label.sk-toggleable__label {cursor: pointer;display: block;width: 100%;margin-bottom: 0;padding: 0.3em;box-sizing: border-box;text-align: center;}#sk-container-id-16 label.sk-toggleable__label-arrow:before {content: \"▸\";float: left;margin-right: 0.25em;color: #696969;}#sk-container-id-16 label.sk-toggleable__label-arrow:hover:before {color: black;}#sk-container-id-16 div.sk-estimator:hover label.sk-toggleable__label-arrow:before {color: black;}#sk-container-id-16 div.sk-toggleable__content {max-height: 0;max-width: 0;overflow: hidden;text-align: left;background-color: #f0f8ff;}#sk-container-id-16 div.sk-toggleable__content pre {margin: 0.2em;color: black;border-radius: 0.25em;background-color: #f0f8ff;}#sk-container-id-16 input.sk-toggleable__control:checked~div.sk-toggleable__content {max-height: 200px;max-width: 100%;overflow: auto;}#sk-container-id-16 input.sk-toggleable__control:checked~label.sk-toggleable__label-arrow:before {content: \"▾\";}#sk-container-id-16 div.sk-estimator input.sk-toggleable__control:checked~label.sk-toggleable__label {background-color: #d4ebff;}#sk-container-id-16 div.sk-label input.sk-toggleable__control:checked~label.sk-toggleable__label {background-color: #d4ebff;}#sk-container-id-16 input.sk-hidden--visually {border: 0;clip: rect(1px 1px 1px 1px);clip: rect(1px, 1px, 1px, 1px);height: 1px;margin: -1px;overflow: hidden;padding: 0;position: absolute;width: 1px;}#sk-container-id-16 div.sk-estimator {font-family: monospace;background-color: #f0f8ff;border: 1px dotted black;border-radius: 0.25em;box-sizing: border-box;margin-bottom: 0.5em;}#sk-container-id-16 div.sk-estimator:hover {background-color: #d4ebff;}#sk-container-id-16 div.sk-parallel-item::after {content: \"\";width: 100%;border-bottom: 1px solid gray;flex-grow: 1;}#sk-container-id-16 div.sk-label:hover label.sk-toggleable__label {background-color: #d4ebff;}#sk-container-id-16 div.sk-serial::before {content: \"\";position: absolute;border-left: 1px solid gray;box-sizing: border-box;top: 0;bottom: 0;left: 50%;z-index: 0;}#sk-container-id-16 div.sk-serial {display: flex;flex-direction: column;align-items: center;background-color: white;padding-right: 0.2em;padding-left: 0.2em;position: relative;}#sk-container-id-16 div.sk-item {position: relative;z-index: 1;}#sk-container-id-16 div.sk-parallel {display: flex;align-items: stretch;justify-content: center;background-color: white;position: relative;}#sk-container-id-16 div.sk-item::before, #sk-container-id-16 div.sk-parallel-item::before {content: \"\";position: absolute;border-left: 1px solid gray;box-sizing: border-box;top: 0;bottom: 0;left: 50%;z-index: -1;}#sk-container-id-16 div.sk-parallel-item {display: flex;flex-direction: column;z-index: 1;position: relative;background-color: white;}#sk-container-id-16 div.sk-parallel-item:first-child::after {align-self: flex-end;width: 50%;}#sk-container-id-16 div.sk-parallel-item:last-child::after {align-self: flex-start;width: 50%;}#sk-container-id-16 div.sk-parallel-item:only-child::after {width: 0;}#sk-container-id-16 div.sk-dashed-wrapped {border: 1px dashed gray;margin: 0 0.4em 0.5em 0.4em;box-sizing: border-box;padding-bottom: 0.4em;background-color: white;}#sk-container-id-16 div.sk-label label {font-family: monospace;font-weight: bold;display: inline-block;line-height: 1.2em;}#sk-container-id-16 div.sk-label-container {text-align: center;}#sk-container-id-16 div.sk-container {/* jupyter's `normalize.less` sets `[hidden] { display: none; }` but bootstrap.min.css set `[hidden] { display: none !important; }` so we also need the `!important` here to be able to override the default hidden behavior on the sphinx rendered scikit-learn.org. See: https://github.com/scikit-learn/scikit-learn/issues/21755 */display: inline-block !important;position: relative;}#sk-container-id-16 div.sk-text-repr-fallback {display: none;}</style><div id=\"sk-container-id-16\" class=\"sk-top-container\"><div class=\"sk-text-repr-fallback\"><pre>GridSearchCV(cv=3, estimator=GradientBoostingClassifier(random_state=42),\n",
       "             param_grid={&#x27;learning_rate&#x27;: [0.01, 0.1, 0.2],\n",
       "                         &#x27;max_depth&#x27;: [3, 5, 7], &#x27;n_estimators&#x27;: [50, 100, 150],\n",
       "                         &#x27;subsample&#x27;: [0.8, 1.0]})</pre><b>In a Jupyter environment, please rerun this cell to show the HTML representation or trust the notebook. <br />On GitHub, the HTML representation is unable to render, please try loading this page with nbviewer.org.</b></div><div class=\"sk-container\" hidden><div class=\"sk-item sk-dashed-wrapped\"><div class=\"sk-label-container\"><div class=\"sk-label sk-toggleable\"><input class=\"sk-toggleable__control sk-hidden--visually\" id=\"sk-estimator-id-24\" type=\"checkbox\" ><label for=\"sk-estimator-id-24\" class=\"sk-toggleable__label sk-toggleable__label-arrow\">GridSearchCV</label><div class=\"sk-toggleable__content\"><pre>GridSearchCV(cv=3, estimator=GradientBoostingClassifier(random_state=42),\n",
       "             param_grid={&#x27;learning_rate&#x27;: [0.01, 0.1, 0.2],\n",
       "                         &#x27;max_depth&#x27;: [3, 5, 7], &#x27;n_estimators&#x27;: [50, 100, 150],\n",
       "                         &#x27;subsample&#x27;: [0.8, 1.0]})</pre></div></div></div><div class=\"sk-parallel\"><div class=\"sk-parallel-item\"><div class=\"sk-item\"><div class=\"sk-label-container\"><div class=\"sk-label sk-toggleable\"><input class=\"sk-toggleable__control sk-hidden--visually\" id=\"sk-estimator-id-25\" type=\"checkbox\" ><label for=\"sk-estimator-id-25\" class=\"sk-toggleable__label sk-toggleable__label-arrow\">estimator: GradientBoostingClassifier</label><div class=\"sk-toggleable__content\"><pre>GradientBoostingClassifier(random_state=42)</pre></div></div></div><div class=\"sk-serial\"><div class=\"sk-item\"><div class=\"sk-estimator sk-toggleable\"><input class=\"sk-toggleable__control sk-hidden--visually\" id=\"sk-estimator-id-26\" type=\"checkbox\" ><label for=\"sk-estimator-id-26\" class=\"sk-toggleable__label sk-toggleable__label-arrow\">GradientBoostingClassifier</label><div class=\"sk-toggleable__content\"><pre>GradientBoostingClassifier(random_state=42)</pre></div></div></div></div></div></div></div></div></div></div>"
      ],
      "text/plain": [
       "GridSearchCV(cv=3, estimator=GradientBoostingClassifier(random_state=42),\n",
       "             param_grid={'learning_rate': [0.01, 0.1, 0.2],\n",
       "                         'max_depth': [3, 5, 7], 'n_estimators': [50, 100, 150],\n",
       "                         'subsample': [0.8, 1.0]})"
      ]
     },
     "execution_count": 141,
     "metadata": {},
     "output_type": "execute_result"
    }
   ],
   "source": [
    "grid_Search.fit(x_sm,y_sm)"
   ]
  },
  {
   "cell_type": "code",
   "execution_count": 142,
   "id": "7bc607e7",
   "metadata": {},
   "outputs": [
    {
     "data": {
      "text/plain": [
       "{'learning_rate': 0.2, 'max_depth': 5, 'n_estimators': 100, 'subsample': 0.8}"
      ]
     },
     "execution_count": 142,
     "metadata": {},
     "output_type": "execute_result"
    }
   ],
   "source": [
    "grid_Search.best_params_"
   ]
  },
  {
   "cell_type": "code",
   "execution_count": 143,
   "id": "ac98da3a",
   "metadata": {},
   "outputs": [],
   "source": [
    "gbc1 = GradientBoostingClassifier(learning_rate = 0.1, max_depth = 7,n_estimators = 150, subsample = 0.8)"
   ]
  },
  {
   "cell_type": "code",
   "execution_count": 144,
   "id": "e5c6122e",
   "metadata": {},
   "outputs": [
    {
     "data": {
      "text/html": [
       "<style>#sk-container-id-17 {color: black;background-color: white;}#sk-container-id-17 pre{padding: 0;}#sk-container-id-17 div.sk-toggleable {background-color: white;}#sk-container-id-17 label.sk-toggleable__label {cursor: pointer;display: block;width: 100%;margin-bottom: 0;padding: 0.3em;box-sizing: border-box;text-align: center;}#sk-container-id-17 label.sk-toggleable__label-arrow:before {content: \"▸\";float: left;margin-right: 0.25em;color: #696969;}#sk-container-id-17 label.sk-toggleable__label-arrow:hover:before {color: black;}#sk-container-id-17 div.sk-estimator:hover label.sk-toggleable__label-arrow:before {color: black;}#sk-container-id-17 div.sk-toggleable__content {max-height: 0;max-width: 0;overflow: hidden;text-align: left;background-color: #f0f8ff;}#sk-container-id-17 div.sk-toggleable__content pre {margin: 0.2em;color: black;border-radius: 0.25em;background-color: #f0f8ff;}#sk-container-id-17 input.sk-toggleable__control:checked~div.sk-toggleable__content {max-height: 200px;max-width: 100%;overflow: auto;}#sk-container-id-17 input.sk-toggleable__control:checked~label.sk-toggleable__label-arrow:before {content: \"▾\";}#sk-container-id-17 div.sk-estimator input.sk-toggleable__control:checked~label.sk-toggleable__label {background-color: #d4ebff;}#sk-container-id-17 div.sk-label input.sk-toggleable__control:checked~label.sk-toggleable__label {background-color: #d4ebff;}#sk-container-id-17 input.sk-hidden--visually {border: 0;clip: rect(1px 1px 1px 1px);clip: rect(1px, 1px, 1px, 1px);height: 1px;margin: -1px;overflow: hidden;padding: 0;position: absolute;width: 1px;}#sk-container-id-17 div.sk-estimator {font-family: monospace;background-color: #f0f8ff;border: 1px dotted black;border-radius: 0.25em;box-sizing: border-box;margin-bottom: 0.5em;}#sk-container-id-17 div.sk-estimator:hover {background-color: #d4ebff;}#sk-container-id-17 div.sk-parallel-item::after {content: \"\";width: 100%;border-bottom: 1px solid gray;flex-grow: 1;}#sk-container-id-17 div.sk-label:hover label.sk-toggleable__label {background-color: #d4ebff;}#sk-container-id-17 div.sk-serial::before {content: \"\";position: absolute;border-left: 1px solid gray;box-sizing: border-box;top: 0;bottom: 0;left: 50%;z-index: 0;}#sk-container-id-17 div.sk-serial {display: flex;flex-direction: column;align-items: center;background-color: white;padding-right: 0.2em;padding-left: 0.2em;position: relative;}#sk-container-id-17 div.sk-item {position: relative;z-index: 1;}#sk-container-id-17 div.sk-parallel {display: flex;align-items: stretch;justify-content: center;background-color: white;position: relative;}#sk-container-id-17 div.sk-item::before, #sk-container-id-17 div.sk-parallel-item::before {content: \"\";position: absolute;border-left: 1px solid gray;box-sizing: border-box;top: 0;bottom: 0;left: 50%;z-index: -1;}#sk-container-id-17 div.sk-parallel-item {display: flex;flex-direction: column;z-index: 1;position: relative;background-color: white;}#sk-container-id-17 div.sk-parallel-item:first-child::after {align-self: flex-end;width: 50%;}#sk-container-id-17 div.sk-parallel-item:last-child::after {align-self: flex-start;width: 50%;}#sk-container-id-17 div.sk-parallel-item:only-child::after {width: 0;}#sk-container-id-17 div.sk-dashed-wrapped {border: 1px dashed gray;margin: 0 0.4em 0.5em 0.4em;box-sizing: border-box;padding-bottom: 0.4em;background-color: white;}#sk-container-id-17 div.sk-label label {font-family: monospace;font-weight: bold;display: inline-block;line-height: 1.2em;}#sk-container-id-17 div.sk-label-container {text-align: center;}#sk-container-id-17 div.sk-container {/* jupyter's `normalize.less` sets `[hidden] { display: none; }` but bootstrap.min.css set `[hidden] { display: none !important; }` so we also need the `!important` here to be able to override the default hidden behavior on the sphinx rendered scikit-learn.org. See: https://github.com/scikit-learn/scikit-learn/issues/21755 */display: inline-block !important;position: relative;}#sk-container-id-17 div.sk-text-repr-fallback {display: none;}</style><div id=\"sk-container-id-17\" class=\"sk-top-container\"><div class=\"sk-text-repr-fallback\"><pre>GradientBoostingClassifier(max_depth=7, n_estimators=150, subsample=0.8)</pre><b>In a Jupyter environment, please rerun this cell to show the HTML representation or trust the notebook. <br />On GitHub, the HTML representation is unable to render, please try loading this page with nbviewer.org.</b></div><div class=\"sk-container\" hidden><div class=\"sk-item\"><div class=\"sk-estimator sk-toggleable\"><input class=\"sk-toggleable__control sk-hidden--visually\" id=\"sk-estimator-id-27\" type=\"checkbox\" checked><label for=\"sk-estimator-id-27\" class=\"sk-toggleable__label sk-toggleable__label-arrow\">GradientBoostingClassifier</label><div class=\"sk-toggleable__content\"><pre>GradientBoostingClassifier(max_depth=7, n_estimators=150, subsample=0.8)</pre></div></div></div></div></div>"
      ],
      "text/plain": [
       "GradientBoostingClassifier(max_depth=7, n_estimators=150, subsample=0.8)"
      ]
     },
     "execution_count": 144,
     "metadata": {},
     "output_type": "execute_result"
    }
   ],
   "source": [
    "gbc1.fit(x_sm,y_sm)"
   ]
  },
  {
   "cell_type": "code",
   "execution_count": 145,
   "id": "ad1d7349",
   "metadata": {},
   "outputs": [
    {
     "data": {
      "text/plain": [
       "array([3, 3, 3, 2, 3, 3, 2, 3, 3, 3, 3, 2, 3, 3, 3, 3, 3, 3, 3, 3, 3, 2,\n",
       "       3, 3, 3, 2, 4, 3, 3, 3, 3, 4, 3, 3, 3, 4, 3, 3, 4, 3, 3, 3, 3, 3,\n",
       "       3, 4, 4, 3, 3, 3, 3, 2, 3, 4, 3, 3, 3, 3, 3, 3, 3, 4, 4, 3, 3, 3,\n",
       "       2, 3, 3, 4, 3, 3, 3, 3, 3, 3, 3, 3, 3, 3, 3, 2, 3, 3, 3, 2, 2, 3,\n",
       "       3, 3, 3, 2, 4, 3, 3, 3, 3, 3, 2, 3, 3, 3, 3, 3, 3, 3, 2, 2, 2, 3,\n",
       "       3, 3, 4, 3, 3, 4, 3, 3, 3, 3, 3, 4, 3, 2, 3, 3, 2, 3, 3, 4, 3, 3,\n",
       "       3, 3, 3, 2, 3, 3, 3, 4, 3, 2, 2, 2, 3, 3, 3, 2, 3, 4, 3, 3, 3, 3,\n",
       "       3, 4, 3, 2, 3, 3, 3, 3, 3, 3, 3, 3, 3, 3, 3, 3, 4, 2, 3, 2, 3, 3,\n",
       "       3, 3, 2, 3, 3, 3, 3, 3, 3, 3, 4, 3, 3, 2, 3, 3, 3, 3, 3, 3, 3, 3,\n",
       "       3, 3, 2, 3, 3, 3, 2, 3, 3, 3, 3, 3, 3, 3, 3, 3, 3, 2, 2, 2, 2, 3,\n",
       "       4, 3, 2, 4, 3, 3, 4, 2, 3, 3, 3, 3, 3, 3, 3, 2, 3, 3, 3, 3],\n",
       "      dtype=int64)"
      ]
     },
     "execution_count": 145,
     "metadata": {},
     "output_type": "execute_result"
    }
   ],
   "source": [
    "gbc1_y_pred = gbc1.predict(x_test)\n",
    "gbc1_y_pred"
   ]
  },
  {
   "cell_type": "code",
   "execution_count": 146,
   "id": "c4ebe119",
   "metadata": {},
   "outputs": [
    {
     "name": "stdout",
     "output_type": "stream",
     "text": [
      "ACCURACY SCORE: 0.925\n",
      "PRECISION SCORE: 0.9241816131529077\n",
      "RECALL SCORE: 0.925\n",
      "F1 SCORE: 0.9238224986623862\n",
      "------\n",
      "GBC CLASSIFICATION REPORT:\n",
      "              precision    recall  f1-score   support\n",
      "\n",
      "           2       0.89      0.82      0.85        39\n",
      "           3       0.93      0.97      0.95       175\n",
      "           4       0.91      0.81      0.86        26\n",
      "\n",
      "    accuracy                           0.93       240\n",
      "   macro avg       0.91      0.86      0.89       240\n",
      "weighted avg       0.92      0.93      0.92       240\n",
      "\n"
     ]
    }
   ],
   "source": [
    "gbc1_acc_test = accuracy_score(y_test,gbc1_y_pred)\n",
    "print('ACCURACY SCORE:', gbc1_acc_test)\n",
    "gbc1_pre = precision_score(y_test,gbc1_y_pred, average = 'weighted')\n",
    "print('PRECISION SCORE:',gbc1_pre)\n",
    "gbc1_recall = recall_score(y_test,gbc1_y_pred, average ='weighted')\n",
    "print('RECALL SCORE:',gbc1_recall)\n",
    "gbc1_f1 = f1_score(y_test,gbc1_y_pred, average = 'weighted')\n",
    "print('F1 SCORE:',gbc1_f1)\n",
    "print('------')\n",
    "print('GBC CLASSIFICATION REPORT:')\n",
    "print(classification_report(y_test,gbc1_y_pred))"
   ]
  },
  {
   "cell_type": "code",
   "execution_count": 147,
   "id": "9c8fdf36",
   "metadata": {},
   "outputs": [
    {
     "data": {
      "text/html": [
       "<div>\n",
       "<style scoped>\n",
       "    .dataframe tbody tr th:only-of-type {\n",
       "        vertical-align: middle;\n",
       "    }\n",
       "\n",
       "    .dataframe tbody tr th {\n",
       "        vertical-align: top;\n",
       "    }\n",
       "\n",
       "    .dataframe thead th {\n",
       "        text-align: right;\n",
       "    }\n",
       "</style>\n",
       "<table border=\"1\" class=\"dataframe\">\n",
       "  <thead>\n",
       "    <tr style=\"text-align: right;\">\n",
       "      <th>col_0</th>\n",
       "      <th>2</th>\n",
       "      <th>3</th>\n",
       "      <th>4</th>\n",
       "    </tr>\n",
       "    <tr>\n",
       "      <th>PerformanceRating</th>\n",
       "      <th></th>\n",
       "      <th></th>\n",
       "      <th></th>\n",
       "    </tr>\n",
       "  </thead>\n",
       "  <tbody>\n",
       "    <tr>\n",
       "      <th>2</th>\n",
       "      <td>32</td>\n",
       "      <td>7</td>\n",
       "      <td>0</td>\n",
       "    </tr>\n",
       "    <tr>\n",
       "      <th>3</th>\n",
       "      <td>4</td>\n",
       "      <td>169</td>\n",
       "      <td>2</td>\n",
       "    </tr>\n",
       "    <tr>\n",
       "      <th>4</th>\n",
       "      <td>0</td>\n",
       "      <td>5</td>\n",
       "      <td>21</td>\n",
       "    </tr>\n",
       "  </tbody>\n",
       "</table>\n",
       "</div>"
      ],
      "text/plain": [
       "col_0               2    3   4\n",
       "PerformanceRating             \n",
       "2                  32    7   0\n",
       "3                   4  169   2\n",
       "4                   0    5  21"
      ]
     },
     "execution_count": 147,
     "metadata": {},
     "output_type": "execute_result"
    }
   ],
   "source": [
    "pd.crosstab(y_test,gbc1_y_pred)"
   ]
  },
  {
   "cell_type": "code",
   "execution_count": 148,
   "id": "23657698",
   "metadata": {},
   "outputs": [
    {
     "data": {
      "text/html": [
       "<div>\n",
       "<style scoped>\n",
       "    .dataframe tbody tr th:only-of-type {\n",
       "        vertical-align: middle;\n",
       "    }\n",
       "\n",
       "    .dataframe tbody tr th {\n",
       "        vertical-align: top;\n",
       "    }\n",
       "\n",
       "    .dataframe thead th {\n",
       "        text-align: right;\n",
       "    }\n",
       "</style>\n",
       "<table border=\"1\" class=\"dataframe\">\n",
       "  <thead>\n",
       "    <tr style=\"text-align: right;\">\n",
       "      <th></th>\n",
       "      <th>METRIC</th>\n",
       "      <th>VALUE</th>\n",
       "    </tr>\n",
       "  </thead>\n",
       "  <tbody>\n",
       "    <tr>\n",
       "      <th>0</th>\n",
       "      <td>Accuracy</td>\n",
       "      <td>0.925000</td>\n",
       "    </tr>\n",
       "    <tr>\n",
       "      <th>1</th>\n",
       "      <td>Precision</td>\n",
       "      <td>0.924182</td>\n",
       "    </tr>\n",
       "    <tr>\n",
       "      <th>2</th>\n",
       "      <td>Recall</td>\n",
       "      <td>0.925000</td>\n",
       "    </tr>\n",
       "    <tr>\n",
       "      <th>3</th>\n",
       "      <td>F1 Score</td>\n",
       "      <td>0.923822</td>\n",
       "    </tr>\n",
       "  </tbody>\n",
       "</table>\n",
       "</div>"
      ],
      "text/plain": [
       "      METRIC     VALUE\n",
       "0   Accuracy  0.925000\n",
       "1  Precision  0.924182\n",
       "2     Recall  0.925000\n",
       "3   F1 Score  0.923822"
      ]
     },
     "execution_count": 148,
     "metadata": {},
     "output_type": "execute_result"
    }
   ],
   "source": [
    "gbc1_Metrics =pd.DataFrame({'METRIC': ['Accuracy','Precision','Recall','F1 Score'],'VALUE' : [gbc1_acc_test,gbc1_pre,gbc1_recall,gbc1_f1]})\n",
    "gbc1_Metrics"
   ]
  },
  {
   "cell_type": "code",
   "execution_count": 149,
   "id": "fc9fde79",
   "metadata": {},
   "outputs": [
    {
     "name": "stdout",
     "output_type": "stream",
     "text": [
      "GBC EVALUATION METRIC AFTER HYPERPARAMETER TUNING:\n",
      "+-----------+----------+\n",
      "| METRIC    |    VALUE |\n",
      "+===========+==========+\n",
      "| Accuracy  | 0.925    |\n",
      "+-----------+----------+\n",
      "| Precision | 0.924182 |\n",
      "+-----------+----------+\n",
      "| Recall    | 0.925    |\n",
      "+-----------+----------+\n",
      "| F1 Score  | 0.923822 |\n",
      "+-----------+----------+\n"
     ]
    }
   ],
   "source": [
    "print(\"GBC EVALUATION METRIC AFTER HYPERPARAMETER TUNING:\")\n",
    "print(tabulate(gbc1_Metrics,headers ='keys',tablefmt= 'grid',showindex = False))"
   ]
  },
  {
   "cell_type": "code",
   "execution_count": null,
   "id": "4c380619",
   "metadata": {},
   "outputs": [],
   "source": []
  },
  {
   "cell_type": "markdown",
   "id": "2ae6997c",
   "metadata": {},
   "source": [
    "- Gradient Boosting remained stable after tuning, providing strong performance. Its ability to capture complex patterns makes it highly useful for employee performance prediction, and it’s a top model to consider for your task."
   ]
  },
  {
   "cell_type": "code",
   "execution_count": null,
   "id": "9f61b658",
   "metadata": {},
   "outputs": [],
   "source": []
  },
  {
   "cell_type": "code",
   "execution_count": null,
   "id": "100a99ce",
   "metadata": {},
   "outputs": [],
   "source": []
  },
  {
   "cell_type": "code",
   "execution_count": null,
   "id": "96fdb18f",
   "metadata": {},
   "outputs": [],
   "source": []
  },
  {
   "cell_type": "code",
   "execution_count": null,
   "id": "ffe841ed",
   "metadata": {},
   "outputs": [],
   "source": []
  },
  {
   "cell_type": "code",
   "execution_count": null,
   "id": "ff0e27d4",
   "metadata": {},
   "outputs": [],
   "source": []
  },
  {
   "cell_type": "markdown",
   "id": "b36994de",
   "metadata": {},
   "source": [
    "# 7. AdaBoost Classifier"
   ]
  },
  {
   "cell_type": "code",
   "execution_count": 150,
   "id": "1ab10bbd",
   "metadata": {},
   "outputs": [],
   "source": [
    "from sklearn.ensemble import AdaBoostClassifier"
   ]
  },
  {
   "cell_type": "code",
   "execution_count": 151,
   "id": "ea9439f6",
   "metadata": {},
   "outputs": [],
   "source": [
    "ada = AdaBoostClassifier(n_estimators = 50)"
   ]
  },
  {
   "cell_type": "code",
   "execution_count": 152,
   "id": "b504d16b",
   "metadata": {},
   "outputs": [
    {
     "data": {
      "text/html": [
       "<style>#sk-container-id-18 {color: black;background-color: white;}#sk-container-id-18 pre{padding: 0;}#sk-container-id-18 div.sk-toggleable {background-color: white;}#sk-container-id-18 label.sk-toggleable__label {cursor: pointer;display: block;width: 100%;margin-bottom: 0;padding: 0.3em;box-sizing: border-box;text-align: center;}#sk-container-id-18 label.sk-toggleable__label-arrow:before {content: \"▸\";float: left;margin-right: 0.25em;color: #696969;}#sk-container-id-18 label.sk-toggleable__label-arrow:hover:before {color: black;}#sk-container-id-18 div.sk-estimator:hover label.sk-toggleable__label-arrow:before {color: black;}#sk-container-id-18 div.sk-toggleable__content {max-height: 0;max-width: 0;overflow: hidden;text-align: left;background-color: #f0f8ff;}#sk-container-id-18 div.sk-toggleable__content pre {margin: 0.2em;color: black;border-radius: 0.25em;background-color: #f0f8ff;}#sk-container-id-18 input.sk-toggleable__control:checked~div.sk-toggleable__content {max-height: 200px;max-width: 100%;overflow: auto;}#sk-container-id-18 input.sk-toggleable__control:checked~label.sk-toggleable__label-arrow:before {content: \"▾\";}#sk-container-id-18 div.sk-estimator input.sk-toggleable__control:checked~label.sk-toggleable__label {background-color: #d4ebff;}#sk-container-id-18 div.sk-label input.sk-toggleable__control:checked~label.sk-toggleable__label {background-color: #d4ebff;}#sk-container-id-18 input.sk-hidden--visually {border: 0;clip: rect(1px 1px 1px 1px);clip: rect(1px, 1px, 1px, 1px);height: 1px;margin: -1px;overflow: hidden;padding: 0;position: absolute;width: 1px;}#sk-container-id-18 div.sk-estimator {font-family: monospace;background-color: #f0f8ff;border: 1px dotted black;border-radius: 0.25em;box-sizing: border-box;margin-bottom: 0.5em;}#sk-container-id-18 div.sk-estimator:hover {background-color: #d4ebff;}#sk-container-id-18 div.sk-parallel-item::after {content: \"\";width: 100%;border-bottom: 1px solid gray;flex-grow: 1;}#sk-container-id-18 div.sk-label:hover label.sk-toggleable__label {background-color: #d4ebff;}#sk-container-id-18 div.sk-serial::before {content: \"\";position: absolute;border-left: 1px solid gray;box-sizing: border-box;top: 0;bottom: 0;left: 50%;z-index: 0;}#sk-container-id-18 div.sk-serial {display: flex;flex-direction: column;align-items: center;background-color: white;padding-right: 0.2em;padding-left: 0.2em;position: relative;}#sk-container-id-18 div.sk-item {position: relative;z-index: 1;}#sk-container-id-18 div.sk-parallel {display: flex;align-items: stretch;justify-content: center;background-color: white;position: relative;}#sk-container-id-18 div.sk-item::before, #sk-container-id-18 div.sk-parallel-item::before {content: \"\";position: absolute;border-left: 1px solid gray;box-sizing: border-box;top: 0;bottom: 0;left: 50%;z-index: -1;}#sk-container-id-18 div.sk-parallel-item {display: flex;flex-direction: column;z-index: 1;position: relative;background-color: white;}#sk-container-id-18 div.sk-parallel-item:first-child::after {align-self: flex-end;width: 50%;}#sk-container-id-18 div.sk-parallel-item:last-child::after {align-self: flex-start;width: 50%;}#sk-container-id-18 div.sk-parallel-item:only-child::after {width: 0;}#sk-container-id-18 div.sk-dashed-wrapped {border: 1px dashed gray;margin: 0 0.4em 0.5em 0.4em;box-sizing: border-box;padding-bottom: 0.4em;background-color: white;}#sk-container-id-18 div.sk-label label {font-family: monospace;font-weight: bold;display: inline-block;line-height: 1.2em;}#sk-container-id-18 div.sk-label-container {text-align: center;}#sk-container-id-18 div.sk-container {/* jupyter's `normalize.less` sets `[hidden] { display: none; }` but bootstrap.min.css set `[hidden] { display: none !important; }` so we also need the `!important` here to be able to override the default hidden behavior on the sphinx rendered scikit-learn.org. See: https://github.com/scikit-learn/scikit-learn/issues/21755 */display: inline-block !important;position: relative;}#sk-container-id-18 div.sk-text-repr-fallback {display: none;}</style><div id=\"sk-container-id-18\" class=\"sk-top-container\"><div class=\"sk-text-repr-fallback\"><pre>AdaBoostClassifier()</pre><b>In a Jupyter environment, please rerun this cell to show the HTML representation or trust the notebook. <br />On GitHub, the HTML representation is unable to render, please try loading this page with nbviewer.org.</b></div><div class=\"sk-container\" hidden><div class=\"sk-item\"><div class=\"sk-estimator sk-toggleable\"><input class=\"sk-toggleable__control sk-hidden--visually\" id=\"sk-estimator-id-28\" type=\"checkbox\" checked><label for=\"sk-estimator-id-28\" class=\"sk-toggleable__label sk-toggleable__label-arrow\">AdaBoostClassifier</label><div class=\"sk-toggleable__content\"><pre>AdaBoostClassifier()</pre></div></div></div></div></div>"
      ],
      "text/plain": [
       "AdaBoostClassifier()"
      ]
     },
     "execution_count": 152,
     "metadata": {},
     "output_type": "execute_result"
    }
   ],
   "source": [
    "ada.fit(x_sm,y_sm)"
   ]
  },
  {
   "cell_type": "markdown",
   "id": "f0ed40e7",
   "metadata": {},
   "source": [
    "###### Prediction"
   ]
  },
  {
   "cell_type": "code",
   "execution_count": 153,
   "id": "25b50e90",
   "metadata": {},
   "outputs": [
    {
     "data": {
      "text/plain": [
       "array([3, 2, 3, ..., 4, 3, 4], dtype=int64)"
      ]
     },
     "execution_count": 153,
     "metadata": {},
     "output_type": "execute_result"
    }
   ],
   "source": [
    "ada_y_train = ada.predict(x_sm)\n",
    "ada_y_train"
   ]
  },
  {
   "cell_type": "code",
   "execution_count": 154,
   "id": "a4fc7719",
   "metadata": {},
   "outputs": [
    {
     "data": {
      "text/plain": [
       "array([3, 3, 3, 2, 4, 3, 2, 3, 3, 3, 3, 2, 4, 4, 4, 3, 3, 3, 4, 3, 4, 2,\n",
       "       2, 3, 3, 2, 4, 3, 3, 3, 3, 4, 4, 3, 3, 4, 3, 3, 4, 4, 3, 3, 4, 2,\n",
       "       3, 4, 4, 3, 3, 4, 3, 2, 3, 4, 3, 3, 3, 3, 3, 3, 3, 3, 4, 3, 4, 3,\n",
       "       2, 3, 3, 4, 3, 3, 3, 3, 3, 4, 3, 4, 3, 3, 4, 2, 2, 3, 3, 2, 2, 3,\n",
       "       3, 3, 3, 2, 4, 3, 3, 4, 4, 4, 2, 3, 3, 3, 3, 3, 3, 3, 2, 2, 2, 3,\n",
       "       4, 3, 4, 3, 3, 3, 2, 3, 3, 3, 3, 4, 3, 2, 3, 3, 2, 3, 4, 4, 3, 3,\n",
       "       3, 3, 3, 2, 2, 4, 3, 4, 3, 2, 2, 2, 3, 3, 3, 2, 4, 4, 3, 4, 3, 3,\n",
       "       3, 4, 3, 2, 3, 4, 3, 3, 3, 3, 3, 3, 3, 3, 4, 3, 4, 2, 3, 2, 4, 3,\n",
       "       3, 3, 2, 3, 3, 3, 3, 3, 3, 3, 3, 3, 3, 3, 3, 3, 3, 3, 3, 3, 3, 3,\n",
       "       3, 3, 2, 3, 3, 3, 3, 3, 3, 4, 3, 4, 3, 3, 3, 3, 3, 3, 2, 2, 2, 4,\n",
       "       4, 3, 2, 4, 3, 3, 3, 2, 3, 3, 3, 2, 3, 3, 3, 2, 3, 4, 3, 3],\n",
       "      dtype=int64)"
      ]
     },
     "execution_count": 154,
     "metadata": {},
     "output_type": "execute_result"
    }
   ],
   "source": [
    "ada_y_pred = ada.predict(x_test)\n",
    "ada_y_pred"
   ]
  },
  {
   "cell_type": "markdown",
   "id": "d9b376ff",
   "metadata": {},
   "source": [
    "###### Evaluation`"
   ]
  },
  {
   "cell_type": "code",
   "execution_count": 155,
   "id": "0193d0ea",
   "metadata": {},
   "outputs": [
    {
     "data": {
      "text/plain": [
       "0.8707677634716261"
      ]
     },
     "execution_count": 155,
     "metadata": {},
     "output_type": "execute_result"
    }
   ],
   "source": [
    "ada_acc_train  = accuracy_score(y_sm,ada_y_train)\n",
    "ada_acc_train"
   ]
  },
  {
   "cell_type": "code",
   "execution_count": 156,
   "id": "a40c7781",
   "metadata": {},
   "outputs": [
    {
     "name": "stdout",
     "output_type": "stream",
     "text": [
      "              precision    recall  f1-score   support\n",
      "\n",
      "           2       0.96      0.96      0.96       699\n",
      "           3       0.81      0.79      0.80       699\n",
      "           4       0.84      0.86      0.85       699\n",
      "\n",
      "    accuracy                           0.87      2097\n",
      "   macro avg       0.87      0.87      0.87      2097\n",
      "weighted avg       0.87      0.87      0.87      2097\n",
      "\n"
     ]
    }
   ],
   "source": [
    "print(classification_report(y_sm,ada_y_train))"
   ]
  },
  {
   "cell_type": "code",
   "execution_count": 157,
   "id": "10e5a867",
   "metadata": {},
   "outputs": [
    {
     "name": "stdout",
     "output_type": "stream",
     "text": [
      "ACCURACY SCORE: 0.8083333333333333\n",
      "PRECISION SCORE: 0.8546160130718954\n",
      "RECALL SCORE: 0.8083333333333333\n",
      "F1 SCORE: 0.8229640463634367\n",
      "------\n",
      "KNN CLASSIFICATION REPORT:\n",
      "              precision    recall  f1-score   support\n",
      "\n",
      "           2       0.85      0.85      0.85        39\n",
      "           3       0.92      0.81      0.86       175\n",
      "           4       0.42      0.77      0.54        26\n",
      "\n",
      "    accuracy                           0.81       240\n",
      "   macro avg       0.73      0.81      0.75       240\n",
      "weighted avg       0.85      0.81      0.82       240\n",
      "\n"
     ]
    }
   ],
   "source": [
    "ada_acc_test = accuracy_score(y_test,ada_y_pred)\n",
    "print('ACCURACY SCORE:', ada_acc_test)\n",
    "ada_pre = precision_score(y_test,ada_y_pred, average = 'weighted')\n",
    "print('PRECISION SCORE:',ada_pre)\n",
    "ada_recall = recall_score(y_test,ada_y_pred, average ='weighted')\n",
    "print('RECALL SCORE:',ada_recall)\n",
    "ada_f1 = f1_score(y_test,ada_y_pred, average = 'weighted')\n",
    "print('F1 SCORE:',ada_f1)\n",
    "print('------')\n",
    "print('KNN CLASSIFICATION REPORT:')\n",
    "print(classification_report(y_test,ada_y_pred))"
   ]
  },
  {
   "cell_type": "code",
   "execution_count": 158,
   "id": "6fdada58",
   "metadata": {},
   "outputs": [
    {
     "data": {
      "text/html": [
       "<div>\n",
       "<style scoped>\n",
       "    .dataframe tbody tr th:only-of-type {\n",
       "        vertical-align: middle;\n",
       "    }\n",
       "\n",
       "    .dataframe tbody tr th {\n",
       "        vertical-align: top;\n",
       "    }\n",
       "\n",
       "    .dataframe thead th {\n",
       "        text-align: right;\n",
       "    }\n",
       "</style>\n",
       "<table border=\"1\" class=\"dataframe\">\n",
       "  <thead>\n",
       "    <tr style=\"text-align: right;\">\n",
       "      <th>col_0</th>\n",
       "      <th>2</th>\n",
       "      <th>3</th>\n",
       "      <th>4</th>\n",
       "    </tr>\n",
       "    <tr>\n",
       "      <th>PerformanceRating</th>\n",
       "      <th></th>\n",
       "      <th></th>\n",
       "      <th></th>\n",
       "    </tr>\n",
       "  </thead>\n",
       "  <tbody>\n",
       "    <tr>\n",
       "      <th>2</th>\n",
       "      <td>33</td>\n",
       "      <td>6</td>\n",
       "      <td>0</td>\n",
       "    </tr>\n",
       "    <tr>\n",
       "      <th>3</th>\n",
       "      <td>6</td>\n",
       "      <td>141</td>\n",
       "      <td>28</td>\n",
       "    </tr>\n",
       "    <tr>\n",
       "      <th>4</th>\n",
       "      <td>0</td>\n",
       "      <td>6</td>\n",
       "      <td>20</td>\n",
       "    </tr>\n",
       "  </tbody>\n",
       "</table>\n",
       "</div>"
      ],
      "text/plain": [
       "col_0               2    3   4\n",
       "PerformanceRating             \n",
       "2                  33    6   0\n",
       "3                   6  141  28\n",
       "4                   0    6  20"
      ]
     },
     "execution_count": 158,
     "metadata": {},
     "output_type": "execute_result"
    }
   ],
   "source": [
    "pd.crosstab(y_test,ada_y_pred)"
   ]
  },
  {
   "cell_type": "code",
   "execution_count": 159,
   "id": "8988a3e8",
   "metadata": {},
   "outputs": [
    {
     "data": {
      "text/html": [
       "<div>\n",
       "<style scoped>\n",
       "    .dataframe tbody tr th:only-of-type {\n",
       "        vertical-align: middle;\n",
       "    }\n",
       "\n",
       "    .dataframe tbody tr th {\n",
       "        vertical-align: top;\n",
       "    }\n",
       "\n",
       "    .dataframe thead th {\n",
       "        text-align: right;\n",
       "    }\n",
       "</style>\n",
       "<table border=\"1\" class=\"dataframe\">\n",
       "  <thead>\n",
       "    <tr style=\"text-align: right;\">\n",
       "      <th></th>\n",
       "      <th>METRIC</th>\n",
       "      <th>VALUE</th>\n",
       "    </tr>\n",
       "  </thead>\n",
       "  <tbody>\n",
       "    <tr>\n",
       "      <th>0</th>\n",
       "      <td>Accuracy</td>\n",
       "      <td>0.808333</td>\n",
       "    </tr>\n",
       "    <tr>\n",
       "      <th>1</th>\n",
       "      <td>Precision</td>\n",
       "      <td>0.854616</td>\n",
       "    </tr>\n",
       "    <tr>\n",
       "      <th>2</th>\n",
       "      <td>Recall</td>\n",
       "      <td>0.808333</td>\n",
       "    </tr>\n",
       "    <tr>\n",
       "      <th>3</th>\n",
       "      <td>F1 Score</td>\n",
       "      <td>0.822964</td>\n",
       "    </tr>\n",
       "  </tbody>\n",
       "</table>\n",
       "</div>"
      ],
      "text/plain": [
       "      METRIC     VALUE\n",
       "0   Accuracy  0.808333\n",
       "1  Precision  0.854616\n",
       "2     Recall  0.808333\n",
       "3   F1 Score  0.822964"
      ]
     },
     "execution_count": 159,
     "metadata": {},
     "output_type": "execute_result"
    }
   ],
   "source": [
    "ada_Metrics =pd.DataFrame({'METRIC': ['Accuracy','Precision','Recall','F1 Score'],'VALUE' : [ada_acc_test,ada_pre,ada_recall,ada_f1]})\n",
    "ada_Metrics"
   ]
  },
  {
   "cell_type": "code",
   "execution_count": 160,
   "id": "15d7bb9e",
   "metadata": {},
   "outputs": [
    {
     "name": "stdout",
     "output_type": "stream",
     "text": [
      "ADA EVALUATION METRIC:\n",
      "+-----------+----------+\n",
      "| METRIC    |    VALUE |\n",
      "+===========+==========+\n",
      "| Accuracy  | 0.808333 |\n",
      "+-----------+----------+\n",
      "| Precision | 0.854616 |\n",
      "+-----------+----------+\n",
      "| Recall    | 0.808333 |\n",
      "+-----------+----------+\n",
      "| F1 Score  | 0.822964 |\n",
      "+-----------+----------+\n"
     ]
    }
   ],
   "source": [
    "print(\"ADA EVALUATION METRIC:\")\n",
    "print(tabulate(ada_Metrics,headers ='keys',tablefmt= 'grid',showindex = False))"
   ]
  },
  {
   "cell_type": "code",
   "execution_count": null,
   "id": "3664d385",
   "metadata": {},
   "outputs": [],
   "source": []
  },
  {
   "cell_type": "markdown",
   "id": "b1f2de6f",
   "metadata": {},
   "source": [
    "### HyperParameter Tuning in Ada boost"
   ]
  },
  {
   "cell_type": "code",
   "execution_count": 161,
   "id": "f5c0f804",
   "metadata": {},
   "outputs": [],
   "source": [
    "from sklearn.model_selection import RandomizedSearchCV"
   ]
  },
  {
   "cell_type": "code",
   "execution_count": 162,
   "id": "c3f86cd6",
   "metadata": {},
   "outputs": [],
   "source": [
    "param_dist = {\n",
    "    \"n_estimators\": np.arange(50, 501, 50),  # Number of estimators from 50 to 500\n",
    "    \"learning_rate\": np.linspace(0.01, 1.0, 10),  # Learning rate from 0.01 to 1.0\n",
    "    \"base_estimator__max_depth\": [1, 2, 3, 4, 5],  # Max depth of base tree\n",
    "    \"base_estimator__min_samples_split\": [2, 5, 10],  # Minimum samples to split\n",
    "    \"base_estimator__min_samples_leaf\": [1, 2, 5],  # Minimum samples at a leaf\n",
    "}"
   ]
  },
  {
   "cell_type": "code",
   "execution_count": 163,
   "id": "c51676e4",
   "metadata": {},
   "outputs": [],
   "source": [
    "base = DecisionTreeClassifier()\n",
    "ada = AdaBoostClassifier(base_estimator=base, random_state=42)"
   ]
  },
  {
   "cell_type": "code",
   "execution_count": 164,
   "id": "690b8f6c",
   "metadata": {},
   "outputs": [],
   "source": [
    "from sklearn.model_selection import RandomizedSearchCV\n",
    "\n",
    "random_search = RandomizedSearchCV(\n",
    "    estimator=ada,\n",
    "    param_distributions=param_dist,\n",
    "    n_iter=50,  # Number of random combinations to try\n",
    "    scoring=\"accuracy\",  # Use appropriate scoring metric\n",
    "    cv=5,  # 5-fold cross-validation\n",
    "    verbose=2,\n",
    "    random_state=42,\n",
    "    n_jobs=-1  # Use all available cores\n",
    ")"
   ]
  },
  {
   "cell_type": "code",
   "execution_count": 165,
   "id": "2fe4fb39",
   "metadata": {},
   "outputs": [
    {
     "name": "stdout",
     "output_type": "stream",
     "text": [
      "Fitting 5 folds for each of 50 candidates, totalling 250 fits\n"
     ]
    },
    {
     "name": "stderr",
     "output_type": "stream",
     "text": [
      "C:\\Users\\mdsmb\\anaconda3\\Lib\\site-packages\\sklearn\\ensemble\\_base.py:166: FutureWarning: `base_estimator` was renamed to `estimator` in version 1.2 and will be removed in 1.4.\n",
      "  warnings.warn(\n"
     ]
    },
    {
     "data": {
      "text/html": [
       "<style>#sk-container-id-19 {color: black;background-color: white;}#sk-container-id-19 pre{padding: 0;}#sk-container-id-19 div.sk-toggleable {background-color: white;}#sk-container-id-19 label.sk-toggleable__label {cursor: pointer;display: block;width: 100%;margin-bottom: 0;padding: 0.3em;box-sizing: border-box;text-align: center;}#sk-container-id-19 label.sk-toggleable__label-arrow:before {content: \"▸\";float: left;margin-right: 0.25em;color: #696969;}#sk-container-id-19 label.sk-toggleable__label-arrow:hover:before {color: black;}#sk-container-id-19 div.sk-estimator:hover label.sk-toggleable__label-arrow:before {color: black;}#sk-container-id-19 div.sk-toggleable__content {max-height: 0;max-width: 0;overflow: hidden;text-align: left;background-color: #f0f8ff;}#sk-container-id-19 div.sk-toggleable__content pre {margin: 0.2em;color: black;border-radius: 0.25em;background-color: #f0f8ff;}#sk-container-id-19 input.sk-toggleable__control:checked~div.sk-toggleable__content {max-height: 200px;max-width: 100%;overflow: auto;}#sk-container-id-19 input.sk-toggleable__control:checked~label.sk-toggleable__label-arrow:before {content: \"▾\";}#sk-container-id-19 div.sk-estimator input.sk-toggleable__control:checked~label.sk-toggleable__label {background-color: #d4ebff;}#sk-container-id-19 div.sk-label input.sk-toggleable__control:checked~label.sk-toggleable__label {background-color: #d4ebff;}#sk-container-id-19 input.sk-hidden--visually {border: 0;clip: rect(1px 1px 1px 1px);clip: rect(1px, 1px, 1px, 1px);height: 1px;margin: -1px;overflow: hidden;padding: 0;position: absolute;width: 1px;}#sk-container-id-19 div.sk-estimator {font-family: monospace;background-color: #f0f8ff;border: 1px dotted black;border-radius: 0.25em;box-sizing: border-box;margin-bottom: 0.5em;}#sk-container-id-19 div.sk-estimator:hover {background-color: #d4ebff;}#sk-container-id-19 div.sk-parallel-item::after {content: \"\";width: 100%;border-bottom: 1px solid gray;flex-grow: 1;}#sk-container-id-19 div.sk-label:hover label.sk-toggleable__label {background-color: #d4ebff;}#sk-container-id-19 div.sk-serial::before {content: \"\";position: absolute;border-left: 1px solid gray;box-sizing: border-box;top: 0;bottom: 0;left: 50%;z-index: 0;}#sk-container-id-19 div.sk-serial {display: flex;flex-direction: column;align-items: center;background-color: white;padding-right: 0.2em;padding-left: 0.2em;position: relative;}#sk-container-id-19 div.sk-item {position: relative;z-index: 1;}#sk-container-id-19 div.sk-parallel {display: flex;align-items: stretch;justify-content: center;background-color: white;position: relative;}#sk-container-id-19 div.sk-item::before, #sk-container-id-19 div.sk-parallel-item::before {content: \"\";position: absolute;border-left: 1px solid gray;box-sizing: border-box;top: 0;bottom: 0;left: 50%;z-index: -1;}#sk-container-id-19 div.sk-parallel-item {display: flex;flex-direction: column;z-index: 1;position: relative;background-color: white;}#sk-container-id-19 div.sk-parallel-item:first-child::after {align-self: flex-end;width: 50%;}#sk-container-id-19 div.sk-parallel-item:last-child::after {align-self: flex-start;width: 50%;}#sk-container-id-19 div.sk-parallel-item:only-child::after {width: 0;}#sk-container-id-19 div.sk-dashed-wrapped {border: 1px dashed gray;margin: 0 0.4em 0.5em 0.4em;box-sizing: border-box;padding-bottom: 0.4em;background-color: white;}#sk-container-id-19 div.sk-label label {font-family: monospace;font-weight: bold;display: inline-block;line-height: 1.2em;}#sk-container-id-19 div.sk-label-container {text-align: center;}#sk-container-id-19 div.sk-container {/* jupyter's `normalize.less` sets `[hidden] { display: none; }` but bootstrap.min.css set `[hidden] { display: none !important; }` so we also need the `!important` here to be able to override the default hidden behavior on the sphinx rendered scikit-learn.org. See: https://github.com/scikit-learn/scikit-learn/issues/21755 */display: inline-block !important;position: relative;}#sk-container-id-19 div.sk-text-repr-fallback {display: none;}</style><div id=\"sk-container-id-19\" class=\"sk-top-container\"><div class=\"sk-text-repr-fallback\"><pre>RandomizedSearchCV(cv=5,\n",
       "                   estimator=AdaBoostClassifier(base_estimator=DecisionTreeClassifier(),\n",
       "                                                random_state=42),\n",
       "                   n_iter=50, n_jobs=-1,\n",
       "                   param_distributions={&#x27;base_estimator__max_depth&#x27;: [1, 2, 3,\n",
       "                                                                      4, 5],\n",
       "                                        &#x27;base_estimator__min_samples_leaf&#x27;: [1,\n",
       "                                                                             2,\n",
       "                                                                             5],\n",
       "                                        &#x27;base_estimator__min_samples_split&#x27;: [2,\n",
       "                                                                              5,\n",
       "                                                                              10],\n",
       "                                        &#x27;learning_rate&#x27;: array([0.01, 0.12, 0.23, 0.34, 0.45, 0.56, 0.67, 0.78, 0.89, 1.  ]),\n",
       "                                        &#x27;n_estimators&#x27;: array([ 50, 100, 150, 200, 250, 300, 350, 400, 450, 500])},\n",
       "                   random_state=42, scoring=&#x27;accuracy&#x27;, verbose=2)</pre><b>In a Jupyter environment, please rerun this cell to show the HTML representation or trust the notebook. <br />On GitHub, the HTML representation is unable to render, please try loading this page with nbviewer.org.</b></div><div class=\"sk-container\" hidden><div class=\"sk-item sk-dashed-wrapped\"><div class=\"sk-label-container\"><div class=\"sk-label sk-toggleable\"><input class=\"sk-toggleable__control sk-hidden--visually\" id=\"sk-estimator-id-29\" type=\"checkbox\" ><label for=\"sk-estimator-id-29\" class=\"sk-toggleable__label sk-toggleable__label-arrow\">RandomizedSearchCV</label><div class=\"sk-toggleable__content\"><pre>RandomizedSearchCV(cv=5,\n",
       "                   estimator=AdaBoostClassifier(base_estimator=DecisionTreeClassifier(),\n",
       "                                                random_state=42),\n",
       "                   n_iter=50, n_jobs=-1,\n",
       "                   param_distributions={&#x27;base_estimator__max_depth&#x27;: [1, 2, 3,\n",
       "                                                                      4, 5],\n",
       "                                        &#x27;base_estimator__min_samples_leaf&#x27;: [1,\n",
       "                                                                             2,\n",
       "                                                                             5],\n",
       "                                        &#x27;base_estimator__min_samples_split&#x27;: [2,\n",
       "                                                                              5,\n",
       "                                                                              10],\n",
       "                                        &#x27;learning_rate&#x27;: array([0.01, 0.12, 0.23, 0.34, 0.45, 0.56, 0.67, 0.78, 0.89, 1.  ]),\n",
       "                                        &#x27;n_estimators&#x27;: array([ 50, 100, 150, 200, 250, 300, 350, 400, 450, 500])},\n",
       "                   random_state=42, scoring=&#x27;accuracy&#x27;, verbose=2)</pre></div></div></div><div class=\"sk-parallel\"><div class=\"sk-parallel-item\"><div class=\"sk-item\"><div class=\"sk-label-container\"><div class=\"sk-label sk-toggleable\"><input class=\"sk-toggleable__control sk-hidden--visually\" id=\"sk-estimator-id-30\" type=\"checkbox\" ><label for=\"sk-estimator-id-30\" class=\"sk-toggleable__label sk-toggleable__label-arrow\">estimator: AdaBoostClassifier</label><div class=\"sk-toggleable__content\"><pre>AdaBoostClassifier(base_estimator=DecisionTreeClassifier(), random_state=42)</pre></div></div></div><div class=\"sk-serial\"><div class=\"sk-item sk-dashed-wrapped\"><div class=\"sk-parallel\"><div class=\"sk-parallel-item\"><div class=\"sk-item\"><div class=\"sk-label-container\"><div class=\"sk-label sk-toggleable\"><input class=\"sk-toggleable__control sk-hidden--visually\" id=\"sk-estimator-id-31\" type=\"checkbox\" ><label for=\"sk-estimator-id-31\" class=\"sk-toggleable__label sk-toggleable__label-arrow\">base_estimator: DecisionTreeClassifier</label><div class=\"sk-toggleable__content\"><pre>DecisionTreeClassifier()</pre></div></div></div><div class=\"sk-serial\"><div class=\"sk-item\"><div class=\"sk-estimator sk-toggleable\"><input class=\"sk-toggleable__control sk-hidden--visually\" id=\"sk-estimator-id-32\" type=\"checkbox\" ><label for=\"sk-estimator-id-32\" class=\"sk-toggleable__label sk-toggleable__label-arrow\">DecisionTreeClassifier</label><div class=\"sk-toggleable__content\"><pre>DecisionTreeClassifier()</pre></div></div></div></div></div></div></div></div></div></div></div></div></div></div></div>"
      ],
      "text/plain": [
       "RandomizedSearchCV(cv=5,\n",
       "                   estimator=AdaBoostClassifier(base_estimator=DecisionTreeClassifier(),\n",
       "                                                random_state=42),\n",
       "                   n_iter=50, n_jobs=-1,\n",
       "                   param_distributions={'base_estimator__max_depth': [1, 2, 3,\n",
       "                                                                      4, 5],\n",
       "                                        'base_estimator__min_samples_leaf': [1,\n",
       "                                                                             2,\n",
       "                                                                             5],\n",
       "                                        'base_estimator__min_samples_split': [2,\n",
       "                                                                              5,\n",
       "                                                                              10],\n",
       "                                        'learning_rate': array([0.01, 0.12, 0.23, 0.34, 0.45, 0.56, 0.67, 0.78, 0.89, 1.  ]),\n",
       "                                        'n_estimators': array([ 50, 100, 150, 200, 250, 300, 350, 400, 450, 500])},\n",
       "                   random_state=42, scoring='accuracy', verbose=2)"
      ]
     },
     "execution_count": 165,
     "metadata": {},
     "output_type": "execute_result"
    }
   ],
   "source": [
    "random_search.fit(x_sm, y_sm)"
   ]
  },
  {
   "cell_type": "code",
   "execution_count": 166,
   "id": "414a1bfc",
   "metadata": {},
   "outputs": [
    {
     "data": {
      "text/plain": [
       "{'n_estimators': 350,\n",
       " 'learning_rate': 0.89,\n",
       " 'base_estimator__min_samples_split': 2,\n",
       " 'base_estimator__min_samples_leaf': 1,\n",
       " 'base_estimator__max_depth': 5}"
      ]
     },
     "execution_count": 166,
     "metadata": {},
     "output_type": "execute_result"
    }
   ],
   "source": [
    "random_search.best_params_"
   ]
  },
  {
   "cell_type": "code",
   "execution_count": 167,
   "id": "90c639b9",
   "metadata": {},
   "outputs": [],
   "source": [
    "base_estimator = DecisionTreeClassifier(\n",
    "    min_samples_split=5,\n",
    "    min_samples_leaf=2,\n",
    "    max_depth=5,\n",
    "    random_state=42)\n"
   ]
  },
  {
   "cell_type": "code",
   "execution_count": 168,
   "id": "7b79ef13",
   "metadata": {},
   "outputs": [],
   "source": [
    "ada1 =AdaBoostClassifier(\n",
    "    base_estimator=base_estimator,\n",
    "    n_estimators=400,\n",
    "    learning_rate=0.89,\n",
    "    random_state=42\n",
    ")\n",
    "\n"
   ]
  },
  {
   "cell_type": "code",
   "execution_count": 169,
   "id": "1704fa83",
   "metadata": {},
   "outputs": [
    {
     "name": "stderr",
     "output_type": "stream",
     "text": [
      "C:\\Users\\mdsmb\\anaconda3\\Lib\\site-packages\\sklearn\\ensemble\\_base.py:166: FutureWarning: `base_estimator` was renamed to `estimator` in version 1.2 and will be removed in 1.4.\n",
      "  warnings.warn(\n"
     ]
    },
    {
     "data": {
      "text/html": [
       "<style>#sk-container-id-20 {color: black;background-color: white;}#sk-container-id-20 pre{padding: 0;}#sk-container-id-20 div.sk-toggleable {background-color: white;}#sk-container-id-20 label.sk-toggleable__label {cursor: pointer;display: block;width: 100%;margin-bottom: 0;padding: 0.3em;box-sizing: border-box;text-align: center;}#sk-container-id-20 label.sk-toggleable__label-arrow:before {content: \"▸\";float: left;margin-right: 0.25em;color: #696969;}#sk-container-id-20 label.sk-toggleable__label-arrow:hover:before {color: black;}#sk-container-id-20 div.sk-estimator:hover label.sk-toggleable__label-arrow:before {color: black;}#sk-container-id-20 div.sk-toggleable__content {max-height: 0;max-width: 0;overflow: hidden;text-align: left;background-color: #f0f8ff;}#sk-container-id-20 div.sk-toggleable__content pre {margin: 0.2em;color: black;border-radius: 0.25em;background-color: #f0f8ff;}#sk-container-id-20 input.sk-toggleable__control:checked~div.sk-toggleable__content {max-height: 200px;max-width: 100%;overflow: auto;}#sk-container-id-20 input.sk-toggleable__control:checked~label.sk-toggleable__label-arrow:before {content: \"▾\";}#sk-container-id-20 div.sk-estimator input.sk-toggleable__control:checked~label.sk-toggleable__label {background-color: #d4ebff;}#sk-container-id-20 div.sk-label input.sk-toggleable__control:checked~label.sk-toggleable__label {background-color: #d4ebff;}#sk-container-id-20 input.sk-hidden--visually {border: 0;clip: rect(1px 1px 1px 1px);clip: rect(1px, 1px, 1px, 1px);height: 1px;margin: -1px;overflow: hidden;padding: 0;position: absolute;width: 1px;}#sk-container-id-20 div.sk-estimator {font-family: monospace;background-color: #f0f8ff;border: 1px dotted black;border-radius: 0.25em;box-sizing: border-box;margin-bottom: 0.5em;}#sk-container-id-20 div.sk-estimator:hover {background-color: #d4ebff;}#sk-container-id-20 div.sk-parallel-item::after {content: \"\";width: 100%;border-bottom: 1px solid gray;flex-grow: 1;}#sk-container-id-20 div.sk-label:hover label.sk-toggleable__label {background-color: #d4ebff;}#sk-container-id-20 div.sk-serial::before {content: \"\";position: absolute;border-left: 1px solid gray;box-sizing: border-box;top: 0;bottom: 0;left: 50%;z-index: 0;}#sk-container-id-20 div.sk-serial {display: flex;flex-direction: column;align-items: center;background-color: white;padding-right: 0.2em;padding-left: 0.2em;position: relative;}#sk-container-id-20 div.sk-item {position: relative;z-index: 1;}#sk-container-id-20 div.sk-parallel {display: flex;align-items: stretch;justify-content: center;background-color: white;position: relative;}#sk-container-id-20 div.sk-item::before, #sk-container-id-20 div.sk-parallel-item::before {content: \"\";position: absolute;border-left: 1px solid gray;box-sizing: border-box;top: 0;bottom: 0;left: 50%;z-index: -1;}#sk-container-id-20 div.sk-parallel-item {display: flex;flex-direction: column;z-index: 1;position: relative;background-color: white;}#sk-container-id-20 div.sk-parallel-item:first-child::after {align-self: flex-end;width: 50%;}#sk-container-id-20 div.sk-parallel-item:last-child::after {align-self: flex-start;width: 50%;}#sk-container-id-20 div.sk-parallel-item:only-child::after {width: 0;}#sk-container-id-20 div.sk-dashed-wrapped {border: 1px dashed gray;margin: 0 0.4em 0.5em 0.4em;box-sizing: border-box;padding-bottom: 0.4em;background-color: white;}#sk-container-id-20 div.sk-label label {font-family: monospace;font-weight: bold;display: inline-block;line-height: 1.2em;}#sk-container-id-20 div.sk-label-container {text-align: center;}#sk-container-id-20 div.sk-container {/* jupyter's `normalize.less` sets `[hidden] { display: none; }` but bootstrap.min.css set `[hidden] { display: none !important; }` so we also need the `!important` here to be able to override the default hidden behavior on the sphinx rendered scikit-learn.org. See: https://github.com/scikit-learn/scikit-learn/issues/21755 */display: inline-block !important;position: relative;}#sk-container-id-20 div.sk-text-repr-fallback {display: none;}</style><div id=\"sk-container-id-20\" class=\"sk-top-container\"><div class=\"sk-text-repr-fallback\"><pre>AdaBoostClassifier(base_estimator=DecisionTreeClassifier(max_depth=5,\n",
       "                                                         min_samples_leaf=2,\n",
       "                                                         min_samples_split=5,\n",
       "                                                         random_state=42),\n",
       "                   learning_rate=0.89, n_estimators=400, random_state=42)</pre><b>In a Jupyter environment, please rerun this cell to show the HTML representation or trust the notebook. <br />On GitHub, the HTML representation is unable to render, please try loading this page with nbviewer.org.</b></div><div class=\"sk-container\" hidden><div class=\"sk-item sk-dashed-wrapped\"><div class=\"sk-label-container\"><div class=\"sk-label sk-toggleable\"><input class=\"sk-toggleable__control sk-hidden--visually\" id=\"sk-estimator-id-33\" type=\"checkbox\" ><label for=\"sk-estimator-id-33\" class=\"sk-toggleable__label sk-toggleable__label-arrow\">AdaBoostClassifier</label><div class=\"sk-toggleable__content\"><pre>AdaBoostClassifier(base_estimator=DecisionTreeClassifier(max_depth=5,\n",
       "                                                         min_samples_leaf=2,\n",
       "                                                         min_samples_split=5,\n",
       "                                                         random_state=42),\n",
       "                   learning_rate=0.89, n_estimators=400, random_state=42)</pre></div></div></div><div class=\"sk-parallel\"><div class=\"sk-parallel-item\"><div class=\"sk-item\"><div class=\"sk-label-container\"><div class=\"sk-label sk-toggleable\"><input class=\"sk-toggleable__control sk-hidden--visually\" id=\"sk-estimator-id-34\" type=\"checkbox\" ><label for=\"sk-estimator-id-34\" class=\"sk-toggleable__label sk-toggleable__label-arrow\">base_estimator: DecisionTreeClassifier</label><div class=\"sk-toggleable__content\"><pre>DecisionTreeClassifier(max_depth=5, min_samples_leaf=2, min_samples_split=5,\n",
       "                       random_state=42)</pre></div></div></div><div class=\"sk-serial\"><div class=\"sk-item\"><div class=\"sk-estimator sk-toggleable\"><input class=\"sk-toggleable__control sk-hidden--visually\" id=\"sk-estimator-id-35\" type=\"checkbox\" ><label for=\"sk-estimator-id-35\" class=\"sk-toggleable__label sk-toggleable__label-arrow\">DecisionTreeClassifier</label><div class=\"sk-toggleable__content\"><pre>DecisionTreeClassifier(max_depth=5, min_samples_leaf=2, min_samples_split=5,\n",
       "                       random_state=42)</pre></div></div></div></div></div></div></div></div></div></div>"
      ],
      "text/plain": [
       "AdaBoostClassifier(base_estimator=DecisionTreeClassifier(max_depth=5,\n",
       "                                                         min_samples_leaf=2,\n",
       "                                                         min_samples_split=5,\n",
       "                                                         random_state=42),\n",
       "                   learning_rate=0.89, n_estimators=400, random_state=42)"
      ]
     },
     "execution_count": 169,
     "metadata": {},
     "output_type": "execute_result"
    }
   ],
   "source": [
    "ada1.fit(x_sm,y_sm)"
   ]
  },
  {
   "cell_type": "code",
   "execution_count": 170,
   "id": "4b4b19d3",
   "metadata": {},
   "outputs": [
    {
     "data": {
      "text/plain": [
       "array([3, 3, 3, 2, 3, 3, 2, 3, 3, 3, 3, 3, 3, 3, 3, 3, 3, 3, 3, 3, 3, 2,\n",
       "       3, 3, 3, 3, 4, 3, 2, 3, 3, 4, 3, 3, 3, 3, 3, 3, 4, 3, 3, 3, 3, 3,\n",
       "       3, 4, 4, 3, 3, 3, 3, 2, 3, 4, 2, 3, 3, 3, 3, 3, 3, 4, 4, 3, 3, 3,\n",
       "       2, 3, 3, 4, 3, 3, 3, 3, 3, 3, 3, 3, 3, 3, 3, 2, 3, 3, 3, 3, 2, 3,\n",
       "       3, 3, 3, 2, 4, 3, 3, 3, 3, 3, 3, 2, 3, 3, 2, 3, 3, 3, 2, 2, 2, 3,\n",
       "       3, 3, 4, 3, 3, 4, 3, 3, 3, 3, 3, 4, 3, 2, 3, 3, 2, 3, 3, 4, 3, 3,\n",
       "       3, 3, 3, 2, 3, 3, 3, 3, 3, 2, 2, 2, 3, 3, 3, 2, 3, 4, 3, 3, 3, 3,\n",
       "       3, 4, 3, 2, 3, 3, 3, 3, 3, 3, 3, 3, 3, 3, 3, 3, 4, 2, 3, 2, 3, 3,\n",
       "       3, 3, 2, 3, 3, 3, 3, 3, 3, 3, 3, 3, 3, 2, 3, 3, 3, 3, 3, 3, 3, 3,\n",
       "       3, 3, 2, 3, 3, 3, 2, 3, 3, 3, 3, 4, 3, 3, 3, 3, 3, 3, 2, 2, 2, 3,\n",
       "       4, 3, 2, 4, 3, 3, 2, 3, 3, 3, 3, 3, 3, 3, 3, 2, 3, 3, 3, 2],\n",
       "      dtype=int64)"
      ]
     },
     "execution_count": 170,
     "metadata": {},
     "output_type": "execute_result"
    }
   ],
   "source": [
    "ada1_y_pred = ada1.predict(x_test)\n",
    "ada1_y_pred"
   ]
  },
  {
   "cell_type": "code",
   "execution_count": 171,
   "id": "1be07eee",
   "metadata": {},
   "outputs": [
    {
     "name": "stdout",
     "output_type": "stream",
     "text": [
      "ACCURACY SCORE: 0.9\n",
      "PRECISION SCORE: 0.8995803140096617\n",
      "RECALL SCORE: 0.9\n",
      "F1 SCORE: 0.8976106737717492\n",
      "------\n",
      "ADA CLASSIFICATION REPORT:\n",
      "              precision    recall  f1-score   support\n",
      "\n",
      "           2       0.81      0.74      0.77        39\n",
      "           3       0.91      0.96      0.94       175\n",
      "           4       0.95      0.73      0.83        26\n",
      "\n",
      "    accuracy                           0.90       240\n",
      "   macro avg       0.89      0.81      0.85       240\n",
      "weighted avg       0.90      0.90      0.90       240\n",
      "\n"
     ]
    }
   ],
   "source": [
    "ada1_acc_test = accuracy_score(y_test,ada1_y_pred)\n",
    "print('ACCURACY SCORE:', ada1_acc_test)\n",
    "ada1_pre = precision_score(y_test,ada1_y_pred, average = 'weighted')\n",
    "print('PRECISION SCORE:',ada1_pre)\n",
    "ada1_recall = recall_score(y_test,ada1_y_pred, average ='weighted')\n",
    "print('RECALL SCORE:',ada1_recall)\n",
    "ada1_f1 = f1_score(y_test,ada1_y_pred, average = 'weighted')\n",
    "print('F1 SCORE:',ada1_f1)\n",
    "print('------')\n",
    "print('ADA CLASSIFICATION REPORT:')\n",
    "print(classification_report(y_test,ada1_y_pred))"
   ]
  },
  {
   "cell_type": "code",
   "execution_count": 172,
   "id": "0736caec",
   "metadata": {},
   "outputs": [
    {
     "data": {
      "text/html": [
       "<div>\n",
       "<style scoped>\n",
       "    .dataframe tbody tr th:only-of-type {\n",
       "        vertical-align: middle;\n",
       "    }\n",
       "\n",
       "    .dataframe tbody tr th {\n",
       "        vertical-align: top;\n",
       "    }\n",
       "\n",
       "    .dataframe thead th {\n",
       "        text-align: right;\n",
       "    }\n",
       "</style>\n",
       "<table border=\"1\" class=\"dataframe\">\n",
       "  <thead>\n",
       "    <tr style=\"text-align: right;\">\n",
       "      <th>col_0</th>\n",
       "      <th>2</th>\n",
       "      <th>3</th>\n",
       "      <th>4</th>\n",
       "    </tr>\n",
       "    <tr>\n",
       "      <th>PerformanceRating</th>\n",
       "      <th></th>\n",
       "      <th></th>\n",
       "      <th></th>\n",
       "    </tr>\n",
       "  </thead>\n",
       "  <tbody>\n",
       "    <tr>\n",
       "      <th>2</th>\n",
       "      <td>29</td>\n",
       "      <td>10</td>\n",
       "      <td>0</td>\n",
       "    </tr>\n",
       "    <tr>\n",
       "      <th>3</th>\n",
       "      <td>6</td>\n",
       "      <td>168</td>\n",
       "      <td>1</td>\n",
       "    </tr>\n",
       "    <tr>\n",
       "      <th>4</th>\n",
       "      <td>1</td>\n",
       "      <td>6</td>\n",
       "      <td>19</td>\n",
       "    </tr>\n",
       "  </tbody>\n",
       "</table>\n",
       "</div>"
      ],
      "text/plain": [
       "col_0               2    3   4\n",
       "PerformanceRating             \n",
       "2                  29   10   0\n",
       "3                   6  168   1\n",
       "4                   1    6  19"
      ]
     },
     "execution_count": 172,
     "metadata": {},
     "output_type": "execute_result"
    }
   ],
   "source": [
    "pd.crosstab(y_test,ada1_y_pred)"
   ]
  },
  {
   "cell_type": "code",
   "execution_count": 173,
   "id": "776a0e53",
   "metadata": {},
   "outputs": [
    {
     "data": {
      "text/html": [
       "<div>\n",
       "<style scoped>\n",
       "    .dataframe tbody tr th:only-of-type {\n",
       "        vertical-align: middle;\n",
       "    }\n",
       "\n",
       "    .dataframe tbody tr th {\n",
       "        vertical-align: top;\n",
       "    }\n",
       "\n",
       "    .dataframe thead th {\n",
       "        text-align: right;\n",
       "    }\n",
       "</style>\n",
       "<table border=\"1\" class=\"dataframe\">\n",
       "  <thead>\n",
       "    <tr style=\"text-align: right;\">\n",
       "      <th></th>\n",
       "      <th>METRIC</th>\n",
       "      <th>VALUE</th>\n",
       "    </tr>\n",
       "  </thead>\n",
       "  <tbody>\n",
       "    <tr>\n",
       "      <th>0</th>\n",
       "      <td>Accuracy</td>\n",
       "      <td>0.900000</td>\n",
       "    </tr>\n",
       "    <tr>\n",
       "      <th>1</th>\n",
       "      <td>Precision</td>\n",
       "      <td>0.899580</td>\n",
       "    </tr>\n",
       "    <tr>\n",
       "      <th>2</th>\n",
       "      <td>Recall</td>\n",
       "      <td>0.900000</td>\n",
       "    </tr>\n",
       "    <tr>\n",
       "      <th>3</th>\n",
       "      <td>F1 Score</td>\n",
       "      <td>0.897611</td>\n",
       "    </tr>\n",
       "  </tbody>\n",
       "</table>\n",
       "</div>"
      ],
      "text/plain": [
       "      METRIC     VALUE\n",
       "0   Accuracy  0.900000\n",
       "1  Precision  0.899580\n",
       "2     Recall  0.900000\n",
       "3   F1 Score  0.897611"
      ]
     },
     "execution_count": 173,
     "metadata": {},
     "output_type": "execute_result"
    }
   ],
   "source": [
    "ada1_Metrics =pd.DataFrame({'METRIC': ['Accuracy','Precision','Recall','F1 Score'],'VALUE' : [ada1_acc_test,ada1_pre,ada1_recall,ada1_f1]})\n",
    "ada1_Metrics"
   ]
  },
  {
   "cell_type": "code",
   "execution_count": 174,
   "id": "eb0d4bba",
   "metadata": {},
   "outputs": [
    {
     "name": "stdout",
     "output_type": "stream",
     "text": [
      "ADA EVALUATION METRIC AFTER HYPERPARAMETER TUNING:\n",
      "+-----------+----------+\n",
      "| METRIC    |    VALUE |\n",
      "+===========+==========+\n",
      "| Accuracy  | 0.9      |\n",
      "+-----------+----------+\n",
      "| Precision | 0.89958  |\n",
      "+-----------+----------+\n",
      "| Recall    | 0.9      |\n",
      "+-----------+----------+\n",
      "| F1 Score  | 0.897611 |\n",
      "+-----------+----------+\n"
     ]
    }
   ],
   "source": [
    "print(\"ADA EVALUATION METRIC AFTER HYPERPARAMETER TUNING:\")\n",
    "print(tabulate(ada1_Metrics,headers ='keys',tablefmt= 'grid',showindex = False))"
   ]
  },
  {
   "cell_type": "code",
   "execution_count": null,
   "id": "5e46e89c",
   "metadata": {},
   "outputs": [],
   "source": []
  },
  {
   "cell_type": "markdown",
   "id": "26749c99",
   "metadata": {},
   "source": [
    "- AdaBoost showed significant improvement after hyperparameter tuning. Its high accuracy and precision after tuning make it a useful model for predicting employee performance, though it still doesn’t quite match the performance of Random Forest or Gradient Boosting."
   ]
  },
  {
   "cell_type": "code",
   "execution_count": null,
   "id": "abf4855f",
   "metadata": {},
   "outputs": [],
   "source": []
  },
  {
   "cell_type": "code",
   "execution_count": null,
   "id": "84f07008",
   "metadata": {},
   "outputs": [],
   "source": []
  },
  {
   "cell_type": "code",
   "execution_count": null,
   "id": "03d7ba91",
   "metadata": {},
   "outputs": [],
   "source": []
  },
  {
   "cell_type": "markdown",
   "id": "9e2d5d65",
   "metadata": {},
   "source": [
    "# 8. Extra Trees Classifier"
   ]
  },
  {
   "cell_type": "code",
   "execution_count": 175,
   "id": "2fe7d2cb",
   "metadata": {},
   "outputs": [],
   "source": [
    "from sklearn.ensemble import ExtraTreesClassifier"
   ]
  },
  {
   "cell_type": "code",
   "execution_count": 176,
   "id": "18b918d7",
   "metadata": {},
   "outputs": [],
   "source": [
    "et = ExtraTreesClassifier(n_estimators = 100)"
   ]
  },
  {
   "cell_type": "code",
   "execution_count": 177,
   "id": "c25f2a42",
   "metadata": {},
   "outputs": [
    {
     "data": {
      "text/html": [
       "<style>#sk-container-id-21 {color: black;background-color: white;}#sk-container-id-21 pre{padding: 0;}#sk-container-id-21 div.sk-toggleable {background-color: white;}#sk-container-id-21 label.sk-toggleable__label {cursor: pointer;display: block;width: 100%;margin-bottom: 0;padding: 0.3em;box-sizing: border-box;text-align: center;}#sk-container-id-21 label.sk-toggleable__label-arrow:before {content: \"▸\";float: left;margin-right: 0.25em;color: #696969;}#sk-container-id-21 label.sk-toggleable__label-arrow:hover:before {color: black;}#sk-container-id-21 div.sk-estimator:hover label.sk-toggleable__label-arrow:before {color: black;}#sk-container-id-21 div.sk-toggleable__content {max-height: 0;max-width: 0;overflow: hidden;text-align: left;background-color: #f0f8ff;}#sk-container-id-21 div.sk-toggleable__content pre {margin: 0.2em;color: black;border-radius: 0.25em;background-color: #f0f8ff;}#sk-container-id-21 input.sk-toggleable__control:checked~div.sk-toggleable__content {max-height: 200px;max-width: 100%;overflow: auto;}#sk-container-id-21 input.sk-toggleable__control:checked~label.sk-toggleable__label-arrow:before {content: \"▾\";}#sk-container-id-21 div.sk-estimator input.sk-toggleable__control:checked~label.sk-toggleable__label {background-color: #d4ebff;}#sk-container-id-21 div.sk-label input.sk-toggleable__control:checked~label.sk-toggleable__label {background-color: #d4ebff;}#sk-container-id-21 input.sk-hidden--visually {border: 0;clip: rect(1px 1px 1px 1px);clip: rect(1px, 1px, 1px, 1px);height: 1px;margin: -1px;overflow: hidden;padding: 0;position: absolute;width: 1px;}#sk-container-id-21 div.sk-estimator {font-family: monospace;background-color: #f0f8ff;border: 1px dotted black;border-radius: 0.25em;box-sizing: border-box;margin-bottom: 0.5em;}#sk-container-id-21 div.sk-estimator:hover {background-color: #d4ebff;}#sk-container-id-21 div.sk-parallel-item::after {content: \"\";width: 100%;border-bottom: 1px solid gray;flex-grow: 1;}#sk-container-id-21 div.sk-label:hover label.sk-toggleable__label {background-color: #d4ebff;}#sk-container-id-21 div.sk-serial::before {content: \"\";position: absolute;border-left: 1px solid gray;box-sizing: border-box;top: 0;bottom: 0;left: 50%;z-index: 0;}#sk-container-id-21 div.sk-serial {display: flex;flex-direction: column;align-items: center;background-color: white;padding-right: 0.2em;padding-left: 0.2em;position: relative;}#sk-container-id-21 div.sk-item {position: relative;z-index: 1;}#sk-container-id-21 div.sk-parallel {display: flex;align-items: stretch;justify-content: center;background-color: white;position: relative;}#sk-container-id-21 div.sk-item::before, #sk-container-id-21 div.sk-parallel-item::before {content: \"\";position: absolute;border-left: 1px solid gray;box-sizing: border-box;top: 0;bottom: 0;left: 50%;z-index: -1;}#sk-container-id-21 div.sk-parallel-item {display: flex;flex-direction: column;z-index: 1;position: relative;background-color: white;}#sk-container-id-21 div.sk-parallel-item:first-child::after {align-self: flex-end;width: 50%;}#sk-container-id-21 div.sk-parallel-item:last-child::after {align-self: flex-start;width: 50%;}#sk-container-id-21 div.sk-parallel-item:only-child::after {width: 0;}#sk-container-id-21 div.sk-dashed-wrapped {border: 1px dashed gray;margin: 0 0.4em 0.5em 0.4em;box-sizing: border-box;padding-bottom: 0.4em;background-color: white;}#sk-container-id-21 div.sk-label label {font-family: monospace;font-weight: bold;display: inline-block;line-height: 1.2em;}#sk-container-id-21 div.sk-label-container {text-align: center;}#sk-container-id-21 div.sk-container {/* jupyter's `normalize.less` sets `[hidden] { display: none; }` but bootstrap.min.css set `[hidden] { display: none !important; }` so we also need the `!important` here to be able to override the default hidden behavior on the sphinx rendered scikit-learn.org. See: https://github.com/scikit-learn/scikit-learn/issues/21755 */display: inline-block !important;position: relative;}#sk-container-id-21 div.sk-text-repr-fallback {display: none;}</style><div id=\"sk-container-id-21\" class=\"sk-top-container\"><div class=\"sk-text-repr-fallback\"><pre>ExtraTreesClassifier()</pre><b>In a Jupyter environment, please rerun this cell to show the HTML representation or trust the notebook. <br />On GitHub, the HTML representation is unable to render, please try loading this page with nbviewer.org.</b></div><div class=\"sk-container\" hidden><div class=\"sk-item\"><div class=\"sk-estimator sk-toggleable\"><input class=\"sk-toggleable__control sk-hidden--visually\" id=\"sk-estimator-id-36\" type=\"checkbox\" checked><label for=\"sk-estimator-id-36\" class=\"sk-toggleable__label sk-toggleable__label-arrow\">ExtraTreesClassifier</label><div class=\"sk-toggleable__content\"><pre>ExtraTreesClassifier()</pre></div></div></div></div></div>"
      ],
      "text/plain": [
       "ExtraTreesClassifier()"
      ]
     },
     "execution_count": 177,
     "metadata": {},
     "output_type": "execute_result"
    }
   ],
   "source": [
    "et.fit(x_sm,y_sm)"
   ]
  },
  {
   "cell_type": "markdown",
   "id": "d2c9d086",
   "metadata": {},
   "source": [
    "###### Prediction"
   ]
  },
  {
   "cell_type": "code",
   "execution_count": 178,
   "id": "f0a31862",
   "metadata": {},
   "outputs": [
    {
     "data": {
      "text/plain": [
       "array([3, 2, 3, ..., 4, 4, 4], dtype=int64)"
      ]
     },
     "execution_count": 178,
     "metadata": {},
     "output_type": "execute_result"
    }
   ],
   "source": [
    "et_y_train = et.predict(x_sm)\n",
    "et_y_train"
   ]
  },
  {
   "cell_type": "code",
   "execution_count": 179,
   "id": "6a4a6884",
   "metadata": {},
   "outputs": [
    {
     "data": {
      "text/plain": [
       "array([3, 3, 3, 3, 3, 3, 3, 3, 3, 3, 3, 3, 3, 3, 3, 3, 3, 3, 3, 3, 3, 2,\n",
       "       3, 3, 3, 3, 4, 3, 3, 3, 3, 4, 3, 3, 3, 4, 3, 3, 4, 3, 3, 3, 3, 2,\n",
       "       3, 4, 4, 3, 4, 3, 3, 2, 3, 4, 2, 3, 3, 3, 3, 3, 3, 4, 4, 3, 3, 3,\n",
       "       2, 3, 3, 4, 3, 3, 3, 3, 3, 3, 3, 3, 2, 3, 3, 2, 3, 3, 3, 3, 2, 4,\n",
       "       3, 3, 3, 2, 4, 3, 3, 3, 3, 3, 3, 2, 3, 3, 2, 3, 3, 3, 2, 2, 2, 3,\n",
       "       3, 3, 4, 3, 3, 3, 3, 3, 3, 3, 3, 4, 3, 2, 3, 3, 2, 3, 3, 4, 3, 3,\n",
       "       3, 3, 3, 2, 2, 3, 3, 3, 3, 2, 2, 2, 3, 3, 3, 2, 3, 4, 2, 3, 3, 3,\n",
       "       3, 3, 3, 2, 3, 3, 3, 3, 3, 4, 3, 3, 3, 3, 3, 3, 4, 2, 3, 2, 3, 3,\n",
       "       3, 3, 2, 3, 3, 3, 3, 3, 3, 3, 3, 3, 3, 2, 3, 3, 3, 3, 3, 3, 3, 3,\n",
       "       3, 3, 3, 3, 3, 3, 3, 3, 3, 3, 3, 3, 3, 3, 3, 3, 3, 2, 2, 2, 2, 3,\n",
       "       4, 3, 3, 3, 3, 3, 2, 2, 3, 3, 3, 2, 3, 3, 3, 2, 3, 3, 3, 2],\n",
       "      dtype=int64)"
      ]
     },
     "execution_count": 179,
     "metadata": {},
     "output_type": "execute_result"
    }
   ],
   "source": [
    "et_y_pred = et.predict(x_test)\n",
    "et_y_pred"
   ]
  },
  {
   "cell_type": "markdown",
   "id": "b6f66799",
   "metadata": {},
   "source": [
    "###### Evaluation"
   ]
  },
  {
   "cell_type": "code",
   "execution_count": 180,
   "id": "6a582a8a",
   "metadata": {},
   "outputs": [
    {
     "data": {
      "text/plain": [
       "1.0"
      ]
     },
     "execution_count": 180,
     "metadata": {},
     "output_type": "execute_result"
    }
   ],
   "source": [
    "et_acc_train  = accuracy_score(y_sm,et_y_train)\n",
    "et_acc_train"
   ]
  },
  {
   "cell_type": "code",
   "execution_count": 181,
   "id": "c5fb0986",
   "metadata": {},
   "outputs": [
    {
     "name": "stdout",
     "output_type": "stream",
     "text": [
      "              precision    recall  f1-score   support\n",
      "\n",
      "           2       1.00      1.00      1.00       699\n",
      "           3       1.00      1.00      1.00       699\n",
      "           4       1.00      1.00      1.00       699\n",
      "\n",
      "    accuracy                           1.00      2097\n",
      "   macro avg       1.00      1.00      1.00      2097\n",
      "weighted avg       1.00      1.00      1.00      2097\n",
      "\n"
     ]
    }
   ],
   "source": [
    "print(classification_report(y_sm,et_y_train))"
   ]
  },
  {
   "cell_type": "code",
   "execution_count": 182,
   "id": "4c14bb78",
   "metadata": {},
   "outputs": [
    {
     "name": "stdout",
     "output_type": "stream",
     "text": [
      "ACCURACY SCORE: 0.8416666666666667\n",
      "PRECISION SCORE: 0.8389960247132378\n",
      "RECALL SCORE: 0.8416666666666667\n",
      "F1 SCORE: 0.8385466870357822\n",
      "------\n",
      "ET CLASSIFICATION REPORT:\n",
      "              precision    recall  f1-score   support\n",
      "\n",
      "           2       0.65      0.62      0.63        39\n",
      "           3       0.88      0.92      0.90       175\n",
      "           4       0.85      0.65      0.74        26\n",
      "\n",
      "    accuracy                           0.84       240\n",
      "   macro avg       0.79      0.73      0.76       240\n",
      "weighted avg       0.84      0.84      0.84       240\n",
      "\n"
     ]
    }
   ],
   "source": [
    "et_acc_test = accuracy_score(y_test,et_y_pred)\n",
    "print('ACCURACY SCORE:', et_acc_test)\n",
    "et_pre = precision_score(y_test,et_y_pred, average = 'weighted')\n",
    "print('PRECISION SCORE:',et_pre)\n",
    "et_recall = recall_score(y_test,et_y_pred, average ='weighted')\n",
    "print('RECALL SCORE:',et_recall)\n",
    "et_f1 = f1_score(y_test,et_y_pred, average = 'weighted')\n",
    "print('F1 SCORE:',et_f1)\n",
    "print('------')\n",
    "print('ET CLASSIFICATION REPORT:')\n",
    "print(classification_report(y_test,et_y_pred))"
   ]
  },
  {
   "cell_type": "code",
   "execution_count": null,
   "id": "c1e49159",
   "metadata": {},
   "outputs": [],
   "source": []
  },
  {
   "cell_type": "markdown",
   "id": "145243d9",
   "metadata": {},
   "source": [
    "### HyperParameter Tuning in ETC"
   ]
  },
  {
   "cell_type": "code",
   "execution_count": 183,
   "id": "e52b4d8c",
   "metadata": {},
   "outputs": [],
   "source": [
    "param_dist = {\n",
    "    \"n_estimators\": np.arange(50, 501, 50),  # Number of estimators from 50 to 500\n",
    "    \"max_depth\": [None, 10, 20, 30, 40, 50],  # Depth of trees\n",
    "    \"min_samples_split\": [2, 5, 10],  # Minimum samples to split a node\n",
    "    \"min_samples_leaf\": [1, 2, 5],  # Minimum samples at leaf\n",
    "    \"max_features\": [\"sqrt\", \"log2\", None],  # Number of features for split\n",
    "}"
   ]
  },
  {
   "cell_type": "code",
   "execution_count": 184,
   "id": "d9c68fd5",
   "metadata": {},
   "outputs": [],
   "source": [
    "etc = ExtraTreesClassifier(random_state=42)"
   ]
  },
  {
   "cell_type": "code",
   "execution_count": 185,
   "id": "27b5491b",
   "metadata": {},
   "outputs": [],
   "source": [
    "random_search = RandomizedSearchCV(\n",
    "    estimator=etc,\n",
    "    param_distributions=param_dist,\n",
    "    n_iter=50,  # Number of random combinations to try\n",
    "    scoring=\"accuracy\",  # Scoring metric\n",
    "    cv=5,  # 5-fold cross-validation\n",
    "    verbose=2,\n",
    "    random_state=42,\n",
    "    n_jobs=-1  # Use all cores\n",
    ")"
   ]
  },
  {
   "cell_type": "code",
   "execution_count": 186,
   "id": "882ebfed",
   "metadata": {},
   "outputs": [
    {
     "name": "stdout",
     "output_type": "stream",
     "text": [
      "Fitting 5 folds for each of 50 candidates, totalling 250 fits\n"
     ]
    },
    {
     "data": {
      "text/html": [
       "<style>#sk-container-id-22 {color: black;background-color: white;}#sk-container-id-22 pre{padding: 0;}#sk-container-id-22 div.sk-toggleable {background-color: white;}#sk-container-id-22 label.sk-toggleable__label {cursor: pointer;display: block;width: 100%;margin-bottom: 0;padding: 0.3em;box-sizing: border-box;text-align: center;}#sk-container-id-22 label.sk-toggleable__label-arrow:before {content: \"▸\";float: left;margin-right: 0.25em;color: #696969;}#sk-container-id-22 label.sk-toggleable__label-arrow:hover:before {color: black;}#sk-container-id-22 div.sk-estimator:hover label.sk-toggleable__label-arrow:before {color: black;}#sk-container-id-22 div.sk-toggleable__content {max-height: 0;max-width: 0;overflow: hidden;text-align: left;background-color: #f0f8ff;}#sk-container-id-22 div.sk-toggleable__content pre {margin: 0.2em;color: black;border-radius: 0.25em;background-color: #f0f8ff;}#sk-container-id-22 input.sk-toggleable__control:checked~div.sk-toggleable__content {max-height: 200px;max-width: 100%;overflow: auto;}#sk-container-id-22 input.sk-toggleable__control:checked~label.sk-toggleable__label-arrow:before {content: \"▾\";}#sk-container-id-22 div.sk-estimator input.sk-toggleable__control:checked~label.sk-toggleable__label {background-color: #d4ebff;}#sk-container-id-22 div.sk-label input.sk-toggleable__control:checked~label.sk-toggleable__label {background-color: #d4ebff;}#sk-container-id-22 input.sk-hidden--visually {border: 0;clip: rect(1px 1px 1px 1px);clip: rect(1px, 1px, 1px, 1px);height: 1px;margin: -1px;overflow: hidden;padding: 0;position: absolute;width: 1px;}#sk-container-id-22 div.sk-estimator {font-family: monospace;background-color: #f0f8ff;border: 1px dotted black;border-radius: 0.25em;box-sizing: border-box;margin-bottom: 0.5em;}#sk-container-id-22 div.sk-estimator:hover {background-color: #d4ebff;}#sk-container-id-22 div.sk-parallel-item::after {content: \"\";width: 100%;border-bottom: 1px solid gray;flex-grow: 1;}#sk-container-id-22 div.sk-label:hover label.sk-toggleable__label {background-color: #d4ebff;}#sk-container-id-22 div.sk-serial::before {content: \"\";position: absolute;border-left: 1px solid gray;box-sizing: border-box;top: 0;bottom: 0;left: 50%;z-index: 0;}#sk-container-id-22 div.sk-serial {display: flex;flex-direction: column;align-items: center;background-color: white;padding-right: 0.2em;padding-left: 0.2em;position: relative;}#sk-container-id-22 div.sk-item {position: relative;z-index: 1;}#sk-container-id-22 div.sk-parallel {display: flex;align-items: stretch;justify-content: center;background-color: white;position: relative;}#sk-container-id-22 div.sk-item::before, #sk-container-id-22 div.sk-parallel-item::before {content: \"\";position: absolute;border-left: 1px solid gray;box-sizing: border-box;top: 0;bottom: 0;left: 50%;z-index: -1;}#sk-container-id-22 div.sk-parallel-item {display: flex;flex-direction: column;z-index: 1;position: relative;background-color: white;}#sk-container-id-22 div.sk-parallel-item:first-child::after {align-self: flex-end;width: 50%;}#sk-container-id-22 div.sk-parallel-item:last-child::after {align-self: flex-start;width: 50%;}#sk-container-id-22 div.sk-parallel-item:only-child::after {width: 0;}#sk-container-id-22 div.sk-dashed-wrapped {border: 1px dashed gray;margin: 0 0.4em 0.5em 0.4em;box-sizing: border-box;padding-bottom: 0.4em;background-color: white;}#sk-container-id-22 div.sk-label label {font-family: monospace;font-weight: bold;display: inline-block;line-height: 1.2em;}#sk-container-id-22 div.sk-label-container {text-align: center;}#sk-container-id-22 div.sk-container {/* jupyter's `normalize.less` sets `[hidden] { display: none; }` but bootstrap.min.css set `[hidden] { display: none !important; }` so we also need the `!important` here to be able to override the default hidden behavior on the sphinx rendered scikit-learn.org. See: https://github.com/scikit-learn/scikit-learn/issues/21755 */display: inline-block !important;position: relative;}#sk-container-id-22 div.sk-text-repr-fallback {display: none;}</style><div id=\"sk-container-id-22\" class=\"sk-top-container\"><div class=\"sk-text-repr-fallback\"><pre>RandomizedSearchCV(cv=5, estimator=ExtraTreesClassifier(random_state=42),\n",
       "                   n_iter=50, n_jobs=-1,\n",
       "                   param_distributions={&#x27;max_depth&#x27;: [None, 10, 20, 30, 40, 50],\n",
       "                                        &#x27;max_features&#x27;: [&#x27;sqrt&#x27;, &#x27;log2&#x27;, None],\n",
       "                                        &#x27;min_samples_leaf&#x27;: [1, 2, 5],\n",
       "                                        &#x27;min_samples_split&#x27;: [2, 5, 10],\n",
       "                                        &#x27;n_estimators&#x27;: array([ 50, 100, 150, 200, 250, 300, 350, 400, 450, 500])},\n",
       "                   random_state=42, scoring=&#x27;accuracy&#x27;, verbose=2)</pre><b>In a Jupyter environment, please rerun this cell to show the HTML representation or trust the notebook. <br />On GitHub, the HTML representation is unable to render, please try loading this page with nbviewer.org.</b></div><div class=\"sk-container\" hidden><div class=\"sk-item sk-dashed-wrapped\"><div class=\"sk-label-container\"><div class=\"sk-label sk-toggleable\"><input class=\"sk-toggleable__control sk-hidden--visually\" id=\"sk-estimator-id-37\" type=\"checkbox\" ><label for=\"sk-estimator-id-37\" class=\"sk-toggleable__label sk-toggleable__label-arrow\">RandomizedSearchCV</label><div class=\"sk-toggleable__content\"><pre>RandomizedSearchCV(cv=5, estimator=ExtraTreesClassifier(random_state=42),\n",
       "                   n_iter=50, n_jobs=-1,\n",
       "                   param_distributions={&#x27;max_depth&#x27;: [None, 10, 20, 30, 40, 50],\n",
       "                                        &#x27;max_features&#x27;: [&#x27;sqrt&#x27;, &#x27;log2&#x27;, None],\n",
       "                                        &#x27;min_samples_leaf&#x27;: [1, 2, 5],\n",
       "                                        &#x27;min_samples_split&#x27;: [2, 5, 10],\n",
       "                                        &#x27;n_estimators&#x27;: array([ 50, 100, 150, 200, 250, 300, 350, 400, 450, 500])},\n",
       "                   random_state=42, scoring=&#x27;accuracy&#x27;, verbose=2)</pre></div></div></div><div class=\"sk-parallel\"><div class=\"sk-parallel-item\"><div class=\"sk-item\"><div class=\"sk-label-container\"><div class=\"sk-label sk-toggleable\"><input class=\"sk-toggleable__control sk-hidden--visually\" id=\"sk-estimator-id-38\" type=\"checkbox\" ><label for=\"sk-estimator-id-38\" class=\"sk-toggleable__label sk-toggleable__label-arrow\">estimator: ExtraTreesClassifier</label><div class=\"sk-toggleable__content\"><pre>ExtraTreesClassifier(random_state=42)</pre></div></div></div><div class=\"sk-serial\"><div class=\"sk-item\"><div class=\"sk-estimator sk-toggleable\"><input class=\"sk-toggleable__control sk-hidden--visually\" id=\"sk-estimator-id-39\" type=\"checkbox\" ><label for=\"sk-estimator-id-39\" class=\"sk-toggleable__label sk-toggleable__label-arrow\">ExtraTreesClassifier</label><div class=\"sk-toggleable__content\"><pre>ExtraTreesClassifier(random_state=42)</pre></div></div></div></div></div></div></div></div></div></div>"
      ],
      "text/plain": [
       "RandomizedSearchCV(cv=5, estimator=ExtraTreesClassifier(random_state=42),\n",
       "                   n_iter=50, n_jobs=-1,\n",
       "                   param_distributions={'max_depth': [None, 10, 20, 30, 40, 50],\n",
       "                                        'max_features': ['sqrt', 'log2', None],\n",
       "                                        'min_samples_leaf': [1, 2, 5],\n",
       "                                        'min_samples_split': [2, 5, 10],\n",
       "                                        'n_estimators': array([ 50, 100, 150, 200, 250, 300, 350, 400, 450, 500])},\n",
       "                   random_state=42, scoring='accuracy', verbose=2)"
      ]
     },
     "execution_count": 186,
     "metadata": {},
     "output_type": "execute_result"
    }
   ],
   "source": [
    "random_search.fit(x_sm, y_sm)"
   ]
  },
  {
   "cell_type": "code",
   "execution_count": 187,
   "id": "d5b10ce2",
   "metadata": {},
   "outputs": [
    {
     "data": {
      "text/plain": [
       "{'n_estimators': 50,\n",
       " 'min_samples_split': 2,\n",
       " 'min_samples_leaf': 1,\n",
       " 'max_features': None,\n",
       " 'max_depth': 10}"
      ]
     },
     "execution_count": 187,
     "metadata": {},
     "output_type": "execute_result"
    }
   ],
   "source": [
    "random_search.best_params_"
   ]
  },
  {
   "cell_type": "code",
   "execution_count": 188,
   "id": "2051f52b",
   "metadata": {},
   "outputs": [],
   "source": [
    "etc1 = ExtraTreesClassifier(n_estimators = 450,\n",
    " min_samples_split = 2,\n",
    " min_samples_leaf = 1,\n",
    " max_features = 'sqrt',\n",
    " max_depth = 30)"
   ]
  },
  {
   "cell_type": "code",
   "execution_count": 189,
   "id": "b5bf9767",
   "metadata": {},
   "outputs": [
    {
     "data": {
      "text/html": [
       "<style>#sk-container-id-23 {color: black;background-color: white;}#sk-container-id-23 pre{padding: 0;}#sk-container-id-23 div.sk-toggleable {background-color: white;}#sk-container-id-23 label.sk-toggleable__label {cursor: pointer;display: block;width: 100%;margin-bottom: 0;padding: 0.3em;box-sizing: border-box;text-align: center;}#sk-container-id-23 label.sk-toggleable__label-arrow:before {content: \"▸\";float: left;margin-right: 0.25em;color: #696969;}#sk-container-id-23 label.sk-toggleable__label-arrow:hover:before {color: black;}#sk-container-id-23 div.sk-estimator:hover label.sk-toggleable__label-arrow:before {color: black;}#sk-container-id-23 div.sk-toggleable__content {max-height: 0;max-width: 0;overflow: hidden;text-align: left;background-color: #f0f8ff;}#sk-container-id-23 div.sk-toggleable__content pre {margin: 0.2em;color: black;border-radius: 0.25em;background-color: #f0f8ff;}#sk-container-id-23 input.sk-toggleable__control:checked~div.sk-toggleable__content {max-height: 200px;max-width: 100%;overflow: auto;}#sk-container-id-23 input.sk-toggleable__control:checked~label.sk-toggleable__label-arrow:before {content: \"▾\";}#sk-container-id-23 div.sk-estimator input.sk-toggleable__control:checked~label.sk-toggleable__label {background-color: #d4ebff;}#sk-container-id-23 div.sk-label input.sk-toggleable__control:checked~label.sk-toggleable__label {background-color: #d4ebff;}#sk-container-id-23 input.sk-hidden--visually {border: 0;clip: rect(1px 1px 1px 1px);clip: rect(1px, 1px, 1px, 1px);height: 1px;margin: -1px;overflow: hidden;padding: 0;position: absolute;width: 1px;}#sk-container-id-23 div.sk-estimator {font-family: monospace;background-color: #f0f8ff;border: 1px dotted black;border-radius: 0.25em;box-sizing: border-box;margin-bottom: 0.5em;}#sk-container-id-23 div.sk-estimator:hover {background-color: #d4ebff;}#sk-container-id-23 div.sk-parallel-item::after {content: \"\";width: 100%;border-bottom: 1px solid gray;flex-grow: 1;}#sk-container-id-23 div.sk-label:hover label.sk-toggleable__label {background-color: #d4ebff;}#sk-container-id-23 div.sk-serial::before {content: \"\";position: absolute;border-left: 1px solid gray;box-sizing: border-box;top: 0;bottom: 0;left: 50%;z-index: 0;}#sk-container-id-23 div.sk-serial {display: flex;flex-direction: column;align-items: center;background-color: white;padding-right: 0.2em;padding-left: 0.2em;position: relative;}#sk-container-id-23 div.sk-item {position: relative;z-index: 1;}#sk-container-id-23 div.sk-parallel {display: flex;align-items: stretch;justify-content: center;background-color: white;position: relative;}#sk-container-id-23 div.sk-item::before, #sk-container-id-23 div.sk-parallel-item::before {content: \"\";position: absolute;border-left: 1px solid gray;box-sizing: border-box;top: 0;bottom: 0;left: 50%;z-index: -1;}#sk-container-id-23 div.sk-parallel-item {display: flex;flex-direction: column;z-index: 1;position: relative;background-color: white;}#sk-container-id-23 div.sk-parallel-item:first-child::after {align-self: flex-end;width: 50%;}#sk-container-id-23 div.sk-parallel-item:last-child::after {align-self: flex-start;width: 50%;}#sk-container-id-23 div.sk-parallel-item:only-child::after {width: 0;}#sk-container-id-23 div.sk-dashed-wrapped {border: 1px dashed gray;margin: 0 0.4em 0.5em 0.4em;box-sizing: border-box;padding-bottom: 0.4em;background-color: white;}#sk-container-id-23 div.sk-label label {font-family: monospace;font-weight: bold;display: inline-block;line-height: 1.2em;}#sk-container-id-23 div.sk-label-container {text-align: center;}#sk-container-id-23 div.sk-container {/* jupyter's `normalize.less` sets `[hidden] { display: none; }` but bootstrap.min.css set `[hidden] { display: none !important; }` so we also need the `!important` here to be able to override the default hidden behavior on the sphinx rendered scikit-learn.org. See: https://github.com/scikit-learn/scikit-learn/issues/21755 */display: inline-block !important;position: relative;}#sk-container-id-23 div.sk-text-repr-fallback {display: none;}</style><div id=\"sk-container-id-23\" class=\"sk-top-container\"><div class=\"sk-text-repr-fallback\"><pre>ExtraTreesClassifier(max_depth=30, n_estimators=450)</pre><b>In a Jupyter environment, please rerun this cell to show the HTML representation or trust the notebook. <br />On GitHub, the HTML representation is unable to render, please try loading this page with nbviewer.org.</b></div><div class=\"sk-container\" hidden><div class=\"sk-item\"><div class=\"sk-estimator sk-toggleable\"><input class=\"sk-toggleable__control sk-hidden--visually\" id=\"sk-estimator-id-40\" type=\"checkbox\" checked><label for=\"sk-estimator-id-40\" class=\"sk-toggleable__label sk-toggleable__label-arrow\">ExtraTreesClassifier</label><div class=\"sk-toggleable__content\"><pre>ExtraTreesClassifier(max_depth=30, n_estimators=450)</pre></div></div></div></div></div>"
      ],
      "text/plain": [
       "ExtraTreesClassifier(max_depth=30, n_estimators=450)"
      ]
     },
     "execution_count": 189,
     "metadata": {},
     "output_type": "execute_result"
    }
   ],
   "source": [
    "etc1.fit(x_sm,y_sm)"
   ]
  },
  {
   "cell_type": "code",
   "execution_count": 190,
   "id": "472bdaf3",
   "metadata": {},
   "outputs": [
    {
     "data": {
      "text/plain": [
       "array([3, 3, 3, 3, 3, 3, 3, 3, 3, 3, 3, 3, 3, 3, 3, 3, 3, 3, 3, 3, 3, 2,\n",
       "       3, 3, 3, 3, 4, 3, 3, 3, 3, 4, 3, 3, 3, 3, 3, 3, 4, 3, 3, 3, 3, 2,\n",
       "       3, 4, 4, 3, 4, 3, 3, 2, 3, 4, 2, 3, 3, 3, 3, 3, 3, 4, 4, 3, 3, 2,\n",
       "       2, 3, 3, 4, 3, 3, 3, 3, 3, 3, 3, 3, 2, 3, 3, 2, 2, 3, 3, 3, 2, 4,\n",
       "       3, 3, 3, 2, 4, 3, 3, 3, 3, 3, 3, 2, 3, 3, 2, 3, 3, 3, 2, 2, 2, 3,\n",
       "       3, 3, 4, 3, 3, 3, 3, 3, 3, 3, 3, 4, 3, 2, 3, 3, 2, 3, 3, 4, 3, 3,\n",
       "       3, 3, 3, 2, 3, 3, 3, 4, 3, 2, 2, 2, 3, 3, 3, 2, 3, 4, 2, 3, 3, 3,\n",
       "       3, 3, 3, 2, 3, 3, 3, 3, 3, 3, 3, 3, 3, 3, 3, 3, 4, 2, 3, 2, 3, 3,\n",
       "       3, 3, 2, 3, 3, 3, 3, 3, 3, 3, 3, 3, 3, 2, 3, 3, 3, 3, 3, 3, 3, 3,\n",
       "       3, 3, 3, 3, 3, 3, 3, 3, 3, 3, 3, 3, 3, 3, 3, 3, 3, 2, 2, 2, 2, 3,\n",
       "       4, 3, 3, 4, 3, 3, 2, 2, 4, 3, 3, 3, 3, 3, 3, 2, 3, 3, 3, 2],\n",
       "      dtype=int64)"
      ]
     },
     "execution_count": 190,
     "metadata": {},
     "output_type": "execute_result"
    }
   ],
   "source": [
    "etc1_y_pred = etc1.predict(x_test)\n",
    "etc1_y_pred"
   ]
  },
  {
   "cell_type": "code",
   "execution_count": 191,
   "id": "8989f9ef",
   "metadata": {},
   "outputs": [
    {
     "name": "stdout",
     "output_type": "stream",
     "text": [
      "ACCURACY SCORE: 0.8416666666666667\n",
      "PRECISION SCORE: 0.838521351021351\n",
      "RECALL SCORE: 0.8416666666666667\n",
      "F1 SCORE: 0.8388714603049133\n",
      "------\n",
      "ET CLASSIFICATION REPORT:\n",
      "              precision    recall  f1-score   support\n",
      "\n",
      "           2       0.68      0.64      0.66        39\n",
      "           3       0.88      0.91      0.90       175\n",
      "           4       0.81      0.65      0.72        26\n",
      "\n",
      "    accuracy                           0.84       240\n",
      "   macro avg       0.79      0.74      0.76       240\n",
      "weighted avg       0.84      0.84      0.84       240\n",
      "\n"
     ]
    }
   ],
   "source": [
    "etc1_acc_test = accuracy_score(y_test,etc1_y_pred)\n",
    "print('ACCURACY SCORE:', etc1_acc_test)\n",
    "etc1_pre = precision_score(y_test,etc1_y_pred, average = 'weighted')\n",
    "print('PRECISION SCORE:',etc1_pre)\n",
    "etc1_recall = recall_score(y_test,etc1_y_pred, average ='weighted')\n",
    "print('RECALL SCORE:',etc1_recall)\n",
    "etc1_f1 = f1_score(y_test,etc1_y_pred, average = 'weighted')\n",
    "print('F1 SCORE:',etc1_f1)\n",
    "print('------')\n",
    "print('ET CLASSIFICATION REPORT:')\n",
    "print(classification_report(y_test,etc1_y_pred))"
   ]
  },
  {
   "cell_type": "code",
   "execution_count": 192,
   "id": "180ea4aa",
   "metadata": {},
   "outputs": [
    {
     "data": {
      "text/html": [
       "<div>\n",
       "<style scoped>\n",
       "    .dataframe tbody tr th:only-of-type {\n",
       "        vertical-align: middle;\n",
       "    }\n",
       "\n",
       "    .dataframe tbody tr th {\n",
       "        vertical-align: top;\n",
       "    }\n",
       "\n",
       "    .dataframe thead th {\n",
       "        text-align: right;\n",
       "    }\n",
       "</style>\n",
       "<table border=\"1\" class=\"dataframe\">\n",
       "  <thead>\n",
       "    <tr style=\"text-align: right;\">\n",
       "      <th>col_0</th>\n",
       "      <th>2</th>\n",
       "      <th>3</th>\n",
       "      <th>4</th>\n",
       "    </tr>\n",
       "    <tr>\n",
       "      <th>PerformanceRating</th>\n",
       "      <th></th>\n",
       "      <th></th>\n",
       "      <th></th>\n",
       "    </tr>\n",
       "  </thead>\n",
       "  <tbody>\n",
       "    <tr>\n",
       "      <th>2</th>\n",
       "      <td>25</td>\n",
       "      <td>14</td>\n",
       "      <td>0</td>\n",
       "    </tr>\n",
       "    <tr>\n",
       "      <th>3</th>\n",
       "      <td>11</td>\n",
       "      <td>160</td>\n",
       "      <td>4</td>\n",
       "    </tr>\n",
       "    <tr>\n",
       "      <th>4</th>\n",
       "      <td>1</td>\n",
       "      <td>8</td>\n",
       "      <td>17</td>\n",
       "    </tr>\n",
       "  </tbody>\n",
       "</table>\n",
       "</div>"
      ],
      "text/plain": [
       "col_0               2    3   4\n",
       "PerformanceRating             \n",
       "2                  25   14   0\n",
       "3                  11  160   4\n",
       "4                   1    8  17"
      ]
     },
     "execution_count": 192,
     "metadata": {},
     "output_type": "execute_result"
    }
   ],
   "source": [
    "pd.crosstab(y_test,etc1_y_pred)"
   ]
  },
  {
   "cell_type": "code",
   "execution_count": 193,
   "id": "b6986adc",
   "metadata": {},
   "outputs": [
    {
     "data": {
      "text/html": [
       "<div>\n",
       "<style scoped>\n",
       "    .dataframe tbody tr th:only-of-type {\n",
       "        vertical-align: middle;\n",
       "    }\n",
       "\n",
       "    .dataframe tbody tr th {\n",
       "        vertical-align: top;\n",
       "    }\n",
       "\n",
       "    .dataframe thead th {\n",
       "        text-align: right;\n",
       "    }\n",
       "</style>\n",
       "<table border=\"1\" class=\"dataframe\">\n",
       "  <thead>\n",
       "    <tr style=\"text-align: right;\">\n",
       "      <th></th>\n",
       "      <th>METRIC</th>\n",
       "      <th>VALUE</th>\n",
       "    </tr>\n",
       "  </thead>\n",
       "  <tbody>\n",
       "    <tr>\n",
       "      <th>0</th>\n",
       "      <td>Accuracy</td>\n",
       "      <td>0.841667</td>\n",
       "    </tr>\n",
       "    <tr>\n",
       "      <th>1</th>\n",
       "      <td>Precision</td>\n",
       "      <td>0.838521</td>\n",
       "    </tr>\n",
       "    <tr>\n",
       "      <th>2</th>\n",
       "      <td>Recall</td>\n",
       "      <td>0.841667</td>\n",
       "    </tr>\n",
       "    <tr>\n",
       "      <th>3</th>\n",
       "      <td>F1 Score</td>\n",
       "      <td>0.838871</td>\n",
       "    </tr>\n",
       "  </tbody>\n",
       "</table>\n",
       "</div>"
      ],
      "text/plain": [
       "      METRIC     VALUE\n",
       "0   Accuracy  0.841667\n",
       "1  Precision  0.838521\n",
       "2     Recall  0.841667\n",
       "3   F1 Score  0.838871"
      ]
     },
     "execution_count": 193,
     "metadata": {},
     "output_type": "execute_result"
    }
   ],
   "source": [
    "etc1_Metrics =pd.DataFrame({'METRIC': ['Accuracy','Precision','Recall','F1 Score'],'VALUE' : [etc1_acc_test,etc1_pre,etc1_recall,etc1_f1]})\n",
    "etc1_Metrics"
   ]
  },
  {
   "cell_type": "code",
   "execution_count": 194,
   "id": "67c2e320",
   "metadata": {},
   "outputs": [
    {
     "name": "stdout",
     "output_type": "stream",
     "text": [
      "ETC EVALUATION METRIC AFTER HYPERPARAMETER TUNING:\n",
      "+-----------+----------+\n",
      "| METRIC    |    VALUE |\n",
      "+===========+==========+\n",
      "| Accuracy  | 0.841667 |\n",
      "+-----------+----------+\n",
      "| Precision | 0.838521 |\n",
      "+-----------+----------+\n",
      "| Recall    | 0.841667 |\n",
      "+-----------+----------+\n",
      "| F1 Score  | 0.838871 |\n",
      "+-----------+----------+\n"
     ]
    }
   ],
   "source": [
    "print(\"ETC EVALUATION METRIC AFTER HYPERPARAMETER TUNING:\")\n",
    "print(tabulate(etc1_Metrics,headers ='keys',tablefmt= 'grid',showindex = False))"
   ]
  },
  {
   "cell_type": "code",
   "execution_count": null,
   "id": "b0dab889",
   "metadata": {},
   "outputs": [],
   "source": []
  },
  {
   "cell_type": "markdown",
   "id": "ad06fa3f",
   "metadata": {},
   "source": [
    "- Extra Trees performed similarly before and after hyperparameter tuning. While it was stable and reasonable, it didn’t show a marked improvement. It is useful, though not the most optimal model for this task."
   ]
  },
  {
   "cell_type": "code",
   "execution_count": null,
   "id": "8dab68b1",
   "metadata": {},
   "outputs": [],
   "source": []
  },
  {
   "cell_type": "code",
   "execution_count": null,
   "id": "41f98362",
   "metadata": {},
   "outputs": [],
   "source": []
  },
  {
   "cell_type": "code",
   "execution_count": null,
   "id": "169bb60f",
   "metadata": {},
   "outputs": [],
   "source": []
  },
  {
   "cell_type": "code",
   "execution_count": null,
   "id": "48cf13a4",
   "metadata": {},
   "outputs": [],
   "source": []
  },
  {
   "cell_type": "code",
   "execution_count": null,
   "id": "59ab2e7b",
   "metadata": {},
   "outputs": [],
   "source": []
  },
  {
   "cell_type": "markdown",
   "id": "b9c6b1b2",
   "metadata": {},
   "source": [
    "# 9.Neural Networks (MLP Classifier)"
   ]
  },
  {
   "cell_type": "code",
   "execution_count": 195,
   "id": "7014fcd1",
   "metadata": {},
   "outputs": [],
   "source": [
    "from sklearn.neural_network import MLPClassifier"
   ]
  },
  {
   "cell_type": "code",
   "execution_count": 196,
   "id": "3f9b5583",
   "metadata": {},
   "outputs": [],
   "source": [
    "mlp = MLPClassifier(hidden_layer_sizes =( 100,),max_iter = 500, activation ='relu', solver ='adam')"
   ]
  },
  {
   "cell_type": "code",
   "execution_count": 197,
   "id": "ee9f4da7",
   "metadata": {},
   "outputs": [
    {
     "data": {
      "text/html": [
       "<style>#sk-container-id-24 {color: black;background-color: white;}#sk-container-id-24 pre{padding: 0;}#sk-container-id-24 div.sk-toggleable {background-color: white;}#sk-container-id-24 label.sk-toggleable__label {cursor: pointer;display: block;width: 100%;margin-bottom: 0;padding: 0.3em;box-sizing: border-box;text-align: center;}#sk-container-id-24 label.sk-toggleable__label-arrow:before {content: \"▸\";float: left;margin-right: 0.25em;color: #696969;}#sk-container-id-24 label.sk-toggleable__label-arrow:hover:before {color: black;}#sk-container-id-24 div.sk-estimator:hover label.sk-toggleable__label-arrow:before {color: black;}#sk-container-id-24 div.sk-toggleable__content {max-height: 0;max-width: 0;overflow: hidden;text-align: left;background-color: #f0f8ff;}#sk-container-id-24 div.sk-toggleable__content pre {margin: 0.2em;color: black;border-radius: 0.25em;background-color: #f0f8ff;}#sk-container-id-24 input.sk-toggleable__control:checked~div.sk-toggleable__content {max-height: 200px;max-width: 100%;overflow: auto;}#sk-container-id-24 input.sk-toggleable__control:checked~label.sk-toggleable__label-arrow:before {content: \"▾\";}#sk-container-id-24 div.sk-estimator input.sk-toggleable__control:checked~label.sk-toggleable__label {background-color: #d4ebff;}#sk-container-id-24 div.sk-label input.sk-toggleable__control:checked~label.sk-toggleable__label {background-color: #d4ebff;}#sk-container-id-24 input.sk-hidden--visually {border: 0;clip: rect(1px 1px 1px 1px);clip: rect(1px, 1px, 1px, 1px);height: 1px;margin: -1px;overflow: hidden;padding: 0;position: absolute;width: 1px;}#sk-container-id-24 div.sk-estimator {font-family: monospace;background-color: #f0f8ff;border: 1px dotted black;border-radius: 0.25em;box-sizing: border-box;margin-bottom: 0.5em;}#sk-container-id-24 div.sk-estimator:hover {background-color: #d4ebff;}#sk-container-id-24 div.sk-parallel-item::after {content: \"\";width: 100%;border-bottom: 1px solid gray;flex-grow: 1;}#sk-container-id-24 div.sk-label:hover label.sk-toggleable__label {background-color: #d4ebff;}#sk-container-id-24 div.sk-serial::before {content: \"\";position: absolute;border-left: 1px solid gray;box-sizing: border-box;top: 0;bottom: 0;left: 50%;z-index: 0;}#sk-container-id-24 div.sk-serial {display: flex;flex-direction: column;align-items: center;background-color: white;padding-right: 0.2em;padding-left: 0.2em;position: relative;}#sk-container-id-24 div.sk-item {position: relative;z-index: 1;}#sk-container-id-24 div.sk-parallel {display: flex;align-items: stretch;justify-content: center;background-color: white;position: relative;}#sk-container-id-24 div.sk-item::before, #sk-container-id-24 div.sk-parallel-item::before {content: \"\";position: absolute;border-left: 1px solid gray;box-sizing: border-box;top: 0;bottom: 0;left: 50%;z-index: -1;}#sk-container-id-24 div.sk-parallel-item {display: flex;flex-direction: column;z-index: 1;position: relative;background-color: white;}#sk-container-id-24 div.sk-parallel-item:first-child::after {align-self: flex-end;width: 50%;}#sk-container-id-24 div.sk-parallel-item:last-child::after {align-self: flex-start;width: 50%;}#sk-container-id-24 div.sk-parallel-item:only-child::after {width: 0;}#sk-container-id-24 div.sk-dashed-wrapped {border: 1px dashed gray;margin: 0 0.4em 0.5em 0.4em;box-sizing: border-box;padding-bottom: 0.4em;background-color: white;}#sk-container-id-24 div.sk-label label {font-family: monospace;font-weight: bold;display: inline-block;line-height: 1.2em;}#sk-container-id-24 div.sk-label-container {text-align: center;}#sk-container-id-24 div.sk-container {/* jupyter's `normalize.less` sets `[hidden] { display: none; }` but bootstrap.min.css set `[hidden] { display: none !important; }` so we also need the `!important` here to be able to override the default hidden behavior on the sphinx rendered scikit-learn.org. See: https://github.com/scikit-learn/scikit-learn/issues/21755 */display: inline-block !important;position: relative;}#sk-container-id-24 div.sk-text-repr-fallback {display: none;}</style><div id=\"sk-container-id-24\" class=\"sk-top-container\"><div class=\"sk-text-repr-fallback\"><pre>MLPClassifier(max_iter=500)</pre><b>In a Jupyter environment, please rerun this cell to show the HTML representation or trust the notebook. <br />On GitHub, the HTML representation is unable to render, please try loading this page with nbviewer.org.</b></div><div class=\"sk-container\" hidden><div class=\"sk-item\"><div class=\"sk-estimator sk-toggleable\"><input class=\"sk-toggleable__control sk-hidden--visually\" id=\"sk-estimator-id-41\" type=\"checkbox\" checked><label for=\"sk-estimator-id-41\" class=\"sk-toggleable__label sk-toggleable__label-arrow\">MLPClassifier</label><div class=\"sk-toggleable__content\"><pre>MLPClassifier(max_iter=500)</pre></div></div></div></div></div>"
      ],
      "text/plain": [
       "MLPClassifier(max_iter=500)"
      ]
     },
     "execution_count": 197,
     "metadata": {},
     "output_type": "execute_result"
    }
   ],
   "source": [
    "mlp.fit(x_sm,y_sm)"
   ]
  },
  {
   "cell_type": "markdown",
   "id": "3650fff7",
   "metadata": {},
   "source": [
    "###### Prediction"
   ]
  },
  {
   "cell_type": "code",
   "execution_count": 198,
   "id": "4b3c74eb",
   "metadata": {},
   "outputs": [
    {
     "data": {
      "text/plain": [
       "array([3, 2, 3, ..., 4, 4, 4], dtype=int64)"
      ]
     },
     "execution_count": 198,
     "metadata": {},
     "output_type": "execute_result"
    }
   ],
   "source": [
    "mlp_y_train = mlp.predict(x_sm)\n",
    "mlp_y_train"
   ]
  },
  {
   "cell_type": "code",
   "execution_count": 199,
   "id": "9c071087",
   "metadata": {},
   "outputs": [
    {
     "data": {
      "text/plain": [
       "array([3, 3, 3, 2, 3, 3, 3, 3, 3, 3, 3, 2, 3, 3, 3, 3, 3, 3, 3, 3, 3, 3,\n",
       "       3, 3, 3, 4, 4, 3, 2, 3, 3, 4, 4, 3, 3, 3, 3, 3, 4, 3, 3, 3, 3, 3,\n",
       "       3, 4, 4, 3, 3, 3, 3, 2, 3, 4, 3, 3, 3, 3, 3, 3, 3, 4, 4, 3, 3, 3,\n",
       "       2, 3, 3, 4, 3, 3, 3, 3, 3, 3, 3, 3, 2, 3, 3, 2, 3, 3, 3, 2, 2, 4,\n",
       "       3, 3, 3, 2, 4, 3, 3, 3, 3, 3, 3, 3, 3, 3, 2, 3, 2, 3, 3, 2, 2, 3,\n",
       "       3, 3, 4, 3, 3, 3, 3, 3, 3, 3, 3, 4, 2, 2, 3, 3, 3, 3, 3, 4, 3, 3,\n",
       "       3, 3, 3, 2, 3, 3, 3, 4, 3, 2, 2, 2, 3, 3, 3, 2, 3, 4, 3, 3, 3, 3,\n",
       "       3, 3, 3, 2, 3, 3, 3, 3, 3, 3, 3, 3, 3, 3, 3, 3, 4, 2, 2, 2, 3, 3,\n",
       "       3, 3, 2, 3, 3, 3, 4, 3, 3, 3, 3, 3, 4, 3, 3, 3, 3, 3, 3, 3, 3, 3,\n",
       "       3, 3, 2, 3, 3, 3, 3, 2, 3, 3, 3, 4, 3, 2, 2, 3, 3, 3, 2, 2, 2, 3,\n",
       "       4, 3, 2, 4, 3, 2, 2, 3, 2, 3, 3, 4, 3, 3, 3, 3, 3, 3, 3, 2],\n",
       "      dtype=int64)"
      ]
     },
     "execution_count": 199,
     "metadata": {},
     "output_type": "execute_result"
    }
   ],
   "source": [
    "mlp_y_pred = mlp.predict(x_test)\n",
    "mlp_y_pred"
   ]
  },
  {
   "cell_type": "markdown",
   "id": "4575779d",
   "metadata": {},
   "source": [
    "###### Evaluation"
   ]
  },
  {
   "cell_type": "code",
   "execution_count": 200,
   "id": "f8dbe0e3",
   "metadata": {},
   "outputs": [
    {
     "data": {
      "text/plain": [
       "1.0"
      ]
     },
     "execution_count": 200,
     "metadata": {},
     "output_type": "execute_result"
    }
   ],
   "source": [
    "mlp_acc_train  = accuracy_score(y_sm,mlp_y_train)\n",
    "mlp_acc_train"
   ]
  },
  {
   "cell_type": "code",
   "execution_count": 201,
   "id": "a3e08414",
   "metadata": {},
   "outputs": [
    {
     "name": "stdout",
     "output_type": "stream",
     "text": [
      "              precision    recall  f1-score   support\n",
      "\n",
      "           2       1.00      1.00      1.00       699\n",
      "           3       1.00      1.00      1.00       699\n",
      "           4       1.00      1.00      1.00       699\n",
      "\n",
      "    accuracy                           1.00      2097\n",
      "   macro avg       1.00      1.00      1.00      2097\n",
      "weighted avg       1.00      1.00      1.00      2097\n",
      "\n"
     ]
    }
   ],
   "source": [
    "print(classification_report(y_sm,mlp_y_train))"
   ]
  },
  {
   "cell_type": "code",
   "execution_count": 202,
   "id": "b846cf99",
   "metadata": {},
   "outputs": [
    {
     "name": "stdout",
     "output_type": "stream",
     "text": [
      "ACCURACY SCORE: 0.825\n",
      "PRECISION SCORE: 0.8232299286351472\n",
      "RECALL SCORE: 0.825\n",
      "F1 SCORE: 0.824048520923521\n",
      "------\n",
      "MLP CLASSIFICATION REPORT:\n",
      "              precision    recall  f1-score   support\n",
      "\n",
      "           2       0.66      0.64      0.65        39\n",
      "           3       0.88      0.89      0.89       175\n",
      "           4       0.68      0.65      0.67        26\n",
      "\n",
      "    accuracy                           0.82       240\n",
      "   macro avg       0.74      0.73      0.73       240\n",
      "weighted avg       0.82      0.82      0.82       240\n",
      "\n"
     ]
    }
   ],
   "source": [
    "mlp_acc_test = accuracy_score(y_test,mlp_y_pred)\n",
    "print('ACCURACY SCORE:', mlp_acc_test)\n",
    "mlp_pre = precision_score(y_test,mlp_y_pred, average='weighted')\n",
    "print('PRECISION SCORE:',mlp_pre)\n",
    "mlp_recall = recall_score(y_test,mlp_y_pred, average ='weighted')\n",
    "print('RECALL SCORE:',mlp_recall)\n",
    "mlp_f1 = f1_score(y_test,mlp_y_pred, average = 'weighted')\n",
    "print('F1 SCORE:',mlp_f1)\n",
    "print('------')\n",
    "print('MLP CLASSIFICATION REPORT:')\n",
    "print(classification_report(y_test,mlp_y_pred))"
   ]
  },
  {
   "cell_type": "code",
   "execution_count": null,
   "id": "60573f1d",
   "metadata": {},
   "outputs": [],
   "source": []
  },
  {
   "cell_type": "markdown",
   "id": "a4548c32",
   "metadata": {},
   "source": [
    "### HyperParameter Tuning in MLP Classifier"
   ]
  },
  {
   "cell_type": "code",
   "execution_count": 203,
   "id": "7d27f2ed",
   "metadata": {},
   "outputs": [],
   "source": [
    "from scipy.stats import uniform\n",
    "\n",
    "# Define the hyperparameters to sample from\n",
    "param_dist = {\n",
    "    'hidden_layer_sizes': [(100,), (50, 50), (200, 100)],\n",
    "    'activation': ['logistic', 'relu', 'tanh'],\n",
    "    'solver': ['adam', 'sgd'],\n",
    "    'learning_rate_init': uniform(0.001, 0.1),  # Uniform distribution for learning rate\n",
    "    'max_iter': [1000, 2000],\n",
    "}\n"
   ]
  },
  {
   "cell_type": "code",
   "execution_count": 204,
   "id": "e8f4342f",
   "metadata": {},
   "outputs": [],
   "source": [
    "random_search = RandomizedSearchCV(mlp, param_distributions=param_dist, n_iter=100, cv=3, n_jobs=-1, verbose=2)\n"
   ]
  },
  {
   "cell_type": "code",
   "execution_count": 205,
   "id": "6f3d1f58",
   "metadata": {},
   "outputs": [
    {
     "name": "stdout",
     "output_type": "stream",
     "text": [
      "Fitting 3 folds for each of 100 candidates, totalling 300 fits\n"
     ]
    },
    {
     "data": {
      "text/html": [
       "<style>#sk-container-id-25 {color: black;background-color: white;}#sk-container-id-25 pre{padding: 0;}#sk-container-id-25 div.sk-toggleable {background-color: white;}#sk-container-id-25 label.sk-toggleable__label {cursor: pointer;display: block;width: 100%;margin-bottom: 0;padding: 0.3em;box-sizing: border-box;text-align: center;}#sk-container-id-25 label.sk-toggleable__label-arrow:before {content: \"▸\";float: left;margin-right: 0.25em;color: #696969;}#sk-container-id-25 label.sk-toggleable__label-arrow:hover:before {color: black;}#sk-container-id-25 div.sk-estimator:hover label.sk-toggleable__label-arrow:before {color: black;}#sk-container-id-25 div.sk-toggleable__content {max-height: 0;max-width: 0;overflow: hidden;text-align: left;background-color: #f0f8ff;}#sk-container-id-25 div.sk-toggleable__content pre {margin: 0.2em;color: black;border-radius: 0.25em;background-color: #f0f8ff;}#sk-container-id-25 input.sk-toggleable__control:checked~div.sk-toggleable__content {max-height: 200px;max-width: 100%;overflow: auto;}#sk-container-id-25 input.sk-toggleable__control:checked~label.sk-toggleable__label-arrow:before {content: \"▾\";}#sk-container-id-25 div.sk-estimator input.sk-toggleable__control:checked~label.sk-toggleable__label {background-color: #d4ebff;}#sk-container-id-25 div.sk-label input.sk-toggleable__control:checked~label.sk-toggleable__label {background-color: #d4ebff;}#sk-container-id-25 input.sk-hidden--visually {border: 0;clip: rect(1px 1px 1px 1px);clip: rect(1px, 1px, 1px, 1px);height: 1px;margin: -1px;overflow: hidden;padding: 0;position: absolute;width: 1px;}#sk-container-id-25 div.sk-estimator {font-family: monospace;background-color: #f0f8ff;border: 1px dotted black;border-radius: 0.25em;box-sizing: border-box;margin-bottom: 0.5em;}#sk-container-id-25 div.sk-estimator:hover {background-color: #d4ebff;}#sk-container-id-25 div.sk-parallel-item::after {content: \"\";width: 100%;border-bottom: 1px solid gray;flex-grow: 1;}#sk-container-id-25 div.sk-label:hover label.sk-toggleable__label {background-color: #d4ebff;}#sk-container-id-25 div.sk-serial::before {content: \"\";position: absolute;border-left: 1px solid gray;box-sizing: border-box;top: 0;bottom: 0;left: 50%;z-index: 0;}#sk-container-id-25 div.sk-serial {display: flex;flex-direction: column;align-items: center;background-color: white;padding-right: 0.2em;padding-left: 0.2em;position: relative;}#sk-container-id-25 div.sk-item {position: relative;z-index: 1;}#sk-container-id-25 div.sk-parallel {display: flex;align-items: stretch;justify-content: center;background-color: white;position: relative;}#sk-container-id-25 div.sk-item::before, #sk-container-id-25 div.sk-parallel-item::before {content: \"\";position: absolute;border-left: 1px solid gray;box-sizing: border-box;top: 0;bottom: 0;left: 50%;z-index: -1;}#sk-container-id-25 div.sk-parallel-item {display: flex;flex-direction: column;z-index: 1;position: relative;background-color: white;}#sk-container-id-25 div.sk-parallel-item:first-child::after {align-self: flex-end;width: 50%;}#sk-container-id-25 div.sk-parallel-item:last-child::after {align-self: flex-start;width: 50%;}#sk-container-id-25 div.sk-parallel-item:only-child::after {width: 0;}#sk-container-id-25 div.sk-dashed-wrapped {border: 1px dashed gray;margin: 0 0.4em 0.5em 0.4em;box-sizing: border-box;padding-bottom: 0.4em;background-color: white;}#sk-container-id-25 div.sk-label label {font-family: monospace;font-weight: bold;display: inline-block;line-height: 1.2em;}#sk-container-id-25 div.sk-label-container {text-align: center;}#sk-container-id-25 div.sk-container {/* jupyter's `normalize.less` sets `[hidden] { display: none; }` but bootstrap.min.css set `[hidden] { display: none !important; }` so we also need the `!important` here to be able to override the default hidden behavior on the sphinx rendered scikit-learn.org. See: https://github.com/scikit-learn/scikit-learn/issues/21755 */display: inline-block !important;position: relative;}#sk-container-id-25 div.sk-text-repr-fallback {display: none;}</style><div id=\"sk-container-id-25\" class=\"sk-top-container\"><div class=\"sk-text-repr-fallback\"><pre>RandomizedSearchCV(cv=3, estimator=MLPClassifier(max_iter=500), n_iter=100,\n",
       "                   n_jobs=-1,\n",
       "                   param_distributions={&#x27;activation&#x27;: [&#x27;logistic&#x27;, &#x27;relu&#x27;,\n",
       "                                                       &#x27;tanh&#x27;],\n",
       "                                        &#x27;hidden_layer_sizes&#x27;: [(100,), (50, 50),\n",
       "                                                               (200, 100)],\n",
       "                                        &#x27;learning_rate_init&#x27;: &lt;scipy.stats._distn_infrastructure.rv_continuous_frozen object at 0x000001F0DDF5C3D0&gt;,\n",
       "                                        &#x27;max_iter&#x27;: [1000, 2000],\n",
       "                                        &#x27;solver&#x27;: [&#x27;adam&#x27;, &#x27;sgd&#x27;]},\n",
       "                   verbose=2)</pre><b>In a Jupyter environment, please rerun this cell to show the HTML representation or trust the notebook. <br />On GitHub, the HTML representation is unable to render, please try loading this page with nbviewer.org.</b></div><div class=\"sk-container\" hidden><div class=\"sk-item sk-dashed-wrapped\"><div class=\"sk-label-container\"><div class=\"sk-label sk-toggleable\"><input class=\"sk-toggleable__control sk-hidden--visually\" id=\"sk-estimator-id-42\" type=\"checkbox\" ><label for=\"sk-estimator-id-42\" class=\"sk-toggleable__label sk-toggleable__label-arrow\">RandomizedSearchCV</label><div class=\"sk-toggleable__content\"><pre>RandomizedSearchCV(cv=3, estimator=MLPClassifier(max_iter=500), n_iter=100,\n",
       "                   n_jobs=-1,\n",
       "                   param_distributions={&#x27;activation&#x27;: [&#x27;logistic&#x27;, &#x27;relu&#x27;,\n",
       "                                                       &#x27;tanh&#x27;],\n",
       "                                        &#x27;hidden_layer_sizes&#x27;: [(100,), (50, 50),\n",
       "                                                               (200, 100)],\n",
       "                                        &#x27;learning_rate_init&#x27;: &lt;scipy.stats._distn_infrastructure.rv_continuous_frozen object at 0x000001F0DDF5C3D0&gt;,\n",
       "                                        &#x27;max_iter&#x27;: [1000, 2000],\n",
       "                                        &#x27;solver&#x27;: [&#x27;adam&#x27;, &#x27;sgd&#x27;]},\n",
       "                   verbose=2)</pre></div></div></div><div class=\"sk-parallel\"><div class=\"sk-parallel-item\"><div class=\"sk-item\"><div class=\"sk-label-container\"><div class=\"sk-label sk-toggleable\"><input class=\"sk-toggleable__control sk-hidden--visually\" id=\"sk-estimator-id-43\" type=\"checkbox\" ><label for=\"sk-estimator-id-43\" class=\"sk-toggleable__label sk-toggleable__label-arrow\">estimator: MLPClassifier</label><div class=\"sk-toggleable__content\"><pre>MLPClassifier(max_iter=500)</pre></div></div></div><div class=\"sk-serial\"><div class=\"sk-item\"><div class=\"sk-estimator sk-toggleable\"><input class=\"sk-toggleable__control sk-hidden--visually\" id=\"sk-estimator-id-44\" type=\"checkbox\" ><label for=\"sk-estimator-id-44\" class=\"sk-toggleable__label sk-toggleable__label-arrow\">MLPClassifier</label><div class=\"sk-toggleable__content\"><pre>MLPClassifier(max_iter=500)</pre></div></div></div></div></div></div></div></div></div></div>"
      ],
      "text/plain": [
       "RandomizedSearchCV(cv=3, estimator=MLPClassifier(max_iter=500), n_iter=100,\n",
       "                   n_jobs=-1,\n",
       "                   param_distributions={'activation': ['logistic', 'relu',\n",
       "                                                       'tanh'],\n",
       "                                        'hidden_layer_sizes': [(100,), (50, 50),\n",
       "                                                               (200, 100)],\n",
       "                                        'learning_rate_init': <scipy.stats._distn_infrastructure.rv_continuous_frozen object at 0x000001F0DDF5C3D0>,\n",
       "                                        'max_iter': [1000, 2000],\n",
       "                                        'solver': ['adam', 'sgd']},\n",
       "                   verbose=2)"
      ]
     },
     "execution_count": 205,
     "metadata": {},
     "output_type": "execute_result"
    }
   ],
   "source": [
    "random_search.fit(x_sm,y_sm)"
   ]
  },
  {
   "cell_type": "code",
   "execution_count": 206,
   "id": "332aaa52",
   "metadata": {},
   "outputs": [
    {
     "data": {
      "text/plain": [
       "{'activation': 'tanh',\n",
       " 'hidden_layer_sizes': (100,),\n",
       " 'learning_rate_init': 0.03703110064316854,\n",
       " 'max_iter': 2000,\n",
       " 'solver': 'sgd'}"
      ]
     },
     "execution_count": 206,
     "metadata": {},
     "output_type": "execute_result"
    }
   ],
   "source": [
    "random_search.best_params_"
   ]
  },
  {
   "cell_type": "code",
   "execution_count": 207,
   "id": "47ad5096",
   "metadata": {},
   "outputs": [],
   "source": [
    "mlp1 = MLPClassifier(hidden_layer_sizes =(200,100),max_iter = 1000, activation ='tanh', solver ='adam', learning_rate_init = 0.010339203116553185)"
   ]
  },
  {
   "cell_type": "code",
   "execution_count": 208,
   "id": "8dd25540",
   "metadata": {},
   "outputs": [
    {
     "data": {
      "text/html": [
       "<style>#sk-container-id-26 {color: black;background-color: white;}#sk-container-id-26 pre{padding: 0;}#sk-container-id-26 div.sk-toggleable {background-color: white;}#sk-container-id-26 label.sk-toggleable__label {cursor: pointer;display: block;width: 100%;margin-bottom: 0;padding: 0.3em;box-sizing: border-box;text-align: center;}#sk-container-id-26 label.sk-toggleable__label-arrow:before {content: \"▸\";float: left;margin-right: 0.25em;color: #696969;}#sk-container-id-26 label.sk-toggleable__label-arrow:hover:before {color: black;}#sk-container-id-26 div.sk-estimator:hover label.sk-toggleable__label-arrow:before {color: black;}#sk-container-id-26 div.sk-toggleable__content {max-height: 0;max-width: 0;overflow: hidden;text-align: left;background-color: #f0f8ff;}#sk-container-id-26 div.sk-toggleable__content pre {margin: 0.2em;color: black;border-radius: 0.25em;background-color: #f0f8ff;}#sk-container-id-26 input.sk-toggleable__control:checked~div.sk-toggleable__content {max-height: 200px;max-width: 100%;overflow: auto;}#sk-container-id-26 input.sk-toggleable__control:checked~label.sk-toggleable__label-arrow:before {content: \"▾\";}#sk-container-id-26 div.sk-estimator input.sk-toggleable__control:checked~label.sk-toggleable__label {background-color: #d4ebff;}#sk-container-id-26 div.sk-label input.sk-toggleable__control:checked~label.sk-toggleable__label {background-color: #d4ebff;}#sk-container-id-26 input.sk-hidden--visually {border: 0;clip: rect(1px 1px 1px 1px);clip: rect(1px, 1px, 1px, 1px);height: 1px;margin: -1px;overflow: hidden;padding: 0;position: absolute;width: 1px;}#sk-container-id-26 div.sk-estimator {font-family: monospace;background-color: #f0f8ff;border: 1px dotted black;border-radius: 0.25em;box-sizing: border-box;margin-bottom: 0.5em;}#sk-container-id-26 div.sk-estimator:hover {background-color: #d4ebff;}#sk-container-id-26 div.sk-parallel-item::after {content: \"\";width: 100%;border-bottom: 1px solid gray;flex-grow: 1;}#sk-container-id-26 div.sk-label:hover label.sk-toggleable__label {background-color: #d4ebff;}#sk-container-id-26 div.sk-serial::before {content: \"\";position: absolute;border-left: 1px solid gray;box-sizing: border-box;top: 0;bottom: 0;left: 50%;z-index: 0;}#sk-container-id-26 div.sk-serial {display: flex;flex-direction: column;align-items: center;background-color: white;padding-right: 0.2em;padding-left: 0.2em;position: relative;}#sk-container-id-26 div.sk-item {position: relative;z-index: 1;}#sk-container-id-26 div.sk-parallel {display: flex;align-items: stretch;justify-content: center;background-color: white;position: relative;}#sk-container-id-26 div.sk-item::before, #sk-container-id-26 div.sk-parallel-item::before {content: \"\";position: absolute;border-left: 1px solid gray;box-sizing: border-box;top: 0;bottom: 0;left: 50%;z-index: -1;}#sk-container-id-26 div.sk-parallel-item {display: flex;flex-direction: column;z-index: 1;position: relative;background-color: white;}#sk-container-id-26 div.sk-parallel-item:first-child::after {align-self: flex-end;width: 50%;}#sk-container-id-26 div.sk-parallel-item:last-child::after {align-self: flex-start;width: 50%;}#sk-container-id-26 div.sk-parallel-item:only-child::after {width: 0;}#sk-container-id-26 div.sk-dashed-wrapped {border: 1px dashed gray;margin: 0 0.4em 0.5em 0.4em;box-sizing: border-box;padding-bottom: 0.4em;background-color: white;}#sk-container-id-26 div.sk-label label {font-family: monospace;font-weight: bold;display: inline-block;line-height: 1.2em;}#sk-container-id-26 div.sk-label-container {text-align: center;}#sk-container-id-26 div.sk-container {/* jupyter's `normalize.less` sets `[hidden] { display: none; }` but bootstrap.min.css set `[hidden] { display: none !important; }` so we also need the `!important` here to be able to override the default hidden behavior on the sphinx rendered scikit-learn.org. See: https://github.com/scikit-learn/scikit-learn/issues/21755 */display: inline-block !important;position: relative;}#sk-container-id-26 div.sk-text-repr-fallback {display: none;}</style><div id=\"sk-container-id-26\" class=\"sk-top-container\"><div class=\"sk-text-repr-fallback\"><pre>MLPClassifier(activation=&#x27;tanh&#x27;, hidden_layer_sizes=(200, 100),\n",
       "              learning_rate_init=0.010339203116553185, max_iter=1000)</pre><b>In a Jupyter environment, please rerun this cell to show the HTML representation or trust the notebook. <br />On GitHub, the HTML representation is unable to render, please try loading this page with nbviewer.org.</b></div><div class=\"sk-container\" hidden><div class=\"sk-item\"><div class=\"sk-estimator sk-toggleable\"><input class=\"sk-toggleable__control sk-hidden--visually\" id=\"sk-estimator-id-45\" type=\"checkbox\" checked><label for=\"sk-estimator-id-45\" class=\"sk-toggleable__label sk-toggleable__label-arrow\">MLPClassifier</label><div class=\"sk-toggleable__content\"><pre>MLPClassifier(activation=&#x27;tanh&#x27;, hidden_layer_sizes=(200, 100),\n",
       "              learning_rate_init=0.010339203116553185, max_iter=1000)</pre></div></div></div></div></div>"
      ],
      "text/plain": [
       "MLPClassifier(activation='tanh', hidden_layer_sizes=(200, 100),\n",
       "              learning_rate_init=0.010339203116553185, max_iter=1000)"
      ]
     },
     "execution_count": 208,
     "metadata": {},
     "output_type": "execute_result"
    }
   ],
   "source": [
    "mlp1.fit(x_sm,y_sm)"
   ]
  },
  {
   "cell_type": "code",
   "execution_count": 209,
   "id": "b8e46b3c",
   "metadata": {},
   "outputs": [
    {
     "data": {
      "text/plain": [
       "array([3, 3, 3, 2, 3, 3, 3, 3, 3, 3, 3, 2, 3, 3, 3, 3, 3, 3, 4, 3, 3, 2,\n",
       "       3, 3, 3, 4, 4, 3, 2, 3, 3, 4, 3, 3, 3, 4, 3, 3, 4, 3, 3, 3, 3, 3,\n",
       "       3, 4, 4, 3, 3, 3, 3, 2, 3, 4, 3, 3, 3, 3, 3, 3, 3, 4, 4, 3, 3, 3,\n",
       "       2, 3, 3, 3, 3, 3, 3, 3, 3, 3, 3, 3, 3, 3, 3, 2, 3, 3, 3, 3, 2, 4,\n",
       "       3, 3, 3, 2, 4, 3, 3, 3, 4, 3, 3, 3, 3, 3, 2, 3, 3, 3, 3, 2, 2, 3,\n",
       "       3, 3, 4, 3, 3, 3, 3, 3, 3, 3, 3, 4, 3, 2, 3, 3, 3, 3, 3, 4, 3, 3,\n",
       "       3, 3, 3, 2, 3, 3, 4, 4, 3, 2, 2, 2, 3, 3, 3, 2, 3, 2, 3, 3, 3, 3,\n",
       "       3, 3, 3, 2, 3, 3, 3, 3, 3, 2, 3, 3, 3, 3, 3, 3, 4, 2, 3, 2, 3, 3,\n",
       "       3, 3, 2, 3, 3, 3, 3, 3, 3, 3, 3, 3, 4, 3, 3, 3, 3, 3, 3, 3, 3, 3,\n",
       "       3, 3, 2, 3, 3, 3, 3, 3, 3, 3, 3, 4, 3, 2, 2, 3, 3, 3, 2, 2, 2, 3,\n",
       "       4, 3, 2, 4, 3, 3, 4, 3, 2, 3, 3, 3, 3, 3, 3, 2, 3, 3, 3, 2],\n",
       "      dtype=int64)"
      ]
     },
     "execution_count": 209,
     "metadata": {},
     "output_type": "execute_result"
    }
   ],
   "source": [
    "mlp1_y_pred = mlp1.predict(x_test)\n",
    "mlp1_y_pred"
   ]
  },
  {
   "cell_type": "code",
   "execution_count": 210,
   "id": "34797274",
   "metadata": {},
   "outputs": [
    {
     "name": "stdout",
     "output_type": "stream",
     "text": [
      "ACCURACY SCORE: 0.8541666666666666\n",
      "PRECISION SCORE: 0.8510017603726574\n",
      "RECALL SCORE: 0.8541666666666666\n",
      "F1 SCORE: 0.851802931166823\n",
      "------\n",
      "MLP CLASSIFICATION REPORT:\n",
      "              precision    recall  f1-score   support\n",
      "\n",
      "           2       0.79      0.69      0.74        39\n",
      "           3       0.90      0.93      0.91       175\n",
      "           4       0.64      0.62      0.63        26\n",
      "\n",
      "    accuracy                           0.85       240\n",
      "   macro avg       0.78      0.74      0.76       240\n",
      "weighted avg       0.85      0.85      0.85       240\n",
      "\n"
     ]
    }
   ],
   "source": [
    "mlp1_acc_test = accuracy_score(y_test,mlp1_y_pred)\n",
    "print('ACCURACY SCORE:', mlp1_acc_test)\n",
    "mlp1_pre = precision_score(y_test,mlp1_y_pred, average='weighted')\n",
    "print('PRECISION SCORE:',mlp1_pre)\n",
    "mlp1_recall = recall_score(y_test,mlp1_y_pred, average ='weighted')\n",
    "print('RECALL SCORE:',mlp1_recall)\n",
    "mlp1_f1 = f1_score(y_test,mlp1_y_pred, average = 'weighted')\n",
    "print('F1 SCORE:',mlp1_f1)\n",
    "print('------')\n",
    "print('MLP CLASSIFICATION REPORT:')\n",
    "print(classification_report(y_test,mlp1_y_pred))"
   ]
  },
  {
   "cell_type": "code",
   "execution_count": 211,
   "id": "1e6b3476",
   "metadata": {},
   "outputs": [
    {
     "data": {
      "text/html": [
       "<div>\n",
       "<style scoped>\n",
       "    .dataframe tbody tr th:only-of-type {\n",
       "        vertical-align: middle;\n",
       "    }\n",
       "\n",
       "    .dataframe tbody tr th {\n",
       "        vertical-align: top;\n",
       "    }\n",
       "\n",
       "    .dataframe thead th {\n",
       "        text-align: right;\n",
       "    }\n",
       "</style>\n",
       "<table border=\"1\" class=\"dataframe\">\n",
       "  <thead>\n",
       "    <tr style=\"text-align: right;\">\n",
       "      <th>col_0</th>\n",
       "      <th>2</th>\n",
       "      <th>3</th>\n",
       "      <th>4</th>\n",
       "    </tr>\n",
       "    <tr>\n",
       "      <th>PerformanceRating</th>\n",
       "      <th></th>\n",
       "      <th></th>\n",
       "      <th></th>\n",
       "    </tr>\n",
       "  </thead>\n",
       "  <tbody>\n",
       "    <tr>\n",
       "      <th>2</th>\n",
       "      <td>27</td>\n",
       "      <td>11</td>\n",
       "      <td>1</td>\n",
       "    </tr>\n",
       "    <tr>\n",
       "      <th>3</th>\n",
       "      <td>5</td>\n",
       "      <td>162</td>\n",
       "      <td>8</td>\n",
       "    </tr>\n",
       "    <tr>\n",
       "      <th>4</th>\n",
       "      <td>2</td>\n",
       "      <td>8</td>\n",
       "      <td>16</td>\n",
       "    </tr>\n",
       "  </tbody>\n",
       "</table>\n",
       "</div>"
      ],
      "text/plain": [
       "col_0               2    3   4\n",
       "PerformanceRating             \n",
       "2                  27   11   1\n",
       "3                   5  162   8\n",
       "4                   2    8  16"
      ]
     },
     "execution_count": 211,
     "metadata": {},
     "output_type": "execute_result"
    }
   ],
   "source": [
    "pd.crosstab(y_test,mlp1_y_pred)"
   ]
  },
  {
   "cell_type": "code",
   "execution_count": 212,
   "id": "ebdde27b",
   "metadata": {},
   "outputs": [
    {
     "data": {
      "text/html": [
       "<div>\n",
       "<style scoped>\n",
       "    .dataframe tbody tr th:only-of-type {\n",
       "        vertical-align: middle;\n",
       "    }\n",
       "\n",
       "    .dataframe tbody tr th {\n",
       "        vertical-align: top;\n",
       "    }\n",
       "\n",
       "    .dataframe thead th {\n",
       "        text-align: right;\n",
       "    }\n",
       "</style>\n",
       "<table border=\"1\" class=\"dataframe\">\n",
       "  <thead>\n",
       "    <tr style=\"text-align: right;\">\n",
       "      <th></th>\n",
       "      <th>METRIC</th>\n",
       "      <th>VALUE</th>\n",
       "    </tr>\n",
       "  </thead>\n",
       "  <tbody>\n",
       "    <tr>\n",
       "      <th>0</th>\n",
       "      <td>Accuracy</td>\n",
       "      <td>0.854167</td>\n",
       "    </tr>\n",
       "    <tr>\n",
       "      <th>1</th>\n",
       "      <td>Precision</td>\n",
       "      <td>0.851002</td>\n",
       "    </tr>\n",
       "    <tr>\n",
       "      <th>2</th>\n",
       "      <td>Recall</td>\n",
       "      <td>0.854167</td>\n",
       "    </tr>\n",
       "    <tr>\n",
       "      <th>3</th>\n",
       "      <td>F1 Score</td>\n",
       "      <td>0.851803</td>\n",
       "    </tr>\n",
       "  </tbody>\n",
       "</table>\n",
       "</div>"
      ],
      "text/plain": [
       "      METRIC     VALUE\n",
       "0   Accuracy  0.854167\n",
       "1  Precision  0.851002\n",
       "2     Recall  0.854167\n",
       "3   F1 Score  0.851803"
      ]
     },
     "execution_count": 212,
     "metadata": {},
     "output_type": "execute_result"
    }
   ],
   "source": [
    "mlp1_Metrics =pd.DataFrame({'METRIC': ['Accuracy','Precision','Recall','F1 Score'],'VALUE' : [mlp1_acc_test,mlp1_pre,mlp1_recall,mlp1_f1]})\n",
    "mlp1_Metrics"
   ]
  },
  {
   "cell_type": "code",
   "execution_count": 213,
   "id": "cac75a1e",
   "metadata": {},
   "outputs": [
    {
     "name": "stdout",
     "output_type": "stream",
     "text": [
      "MLP Classifier EVALUATION METRIC AFTER HYPERPARAMETER TUNING:\n",
      "+-----------+----------+\n",
      "| METRIC    |    VALUE |\n",
      "+===========+==========+\n",
      "| Accuracy  | 0.854167 |\n",
      "+-----------+----------+\n",
      "| Precision | 0.851002 |\n",
      "+-----------+----------+\n",
      "| Recall    | 0.854167 |\n",
      "+-----------+----------+\n",
      "| F1 Score  | 0.851803 |\n",
      "+-----------+----------+\n"
     ]
    }
   ],
   "source": [
    "print(\"MLP Classifier EVALUATION METRIC AFTER HYPERPARAMETER TUNING:\")\n",
    "print(tabulate(mlp1_Metrics,headers ='keys',tablefmt= 'grid',showindex = False))"
   ]
  },
  {
   "cell_type": "code",
   "execution_count": null,
   "id": "66edf2a0",
   "metadata": {},
   "outputs": [],
   "source": []
  },
  {
   "cell_type": "markdown",
   "id": "c08a31ea",
   "metadata": {},
   "source": [
    "- MLP improved after hyperparameter tuning but still didn’t reach the performance level of Random Forest or Gradient Boosting. It can model complex relationships but requires more tuning to perform well consistently. Moderately useful for this task."
   ]
  },
  {
   "cell_type": "code",
   "execution_count": null,
   "id": "b0c617c5",
   "metadata": {},
   "outputs": [],
   "source": []
  },
  {
   "cell_type": "code",
   "execution_count": null,
   "id": "7fefdb6c",
   "metadata": {},
   "outputs": [],
   "source": []
  },
  {
   "cell_type": "code",
   "execution_count": null,
   "id": "da199d5b",
   "metadata": {},
   "outputs": [],
   "source": []
  },
  {
   "cell_type": "code",
   "execution_count": null,
   "id": "dc88ccce",
   "metadata": {},
   "outputs": [],
   "source": []
  },
  {
   "cell_type": "markdown",
   "id": "bc1a8ded",
   "metadata": {},
   "source": [
    "# 10. CatBoost"
   ]
  },
  {
   "cell_type": "code",
   "execution_count": 214,
   "id": "38c7e1b8",
   "metadata": {},
   "outputs": [],
   "source": [
    "import catboost\n",
    "from catboost import CatBoostClassifier"
   ]
  },
  {
   "cell_type": "code",
   "execution_count": 215,
   "id": "5d63dc1e",
   "metadata": {},
   "outputs": [],
   "source": [
    "cat = CatBoostClassifier(iterations = 100, depth = 10,learning_rate = 0.1, loss_function='MultiClass')"
   ]
  },
  {
   "cell_type": "code",
   "execution_count": 216,
   "id": "3707504a",
   "metadata": {},
   "outputs": [
    {
     "name": "stdout",
     "output_type": "stream",
     "text": [
      "0:\tlearn: 1.0069639\ttotal: 229ms\tremaining: 22.7s\n",
      "1:\tlearn: 0.9321858\ttotal: 308ms\tremaining: 15.1s\n",
      "2:\tlearn: 0.8426889\ttotal: 318ms\tremaining: 10.3s\n",
      "3:\tlearn: 0.7756554\ttotal: 356ms\tremaining: 8.55s\n",
      "4:\tlearn: 0.7261398\ttotal: 434ms\tremaining: 8.24s\n",
      "5:\tlearn: 0.6772671\ttotal: 510ms\tremaining: 7.99s\n",
      "6:\tlearn: 0.6315057\ttotal: 592ms\tremaining: 7.87s\n",
      "7:\tlearn: 0.6002023\ttotal: 671ms\tremaining: 7.72s\n",
      "8:\tlearn: 0.5630311\ttotal: 710ms\tremaining: 7.18s\n",
      "9:\tlearn: 0.5297188\ttotal: 793ms\tremaining: 7.14s\n",
      "10:\tlearn: 0.5009954\ttotal: 872ms\tremaining: 7.05s\n",
      "11:\tlearn: 0.4770948\ttotal: 946ms\tremaining: 6.93s\n",
      "12:\tlearn: 0.4529819\ttotal: 1.02s\tremaining: 6.83s\n",
      "13:\tlearn: 0.4308393\ttotal: 1.1s\tremaining: 6.75s\n",
      "14:\tlearn: 0.4118319\ttotal: 1.17s\tremaining: 6.65s\n",
      "15:\tlearn: 0.3944733\ttotal: 1.24s\tremaining: 6.53s\n",
      "16:\tlearn: 0.3776617\ttotal: 1.32s\tremaining: 6.46s\n",
      "17:\tlearn: 0.3614513\ttotal: 1.4s\tremaining: 6.36s\n",
      "18:\tlearn: 0.3493163\ttotal: 1.47s\tremaining: 6.27s\n",
      "19:\tlearn: 0.3362212\ttotal: 1.55s\tremaining: 6.18s\n",
      "20:\tlearn: 0.3248951\ttotal: 1.62s\tremaining: 6.09s\n",
      "21:\tlearn: 0.3155617\ttotal: 1.69s\tremaining: 6s\n",
      "22:\tlearn: 0.3042438\ttotal: 1.77s\tremaining: 5.92s\n",
      "23:\tlearn: 0.2958090\ttotal: 1.84s\tremaining: 5.83s\n",
      "24:\tlearn: 0.2865736\ttotal: 1.91s\tremaining: 5.74s\n",
      "25:\tlearn: 0.2781057\ttotal: 1.99s\tremaining: 5.66s\n",
      "26:\tlearn: 0.2697310\ttotal: 2.06s\tremaining: 5.57s\n",
      "27:\tlearn: 0.2615790\ttotal: 2.13s\tremaining: 5.48s\n",
      "28:\tlearn: 0.2534282\ttotal: 2.21s\tremaining: 5.4s\n",
      "29:\tlearn: 0.2474536\ttotal: 2.28s\tremaining: 5.32s\n",
      "30:\tlearn: 0.2402353\ttotal: 2.35s\tremaining: 5.22s\n",
      "31:\tlearn: 0.2325790\ttotal: 2.41s\tremaining: 5.13s\n",
      "32:\tlearn: 0.2277190\ttotal: 2.48s\tremaining: 5.04s\n",
      "33:\tlearn: 0.2219954\ttotal: 2.54s\tremaining: 4.94s\n",
      "34:\tlearn: 0.2169034\ttotal: 2.61s\tremaining: 4.85s\n",
      "35:\tlearn: 0.2112104\ttotal: 2.68s\tremaining: 4.76s\n",
      "36:\tlearn: 0.2046818\ttotal: 2.74s\tremaining: 4.67s\n",
      "37:\tlearn: 0.1985684\ttotal: 2.81s\tremaining: 4.58s\n",
      "38:\tlearn: 0.1942212\ttotal: 2.87s\tremaining: 4.49s\n",
      "39:\tlearn: 0.1893377\ttotal: 2.94s\tremaining: 4.42s\n",
      "40:\tlearn: 0.1838758\ttotal: 3.01s\tremaining: 4.33s\n",
      "41:\tlearn: 0.1797867\ttotal: 3.08s\tremaining: 4.25s\n",
      "42:\tlearn: 0.1755753\ttotal: 3.14s\tremaining: 4.17s\n",
      "43:\tlearn: 0.1719388\ttotal: 3.21s\tremaining: 4.09s\n",
      "44:\tlearn: 0.1680852\ttotal: 3.27s\tremaining: 4s\n",
      "45:\tlearn: 0.1643509\ttotal: 3.34s\tremaining: 3.93s\n",
      "46:\tlearn: 0.1606235\ttotal: 3.41s\tremaining: 3.85s\n",
      "47:\tlearn: 0.1576505\ttotal: 3.48s\tremaining: 3.77s\n",
      "48:\tlearn: 0.1549250\ttotal: 3.55s\tremaining: 3.69s\n",
      "49:\tlearn: 0.1519899\ttotal: 3.62s\tremaining: 3.62s\n",
      "50:\tlearn: 0.1491768\ttotal: 3.69s\tremaining: 3.54s\n",
      "51:\tlearn: 0.1462066\ttotal: 3.75s\tremaining: 3.46s\n",
      "52:\tlearn: 0.1430853\ttotal: 3.82s\tremaining: 3.39s\n",
      "53:\tlearn: 0.1408121\ttotal: 3.89s\tremaining: 3.31s\n",
      "54:\tlearn: 0.1382190\ttotal: 3.96s\tremaining: 3.24s\n",
      "55:\tlearn: 0.1357969\ttotal: 4.02s\tremaining: 3.16s\n",
      "56:\tlearn: 0.1330587\ttotal: 4.09s\tremaining: 3.08s\n",
      "57:\tlearn: 0.1305174\ttotal: 4.16s\tremaining: 3.01s\n",
      "58:\tlearn: 0.1285527\ttotal: 4.22s\tremaining: 2.94s\n",
      "59:\tlearn: 0.1268436\ttotal: 4.29s\tremaining: 2.86s\n",
      "60:\tlearn: 0.1248936\ttotal: 4.37s\tremaining: 2.79s\n",
      "61:\tlearn: 0.1219919\ttotal: 4.44s\tremaining: 2.72s\n",
      "62:\tlearn: 0.1199821\ttotal: 4.51s\tremaining: 2.65s\n",
      "63:\tlearn: 0.1176660\ttotal: 4.58s\tremaining: 2.57s\n",
      "64:\tlearn: 0.1160183\ttotal: 4.64s\tremaining: 2.5s\n",
      "65:\tlearn: 0.1142835\ttotal: 4.74s\tremaining: 2.44s\n",
      "66:\tlearn: 0.1127079\ttotal: 4.81s\tremaining: 2.37s\n",
      "67:\tlearn: 0.1112554\ttotal: 4.88s\tremaining: 2.3s\n",
      "68:\tlearn: 0.1096465\ttotal: 4.95s\tremaining: 2.22s\n",
      "69:\tlearn: 0.1079103\ttotal: 5.01s\tremaining: 2.15s\n",
      "70:\tlearn: 0.1062877\ttotal: 5.08s\tremaining: 2.08s\n",
      "71:\tlearn: 0.1046335\ttotal: 5.15s\tremaining: 2s\n",
      "72:\tlearn: 0.1026042\ttotal: 5.22s\tremaining: 1.93s\n",
      "73:\tlearn: 0.1007553\ttotal: 5.29s\tremaining: 1.86s\n",
      "74:\tlearn: 0.0993253\ttotal: 5.35s\tremaining: 1.78s\n",
      "75:\tlearn: 0.0976519\ttotal: 5.42s\tremaining: 1.71s\n",
      "76:\tlearn: 0.0959061\ttotal: 5.49s\tremaining: 1.64s\n",
      "77:\tlearn: 0.0947437\ttotal: 5.56s\tremaining: 1.57s\n",
      "78:\tlearn: 0.0932563\ttotal: 5.63s\tremaining: 1.5s\n",
      "79:\tlearn: 0.0921460\ttotal: 5.7s\tremaining: 1.42s\n",
      "80:\tlearn: 0.0907011\ttotal: 5.77s\tremaining: 1.35s\n",
      "81:\tlearn: 0.0896447\ttotal: 5.84s\tremaining: 1.28s\n",
      "82:\tlearn: 0.0884857\ttotal: 5.9s\tremaining: 1.21s\n",
      "83:\tlearn: 0.0870999\ttotal: 5.97s\tremaining: 1.14s\n",
      "84:\tlearn: 0.0859157\ttotal: 6.04s\tremaining: 1.07s\n",
      "85:\tlearn: 0.0846638\ttotal: 6.11s\tremaining: 995ms\n",
      "86:\tlearn: 0.0834442\ttotal: 6.18s\tremaining: 924ms\n",
      "87:\tlearn: 0.0820747\ttotal: 6.25s\tremaining: 852ms\n",
      "88:\tlearn: 0.0811134\ttotal: 6.32s\tremaining: 781ms\n",
      "89:\tlearn: 0.0796538\ttotal: 6.39s\tremaining: 710ms\n",
      "90:\tlearn: 0.0786925\ttotal: 6.45s\tremaining: 638ms\n",
      "91:\tlearn: 0.0776179\ttotal: 6.53s\tremaining: 568ms\n",
      "92:\tlearn: 0.0765893\ttotal: 6.59s\tremaining: 496ms\n",
      "93:\tlearn: 0.0755416\ttotal: 6.66s\tremaining: 425ms\n",
      "94:\tlearn: 0.0746648\ttotal: 6.73s\tremaining: 354ms\n",
      "95:\tlearn: 0.0737311\ttotal: 6.8s\tremaining: 283ms\n",
      "96:\tlearn: 0.0727549\ttotal: 6.86s\tremaining: 212ms\n",
      "97:\tlearn: 0.0716299\ttotal: 6.94s\tremaining: 142ms\n",
      "98:\tlearn: 0.0706867\ttotal: 7.01s\tremaining: 70.8ms\n",
      "99:\tlearn: 0.0695222\ttotal: 7.08s\tremaining: 0us\n"
     ]
    },
    {
     "data": {
      "text/plain": [
       "<catboost.core.CatBoostClassifier at 0x1f0dde8cbd0>"
      ]
     },
     "execution_count": 216,
     "metadata": {},
     "output_type": "execute_result"
    }
   ],
   "source": [
    "cat.fit(x_sm,y_sm)"
   ]
  },
  {
   "cell_type": "markdown",
   "id": "6ec43221",
   "metadata": {},
   "source": [
    "###### Prediction"
   ]
  },
  {
   "cell_type": "code",
   "execution_count": 217,
   "id": "8c0db5a5",
   "metadata": {},
   "outputs": [
    {
     "data": {
      "text/plain": [
       "array([[3],\n",
       "       [2],\n",
       "       [3],\n",
       "       ...,\n",
       "       [4],\n",
       "       [4],\n",
       "       [4]], dtype=int64)"
      ]
     },
     "execution_count": 217,
     "metadata": {},
     "output_type": "execute_result"
    }
   ],
   "source": [
    "cat_y_train = cat.predict(x_sm)\n",
    "cat_y_train"
   ]
  },
  {
   "cell_type": "code",
   "execution_count": 218,
   "id": "16c1ddc3",
   "metadata": {},
   "outputs": [
    {
     "data": {
      "text/plain": [
       "array([[3],\n",
       "       [3],\n",
       "       [3],\n",
       "       [2],\n",
       "       [3],\n",
       "       [3],\n",
       "       [2],\n",
       "       [3],\n",
       "       [3],\n",
       "       [3],\n",
       "       [3],\n",
       "       [2],\n",
       "       [3],\n",
       "       [3],\n",
       "       [3],\n",
       "       [3],\n",
       "       [3],\n",
       "       [3],\n",
       "       [3],\n",
       "       [3],\n",
       "       [3],\n",
       "       [2],\n",
       "       [3],\n",
       "       [3],\n",
       "       [3],\n",
       "       [2],\n",
       "       [4],\n",
       "       [3],\n",
       "       [2],\n",
       "       [3],\n",
       "       [3],\n",
       "       [4],\n",
       "       [3],\n",
       "       [3],\n",
       "       [3],\n",
       "       [4],\n",
       "       [3],\n",
       "       [3],\n",
       "       [4],\n",
       "       [3],\n",
       "       [3],\n",
       "       [3],\n",
       "       [3],\n",
       "       [2],\n",
       "       [3],\n",
       "       [4],\n",
       "       [4],\n",
       "       [3],\n",
       "       [3],\n",
       "       [3],\n",
       "       [3],\n",
       "       [2],\n",
       "       [3],\n",
       "       [4],\n",
       "       [2],\n",
       "       [3],\n",
       "       [3],\n",
       "       [3],\n",
       "       [3],\n",
       "       [3],\n",
       "       [3],\n",
       "       [4],\n",
       "       [4],\n",
       "       [3],\n",
       "       [3],\n",
       "       [2],\n",
       "       [2],\n",
       "       [3],\n",
       "       [3],\n",
       "       [4],\n",
       "       [3],\n",
       "       [3],\n",
       "       [3],\n",
       "       [3],\n",
       "       [3],\n",
       "       [3],\n",
       "       [3],\n",
       "       [3],\n",
       "       [2],\n",
       "       [3],\n",
       "       [3],\n",
       "       [2],\n",
       "       [3],\n",
       "       [3],\n",
       "       [3],\n",
       "       [2],\n",
       "       [2],\n",
       "       [3],\n",
       "       [3],\n",
       "       [3],\n",
       "       [3],\n",
       "       [2],\n",
       "       [4],\n",
       "       [3],\n",
       "       [3],\n",
       "       [3],\n",
       "       [3],\n",
       "       [3],\n",
       "       [2],\n",
       "       [2],\n",
       "       [3],\n",
       "       [3],\n",
       "       [2],\n",
       "       [3],\n",
       "       [3],\n",
       "       [3],\n",
       "       [2],\n",
       "       [2],\n",
       "       [2],\n",
       "       [3],\n",
       "       [3],\n",
       "       [3],\n",
       "       [4],\n",
       "       [3],\n",
       "       [3],\n",
       "       [4],\n",
       "       [3],\n",
       "       [3],\n",
       "       [3],\n",
       "       [3],\n",
       "       [3],\n",
       "       [4],\n",
       "       [3],\n",
       "       [2],\n",
       "       [3],\n",
       "       [3],\n",
       "       [2],\n",
       "       [3],\n",
       "       [3],\n",
       "       [4],\n",
       "       [3],\n",
       "       [3],\n",
       "       [3],\n",
       "       [3],\n",
       "       [3],\n",
       "       [2],\n",
       "       [3],\n",
       "       [3],\n",
       "       [3],\n",
       "       [4],\n",
       "       [3],\n",
       "       [2],\n",
       "       [2],\n",
       "       [2],\n",
       "       [3],\n",
       "       [3],\n",
       "       [3],\n",
       "       [2],\n",
       "       [3],\n",
       "       [4],\n",
       "       [3],\n",
       "       [3],\n",
       "       [3],\n",
       "       [3],\n",
       "       [3],\n",
       "       [4],\n",
       "       [3],\n",
       "       [2],\n",
       "       [3],\n",
       "       [3],\n",
       "       [3],\n",
       "       [3],\n",
       "       [3],\n",
       "       [3],\n",
       "       [3],\n",
       "       [3],\n",
       "       [3],\n",
       "       [3],\n",
       "       [3],\n",
       "       [3],\n",
       "       [4],\n",
       "       [2],\n",
       "       [3],\n",
       "       [2],\n",
       "       [3],\n",
       "       [3],\n",
       "       [3],\n",
       "       [3],\n",
       "       [2],\n",
       "       [3],\n",
       "       [3],\n",
       "       [3],\n",
       "       [3],\n",
       "       [3],\n",
       "       [3],\n",
       "       [3],\n",
       "       [4],\n",
       "       [3],\n",
       "       [3],\n",
       "       [2],\n",
       "       [3],\n",
       "       [3],\n",
       "       [3],\n",
       "       [3],\n",
       "       [3],\n",
       "       [3],\n",
       "       [3],\n",
       "       [3],\n",
       "       [3],\n",
       "       [3],\n",
       "       [2],\n",
       "       [3],\n",
       "       [3],\n",
       "       [3],\n",
       "       [2],\n",
       "       [3],\n",
       "       [3],\n",
       "       [3],\n",
       "       [3],\n",
       "       [3],\n",
       "       [3],\n",
       "       [3],\n",
       "       [3],\n",
       "       [3],\n",
       "       [3],\n",
       "       [2],\n",
       "       [2],\n",
       "       [2],\n",
       "       [2],\n",
       "       [3],\n",
       "       [4],\n",
       "       [3],\n",
       "       [2],\n",
       "       [4],\n",
       "       [3],\n",
       "       [3],\n",
       "       [4],\n",
       "       [2],\n",
       "       [3],\n",
       "       [3],\n",
       "       [3],\n",
       "       [3],\n",
       "       [3],\n",
       "       [3],\n",
       "       [3],\n",
       "       [2],\n",
       "       [3],\n",
       "       [3],\n",
       "       [3],\n",
       "       [2]], dtype=int64)"
      ]
     },
     "execution_count": 218,
     "metadata": {},
     "output_type": "execute_result"
    }
   ],
   "source": [
    "cat_y_pred = cat.predict(x_test)\n",
    "cat_y_pred"
   ]
  },
  {
   "cell_type": "markdown",
   "id": "41f3e39f",
   "metadata": {},
   "source": [
    "###### Evaluation"
   ]
  },
  {
   "cell_type": "code",
   "execution_count": 219,
   "id": "e3b4d3e8",
   "metadata": {},
   "outputs": [
    {
     "data": {
      "text/plain": [
       "0.994754411063424"
      ]
     },
     "execution_count": 219,
     "metadata": {},
     "output_type": "execute_result"
    }
   ],
   "source": [
    "cat_acc_train  = accuracy_score(y_sm,cat_y_train)\n",
    "cat_acc_train"
   ]
  },
  {
   "cell_type": "code",
   "execution_count": 220,
   "id": "d480ebf6",
   "metadata": {},
   "outputs": [
    {
     "name": "stdout",
     "output_type": "stream",
     "text": [
      "              precision    recall  f1-score   support\n",
      "\n",
      "           2       0.99      1.00      0.99       699\n",
      "           3       1.00      0.99      0.99       699\n",
      "           4       1.00      1.00      1.00       699\n",
      "\n",
      "    accuracy                           0.99      2097\n",
      "   macro avg       0.99      0.99      0.99      2097\n",
      "weighted avg       0.99      0.99      0.99      2097\n",
      "\n"
     ]
    }
   ],
   "source": [
    "print(classification_report(y_sm,cat_y_train))"
   ]
  },
  {
   "cell_type": "code",
   "execution_count": 221,
   "id": "92826907",
   "metadata": {},
   "outputs": [
    {
     "name": "stdout",
     "output_type": "stream",
     "text": [
      "ACCURACY SCORE: 0.9125\n",
      "PRECISION SCORE: 0.9157143659515486\n",
      "RECALL SCORE: 0.9125\n",
      "F1 SCORE: 0.9132502093760924\n",
      "------\n",
      "CAT CLASSIFICATION REPORT:\n",
      "              precision    recall  f1-score   support\n",
      "\n",
      "           2       0.77      0.87      0.82        39\n",
      "           3       0.95      0.94      0.94       175\n",
      "           4       0.91      0.81      0.86        26\n",
      "\n",
      "    accuracy                           0.91       240\n",
      "   macro avg       0.88      0.87      0.87       240\n",
      "weighted avg       0.92      0.91      0.91       240\n",
      "\n"
     ]
    }
   ],
   "source": [
    "cat_acc_test = accuracy_score(y_test,cat_y_pred)\n",
    "print('ACCURACY SCORE:', cat_acc_test)\n",
    "cat_pre = precision_score(y_test,cat_y_pred, average = 'weighted')\n",
    "print('PRECISION SCORE:',cat_pre)\n",
    "cat_recall = recall_score(y_test,cat_y_pred, average ='weighted')\n",
    "print('RECALL SCORE:',cat_recall)\n",
    "cat_f1 = f1_score(y_test,cat_y_pred, average = 'weighted')\n",
    "print('F1 SCORE:',cat_f1)\n",
    "print('------')\n",
    "print('CAT CLASSIFICATION REPORT:')\n",
    "print(classification_report(y_test,cat_y_pred))"
   ]
  },
  {
   "cell_type": "code",
   "execution_count": null,
   "id": "bd7e0e37",
   "metadata": {},
   "outputs": [],
   "source": []
  },
  {
   "cell_type": "markdown",
   "id": "afacebc9",
   "metadata": {},
   "source": [
    "### HyperParameter Tuning in CAT"
   ]
  },
  {
   "cell_type": "code",
   "execution_count": 222,
   "id": "125272a8",
   "metadata": {},
   "outputs": [],
   "source": [
    "from scipy.stats import uniform, randint\n",
    "\n",
    "\n",
    "param_dist = {\n",
    "    'iterations': randint(100,500),  # Number of boosting iterations (trees)\n",
    "    'depth': randint(4, 8),           # Depth of trees\n",
    "    'learning_rate': uniform(0.01, 0.1),  # Learning rate\n",
    "    'l2_leaf_reg': uniform(1, 5),     # L2 regularization\n",
    "    'bagging_temperature': uniform(0, 0.5),  # Bagging temperature (randomness)\n",
    "    'random_strength': uniform(0, 1),  # Randomness strength for splits\n",
    "    'max_bin': randint(100, 150),      # Maximum number of bins for discretization\n",
    "}\n"
   ]
  },
  {
   "cell_type": "code",
   "execution_count": 223,
   "id": "4d97ff93",
   "metadata": {},
   "outputs": [],
   "source": [
    "catboost = CatBoostClassifier(random_state=42, verbose=0)\n"
   ]
  },
  {
   "cell_type": "code",
   "execution_count": 224,
   "id": "8e3aa5c8",
   "metadata": {},
   "outputs": [],
   "source": [
    "random_search = RandomizedSearchCV(catboost, param_distributions=param_dist, \n",
    "                                   n_iter=50, cv=3, n_jobs=-1, verbose=2)\n"
   ]
  },
  {
   "cell_type": "code",
   "execution_count": 225,
   "id": "1d2490d3",
   "metadata": {},
   "outputs": [
    {
     "name": "stdout",
     "output_type": "stream",
     "text": [
      "Fitting 3 folds for each of 50 candidates, totalling 150 fits\n"
     ]
    },
    {
     "data": {
      "text/html": [
       "<style>#sk-container-id-27 {color: black;background-color: white;}#sk-container-id-27 pre{padding: 0;}#sk-container-id-27 div.sk-toggleable {background-color: white;}#sk-container-id-27 label.sk-toggleable__label {cursor: pointer;display: block;width: 100%;margin-bottom: 0;padding: 0.3em;box-sizing: border-box;text-align: center;}#sk-container-id-27 label.sk-toggleable__label-arrow:before {content: \"▸\";float: left;margin-right: 0.25em;color: #696969;}#sk-container-id-27 label.sk-toggleable__label-arrow:hover:before {color: black;}#sk-container-id-27 div.sk-estimator:hover label.sk-toggleable__label-arrow:before {color: black;}#sk-container-id-27 div.sk-toggleable__content {max-height: 0;max-width: 0;overflow: hidden;text-align: left;background-color: #f0f8ff;}#sk-container-id-27 div.sk-toggleable__content pre {margin: 0.2em;color: black;border-radius: 0.25em;background-color: #f0f8ff;}#sk-container-id-27 input.sk-toggleable__control:checked~div.sk-toggleable__content {max-height: 200px;max-width: 100%;overflow: auto;}#sk-container-id-27 input.sk-toggleable__control:checked~label.sk-toggleable__label-arrow:before {content: \"▾\";}#sk-container-id-27 div.sk-estimator input.sk-toggleable__control:checked~label.sk-toggleable__label {background-color: #d4ebff;}#sk-container-id-27 div.sk-label input.sk-toggleable__control:checked~label.sk-toggleable__label {background-color: #d4ebff;}#sk-container-id-27 input.sk-hidden--visually {border: 0;clip: rect(1px 1px 1px 1px);clip: rect(1px, 1px, 1px, 1px);height: 1px;margin: -1px;overflow: hidden;padding: 0;position: absolute;width: 1px;}#sk-container-id-27 div.sk-estimator {font-family: monospace;background-color: #f0f8ff;border: 1px dotted black;border-radius: 0.25em;box-sizing: border-box;margin-bottom: 0.5em;}#sk-container-id-27 div.sk-estimator:hover {background-color: #d4ebff;}#sk-container-id-27 div.sk-parallel-item::after {content: \"\";width: 100%;border-bottom: 1px solid gray;flex-grow: 1;}#sk-container-id-27 div.sk-label:hover label.sk-toggleable__label {background-color: #d4ebff;}#sk-container-id-27 div.sk-serial::before {content: \"\";position: absolute;border-left: 1px solid gray;box-sizing: border-box;top: 0;bottom: 0;left: 50%;z-index: 0;}#sk-container-id-27 div.sk-serial {display: flex;flex-direction: column;align-items: center;background-color: white;padding-right: 0.2em;padding-left: 0.2em;position: relative;}#sk-container-id-27 div.sk-item {position: relative;z-index: 1;}#sk-container-id-27 div.sk-parallel {display: flex;align-items: stretch;justify-content: center;background-color: white;position: relative;}#sk-container-id-27 div.sk-item::before, #sk-container-id-27 div.sk-parallel-item::before {content: \"\";position: absolute;border-left: 1px solid gray;box-sizing: border-box;top: 0;bottom: 0;left: 50%;z-index: -1;}#sk-container-id-27 div.sk-parallel-item {display: flex;flex-direction: column;z-index: 1;position: relative;background-color: white;}#sk-container-id-27 div.sk-parallel-item:first-child::after {align-self: flex-end;width: 50%;}#sk-container-id-27 div.sk-parallel-item:last-child::after {align-self: flex-start;width: 50%;}#sk-container-id-27 div.sk-parallel-item:only-child::after {width: 0;}#sk-container-id-27 div.sk-dashed-wrapped {border: 1px dashed gray;margin: 0 0.4em 0.5em 0.4em;box-sizing: border-box;padding-bottom: 0.4em;background-color: white;}#sk-container-id-27 div.sk-label label {font-family: monospace;font-weight: bold;display: inline-block;line-height: 1.2em;}#sk-container-id-27 div.sk-label-container {text-align: center;}#sk-container-id-27 div.sk-container {/* jupyter's `normalize.less` sets `[hidden] { display: none; }` but bootstrap.min.css set `[hidden] { display: none !important; }` so we also need the `!important` here to be able to override the default hidden behavior on the sphinx rendered scikit-learn.org. See: https://github.com/scikit-learn/scikit-learn/issues/21755 */display: inline-block !important;position: relative;}#sk-container-id-27 div.sk-text-repr-fallback {display: none;}</style><div id=\"sk-container-id-27\" class=\"sk-top-container\"><div class=\"sk-text-repr-fallback\"><pre>RandomizedSearchCV(cv=3,\n",
       "                   estimator=&lt;catboost.core.CatBoostClassifier object at 0x000001F0DDF36050&gt;,\n",
       "                   n_iter=50, n_jobs=-1,\n",
       "                   param_distributions={&#x27;bagging_temperature&#x27;: &lt;scipy.stats._distn_infrastructure.rv_continuous_frozen object at 0x000001F0DDDFA4D0&gt;,\n",
       "                                        &#x27;depth&#x27;: &lt;scipy.stats._distn_infrastructure.rv_discrete_frozen object at 0x000001F0DE300F10&gt;,\n",
       "                                        &#x27;iterations&#x27;: &lt;scipy....\n",
       "                                        &#x27;l2_leaf_reg&#x27;: &lt;scipy.stats._distn_infrastructure.rv_continuous_frozen object at 0x000001F0DE120950&gt;,\n",
       "                                        &#x27;learning_rate&#x27;: &lt;scipy.stats._distn_infrastructure.rv_continuous_frozen object at 0x000001F0DDF36DD0&gt;,\n",
       "                                        &#x27;max_bin&#x27;: &lt;scipy.stats._distn_infrastructure.rv_discrete_frozen object at 0x000001F0DDFA8D10&gt;,\n",
       "                                        &#x27;random_strength&#x27;: &lt;scipy.stats._distn_infrastructure.rv_continuous_frozen object at 0x000001F0DDFA8510&gt;},\n",
       "                   verbose=2)</pre><b>In a Jupyter environment, please rerun this cell to show the HTML representation or trust the notebook. <br />On GitHub, the HTML representation is unable to render, please try loading this page with nbviewer.org.</b></div><div class=\"sk-container\" hidden><div class=\"sk-item sk-dashed-wrapped\"><div class=\"sk-label-container\"><div class=\"sk-label sk-toggleable\"><input class=\"sk-toggleable__control sk-hidden--visually\" id=\"sk-estimator-id-46\" type=\"checkbox\" ><label for=\"sk-estimator-id-46\" class=\"sk-toggleable__label sk-toggleable__label-arrow\">RandomizedSearchCV</label><div class=\"sk-toggleable__content\"><pre>RandomizedSearchCV(cv=3,\n",
       "                   estimator=&lt;catboost.core.CatBoostClassifier object at 0x000001F0DDF36050&gt;,\n",
       "                   n_iter=50, n_jobs=-1,\n",
       "                   param_distributions={&#x27;bagging_temperature&#x27;: &lt;scipy.stats._distn_infrastructure.rv_continuous_frozen object at 0x000001F0DDDFA4D0&gt;,\n",
       "                                        &#x27;depth&#x27;: &lt;scipy.stats._distn_infrastructure.rv_discrete_frozen object at 0x000001F0DE300F10&gt;,\n",
       "                                        &#x27;iterations&#x27;: &lt;scipy....\n",
       "                                        &#x27;l2_leaf_reg&#x27;: &lt;scipy.stats._distn_infrastructure.rv_continuous_frozen object at 0x000001F0DE120950&gt;,\n",
       "                                        &#x27;learning_rate&#x27;: &lt;scipy.stats._distn_infrastructure.rv_continuous_frozen object at 0x000001F0DDF36DD0&gt;,\n",
       "                                        &#x27;max_bin&#x27;: &lt;scipy.stats._distn_infrastructure.rv_discrete_frozen object at 0x000001F0DDFA8D10&gt;,\n",
       "                                        &#x27;random_strength&#x27;: &lt;scipy.stats._distn_infrastructure.rv_continuous_frozen object at 0x000001F0DDFA8510&gt;},\n",
       "                   verbose=2)</pre></div></div></div><div class=\"sk-parallel\"><div class=\"sk-parallel-item\"><div class=\"sk-item\"><div class=\"sk-label-container\"><div class=\"sk-label sk-toggleable\"><input class=\"sk-toggleable__control sk-hidden--visually\" id=\"sk-estimator-id-47\" type=\"checkbox\" ><label for=\"sk-estimator-id-47\" class=\"sk-toggleable__label sk-toggleable__label-arrow\">estimator: CatBoostClassifier</label><div class=\"sk-toggleable__content\"><pre>&lt;catboost.core.CatBoostClassifier object at 0x000001F0DDF36050&gt;</pre></div></div></div><div class=\"sk-serial\"><div class=\"sk-item\"><div class=\"sk-estimator sk-toggleable\"><input class=\"sk-toggleable__control sk-hidden--visually\" id=\"sk-estimator-id-48\" type=\"checkbox\" ><label for=\"sk-estimator-id-48\" class=\"sk-toggleable__label sk-toggleable__label-arrow\">CatBoostClassifier</label><div class=\"sk-toggleable__content\"><pre>&lt;catboost.core.CatBoostClassifier object at 0x000001F0DDF36050&gt;</pre></div></div></div></div></div></div></div></div></div></div>"
      ],
      "text/plain": [
       "RandomizedSearchCV(cv=3,\n",
       "                   estimator=<catboost.core.CatBoostClassifier object at 0x000001F0DDF36050>,\n",
       "                   n_iter=50, n_jobs=-1,\n",
       "                   param_distributions={'bagging_temperature': <scipy.stats._distn_infrastructure.rv_continuous_frozen object at 0x000001F0DDDFA4D0>,\n",
       "                                        'depth': <scipy.stats._distn_infrastructure.rv_discrete_frozen object at 0x000001F0DE300F10>,\n",
       "                                        'iterations': <scipy....\n",
       "                                        'l2_leaf_reg': <scipy.stats._distn_infrastructure.rv_continuous_frozen object at 0x000001F0DE120950>,\n",
       "                                        'learning_rate': <scipy.stats._distn_infrastructure.rv_continuous_frozen object at 0x000001F0DDF36DD0>,\n",
       "                                        'max_bin': <scipy.stats._distn_infrastructure.rv_discrete_frozen object at 0x000001F0DDFA8D10>,\n",
       "                                        'random_strength': <scipy.stats._distn_infrastructure.rv_continuous_frozen object at 0x000001F0DDFA8510>},\n",
       "                   verbose=2)"
      ]
     },
     "execution_count": 225,
     "metadata": {},
     "output_type": "execute_result"
    }
   ],
   "source": [
    "random_search.fit(x_sm,y_sm)"
   ]
  },
  {
   "cell_type": "code",
   "execution_count": null,
   "id": "af5fe587",
   "metadata": {},
   "outputs": [],
   "source": []
  },
  {
   "cell_type": "code",
   "execution_count": 226,
   "id": "999691ea",
   "metadata": {},
   "outputs": [
    {
     "data": {
      "text/plain": [
       "{'bagging_temperature': 0.21589464104345274,\n",
       " 'depth': 7,\n",
       " 'iterations': 483,\n",
       " 'l2_leaf_reg': 4.379875290695939,\n",
       " 'learning_rate': 0.09684466378369215,\n",
       " 'max_bin': 130,\n",
       " 'random_strength': 0.3007418991720453}"
      ]
     },
     "execution_count": 226,
     "metadata": {},
     "output_type": "execute_result"
    }
   ],
   "source": [
    "random_search.best_params_"
   ]
  },
  {
   "cell_type": "code",
   "execution_count": 227,
   "id": "df53c8d4",
   "metadata": {},
   "outputs": [],
   "source": [
    "cat1 = CatBoostClassifier(max_bin = 119,bagging_temperature =  0.21163672536389072,iterations = 460, depth = 7,learning_rate = 0.07184799167523831, l2_leaf_reg = 4.096709951477855, random_strength = 0.8114774294373885)"
   ]
  },
  {
   "cell_type": "code",
   "execution_count": 228,
   "id": "14fc7cd9",
   "metadata": {},
   "outputs": [
    {
     "name": "stdout",
     "output_type": "stream",
     "text": [
      "0:\tlearn: 1.0225575\ttotal: 6.53ms\tremaining: 3s\n",
      "1:\tlearn: 0.9406048\ttotal: 13.5ms\tremaining: 3.09s\n",
      "2:\tlearn: 0.8765958\ttotal: 20.8ms\tremaining: 3.17s\n",
      "3:\tlearn: 0.8187020\ttotal: 24.8ms\tremaining: 2.83s\n",
      "4:\tlearn: 0.7694398\ttotal: 31.5ms\tremaining: 2.86s\n",
      "5:\tlearn: 0.7269608\ttotal: 37.5ms\tremaining: 2.84s\n",
      "6:\tlearn: 0.6893333\ttotal: 44.8ms\tremaining: 2.9s\n",
      "7:\tlearn: 0.6548076\ttotal: 51.9ms\tremaining: 2.93s\n",
      "8:\tlearn: 0.6218393\ttotal: 57.7ms\tremaining: 2.89s\n",
      "9:\tlearn: 0.5933171\ttotal: 63.5ms\tremaining: 2.86s\n",
      "10:\tlearn: 0.5672741\ttotal: 69.7ms\tremaining: 2.85s\n",
      "11:\tlearn: 0.5450344\ttotal: 76.4ms\tremaining: 2.85s\n",
      "12:\tlearn: 0.5236447\ttotal: 82.7ms\tremaining: 2.84s\n",
      "13:\tlearn: 0.5020506\ttotal: 86.9ms\tremaining: 2.77s\n",
      "14:\tlearn: 0.4817611\ttotal: 94.2ms\tremaining: 2.79s\n",
      "15:\tlearn: 0.4657535\ttotal: 101ms\tremaining: 2.8s\n",
      "16:\tlearn: 0.4506257\ttotal: 107ms\tremaining: 2.79s\n",
      "17:\tlearn: 0.4326326\ttotal: 113ms\tremaining: 2.77s\n",
      "18:\tlearn: 0.4189895\ttotal: 119ms\tremaining: 2.76s\n",
      "19:\tlearn: 0.4045135\ttotal: 126ms\tremaining: 2.77s\n",
      "20:\tlearn: 0.3919329\ttotal: 132ms\tremaining: 2.76s\n",
      "21:\tlearn: 0.3803707\ttotal: 138ms\tremaining: 2.74s\n",
      "22:\tlearn: 0.3695437\ttotal: 143ms\tremaining: 2.72s\n",
      "23:\tlearn: 0.3593501\ttotal: 149ms\tremaining: 2.71s\n",
      "24:\tlearn: 0.3496834\ttotal: 155ms\tremaining: 2.69s\n",
      "25:\tlearn: 0.3414937\ttotal: 160ms\tremaining: 2.67s\n",
      "26:\tlearn: 0.3328205\ttotal: 165ms\tremaining: 2.65s\n",
      "27:\tlearn: 0.3241938\ttotal: 171ms\tremaining: 2.64s\n",
      "28:\tlearn: 0.3154458\ttotal: 177ms\tremaining: 2.63s\n",
      "29:\tlearn: 0.3083965\ttotal: 182ms\tremaining: 2.61s\n",
      "30:\tlearn: 0.3017902\ttotal: 188ms\tremaining: 2.6s\n",
      "31:\tlearn: 0.2950630\ttotal: 193ms\tremaining: 2.58s\n",
      "32:\tlearn: 0.2888684\ttotal: 198ms\tremaining: 2.56s\n",
      "33:\tlearn: 0.2823113\ttotal: 205ms\tremaining: 2.56s\n",
      "34:\tlearn: 0.2759914\ttotal: 211ms\tremaining: 2.57s\n",
      "35:\tlearn: 0.2708131\ttotal: 219ms\tremaining: 2.57s\n",
      "36:\tlearn: 0.2650971\ttotal: 224ms\tremaining: 2.56s\n",
      "37:\tlearn: 0.2605423\ttotal: 230ms\tremaining: 2.55s\n",
      "38:\tlearn: 0.2560163\ttotal: 236ms\tremaining: 2.55s\n",
      "39:\tlearn: 0.2515596\ttotal: 241ms\tremaining: 2.53s\n",
      "40:\tlearn: 0.2476174\ttotal: 247ms\tremaining: 2.52s\n",
      "41:\tlearn: 0.2441872\ttotal: 253ms\tremaining: 2.52s\n",
      "42:\tlearn: 0.2400567\ttotal: 259ms\tremaining: 2.51s\n",
      "43:\tlearn: 0.2365105\ttotal: 264ms\tremaining: 2.49s\n",
      "44:\tlearn: 0.2337439\ttotal: 269ms\tremaining: 2.48s\n",
      "45:\tlearn: 0.2308865\ttotal: 274ms\tremaining: 2.46s\n",
      "46:\tlearn: 0.2269730\ttotal: 279ms\tremaining: 2.45s\n",
      "47:\tlearn: 0.2239477\ttotal: 284ms\tremaining: 2.44s\n",
      "48:\tlearn: 0.2205158\ttotal: 289ms\tremaining: 2.42s\n",
      "49:\tlearn: 0.2170295\ttotal: 293ms\tremaining: 2.41s\n",
      "50:\tlearn: 0.2135794\ttotal: 299ms\tremaining: 2.39s\n",
      "51:\tlearn: 0.2103218\ttotal: 304ms\tremaining: 2.38s\n",
      "52:\tlearn: 0.2074681\ttotal: 309ms\tremaining: 2.37s\n",
      "53:\tlearn: 0.2042348\ttotal: 314ms\tremaining: 2.36s\n",
      "54:\tlearn: 0.2015683\ttotal: 319ms\tremaining: 2.35s\n",
      "55:\tlearn: 0.1996184\ttotal: 324ms\tremaining: 2.33s\n",
      "56:\tlearn: 0.1968576\ttotal: 329ms\tremaining: 2.32s\n",
      "57:\tlearn: 0.1949544\ttotal: 333ms\tremaining: 2.31s\n",
      "58:\tlearn: 0.1927864\ttotal: 338ms\tremaining: 2.3s\n",
      "59:\tlearn: 0.1908985\ttotal: 343ms\tremaining: 2.29s\n",
      "60:\tlearn: 0.1882603\ttotal: 348ms\tremaining: 2.27s\n",
      "61:\tlearn: 0.1861728\ttotal: 353ms\tremaining: 2.26s\n",
      "62:\tlearn: 0.1841197\ttotal: 357ms\tremaining: 2.25s\n",
      "63:\tlearn: 0.1818072\ttotal: 362ms\tremaining: 2.24s\n",
      "64:\tlearn: 0.1799491\ttotal: 367ms\tremaining: 2.23s\n",
      "65:\tlearn: 0.1780699\ttotal: 372ms\tremaining: 2.22s\n",
      "66:\tlearn: 0.1761580\ttotal: 377ms\tremaining: 2.21s\n",
      "67:\tlearn: 0.1747004\ttotal: 382ms\tremaining: 2.2s\n",
      "68:\tlearn: 0.1723390\ttotal: 387ms\tremaining: 2.19s\n",
      "69:\tlearn: 0.1708690\ttotal: 391ms\tremaining: 2.18s\n",
      "70:\tlearn: 0.1693691\ttotal: 396ms\tremaining: 2.17s\n",
      "71:\tlearn: 0.1679227\ttotal: 401ms\tremaining: 2.16s\n",
      "72:\tlearn: 0.1663756\ttotal: 406ms\tremaining: 2.15s\n",
      "73:\tlearn: 0.1648624\ttotal: 412ms\tremaining: 2.15s\n",
      "74:\tlearn: 0.1627010\ttotal: 418ms\tremaining: 2.14s\n",
      "75:\tlearn: 0.1605696\ttotal: 423ms\tremaining: 2.14s\n",
      "76:\tlearn: 0.1586385\ttotal: 429ms\tremaining: 2.13s\n",
      "77:\tlearn: 0.1570896\ttotal: 434ms\tremaining: 2.12s\n",
      "78:\tlearn: 0.1557243\ttotal: 439ms\tremaining: 2.12s\n",
      "79:\tlearn: 0.1543026\ttotal: 445ms\tremaining: 2.11s\n",
      "80:\tlearn: 0.1531170\ttotal: 450ms\tremaining: 2.11s\n",
      "81:\tlearn: 0.1517358\ttotal: 456ms\tremaining: 2.1s\n",
      "82:\tlearn: 0.1501616\ttotal: 462ms\tremaining: 2.1s\n",
      "83:\tlearn: 0.1488714\ttotal: 467ms\tremaining: 2.09s\n",
      "84:\tlearn: 0.1474056\ttotal: 472ms\tremaining: 2.08s\n",
      "85:\tlearn: 0.1461615\ttotal: 477ms\tremaining: 2.07s\n",
      "86:\tlearn: 0.1448818\ttotal: 483ms\tremaining: 2.07s\n",
      "87:\tlearn: 0.1433630\ttotal: 488ms\tremaining: 2.06s\n",
      "88:\tlearn: 0.1416607\ttotal: 493ms\tremaining: 2.06s\n",
      "89:\tlearn: 0.1402514\ttotal: 499ms\tremaining: 2.05s\n",
      "90:\tlearn: 0.1393117\ttotal: 505ms\tremaining: 2.04s\n",
      "91:\tlearn: 0.1378613\ttotal: 510ms\tremaining: 2.04s\n",
      "92:\tlearn: 0.1364480\ttotal: 515ms\tremaining: 2.03s\n",
      "93:\tlearn: 0.1355764\ttotal: 521ms\tremaining: 2.03s\n",
      "94:\tlearn: 0.1344424\ttotal: 526ms\tremaining: 2.02s\n",
      "95:\tlearn: 0.1333505\ttotal: 531ms\tremaining: 2.01s\n",
      "96:\tlearn: 0.1323147\ttotal: 537ms\tremaining: 2.01s\n",
      "97:\tlearn: 0.1306913\ttotal: 542ms\tremaining: 2s\n",
      "98:\tlearn: 0.1295090\ttotal: 547ms\tremaining: 2s\n",
      "99:\tlearn: 0.1284830\ttotal: 552ms\tremaining: 1.99s\n",
      "100:\tlearn: 0.1272877\ttotal: 558ms\tremaining: 1.98s\n",
      "101:\tlearn: 0.1261822\ttotal: 563ms\tremaining: 1.98s\n",
      "102:\tlearn: 0.1251800\ttotal: 568ms\tremaining: 1.97s\n",
      "103:\tlearn: 0.1242286\ttotal: 574ms\tremaining: 1.96s\n",
      "104:\tlearn: 0.1232361\ttotal: 580ms\tremaining: 1.96s\n",
      "105:\tlearn: 0.1223164\ttotal: 585ms\tremaining: 1.95s\n",
      "106:\tlearn: 0.1211544\ttotal: 590ms\tremaining: 1.95s\n",
      "107:\tlearn: 0.1203683\ttotal: 595ms\tremaining: 1.94s\n",
      "108:\tlearn: 0.1193679\ttotal: 600ms\tremaining: 1.93s\n",
      "109:\tlearn: 0.1181878\ttotal: 606ms\tremaining: 1.93s\n",
      "110:\tlearn: 0.1171257\ttotal: 611ms\tremaining: 1.92s\n",
      "111:\tlearn: 0.1164013\ttotal: 616ms\tremaining: 1.91s\n",
      "112:\tlearn: 0.1156915\ttotal: 622ms\tremaining: 1.91s\n",
      "113:\tlearn: 0.1145924\ttotal: 628ms\tremaining: 1.9s\n",
      "114:\tlearn: 0.1137561\ttotal: 633ms\tremaining: 1.9s\n",
      "115:\tlearn: 0.1127245\ttotal: 639ms\tremaining: 1.89s\n",
      "116:\tlearn: 0.1117047\ttotal: 644ms\tremaining: 1.89s\n",
      "117:\tlearn: 0.1110591\ttotal: 650ms\tremaining: 1.88s\n",
      "118:\tlearn: 0.1106190\ttotal: 655ms\tremaining: 1.88s\n",
      "119:\tlearn: 0.1095496\ttotal: 661ms\tremaining: 1.87s\n",
      "120:\tlearn: 0.1086967\ttotal: 668ms\tremaining: 1.87s\n",
      "121:\tlearn: 0.1078357\ttotal: 673ms\tremaining: 1.86s\n",
      "122:\tlearn: 0.1070570\ttotal: 679ms\tremaining: 1.86s\n",
      "123:\tlearn: 0.1064566\ttotal: 684ms\tremaining: 1.85s\n",
      "124:\tlearn: 0.1058654\ttotal: 690ms\tremaining: 1.85s\n",
      "125:\tlearn: 0.1052592\ttotal: 697ms\tremaining: 1.85s\n",
      "126:\tlearn: 0.1047078\ttotal: 702ms\tremaining: 1.84s\n",
      "127:\tlearn: 0.1039847\ttotal: 707ms\tremaining: 1.83s\n",
      "128:\tlearn: 0.1033395\ttotal: 727ms\tremaining: 1.86s\n",
      "129:\tlearn: 0.1025083\ttotal: 738ms\tremaining: 1.87s\n",
      "130:\tlearn: 0.1017512\ttotal: 746ms\tremaining: 1.87s\n",
      "131:\tlearn: 0.1013802\ttotal: 752ms\tremaining: 1.87s\n",
      "132:\tlearn: 0.1008092\ttotal: 758ms\tremaining: 1.86s\n",
      "133:\tlearn: 0.1001974\ttotal: 763ms\tremaining: 1.86s\n",
      "134:\tlearn: 0.0993883\ttotal: 769ms\tremaining: 1.85s\n",
      "135:\tlearn: 0.0986316\ttotal: 776ms\tremaining: 1.85s\n",
      "136:\tlearn: 0.0980746\ttotal: 781ms\tremaining: 1.84s\n",
      "137:\tlearn: 0.0973130\ttotal: 786ms\tremaining: 1.83s\n",
      "138:\tlearn: 0.0966316\ttotal: 791ms\tremaining: 1.82s\n",
      "139:\tlearn: 0.0958999\ttotal: 795ms\tremaining: 1.82s\n",
      "140:\tlearn: 0.0953152\ttotal: 800ms\tremaining: 1.81s\n",
      "141:\tlearn: 0.0946071\ttotal: 805ms\tremaining: 1.8s\n",
      "142:\tlearn: 0.0942379\ttotal: 810ms\tremaining: 1.8s\n",
      "143:\tlearn: 0.0939235\ttotal: 816ms\tremaining: 1.79s\n",
      "144:\tlearn: 0.0935296\ttotal: 822ms\tremaining: 1.78s\n",
      "145:\tlearn: 0.0927245\ttotal: 827ms\tremaining: 1.78s\n",
      "146:\tlearn: 0.0921031\ttotal: 832ms\tremaining: 1.77s\n",
      "147:\tlearn: 0.0916155\ttotal: 837ms\tremaining: 1.76s\n",
      "148:\tlearn: 0.0909923\ttotal: 843ms\tremaining: 1.76s\n",
      "149:\tlearn: 0.0906374\ttotal: 849ms\tremaining: 1.75s\n",
      "150:\tlearn: 0.0902145\ttotal: 854ms\tremaining: 1.75s\n",
      "151:\tlearn: 0.0894500\ttotal: 860ms\tremaining: 1.74s\n",
      "152:\tlearn: 0.0887352\ttotal: 865ms\tremaining: 1.73s\n",
      "153:\tlearn: 0.0883525\ttotal: 869ms\tremaining: 1.73s\n",
      "154:\tlearn: 0.0877831\ttotal: 874ms\tremaining: 1.72s\n",
      "155:\tlearn: 0.0870568\ttotal: 879ms\tremaining: 1.71s\n",
      "156:\tlearn: 0.0865055\ttotal: 885ms\tremaining: 1.71s\n",
      "157:\tlearn: 0.0862931\ttotal: 889ms\tremaining: 1.7s\n",
      "158:\tlearn: 0.0855872\ttotal: 895ms\tremaining: 1.69s\n",
      "159:\tlearn: 0.0852857\ttotal: 899ms\tremaining: 1.69s\n",
      "160:\tlearn: 0.0849416\ttotal: 904ms\tremaining: 1.68s\n",
      "161:\tlearn: 0.0845807\ttotal: 909ms\tremaining: 1.67s\n",
      "162:\tlearn: 0.0843347\ttotal: 914ms\tremaining: 1.66s\n",
      "163:\tlearn: 0.0838866\ttotal: 919ms\tremaining: 1.66s\n",
      "164:\tlearn: 0.0832414\ttotal: 924ms\tremaining: 1.65s\n",
      "165:\tlearn: 0.0829476\ttotal: 929ms\tremaining: 1.65s\n",
      "166:\tlearn: 0.0824027\ttotal: 934ms\tremaining: 1.64s\n",
      "167:\tlearn: 0.0818587\ttotal: 939ms\tremaining: 1.63s\n",
      "168:\tlearn: 0.0815064\ttotal: 944ms\tremaining: 1.63s\n",
      "169:\tlearn: 0.0810286\ttotal: 949ms\tremaining: 1.62s\n",
      "170:\tlearn: 0.0803701\ttotal: 954ms\tremaining: 1.61s\n",
      "171:\tlearn: 0.0798797\ttotal: 959ms\tremaining: 1.6s\n",
      "172:\tlearn: 0.0793137\ttotal: 964ms\tremaining: 1.6s\n",
      "173:\tlearn: 0.0790763\ttotal: 968ms\tremaining: 1.59s\n",
      "174:\tlearn: 0.0789378\ttotal: 973ms\tremaining: 1.58s\n",
      "175:\tlearn: 0.0786779\ttotal: 978ms\tremaining: 1.58s\n",
      "176:\tlearn: 0.0784169\ttotal: 983ms\tremaining: 1.57s\n",
      "177:\tlearn: 0.0782265\ttotal: 988ms\tremaining: 1.56s\n",
      "178:\tlearn: 0.0780246\ttotal: 993ms\tremaining: 1.56s\n",
      "179:\tlearn: 0.0776619\ttotal: 998ms\tremaining: 1.55s\n",
      "180:\tlearn: 0.0772532\ttotal: 1s\tremaining: 1.54s\n",
      "181:\tlearn: 0.0769728\ttotal: 1.01s\tremaining: 1.54s\n",
      "182:\tlearn: 0.0765666\ttotal: 1.01s\tremaining: 1.53s\n",
      "183:\tlearn: 0.0763662\ttotal: 1.02s\tremaining: 1.52s\n"
     ]
    },
    {
     "name": "stdout",
     "output_type": "stream",
     "text": [
      "184:\tlearn: 0.0760485\ttotal: 1.02s\tremaining: 1.52s\n",
      "185:\tlearn: 0.0757683\ttotal: 1.03s\tremaining: 1.51s\n",
      "186:\tlearn: 0.0754505\ttotal: 1.03s\tremaining: 1.5s\n",
      "187:\tlearn: 0.0753784\ttotal: 1.04s\tremaining: 1.5s\n",
      "188:\tlearn: 0.0748015\ttotal: 1.04s\tremaining: 1.5s\n",
      "189:\tlearn: 0.0743541\ttotal: 1.05s\tremaining: 1.49s\n",
      "190:\tlearn: 0.0738059\ttotal: 1.05s\tremaining: 1.48s\n",
      "191:\tlearn: 0.0733320\ttotal: 1.06s\tremaining: 1.48s\n",
      "192:\tlearn: 0.0731518\ttotal: 1.06s\tremaining: 1.47s\n",
      "193:\tlearn: 0.0730808\ttotal: 1.07s\tremaining: 1.47s\n",
      "194:\tlearn: 0.0726525\ttotal: 1.08s\tremaining: 1.46s\n",
      "195:\tlearn: 0.0723183\ttotal: 1.08s\tremaining: 1.46s\n",
      "196:\tlearn: 0.0717524\ttotal: 1.09s\tremaining: 1.45s\n",
      "197:\tlearn: 0.0715455\ttotal: 1.09s\tremaining: 1.45s\n",
      "198:\tlearn: 0.0710782\ttotal: 1.1s\tremaining: 1.44s\n",
      "199:\tlearn: 0.0705246\ttotal: 1.1s\tremaining: 1.43s\n",
      "200:\tlearn: 0.0701496\ttotal: 1.11s\tremaining: 1.43s\n",
      "201:\tlearn: 0.0697860\ttotal: 1.11s\tremaining: 1.42s\n",
      "202:\tlearn: 0.0697274\ttotal: 1.12s\tremaining: 1.42s\n",
      "203:\tlearn: 0.0691989\ttotal: 1.12s\tremaining: 1.41s\n",
      "204:\tlearn: 0.0687136\ttotal: 1.13s\tremaining: 1.4s\n",
      "205:\tlearn: 0.0684612\ttotal: 1.13s\tremaining: 1.4s\n",
      "206:\tlearn: 0.0679907\ttotal: 1.14s\tremaining: 1.39s\n",
      "207:\tlearn: 0.0675980\ttotal: 1.14s\tremaining: 1.39s\n",
      "208:\tlearn: 0.0672501\ttotal: 1.15s\tremaining: 1.38s\n",
      "209:\tlearn: 0.0670547\ttotal: 1.15s\tremaining: 1.37s\n",
      "210:\tlearn: 0.0669140\ttotal: 1.16s\tremaining: 1.37s\n",
      "211:\tlearn: 0.0666016\ttotal: 1.16s\tremaining: 1.36s\n",
      "212:\tlearn: 0.0662143\ttotal: 1.17s\tremaining: 1.35s\n",
      "213:\tlearn: 0.0659375\ttotal: 1.17s\tremaining: 1.35s\n",
      "214:\tlearn: 0.0658548\ttotal: 1.18s\tremaining: 1.34s\n",
      "215:\tlearn: 0.0654565\ttotal: 1.18s\tremaining: 1.34s\n",
      "216:\tlearn: 0.0650636\ttotal: 1.19s\tremaining: 1.33s\n",
      "217:\tlearn: 0.0646539\ttotal: 1.19s\tremaining: 1.32s\n",
      "218:\tlearn: 0.0642388\ttotal: 1.2s\tremaining: 1.32s\n",
      "219:\tlearn: 0.0639161\ttotal: 1.2s\tremaining: 1.31s\n",
      "220:\tlearn: 0.0636716\ttotal: 1.21s\tremaining: 1.3s\n",
      "221:\tlearn: 0.0633049\ttotal: 1.21s\tremaining: 1.3s\n",
      "222:\tlearn: 0.0631053\ttotal: 1.22s\tremaining: 1.29s\n",
      "223:\tlearn: 0.0626980\ttotal: 1.22s\tremaining: 1.29s\n",
      "224:\tlearn: 0.0623472\ttotal: 1.23s\tremaining: 1.28s\n",
      "225:\tlearn: 0.0620794\ttotal: 1.23s\tremaining: 1.27s\n",
      "226:\tlearn: 0.0617879\ttotal: 1.24s\tremaining: 1.27s\n",
      "227:\tlearn: 0.0616081\ttotal: 1.24s\tremaining: 1.26s\n",
      "228:\tlearn: 0.0613235\ttotal: 1.25s\tremaining: 1.26s\n",
      "229:\tlearn: 0.0610984\ttotal: 1.25s\tremaining: 1.25s\n",
      "230:\tlearn: 0.0608505\ttotal: 1.26s\tremaining: 1.25s\n",
      "231:\tlearn: 0.0604876\ttotal: 1.26s\tremaining: 1.24s\n",
      "232:\tlearn: 0.0603335\ttotal: 1.27s\tremaining: 1.24s\n",
      "233:\tlearn: 0.0600551\ttotal: 1.27s\tremaining: 1.23s\n",
      "234:\tlearn: 0.0596708\ttotal: 1.28s\tremaining: 1.23s\n",
      "235:\tlearn: 0.0593427\ttotal: 1.29s\tremaining: 1.22s\n",
      "236:\tlearn: 0.0591564\ttotal: 1.29s\tremaining: 1.22s\n",
      "237:\tlearn: 0.0589806\ttotal: 1.3s\tremaining: 1.21s\n",
      "238:\tlearn: 0.0587409\ttotal: 1.3s\tremaining: 1.2s\n",
      "239:\tlearn: 0.0583233\ttotal: 1.31s\tremaining: 1.2s\n",
      "240:\tlearn: 0.0581464\ttotal: 1.31s\tremaining: 1.19s\n",
      "241:\tlearn: 0.0580281\ttotal: 1.31s\tremaining: 1.18s\n",
      "242:\tlearn: 0.0579795\ttotal: 1.32s\tremaining: 1.18s\n",
      "243:\tlearn: 0.0576609\ttotal: 1.32s\tremaining: 1.17s\n",
      "244:\tlearn: 0.0574404\ttotal: 1.33s\tremaining: 1.17s\n",
      "245:\tlearn: 0.0571448\ttotal: 1.33s\tremaining: 1.16s\n",
      "246:\tlearn: 0.0569105\ttotal: 1.34s\tremaining: 1.16s\n",
      "247:\tlearn: 0.0565667\ttotal: 1.34s\tremaining: 1.15s\n",
      "248:\tlearn: 0.0562599\ttotal: 1.35s\tremaining: 1.14s\n",
      "249:\tlearn: 0.0561585\ttotal: 1.35s\tremaining: 1.14s\n",
      "250:\tlearn: 0.0561154\ttotal: 1.36s\tremaining: 1.13s\n",
      "251:\tlearn: 0.0559071\ttotal: 1.36s\tremaining: 1.13s\n",
      "252:\tlearn: 0.0557378\ttotal: 1.37s\tremaining: 1.12s\n",
      "253:\tlearn: 0.0554580\ttotal: 1.37s\tremaining: 1.11s\n",
      "254:\tlearn: 0.0551356\ttotal: 1.38s\tremaining: 1.11s\n",
      "255:\tlearn: 0.0549370\ttotal: 1.38s\tremaining: 1.1s\n",
      "256:\tlearn: 0.0546538\ttotal: 1.39s\tremaining: 1.1s\n",
      "257:\tlearn: 0.0543485\ttotal: 1.39s\tremaining: 1.09s\n",
      "258:\tlearn: 0.0541352\ttotal: 1.4s\tremaining: 1.08s\n",
      "259:\tlearn: 0.0540205\ttotal: 1.4s\tremaining: 1.08s\n",
      "260:\tlearn: 0.0538493\ttotal: 1.41s\tremaining: 1.07s\n",
      "261:\tlearn: 0.0537290\ttotal: 1.41s\tremaining: 1.07s\n",
      "262:\tlearn: 0.0534899\ttotal: 1.42s\tremaining: 1.06s\n",
      "263:\tlearn: 0.0532216\ttotal: 1.42s\tremaining: 1.05s\n",
      "264:\tlearn: 0.0529454\ttotal: 1.43s\tremaining: 1.05s\n",
      "265:\tlearn: 0.0526710\ttotal: 1.43s\tremaining: 1.04s\n",
      "266:\tlearn: 0.0523998\ttotal: 1.44s\tremaining: 1.04s\n",
      "267:\tlearn: 0.0521553\ttotal: 1.44s\tremaining: 1.03s\n",
      "268:\tlearn: 0.0519043\ttotal: 1.45s\tremaining: 1.03s\n",
      "269:\tlearn: 0.0516139\ttotal: 1.46s\tremaining: 1.02s\n",
      "270:\tlearn: 0.0513361\ttotal: 1.46s\tremaining: 1.02s\n",
      "271:\tlearn: 0.0511162\ttotal: 1.47s\tremaining: 1.01s\n",
      "272:\tlearn: 0.0508739\ttotal: 1.47s\tremaining: 1.01s\n",
      "273:\tlearn: 0.0505905\ttotal: 1.48s\tremaining: 1s\n",
      "274:\tlearn: 0.0503879\ttotal: 1.48s\tremaining: 997ms\n",
      "275:\tlearn: 0.0502994\ttotal: 1.49s\tremaining: 991ms\n",
      "276:\tlearn: 0.0500580\ttotal: 1.49s\tremaining: 986ms\n",
      "277:\tlearn: 0.0499729\ttotal: 1.5s\tremaining: 980ms\n",
      "278:\tlearn: 0.0497480\ttotal: 1.5s\tremaining: 974ms\n",
      "279:\tlearn: 0.0496042\ttotal: 1.51s\tremaining: 968ms\n",
      "280:\tlearn: 0.0493478\ttotal: 1.51s\tremaining: 963ms\n",
      "281:\tlearn: 0.0493141\ttotal: 1.52s\tremaining: 957ms\n",
      "282:\tlearn: 0.0492588\ttotal: 1.52s\tremaining: 951ms\n",
      "283:\tlearn: 0.0492245\ttotal: 1.53s\tremaining: 946ms\n",
      "284:\tlearn: 0.0489811\ttotal: 1.53s\tremaining: 940ms\n",
      "285:\tlearn: 0.0488334\ttotal: 1.53s\tremaining: 934ms\n",
      "286:\tlearn: 0.0488009\ttotal: 1.54s\tremaining: 929ms\n",
      "287:\tlearn: 0.0485979\ttotal: 1.54s\tremaining: 923ms\n",
      "288:\tlearn: 0.0483915\ttotal: 1.55s\tremaining: 917ms\n",
      "289:\tlearn: 0.0481840\ttotal: 1.55s\tremaining: 912ms\n",
      "290:\tlearn: 0.0480321\ttotal: 1.56s\tremaining: 906ms\n",
      "291:\tlearn: 0.0480026\ttotal: 1.56s\tremaining: 900ms\n",
      "292:\tlearn: 0.0477770\ttotal: 1.57s\tremaining: 895ms\n",
      "293:\tlearn: 0.0475658\ttotal: 1.57s\tremaining: 889ms\n",
      "294:\tlearn: 0.0474996\ttotal: 1.58s\tremaining: 883ms\n",
      "295:\tlearn: 0.0472618\ttotal: 1.58s\tremaining: 878ms\n",
      "296:\tlearn: 0.0470379\ttotal: 1.59s\tremaining: 872ms\n",
      "297:\tlearn: 0.0468616\ttotal: 1.59s\tremaining: 867ms\n",
      "298:\tlearn: 0.0465494\ttotal: 1.6s\tremaining: 861ms\n",
      "299:\tlearn: 0.0462658\ttotal: 1.6s\tremaining: 856ms\n",
      "300:\tlearn: 0.0460783\ttotal: 1.61s\tremaining: 850ms\n",
      "301:\tlearn: 0.0458090\ttotal: 1.61s\tremaining: 844ms\n",
      "302:\tlearn: 0.0456275\ttotal: 1.62s\tremaining: 839ms\n",
      "303:\tlearn: 0.0454315\ttotal: 1.62s\tremaining: 833ms\n",
      "304:\tlearn: 0.0452023\ttotal: 1.63s\tremaining: 828ms\n",
      "305:\tlearn: 0.0451116\ttotal: 1.63s\tremaining: 822ms\n",
      "306:\tlearn: 0.0450701\ttotal: 1.64s\tremaining: 817ms\n",
      "307:\tlearn: 0.0450073\ttotal: 1.64s\tremaining: 811ms\n",
      "308:\tlearn: 0.0449823\ttotal: 1.65s\tremaining: 806ms\n",
      "309:\tlearn: 0.0447548\ttotal: 1.65s\tremaining: 800ms\n",
      "310:\tlearn: 0.0445953\ttotal: 1.66s\tremaining: 795ms\n",
      "311:\tlearn: 0.0444448\ttotal: 1.67s\tremaining: 790ms\n",
      "312:\tlearn: 0.0444152\ttotal: 1.67s\tremaining: 784ms\n",
      "313:\tlearn: 0.0442386\ttotal: 1.68s\tremaining: 779ms\n",
      "314:\tlearn: 0.0440917\ttotal: 1.68s\tremaining: 774ms\n",
      "315:\tlearn: 0.0439632\ttotal: 1.69s\tremaining: 768ms\n",
      "316:\tlearn: 0.0437741\ttotal: 1.69s\tremaining: 763ms\n",
      "317:\tlearn: 0.0436693\ttotal: 1.7s\tremaining: 758ms\n",
      "318:\tlearn: 0.0434333\ttotal: 1.7s\tremaining: 753ms\n",
      "319:\tlearn: 0.0433671\ttotal: 1.71s\tremaining: 747ms\n",
      "320:\tlearn: 0.0433415\ttotal: 1.71s\tremaining: 741ms\n",
      "321:\tlearn: 0.0433189\ttotal: 1.72s\tremaining: 736ms\n",
      "322:\tlearn: 0.0432965\ttotal: 1.72s\tremaining: 730ms\n",
      "323:\tlearn: 0.0432732\ttotal: 1.73s\tremaining: 725ms\n",
      "324:\tlearn: 0.0430749\ttotal: 1.73s\tremaining: 719ms\n",
      "325:\tlearn: 0.0430045\ttotal: 1.74s\tremaining: 714ms\n",
      "326:\tlearn: 0.0429058\ttotal: 1.74s\tremaining: 708ms\n",
      "327:\tlearn: 0.0427037\ttotal: 1.75s\tremaining: 703ms\n",
      "328:\tlearn: 0.0426743\ttotal: 1.75s\tremaining: 697ms\n",
      "329:\tlearn: 0.0424099\ttotal: 1.76s\tremaining: 692ms\n",
      "330:\tlearn: 0.0423895\ttotal: 1.76s\tremaining: 686ms\n",
      "331:\tlearn: 0.0423688\ttotal: 1.77s\tremaining: 681ms\n",
      "332:\tlearn: 0.0423358\ttotal: 1.77s\tremaining: 675ms\n",
      "333:\tlearn: 0.0421753\ttotal: 1.77s\tremaining: 670ms\n",
      "334:\tlearn: 0.0421463\ttotal: 1.78s\tremaining: 665ms\n",
      "335:\tlearn: 0.0419682\ttotal: 1.78s\tremaining: 659ms\n",
      "336:\tlearn: 0.0419191\ttotal: 1.79s\tremaining: 653ms\n",
      "337:\tlearn: 0.0418316\ttotal: 1.79s\tremaining: 648ms\n",
      "338:\tlearn: 0.0417163\ttotal: 1.8s\tremaining: 642ms\n",
      "339:\tlearn: 0.0416980\ttotal: 1.8s\tremaining: 637ms\n",
      "340:\tlearn: 0.0414942\ttotal: 1.81s\tremaining: 631ms\n",
      "341:\tlearn: 0.0413666\ttotal: 1.81s\tremaining: 626ms\n",
      "342:\tlearn: 0.0411197\ttotal: 1.82s\tremaining: 620ms\n",
      "343:\tlearn: 0.0409477\ttotal: 1.82s\tremaining: 615ms\n",
      "344:\tlearn: 0.0407866\ttotal: 1.83s\tremaining: 610ms\n",
      "345:\tlearn: 0.0406425\ttotal: 1.83s\tremaining: 604ms\n",
      "346:\tlearn: 0.0404309\ttotal: 1.84s\tremaining: 599ms\n",
      "347:\tlearn: 0.0402982\ttotal: 1.84s\tremaining: 593ms\n",
      "348:\tlearn: 0.0401692\ttotal: 1.85s\tremaining: 588ms\n"
     ]
    },
    {
     "name": "stdout",
     "output_type": "stream",
     "text": [
      "349:\tlearn: 0.0401307\ttotal: 1.85s\tremaining: 582ms\n",
      "350:\tlearn: 0.0401127\ttotal: 1.86s\tremaining: 577ms\n",
      "351:\tlearn: 0.0399580\ttotal: 1.86s\tremaining: 572ms\n",
      "352:\tlearn: 0.0398531\ttotal: 1.87s\tremaining: 566ms\n",
      "353:\tlearn: 0.0398179\ttotal: 1.87s\tremaining: 561ms\n",
      "354:\tlearn: 0.0397178\ttotal: 1.88s\tremaining: 556ms\n",
      "355:\tlearn: 0.0397008\ttotal: 1.88s\tremaining: 550ms\n",
      "356:\tlearn: 0.0396017\ttotal: 1.89s\tremaining: 545ms\n",
      "357:\tlearn: 0.0394540\ttotal: 1.89s\tremaining: 540ms\n",
      "358:\tlearn: 0.0392898\ttotal: 1.9s\tremaining: 535ms\n",
      "359:\tlearn: 0.0391445\ttotal: 1.9s\tremaining: 529ms\n",
      "360:\tlearn: 0.0389864\ttotal: 1.91s\tremaining: 524ms\n",
      "361:\tlearn: 0.0388939\ttotal: 1.91s\tremaining: 518ms\n",
      "362:\tlearn: 0.0387883\ttotal: 1.92s\tremaining: 513ms\n",
      "363:\tlearn: 0.0387344\ttotal: 1.92s\tremaining: 508ms\n",
      "364:\tlearn: 0.0387178\ttotal: 1.93s\tremaining: 502ms\n",
      "365:\tlearn: 0.0387017\ttotal: 1.93s\tremaining: 497ms\n",
      "366:\tlearn: 0.0385403\ttotal: 1.94s\tremaining: 491ms\n",
      "367:\tlearn: 0.0384820\ttotal: 1.94s\tremaining: 486ms\n",
      "368:\tlearn: 0.0384660\ttotal: 1.95s\tremaining: 481ms\n",
      "369:\tlearn: 0.0382327\ttotal: 1.95s\tremaining: 475ms\n",
      "370:\tlearn: 0.0382180\ttotal: 1.96s\tremaining: 470ms\n",
      "371:\tlearn: 0.0381437\ttotal: 1.96s\tremaining: 464ms\n",
      "372:\tlearn: 0.0379596\ttotal: 1.97s\tremaining: 459ms\n",
      "373:\tlearn: 0.0377709\ttotal: 1.97s\tremaining: 454ms\n",
      "374:\tlearn: 0.0376006\ttotal: 1.98s\tremaining: 448ms\n",
      "375:\tlearn: 0.0373839\ttotal: 1.98s\tremaining: 443ms\n",
      "376:\tlearn: 0.0373044\ttotal: 1.99s\tremaining: 438ms\n",
      "377:\tlearn: 0.0372859\ttotal: 1.99s\tremaining: 432ms\n",
      "378:\tlearn: 0.0371946\ttotal: 2s\tremaining: 427ms\n",
      "379:\tlearn: 0.0371642\ttotal: 2s\tremaining: 421ms\n",
      "380:\tlearn: 0.0371331\ttotal: 2.01s\tremaining: 416ms\n",
      "381:\tlearn: 0.0369533\ttotal: 2.01s\tremaining: 411ms\n",
      "382:\tlearn: 0.0368236\ttotal: 2.02s\tremaining: 405ms\n",
      "383:\tlearn: 0.0366677\ttotal: 2.02s\tremaining: 400ms\n",
      "384:\tlearn: 0.0364780\ttotal: 2.02s\tremaining: 395ms\n",
      "385:\tlearn: 0.0364636\ttotal: 2.03s\tremaining: 389ms\n",
      "386:\tlearn: 0.0362731\ttotal: 2.04s\tremaining: 384ms\n",
      "387:\tlearn: 0.0362335\ttotal: 2.04s\tremaining: 379ms\n",
      "388:\tlearn: 0.0362198\ttotal: 2.04s\tremaining: 373ms\n",
      "389:\tlearn: 0.0361241\ttotal: 2.05s\tremaining: 368ms\n",
      "390:\tlearn: 0.0360409\ttotal: 2.06s\tremaining: 363ms\n",
      "391:\tlearn: 0.0358523\ttotal: 2.06s\tremaining: 358ms\n",
      "392:\tlearn: 0.0357666\ttotal: 2.07s\tremaining: 352ms\n",
      "393:\tlearn: 0.0356918\ttotal: 2.07s\tremaining: 347ms\n",
      "394:\tlearn: 0.0355749\ttotal: 2.08s\tremaining: 342ms\n",
      "395:\tlearn: 0.0355010\ttotal: 2.08s\tremaining: 337ms\n",
      "396:\tlearn: 0.0353690\ttotal: 2.09s\tremaining: 332ms\n",
      "397:\tlearn: 0.0352816\ttotal: 2.09s\tremaining: 326ms\n",
      "398:\tlearn: 0.0352231\ttotal: 2.1s\tremaining: 321ms\n",
      "399:\tlearn: 0.0350378\ttotal: 2.1s\tremaining: 316ms\n",
      "400:\tlearn: 0.0349759\ttotal: 2.11s\tremaining: 310ms\n",
      "401:\tlearn: 0.0348700\ttotal: 2.11s\tremaining: 305ms\n",
      "402:\tlearn: 0.0348105\ttotal: 2.12s\tremaining: 300ms\n",
      "403:\tlearn: 0.0347160\ttotal: 2.12s\tremaining: 295ms\n",
      "404:\tlearn: 0.0346182\ttotal: 2.13s\tremaining: 289ms\n",
      "405:\tlearn: 0.0345715\ttotal: 2.13s\tremaining: 284ms\n",
      "406:\tlearn: 0.0345588\ttotal: 2.14s\tremaining: 279ms\n",
      "407:\tlearn: 0.0345422\ttotal: 2.14s\tremaining: 273ms\n",
      "408:\tlearn: 0.0343611\ttotal: 2.15s\tremaining: 268ms\n",
      "409:\tlearn: 0.0342494\ttotal: 2.15s\tremaining: 263ms\n",
      "410:\tlearn: 0.0341304\ttotal: 2.16s\tremaining: 257ms\n",
      "411:\tlearn: 0.0340387\ttotal: 2.16s\tremaining: 252ms\n",
      "412:\tlearn: 0.0339195\ttotal: 2.17s\tremaining: 247ms\n",
      "413:\tlearn: 0.0338787\ttotal: 2.17s\tremaining: 241ms\n",
      "414:\tlearn: 0.0338209\ttotal: 2.18s\tremaining: 236ms\n",
      "415:\tlearn: 0.0337024\ttotal: 2.18s\tremaining: 231ms\n",
      "416:\tlearn: 0.0335719\ttotal: 2.19s\tremaining: 226ms\n",
      "417:\tlearn: 0.0335597\ttotal: 2.19s\tremaining: 220ms\n",
      "418:\tlearn: 0.0335179\ttotal: 2.2s\tremaining: 215ms\n",
      "419:\tlearn: 0.0333945\ttotal: 2.2s\tremaining: 210ms\n",
      "420:\tlearn: 0.0332620\ttotal: 2.21s\tremaining: 204ms\n",
      "421:\tlearn: 0.0332074\ttotal: 2.21s\tremaining: 199ms\n",
      "422:\tlearn: 0.0331925\ttotal: 2.21s\tremaining: 194ms\n",
      "423:\tlearn: 0.0331810\ttotal: 2.22s\tremaining: 188ms\n",
      "424:\tlearn: 0.0330264\ttotal: 2.23s\tremaining: 183ms\n",
      "425:\tlearn: 0.0329732\ttotal: 2.23s\tremaining: 178ms\n",
      "426:\tlearn: 0.0328499\ttotal: 2.23s\tremaining: 173ms\n",
      "427:\tlearn: 0.0327417\ttotal: 2.24s\tremaining: 167ms\n",
      "428:\tlearn: 0.0326147\ttotal: 2.25s\tremaining: 162ms\n",
      "429:\tlearn: 0.0325027\ttotal: 2.25s\tremaining: 157ms\n",
      "430:\tlearn: 0.0324911\ttotal: 2.25s\tremaining: 152ms\n",
      "431:\tlearn: 0.0324657\ttotal: 2.26s\tremaining: 146ms\n",
      "432:\tlearn: 0.0324543\ttotal: 2.27s\tremaining: 141ms\n",
      "433:\tlearn: 0.0324433\ttotal: 2.27s\tremaining: 136ms\n",
      "434:\tlearn: 0.0323633\ttotal: 2.28s\tremaining: 131ms\n",
      "435:\tlearn: 0.0323528\ttotal: 2.28s\tremaining: 126ms\n",
      "436:\tlearn: 0.0322491\ttotal: 2.29s\tremaining: 120ms\n",
      "437:\tlearn: 0.0321732\ttotal: 2.29s\tremaining: 115ms\n",
      "438:\tlearn: 0.0321623\ttotal: 2.3s\tremaining: 110ms\n",
      "439:\tlearn: 0.0321481\ttotal: 2.3s\tremaining: 105ms\n",
      "440:\tlearn: 0.0320332\ttotal: 2.31s\tremaining: 99.5ms\n",
      "441:\tlearn: 0.0319445\ttotal: 2.31s\tremaining: 94.3ms\n",
      "442:\tlearn: 0.0318606\ttotal: 2.32s\tremaining: 89ms\n",
      "443:\tlearn: 0.0318324\ttotal: 2.33s\tremaining: 83.8ms\n",
      "444:\tlearn: 0.0318002\ttotal: 2.33s\tremaining: 78.6ms\n",
      "445:\tlearn: 0.0317888\ttotal: 2.33s\tremaining: 73.3ms\n",
      "446:\tlearn: 0.0317146\ttotal: 2.34s\tremaining: 68.1ms\n",
      "447:\tlearn: 0.0316240\ttotal: 2.35s\tremaining: 62.9ms\n",
      "448:\tlearn: 0.0315199\ttotal: 2.35s\tremaining: 57.6ms\n",
      "449:\tlearn: 0.0315072\ttotal: 2.36s\tremaining: 52.4ms\n",
      "450:\tlearn: 0.0313712\ttotal: 2.36s\tremaining: 47.1ms\n",
      "451:\tlearn: 0.0312385\ttotal: 2.37s\tremaining: 41.9ms\n",
      "452:\tlearn: 0.0311386\ttotal: 2.37s\tremaining: 36.7ms\n",
      "453:\tlearn: 0.0311028\ttotal: 2.38s\tremaining: 31.4ms\n",
      "454:\tlearn: 0.0310925\ttotal: 2.38s\tremaining: 26.2ms\n",
      "455:\tlearn: 0.0309612\ttotal: 2.39s\tremaining: 21ms\n",
      "456:\tlearn: 0.0308728\ttotal: 2.39s\tremaining: 15.7ms\n",
      "457:\tlearn: 0.0307974\ttotal: 2.4s\tremaining: 10.5ms\n",
      "458:\tlearn: 0.0307273\ttotal: 2.4s\tremaining: 5.24ms\n",
      "459:\tlearn: 0.0306219\ttotal: 2.41s\tremaining: 0us\n"
     ]
    },
    {
     "data": {
      "text/plain": [
       "<catboost.core.CatBoostClassifier at 0x1f0de0256d0>"
      ]
     },
     "execution_count": 228,
     "metadata": {},
     "output_type": "execute_result"
    }
   ],
   "source": [
    "cat1.fit(x_sm,y_sm)"
   ]
  },
  {
   "cell_type": "code",
   "execution_count": 229,
   "id": "f288d325",
   "metadata": {},
   "outputs": [
    {
     "data": {
      "text/plain": [
       "array([[3],\n",
       "       [3],\n",
       "       [3],\n",
       "       [2],\n",
       "       [3],\n",
       "       [3],\n",
       "       [2],\n",
       "       [3],\n",
       "       [3],\n",
       "       [3],\n",
       "       [3],\n",
       "       [2],\n",
       "       [3],\n",
       "       [3],\n",
       "       [3],\n",
       "       [3],\n",
       "       [3],\n",
       "       [3],\n",
       "       [3],\n",
       "       [3],\n",
       "       [3],\n",
       "       [2],\n",
       "       [3],\n",
       "       [3],\n",
       "       [3],\n",
       "       [3],\n",
       "       [4],\n",
       "       [3],\n",
       "       [3],\n",
       "       [3],\n",
       "       [3],\n",
       "       [4],\n",
       "       [3],\n",
       "       [3],\n",
       "       [3],\n",
       "       [4],\n",
       "       [3],\n",
       "       [3],\n",
       "       [4],\n",
       "       [3],\n",
       "       [3],\n",
       "       [3],\n",
       "       [3],\n",
       "       [2],\n",
       "       [3],\n",
       "       [4],\n",
       "       [4],\n",
       "       [3],\n",
       "       [3],\n",
       "       [3],\n",
       "       [3],\n",
       "       [2],\n",
       "       [3],\n",
       "       [4],\n",
       "       [2],\n",
       "       [3],\n",
       "       [3],\n",
       "       [3],\n",
       "       [3],\n",
       "       [3],\n",
       "       [3],\n",
       "       [4],\n",
       "       [4],\n",
       "       [3],\n",
       "       [3],\n",
       "       [3],\n",
       "       [2],\n",
       "       [3],\n",
       "       [3],\n",
       "       [4],\n",
       "       [3],\n",
       "       [3],\n",
       "       [3],\n",
       "       [3],\n",
       "       [3],\n",
       "       [3],\n",
       "       [3],\n",
       "       [3],\n",
       "       [3],\n",
       "       [3],\n",
       "       [3],\n",
       "       [2],\n",
       "       [3],\n",
       "       [3],\n",
       "       [3],\n",
       "       [2],\n",
       "       [2],\n",
       "       [3],\n",
       "       [3],\n",
       "       [3],\n",
       "       [3],\n",
       "       [2],\n",
       "       [4],\n",
       "       [3],\n",
       "       [3],\n",
       "       [3],\n",
       "       [3],\n",
       "       [3],\n",
       "       [2],\n",
       "       [3],\n",
       "       [3],\n",
       "       [3],\n",
       "       [2],\n",
       "       [3],\n",
       "       [3],\n",
       "       [3],\n",
       "       [2],\n",
       "       [2],\n",
       "       [2],\n",
       "       [3],\n",
       "       [3],\n",
       "       [3],\n",
       "       [4],\n",
       "       [3],\n",
       "       [3],\n",
       "       [4],\n",
       "       [3],\n",
       "       [3],\n",
       "       [3],\n",
       "       [3],\n",
       "       [3],\n",
       "       [4],\n",
       "       [3],\n",
       "       [2],\n",
       "       [3],\n",
       "       [3],\n",
       "       [2],\n",
       "       [3],\n",
       "       [3],\n",
       "       [4],\n",
       "       [3],\n",
       "       [3],\n",
       "       [3],\n",
       "       [3],\n",
       "       [3],\n",
       "       [2],\n",
       "       [3],\n",
       "       [3],\n",
       "       [3],\n",
       "       [4],\n",
       "       [3],\n",
       "       [2],\n",
       "       [2],\n",
       "       [2],\n",
       "       [3],\n",
       "       [3],\n",
       "       [3],\n",
       "       [2],\n",
       "       [3],\n",
       "       [4],\n",
       "       [3],\n",
       "       [3],\n",
       "       [3],\n",
       "       [3],\n",
       "       [3],\n",
       "       [4],\n",
       "       [3],\n",
       "       [2],\n",
       "       [3],\n",
       "       [3],\n",
       "       [3],\n",
       "       [3],\n",
       "       [3],\n",
       "       [3],\n",
       "       [3],\n",
       "       [3],\n",
       "       [3],\n",
       "       [3],\n",
       "       [3],\n",
       "       [3],\n",
       "       [4],\n",
       "       [2],\n",
       "       [3],\n",
       "       [2],\n",
       "       [3],\n",
       "       [3],\n",
       "       [3],\n",
       "       [3],\n",
       "       [2],\n",
       "       [3],\n",
       "       [3],\n",
       "       [3],\n",
       "       [3],\n",
       "       [3],\n",
       "       [3],\n",
       "       [3],\n",
       "       [4],\n",
       "       [3],\n",
       "       [3],\n",
       "       [2],\n",
       "       [3],\n",
       "       [3],\n",
       "       [3],\n",
       "       [3],\n",
       "       [3],\n",
       "       [3],\n",
       "       [3],\n",
       "       [3],\n",
       "       [3],\n",
       "       [3],\n",
       "       [2],\n",
       "       [3],\n",
       "       [3],\n",
       "       [3],\n",
       "       [2],\n",
       "       [3],\n",
       "       [3],\n",
       "       [3],\n",
       "       [3],\n",
       "       [4],\n",
       "       [3],\n",
       "       [3],\n",
       "       [3],\n",
       "       [3],\n",
       "       [3],\n",
       "       [2],\n",
       "       [2],\n",
       "       [2],\n",
       "       [2],\n",
       "       [3],\n",
       "       [4],\n",
       "       [3],\n",
       "       [2],\n",
       "       [4],\n",
       "       [3],\n",
       "       [3],\n",
       "       [4],\n",
       "       [2],\n",
       "       [3],\n",
       "       [3],\n",
       "       [3],\n",
       "       [3],\n",
       "       [3],\n",
       "       [3],\n",
       "       [3],\n",
       "       [2],\n",
       "       [3],\n",
       "       [3],\n",
       "       [3],\n",
       "       [2]], dtype=int64)"
      ]
     },
     "execution_count": 229,
     "metadata": {},
     "output_type": "execute_result"
    }
   ],
   "source": [
    "cat1_y_pred = cat1.predict(x_test)\n",
    "cat1_y_pred"
   ]
  },
  {
   "cell_type": "code",
   "execution_count": 230,
   "id": "5357e2b1",
   "metadata": {},
   "outputs": [
    {
     "data": {
      "text/plain": [
       "(240, 1)"
      ]
     },
     "execution_count": 230,
     "metadata": {},
     "output_type": "execute_result"
    }
   ],
   "source": [
    "cat1_y_pred.shape"
   ]
  },
  {
   "cell_type": "code",
   "execution_count": 231,
   "id": "fb7ab8af",
   "metadata": {},
   "outputs": [
    {
     "data": {
      "text/plain": [
       "(240,)"
      ]
     },
     "execution_count": 231,
     "metadata": {},
     "output_type": "execute_result"
    }
   ],
   "source": [
    "y_test.shape"
   ]
  },
  {
   "cell_type": "code",
   "execution_count": 232,
   "id": "bccc97c9",
   "metadata": {},
   "outputs": [
    {
     "name": "stdout",
     "output_type": "stream",
     "text": [
      "ACCURACY SCORE: 0.9125\n",
      "PRECISION SCORE: 0.9119762241054613\n",
      "RECALL SCORE: 0.9125\n",
      "F1 SCORE: 0.9120700757575758\n",
      "------\n",
      "CAT CLASSIFICATION REPORT:\n",
      "              precision    recall  f1-score   support\n",
      "\n",
      "           2       0.82      0.82      0.82        39\n",
      "           3       0.94      0.95      0.94       175\n",
      "           4       0.88      0.81      0.84        26\n",
      "\n",
      "    accuracy                           0.91       240\n",
      "   macro avg       0.88      0.86      0.87       240\n",
      "weighted avg       0.91      0.91      0.91       240\n",
      "\n"
     ]
    }
   ],
   "source": [
    "cat1_acc_test = accuracy_score(y_test,cat1_y_pred)\n",
    "print('ACCURACY SCORE:', cat1_acc_test)\n",
    "cat1_pre = precision_score(y_test,cat1_y_pred, average = 'weighted')\n",
    "print('PRECISION SCORE:',cat1_pre)\n",
    "cat1_recall = recall_score(y_test,cat1_y_pred, average ='weighted')\n",
    "print('RECALL SCORE:',cat1_recall)\n",
    "cat1_f1 = f1_score(y_test,cat1_y_pred, average = 'weighted')\n",
    "print('F1 SCORE:',cat1_f1)\n",
    "print('------')\n",
    "print('CAT CLASSIFICATION REPORT:')\n",
    "print(classification_report(y_test,cat1_y_pred))"
   ]
  },
  {
   "cell_type": "code",
   "execution_count": null,
   "id": "6ab16799",
   "metadata": {},
   "outputs": [],
   "source": []
  },
  {
   "cell_type": "code",
   "execution_count": 233,
   "id": "c053ec86",
   "metadata": {},
   "outputs": [
    {
     "data": {
      "text/html": [
       "<div>\n",
       "<style scoped>\n",
       "    .dataframe tbody tr th:only-of-type {\n",
       "        vertical-align: middle;\n",
       "    }\n",
       "\n",
       "    .dataframe tbody tr th {\n",
       "        vertical-align: top;\n",
       "    }\n",
       "\n",
       "    .dataframe thead th {\n",
       "        text-align: right;\n",
       "    }\n",
       "</style>\n",
       "<table border=\"1\" class=\"dataframe\">\n",
       "  <thead>\n",
       "    <tr style=\"text-align: right;\">\n",
       "      <th></th>\n",
       "      <th>METRIC</th>\n",
       "      <th>VALUE</th>\n",
       "    </tr>\n",
       "  </thead>\n",
       "  <tbody>\n",
       "    <tr>\n",
       "      <th>0</th>\n",
       "      <td>Accuracy</td>\n",
       "      <td>0.912500</td>\n",
       "    </tr>\n",
       "    <tr>\n",
       "      <th>1</th>\n",
       "      <td>Precision</td>\n",
       "      <td>0.911976</td>\n",
       "    </tr>\n",
       "    <tr>\n",
       "      <th>2</th>\n",
       "      <td>Recall</td>\n",
       "      <td>0.912500</td>\n",
       "    </tr>\n",
       "    <tr>\n",
       "      <th>3</th>\n",
       "      <td>F1 Score</td>\n",
       "      <td>0.912070</td>\n",
       "    </tr>\n",
       "  </tbody>\n",
       "</table>\n",
       "</div>"
      ],
      "text/plain": [
       "      METRIC     VALUE\n",
       "0   Accuracy  0.912500\n",
       "1  Precision  0.911976\n",
       "2     Recall  0.912500\n",
       "3   F1 Score  0.912070"
      ]
     },
     "execution_count": 233,
     "metadata": {},
     "output_type": "execute_result"
    }
   ],
   "source": [
    "cat1_Metrics =pd.DataFrame({'METRIC': ['Accuracy','Precision','Recall','F1 Score'],'VALUE' : [cat1_acc_test,cat1_pre,cat1_recall,cat1_f1]})\n",
    "cat1_Metrics"
   ]
  },
  {
   "cell_type": "code",
   "execution_count": null,
   "id": "c64cacc6",
   "metadata": {},
   "outputs": [],
   "source": []
  },
  {
   "cell_type": "markdown",
   "id": "f64434e1",
   "metadata": {},
   "source": [
    "- CatBoost performed consistently well, even before hyperparameter tuning, and showed only slight improvement after tuning. It is highly useful for predicting employee performance due to its ability to handle categorical features and produce stable results."
   ]
  },
  {
   "cell_type": "code",
   "execution_count": null,
   "id": "847c2f99",
   "metadata": {},
   "outputs": [],
   "source": []
  },
  {
   "cell_type": "code",
   "execution_count": null,
   "id": "500aaab0",
   "metadata": {},
   "outputs": [],
   "source": []
  },
  {
   "cell_type": "code",
   "execution_count": null,
   "id": "d8aa9aea",
   "metadata": {},
   "outputs": [],
   "source": []
  },
  {
   "cell_type": "markdown",
   "id": "052cfe44",
   "metadata": {},
   "source": [
    "# 11. Linear Discriminant Analysis(LDA)"
   ]
  },
  {
   "cell_type": "code",
   "execution_count": 234,
   "id": "dbfa9450",
   "metadata": {},
   "outputs": [],
   "source": [
    "from sklearn.discriminant_analysis import LinearDiscriminantAnalysis"
   ]
  },
  {
   "cell_type": "code",
   "execution_count": 235,
   "id": "6cd13c21",
   "metadata": {},
   "outputs": [],
   "source": [
    "lda = LinearDiscriminantAnalysis()"
   ]
  },
  {
   "cell_type": "code",
   "execution_count": 236,
   "id": "f934fcee",
   "metadata": {},
   "outputs": [
    {
     "data": {
      "text/html": [
       "<style>#sk-container-id-28 {color: black;background-color: white;}#sk-container-id-28 pre{padding: 0;}#sk-container-id-28 div.sk-toggleable {background-color: white;}#sk-container-id-28 label.sk-toggleable__label {cursor: pointer;display: block;width: 100%;margin-bottom: 0;padding: 0.3em;box-sizing: border-box;text-align: center;}#sk-container-id-28 label.sk-toggleable__label-arrow:before {content: \"▸\";float: left;margin-right: 0.25em;color: #696969;}#sk-container-id-28 label.sk-toggleable__label-arrow:hover:before {color: black;}#sk-container-id-28 div.sk-estimator:hover label.sk-toggleable__label-arrow:before {color: black;}#sk-container-id-28 div.sk-toggleable__content {max-height: 0;max-width: 0;overflow: hidden;text-align: left;background-color: #f0f8ff;}#sk-container-id-28 div.sk-toggleable__content pre {margin: 0.2em;color: black;border-radius: 0.25em;background-color: #f0f8ff;}#sk-container-id-28 input.sk-toggleable__control:checked~div.sk-toggleable__content {max-height: 200px;max-width: 100%;overflow: auto;}#sk-container-id-28 input.sk-toggleable__control:checked~label.sk-toggleable__label-arrow:before {content: \"▾\";}#sk-container-id-28 div.sk-estimator input.sk-toggleable__control:checked~label.sk-toggleable__label {background-color: #d4ebff;}#sk-container-id-28 div.sk-label input.sk-toggleable__control:checked~label.sk-toggleable__label {background-color: #d4ebff;}#sk-container-id-28 input.sk-hidden--visually {border: 0;clip: rect(1px 1px 1px 1px);clip: rect(1px, 1px, 1px, 1px);height: 1px;margin: -1px;overflow: hidden;padding: 0;position: absolute;width: 1px;}#sk-container-id-28 div.sk-estimator {font-family: monospace;background-color: #f0f8ff;border: 1px dotted black;border-radius: 0.25em;box-sizing: border-box;margin-bottom: 0.5em;}#sk-container-id-28 div.sk-estimator:hover {background-color: #d4ebff;}#sk-container-id-28 div.sk-parallel-item::after {content: \"\";width: 100%;border-bottom: 1px solid gray;flex-grow: 1;}#sk-container-id-28 div.sk-label:hover label.sk-toggleable__label {background-color: #d4ebff;}#sk-container-id-28 div.sk-serial::before {content: \"\";position: absolute;border-left: 1px solid gray;box-sizing: border-box;top: 0;bottom: 0;left: 50%;z-index: 0;}#sk-container-id-28 div.sk-serial {display: flex;flex-direction: column;align-items: center;background-color: white;padding-right: 0.2em;padding-left: 0.2em;position: relative;}#sk-container-id-28 div.sk-item {position: relative;z-index: 1;}#sk-container-id-28 div.sk-parallel {display: flex;align-items: stretch;justify-content: center;background-color: white;position: relative;}#sk-container-id-28 div.sk-item::before, #sk-container-id-28 div.sk-parallel-item::before {content: \"\";position: absolute;border-left: 1px solid gray;box-sizing: border-box;top: 0;bottom: 0;left: 50%;z-index: -1;}#sk-container-id-28 div.sk-parallel-item {display: flex;flex-direction: column;z-index: 1;position: relative;background-color: white;}#sk-container-id-28 div.sk-parallel-item:first-child::after {align-self: flex-end;width: 50%;}#sk-container-id-28 div.sk-parallel-item:last-child::after {align-self: flex-start;width: 50%;}#sk-container-id-28 div.sk-parallel-item:only-child::after {width: 0;}#sk-container-id-28 div.sk-dashed-wrapped {border: 1px dashed gray;margin: 0 0.4em 0.5em 0.4em;box-sizing: border-box;padding-bottom: 0.4em;background-color: white;}#sk-container-id-28 div.sk-label label {font-family: monospace;font-weight: bold;display: inline-block;line-height: 1.2em;}#sk-container-id-28 div.sk-label-container {text-align: center;}#sk-container-id-28 div.sk-container {/* jupyter's `normalize.less` sets `[hidden] { display: none; }` but bootstrap.min.css set `[hidden] { display: none !important; }` so we also need the `!important` here to be able to override the default hidden behavior on the sphinx rendered scikit-learn.org. See: https://github.com/scikit-learn/scikit-learn/issues/21755 */display: inline-block !important;position: relative;}#sk-container-id-28 div.sk-text-repr-fallback {display: none;}</style><div id=\"sk-container-id-28\" class=\"sk-top-container\"><div class=\"sk-text-repr-fallback\"><pre>LinearDiscriminantAnalysis()</pre><b>In a Jupyter environment, please rerun this cell to show the HTML representation or trust the notebook. <br />On GitHub, the HTML representation is unable to render, please try loading this page with nbviewer.org.</b></div><div class=\"sk-container\" hidden><div class=\"sk-item\"><div class=\"sk-estimator sk-toggleable\"><input class=\"sk-toggleable__control sk-hidden--visually\" id=\"sk-estimator-id-49\" type=\"checkbox\" checked><label for=\"sk-estimator-id-49\" class=\"sk-toggleable__label sk-toggleable__label-arrow\">LinearDiscriminantAnalysis</label><div class=\"sk-toggleable__content\"><pre>LinearDiscriminantAnalysis()</pre></div></div></div></div></div>"
      ],
      "text/plain": [
       "LinearDiscriminantAnalysis()"
      ]
     },
     "execution_count": 236,
     "metadata": {},
     "output_type": "execute_result"
    }
   ],
   "source": [
    "lda.fit(x_sm,y_sm)"
   ]
  },
  {
   "cell_type": "markdown",
   "id": "12af6e81",
   "metadata": {},
   "source": [
    "###### Prediction"
   ]
  },
  {
   "cell_type": "code",
   "execution_count": 237,
   "id": "09624888",
   "metadata": {},
   "outputs": [
    {
     "data": {
      "text/plain": [
       "array([3, 3, 3, ..., 4, 4, 4], dtype=int64)"
      ]
     },
     "execution_count": 237,
     "metadata": {},
     "output_type": "execute_result"
    }
   ],
   "source": [
    "lda_y_train = lda.predict(x_sm)\n",
    "lda_y_train"
   ]
  },
  {
   "cell_type": "code",
   "execution_count": 238,
   "id": "233b675d",
   "metadata": {},
   "outputs": [
    {
     "data": {
      "text/plain": [
       "array([3, 3, 3, 3, 3, 3, 3, 3, 3, 3, 3, 3, 3, 3, 3, 3, 3, 3, 4, 3, 2, 2,\n",
       "       2, 3, 2, 4, 4, 3, 2, 3, 3, 4, 4, 3, 3, 4, 3, 3, 4, 3, 3, 3, 3, 2,\n",
       "       3, 4, 4, 3, 4, 3, 3, 2, 3, 4, 2, 3, 3, 3, 3, 3, 2, 4, 4, 3, 3, 2,\n",
       "       2, 3, 3, 4, 3, 3, 3, 3, 3, 3, 4, 3, 2, 3, 3, 2, 2, 3, 3, 3, 2, 4,\n",
       "       3, 3, 2, 2, 4, 3, 3, 3, 3, 3, 3, 2, 4, 3, 4, 3, 3, 3, 2, 2, 2, 4,\n",
       "       4, 3, 4, 3, 3, 3, 3, 3, 2, 3, 3, 4, 3, 2, 2, 3, 2, 4, 3, 4, 3, 3,\n",
       "       3, 4, 3, 4, 2, 4, 2, 4, 3, 2, 2, 2, 3, 4, 3, 2, 3, 4, 2, 3, 3, 4,\n",
       "       3, 4, 2, 2, 3, 4, 3, 3, 3, 2, 4, 3, 3, 4, 3, 3, 4, 2, 2, 2, 3, 3,\n",
       "       3, 3, 2, 3, 3, 3, 4, 3, 3, 3, 2, 3, 4, 4, 3, 3, 3, 3, 3, 3, 3, 3,\n",
       "       3, 3, 3, 3, 3, 3, 3, 2, 3, 3, 3, 4, 3, 3, 3, 3, 4, 2, 2, 2, 2, 4,\n",
       "       4, 3, 2, 4, 3, 3, 2, 2, 2, 3, 3, 4, 3, 3, 3, 2, 3, 4, 3, 2],\n",
       "      dtype=int64)"
      ]
     },
     "execution_count": 238,
     "metadata": {},
     "output_type": "execute_result"
    }
   ],
   "source": [
    "lda_y_pred = lda.predict(x_test)\n",
    "lda_y_pred"
   ]
  },
  {
   "cell_type": "markdown",
   "id": "2711d729",
   "metadata": {},
   "source": [
    "###### Evaluation"
   ]
  },
  {
   "cell_type": "code",
   "execution_count": 239,
   "id": "bd0cf350",
   "metadata": {},
   "outputs": [
    {
     "data": {
      "text/plain": [
       "0.8688602765855985"
      ]
     },
     "execution_count": 239,
     "metadata": {},
     "output_type": "execute_result"
    }
   ],
   "source": [
    "lda_acc_train  = accuracy_score(y_sm,lda_y_train)\n",
    "lda_acc_train"
   ]
  },
  {
   "cell_type": "code",
   "execution_count": 240,
   "id": "7ea6b9e1",
   "metadata": {},
   "outputs": [
    {
     "name": "stdout",
     "output_type": "stream",
     "text": [
      "              precision    recall  f1-score   support\n",
      "\n",
      "           2       0.86      0.93      0.89       699\n",
      "           3       0.89      0.77      0.82       699\n",
      "           4       0.86      0.91      0.89       699\n",
      "\n",
      "    accuracy                           0.87      2097\n",
      "   macro avg       0.87      0.87      0.87      2097\n",
      "weighted avg       0.87      0.87      0.87      2097\n",
      "\n"
     ]
    }
   ],
   "source": [
    "print(classification_report(y_sm,lda_y_train))"
   ]
  },
  {
   "cell_type": "code",
   "execution_count": 241,
   "id": "ccb16fea",
   "metadata": {},
   "outputs": [
    {
     "name": "stdout",
     "output_type": "stream",
     "text": [
      "ACCURACY SCORE: 0.7333333333333333\n",
      "PRECISION SCORE: 0.792591972359816\n",
      "RECALL SCORE: 0.7333333333333333\n",
      "F1 SCORE: 0.7493256797699129\n",
      "------\n",
      "LDA CLASSIFICATION REPORT:\n",
      "              precision    recall  f1-score   support\n",
      "\n",
      "           2       0.55      0.72      0.62        39\n",
      "           3       0.90      0.73      0.81       175\n",
      "           4       0.43      0.77      0.55        26\n",
      "\n",
      "    accuracy                           0.73       240\n",
      "   macro avg       0.63      0.74      0.66       240\n",
      "weighted avg       0.79      0.73      0.75       240\n",
      "\n"
     ]
    }
   ],
   "source": [
    "lda_acc_test = accuracy_score(y_test,lda_y_pred)\n",
    "print('ACCURACY SCORE:', lda_acc_test)\n",
    "lda_pre = precision_score(y_test,lda_y_pred, average = 'weighted')\n",
    "print('PRECISION SCORE:',lda_pre)\n",
    "lda_recall = recall_score(y_test,lda_y_pred, average ='weighted')\n",
    "print('RECALL SCORE:',lda_recall)\n",
    "lda_f1 = f1_score(y_test,lda_y_pred, average = 'weighted')\n",
    "print('F1 SCORE:',lda_f1)\n",
    "print('------')\n",
    "print('LDA CLASSIFICATION REPORT:')\n",
    "print(classification_report(y_test,lda_y_pred))"
   ]
  },
  {
   "cell_type": "code",
   "execution_count": null,
   "id": "64ae5bc8",
   "metadata": {},
   "outputs": [],
   "source": []
  },
  {
   "cell_type": "markdown",
   "id": "6919aa8a",
   "metadata": {},
   "source": [
    "- LDA's performance was subpar compared to other models, and it didn't improve much after hyperparameter tuning. Its linear nature makes it unsuitable for complex relationships in the data, so it is not recommended for employee performance prediction."
   ]
  },
  {
   "cell_type": "code",
   "execution_count": null,
   "id": "6f53676a",
   "metadata": {},
   "outputs": [],
   "source": []
  },
  {
   "cell_type": "code",
   "execution_count": null,
   "id": "798b1891",
   "metadata": {},
   "outputs": [],
   "source": []
  },
  {
   "cell_type": "markdown",
   "id": "afd34cff",
   "metadata": {},
   "source": [
    "# 12.  Quadratic Discriminant Analysis(QDA)"
   ]
  },
  {
   "cell_type": "code",
   "execution_count": 242,
   "id": "0b571078",
   "metadata": {},
   "outputs": [],
   "source": [
    "from sklearn.discriminant_analysis import QuadraticDiscriminantAnalysis"
   ]
  },
  {
   "cell_type": "code",
   "execution_count": 243,
   "id": "5f6dad2e",
   "metadata": {},
   "outputs": [],
   "source": [
    "qda = QuadraticDiscriminantAnalysis()"
   ]
  },
  {
   "cell_type": "code",
   "execution_count": 244,
   "id": "39fdf41d",
   "metadata": {},
   "outputs": [
    {
     "data": {
      "text/html": [
       "<style>#sk-container-id-29 {color: black;background-color: white;}#sk-container-id-29 pre{padding: 0;}#sk-container-id-29 div.sk-toggleable {background-color: white;}#sk-container-id-29 label.sk-toggleable__label {cursor: pointer;display: block;width: 100%;margin-bottom: 0;padding: 0.3em;box-sizing: border-box;text-align: center;}#sk-container-id-29 label.sk-toggleable__label-arrow:before {content: \"▸\";float: left;margin-right: 0.25em;color: #696969;}#sk-container-id-29 label.sk-toggleable__label-arrow:hover:before {color: black;}#sk-container-id-29 div.sk-estimator:hover label.sk-toggleable__label-arrow:before {color: black;}#sk-container-id-29 div.sk-toggleable__content {max-height: 0;max-width: 0;overflow: hidden;text-align: left;background-color: #f0f8ff;}#sk-container-id-29 div.sk-toggleable__content pre {margin: 0.2em;color: black;border-radius: 0.25em;background-color: #f0f8ff;}#sk-container-id-29 input.sk-toggleable__control:checked~div.sk-toggleable__content {max-height: 200px;max-width: 100%;overflow: auto;}#sk-container-id-29 input.sk-toggleable__control:checked~label.sk-toggleable__label-arrow:before {content: \"▾\";}#sk-container-id-29 div.sk-estimator input.sk-toggleable__control:checked~label.sk-toggleable__label {background-color: #d4ebff;}#sk-container-id-29 div.sk-label input.sk-toggleable__control:checked~label.sk-toggleable__label {background-color: #d4ebff;}#sk-container-id-29 input.sk-hidden--visually {border: 0;clip: rect(1px 1px 1px 1px);clip: rect(1px, 1px, 1px, 1px);height: 1px;margin: -1px;overflow: hidden;padding: 0;position: absolute;width: 1px;}#sk-container-id-29 div.sk-estimator {font-family: monospace;background-color: #f0f8ff;border: 1px dotted black;border-radius: 0.25em;box-sizing: border-box;margin-bottom: 0.5em;}#sk-container-id-29 div.sk-estimator:hover {background-color: #d4ebff;}#sk-container-id-29 div.sk-parallel-item::after {content: \"\";width: 100%;border-bottom: 1px solid gray;flex-grow: 1;}#sk-container-id-29 div.sk-label:hover label.sk-toggleable__label {background-color: #d4ebff;}#sk-container-id-29 div.sk-serial::before {content: \"\";position: absolute;border-left: 1px solid gray;box-sizing: border-box;top: 0;bottom: 0;left: 50%;z-index: 0;}#sk-container-id-29 div.sk-serial {display: flex;flex-direction: column;align-items: center;background-color: white;padding-right: 0.2em;padding-left: 0.2em;position: relative;}#sk-container-id-29 div.sk-item {position: relative;z-index: 1;}#sk-container-id-29 div.sk-parallel {display: flex;align-items: stretch;justify-content: center;background-color: white;position: relative;}#sk-container-id-29 div.sk-item::before, #sk-container-id-29 div.sk-parallel-item::before {content: \"\";position: absolute;border-left: 1px solid gray;box-sizing: border-box;top: 0;bottom: 0;left: 50%;z-index: -1;}#sk-container-id-29 div.sk-parallel-item {display: flex;flex-direction: column;z-index: 1;position: relative;background-color: white;}#sk-container-id-29 div.sk-parallel-item:first-child::after {align-self: flex-end;width: 50%;}#sk-container-id-29 div.sk-parallel-item:last-child::after {align-self: flex-start;width: 50%;}#sk-container-id-29 div.sk-parallel-item:only-child::after {width: 0;}#sk-container-id-29 div.sk-dashed-wrapped {border: 1px dashed gray;margin: 0 0.4em 0.5em 0.4em;box-sizing: border-box;padding-bottom: 0.4em;background-color: white;}#sk-container-id-29 div.sk-label label {font-family: monospace;font-weight: bold;display: inline-block;line-height: 1.2em;}#sk-container-id-29 div.sk-label-container {text-align: center;}#sk-container-id-29 div.sk-container {/* jupyter's `normalize.less` sets `[hidden] { display: none; }` but bootstrap.min.css set `[hidden] { display: none !important; }` so we also need the `!important` here to be able to override the default hidden behavior on the sphinx rendered scikit-learn.org. See: https://github.com/scikit-learn/scikit-learn/issues/21755 */display: inline-block !important;position: relative;}#sk-container-id-29 div.sk-text-repr-fallback {display: none;}</style><div id=\"sk-container-id-29\" class=\"sk-top-container\"><div class=\"sk-text-repr-fallback\"><pre>QuadraticDiscriminantAnalysis()</pre><b>In a Jupyter environment, please rerun this cell to show the HTML representation or trust the notebook. <br />On GitHub, the HTML representation is unable to render, please try loading this page with nbviewer.org.</b></div><div class=\"sk-container\" hidden><div class=\"sk-item\"><div class=\"sk-estimator sk-toggleable\"><input class=\"sk-toggleable__control sk-hidden--visually\" id=\"sk-estimator-id-50\" type=\"checkbox\" checked><label for=\"sk-estimator-id-50\" class=\"sk-toggleable__label sk-toggleable__label-arrow\">QuadraticDiscriminantAnalysis</label><div class=\"sk-toggleable__content\"><pre>QuadraticDiscriminantAnalysis()</pre></div></div></div></div></div>"
      ],
      "text/plain": [
       "QuadraticDiscriminantAnalysis()"
      ]
     },
     "execution_count": 244,
     "metadata": {},
     "output_type": "execute_result"
    }
   ],
   "source": [
    "qda.fit(x_sm,y_sm)"
   ]
  },
  {
   "cell_type": "markdown",
   "id": "9af0d625",
   "metadata": {},
   "source": [
    "###### Prediction"
   ]
  },
  {
   "cell_type": "code",
   "execution_count": 245,
   "id": "4b15c6b2",
   "metadata": {},
   "outputs": [
    {
     "data": {
      "text/plain": [
       "array([3, 3, 3, ..., 4, 4, 4], dtype=int64)"
      ]
     },
     "execution_count": 245,
     "metadata": {},
     "output_type": "execute_result"
    }
   ],
   "source": [
    "qda_y_train = qda.predict(x_sm)\n",
    "qda_y_train"
   ]
  },
  {
   "cell_type": "code",
   "execution_count": 246,
   "id": "5feea3da",
   "metadata": {},
   "outputs": [
    {
     "data": {
      "text/plain": [
       "array([3, 3, 3, 3, 3, 4, 3, 3, 3, 3, 3, 2, 3, 3, 3, 3, 3, 3, 3, 3, 3, 3,\n",
       "       3, 3, 3, 4, 4, 3, 3, 3, 3, 4, 3, 3, 3, 3, 3, 3, 4, 3, 3, 3, 4, 3,\n",
       "       3, 4, 4, 3, 4, 3, 3, 3, 3, 4, 3, 3, 3, 3, 3, 3, 3, 3, 4, 3, 3, 3,\n",
       "       3, 3, 3, 3, 3, 3, 3, 3, 3, 3, 3, 3, 3, 3, 3, 2, 3, 3, 3, 3, 2, 4,\n",
       "       3, 3, 3, 2, 4, 3, 3, 3, 3, 3, 3, 3, 3, 3, 3, 3, 3, 3, 2, 2, 2, 3,\n",
       "       3, 3, 4, 3, 3, 3, 3, 3, 3, 3, 3, 4, 3, 2, 3, 3, 3, 3, 3, 4, 3, 3,\n",
       "       3, 3, 3, 2, 3, 3, 3, 3, 3, 2, 3, 2, 3, 3, 3, 2, 3, 4, 3, 3, 3, 4,\n",
       "       3, 3, 3, 3, 3, 3, 3, 3, 3, 2, 3, 3, 3, 3, 3, 3, 4, 2, 2, 2, 3, 3,\n",
       "       3, 3, 3, 3, 3, 3, 3, 3, 3, 3, 3, 3, 4, 4, 3, 3, 3, 3, 3, 3, 3, 3,\n",
       "       3, 3, 2, 3, 3, 3, 3, 3, 3, 3, 3, 4, 3, 3, 3, 3, 3, 3, 2, 2, 2, 3,\n",
       "       4, 3, 3, 3, 3, 3, 3, 3, 4, 3, 3, 3, 3, 3, 3, 3, 3, 4, 3, 3],\n",
       "      dtype=int64)"
      ]
     },
     "execution_count": 246,
     "metadata": {},
     "output_type": "execute_result"
    }
   ],
   "source": [
    "qda_y_pred = qda.predict(x_test)\n",
    "qda_y_pred"
   ]
  },
  {
   "cell_type": "markdown",
   "id": "5074c90c",
   "metadata": {},
   "source": [
    "###### Evaluation"
   ]
  },
  {
   "cell_type": "code",
   "execution_count": 247,
   "id": "801ba44c",
   "metadata": {},
   "outputs": [
    {
     "data": {
      "text/plain": [
       "0.9246542680019075"
      ]
     },
     "execution_count": 247,
     "metadata": {},
     "output_type": "execute_result"
    }
   ],
   "source": [
    "qda_acc_train  = accuracy_score(y_sm,qda_y_train)\n",
    "qda_acc_train"
   ]
  },
  {
   "cell_type": "code",
   "execution_count": 248,
   "id": "3f7c72a7",
   "metadata": {},
   "outputs": [
    {
     "name": "stdout",
     "output_type": "stream",
     "text": [
      "              precision    recall  f1-score   support\n",
      "\n",
      "           2       0.97      0.91      0.94       699\n",
      "           3       0.86      0.93      0.89       699\n",
      "           4       0.95      0.94      0.94       699\n",
      "\n",
      "    accuracy                           0.92      2097\n",
      "   macro avg       0.93      0.92      0.93      2097\n",
      "weighted avg       0.93      0.92      0.93      2097\n",
      "\n"
     ]
    }
   ],
   "source": [
    "print(classification_report(y_sm,qda_y_train))"
   ]
  },
  {
   "cell_type": "code",
   "execution_count": 249,
   "id": "4a101148",
   "metadata": {},
   "outputs": [
    {
     "name": "stdout",
     "output_type": "stream",
     "text": [
      "ACCURACY SCORE: 0.8041666666666667\n",
      "PRECISION SCORE: 0.8045608974358974\n",
      "RECALL SCORE: 0.8041666666666667\n",
      "F1 SCORE: 0.7916347054931302\n",
      "------\n",
      "QDA CLASSIFICATION REPORT:\n",
      "              precision    recall  f1-score   support\n",
      "\n",
      "           2       0.85      0.44      0.58        39\n",
      "           3       0.83      0.93      0.88       175\n",
      "           4       0.56      0.54      0.55        26\n",
      "\n",
      "    accuracy                           0.80       240\n",
      "   macro avg       0.75      0.63      0.67       240\n",
      "weighted avg       0.80      0.80      0.79       240\n",
      "\n"
     ]
    }
   ],
   "source": [
    "qda_acc_test = accuracy_score(y_test,qda_y_pred)\n",
    "print('ACCURACY SCORE:', qda_acc_test)\n",
    "qda_pre = precision_score(y_test,qda_y_pred, average = 'weighted')\n",
    "print('PRECISION SCORE:',qda_pre)\n",
    "qda_recall = recall_score(y_test,qda_y_pred, average ='weighted')\n",
    "print('RECALL SCORE:',qda_recall)\n",
    "qda_f1 = f1_score(y_test,qda_y_pred, average = 'weighted')\n",
    "print('F1 SCORE:',qda_f1)\n",
    "print('------')\n",
    "print('QDA CLASSIFICATION REPORT:')\n",
    "print(classification_report(y_test,qda_y_pred))"
   ]
  },
  {
   "cell_type": "code",
   "execution_count": null,
   "id": "e66adafd",
   "metadata": {},
   "outputs": [],
   "source": []
  },
  {
   "cell_type": "markdown",
   "id": "6636ef43",
   "metadata": {},
   "source": [
    "\n",
    "- QDA showed similar results to LDA, with accuracy and other metrics falling short compared to other models. It struggled to capture the complexity of employee performance data, making it not useful for this task."
   ]
  },
  {
   "cell_type": "markdown",
   "id": "a5670955",
   "metadata": {},
   "source": [
    "# Conclusion"
   ]
  },
  {
   "cell_type": "raw",
   "id": "ae84a9a6",
   "metadata": {},
   "source": [
    " Based on the performance evaluation of all 12 machine learning algorithms, the most useful models for our project are:"
   ]
  },
  {
   "cell_type": "markdown",
   "id": "4d45459b",
   "metadata": {},
   "source": [
    "- 1. **Random Forest** : The top performer, offering strong generalization and accuracy."
   ]
  },
  {
   "cell_type": "markdown",
   "id": "b7d9138d",
   "metadata": {},
   "source": [
    "- 2. **Gradient Boosting** : A close contender with consistently high performance."
   ]
  },
  {
   "cell_type": "code",
   "execution_count": null,
   "id": "90403c86",
   "metadata": {},
   "outputs": [],
   "source": []
  },
  {
   "cell_type": "code",
   "execution_count": null,
   "id": "d3d56a5b",
   "metadata": {},
   "outputs": [],
   "source": []
  },
  {
   "cell_type": "code",
   "execution_count": null,
   "id": "b0f27797",
   "metadata": {},
   "outputs": [],
   "source": []
  },
  {
   "cell_type": "code",
   "execution_count": 250,
   "id": "28e01341",
   "metadata": {},
   "outputs": [],
   "source": [
    "#Saving best trained model using joblib"
   ]
  },
  {
   "cell_type": "code",
   "execution_count": 251,
   "id": "4e5a8d00",
   "metadata": {},
   "outputs": [
    {
     "data": {
      "text/plain": [
       "['random_forest_model.pkl']"
      ]
     },
     "execution_count": 251,
     "metadata": {},
     "output_type": "execute_result"
    }
   ],
   "source": [
    "joblib.dump(rf,\"random_forest_model.pkl\")"
   ]
  },
  {
   "cell_type": "code",
   "execution_count": 252,
   "id": "7aa21e5b",
   "metadata": {},
   "outputs": [
    {
     "data": {
      "text/plain": [
       "['gradient_boosting_model.pkl']"
      ]
     },
     "execution_count": 252,
     "metadata": {},
     "output_type": "execute_result"
    }
   ],
   "source": [
    "joblib.dump(gbc1,\"gradient_boosting_model.pkl\")"
   ]
  },
  {
   "cell_type": "code",
   "execution_count": null,
   "id": "8a8a99bd",
   "metadata": {},
   "outputs": [],
   "source": []
  },
  {
   "cell_type": "code",
   "execution_count": null,
   "id": "05695d6f",
   "metadata": {},
   "outputs": [],
   "source": []
  },
  {
   "cell_type": "code",
   "execution_count": 253,
   "id": "045a223a",
   "metadata": {},
   "outputs": [],
   "source": [
    "#saving predictions"
   ]
  },
  {
   "cell_type": "code",
   "execution_count": 254,
   "id": "cb204d68",
   "metadata": {
    "scrolled": true
   },
   "outputs": [],
   "source": [
    "# Create a DataFrame to store the predictions of all models\n",
    "predictions_data = pd.DataFrame({\n",
    "    'True Labels': y_test,  # True labels for comparison\n",
    "    'Random Forest' : rf_y_pred,\n",
    "    'Gradient Boosting': gbc1_y_pred\n",
    "})"
   ]
  },
  {
   "cell_type": "code",
   "execution_count": 255,
   "id": "e9f31d2e",
   "metadata": {},
   "outputs": [],
   "source": [
    "predictions_data.to_csv('Predictions_data.csv',index = False)"
   ]
  },
  {
   "cell_type": "code",
   "execution_count": 256,
   "id": "854d1cfd",
   "metadata": {},
   "outputs": [
    {
     "data": {
      "text/plain": [
       "['Predictions.pkl']"
      ]
     },
     "execution_count": 256,
     "metadata": {},
     "output_type": "execute_result"
    }
   ],
   "source": [
    "joblib.dump(predictions_data,'Predictions.pkl')"
   ]
  },
  {
   "cell_type": "code",
   "execution_count": null,
   "id": "88d99b6b",
   "metadata": {},
   "outputs": [],
   "source": []
  }
 ],
 "metadata": {
  "kernelspec": {
   "display_name": "Python 3 (ipykernel)",
   "language": "python",
   "name": "python3"
  },
  "language_info": {
   "codemirror_mode": {
    "name": "ipython",
    "version": 3
   },
   "file_extension": ".py",
   "mimetype": "text/x-python",
   "name": "python",
   "nbconvert_exporter": "python",
   "pygments_lexer": "ipython3",
   "version": "3.11.5"
  }
 },
 "nbformat": 4,
 "nbformat_minor": 5
}
