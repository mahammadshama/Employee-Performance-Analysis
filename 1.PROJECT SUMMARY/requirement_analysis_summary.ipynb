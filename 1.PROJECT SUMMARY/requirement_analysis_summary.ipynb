{
 "cells": [
  {
   "cell_type": "markdown",
   "id": "342821c5",
   "metadata": {},
   "source": [
    "# PROJECT SUMMARY"
   ]
  },
  {
   "cell_type": "markdown",
   "id": "ca8aef31",
   "metadata": {},
   "source": [
    "### Project Title : Employee Performance Analysis"
   ]
  },
  {
   "cell_type": "markdown",
   "id": "1da77d4a",
   "metadata": {},
   "source": [
    "### Client : INX Future Inc."
   ]
  },
  {
   "cell_type": "markdown",
   "id": "8c65c3b3",
   "metadata": {},
   "source": [
    "### Objective :"
   ]
  },
  {
   "cell_type": "markdown",
   "id": "39ba1c91",
   "metadata": {},
   "source": [
    "To identify underlying factors contributing to declining employee performance and provide actionable insights while minimizing negative impacts on employee morale.\n",
    "\n",
    "INX Future Inc., a leader in data analytics and automation solutions, has been facing a dip in employee performance and client satisfaction. The CEO initiated this project to analyze employee data, identify non-performing employees without broadly affecting morale, and recommend data-driven solutions to improve overall performance and productivity.\n"
   ]
  },
  {
   "cell_type": "raw",
   "id": "04e01981",
   "metadata": {},
   "source": []
  },
  {
   "cell_type": "markdown",
   "id": "00151867",
   "metadata": {},
   "source": [
    "# 1. REQUIREMENT"
   ]
  },
  {
   "cell_type": "markdown",
   "id": "160b67dd",
   "metadata": {},
   "source": [
    "### Data Source :"
   ]
  },
  {
   "cell_type": "markdown",
   "id": "94cde91a",
   "metadata": {},
   "source": [
    "The data used for the analysis was provided by INX’s HR department. It contained 28 features, including employee demographics, work experience, satisfaction levels, and performance-related metrics. The dataset had 1200 records with no null values or duplicates"
   ]
  },
  {
   "cell_type": "raw",
   "id": "dddf193e",
   "metadata": {},
   "source": [
    "28 Features include :"
   ]
  },
  {
   "cell_type": "markdown",
   "id": "a8f011e6",
   "metadata": {},
   "source": [
    "### Numerical Features"
   ]
  },
  {
   "cell_type": "markdown",
   "id": "dc220fdc",
   "metadata": {},
   "source": [
    "- Age\n",
    "- DistanceFromHome\n",
    "- EmpHourlyRate\n",
    "- NumCompaniesWorked\n",
    "- EmpLastSalaryHikePercent\n",
    "- TotalWorkExperienceInYears\n",
    "- TrainingTimesLastYear\n",
    "- ExperienceYearsAtThisCompany\n",
    "- ExperienceYearsInCurrentRole\n",
    "- YearsSinceLastPromotion\n",
    "- YearsWithCurrManager"
   ]
  },
  {
   "cell_type": "markdown",
   "id": "7765d94d",
   "metadata": {},
   "source": [
    "### Categorical Features"
   ]
  },
  {
   "cell_type": "markdown",
   "id": "2cbd8b83",
   "metadata": {},
   "source": [
    "- EmpNumber\n",
    "- Gender\n",
    "- EducationBackground\n",
    "- MaritalStatus\n",
    "- EmpDepartment\n",
    "- EmpJobRole\n",
    "- BusinessTravelFrequency\n",
    "- OverTime\n",
    "- Attrition"
   ]
  },
  {
   "cell_type": "markdown",
   "id": "646f5e19",
   "metadata": {},
   "source": [
    "### Discrete Features"
   ]
  },
  {
   "cell_type": "markdown",
   "id": "1fda0282",
   "metadata": {},
   "source": [
    "- EmpEducationLevel\n",
    "- EmpEnvironmentSatisfaction\n",
    "- EmpJobInvolvement\n",
    "- EmpJobLevel\n",
    "- EmpJobSatisfaction\n",
    "- EmpRelationshipSatisfaction\n",
    "- EmpWorkLifeBalance\n",
    "- PerformanceRating"
   ]
  },
  {
   "cell_type": "raw",
   "id": "12b421dc",
   "metadata": {},
   "source": []
  },
  {
   "cell_type": "markdown",
   "id": "c732b5c7",
   "metadata": {},
   "source": [
    "# 2. ANALYSIS"
   ]
  },
  {
   "cell_type": "markdown",
   "id": "fc632ba7",
   "metadata": {},
   "source": [
    "The project workflow involved a step-by-step process of data preprocessing, exploratory data analysis (EDA), model selection, and actionable recommendations.\n"
   ]
  },
  {
   "cell_type": "markdown",
   "id": "3eadd402",
   "metadata": {},
   "source": [
    "## 2.1 Data Processing Techniques"
   ]
  },
  {
   "cell_type": "markdown",
   "id": "31f7380d",
   "metadata": {},
   "source": [
    "### Outlier Handling"
   ]
  },
  {
   "cell_type": "markdown",
   "id": "a28f8ece",
   "metadata": {},
   "source": [
    "- Outliers were identified using box plots and statistical thresholds.\n",
    "\n",
    "- For most features, capping was applied to limit the influence of extreme values while preserving data integrity.\n",
    "\n",
    "- For \"YearsSinceLastPromotion,\" a log transformation was employed to address high skewness, effectively reducing it to 0.635, which improved the feature's suitability for modeling.\n"
   ]
  },
  {
   "cell_type": "markdown",
   "id": "0cd94cf4",
   "metadata": {},
   "source": [
    "### Encoding Categorical Features"
   ]
  },
  {
   "cell_type": "markdown",
   "id": "0a613963",
   "metadata": {},
   "source": [
    "- The dataset included 8 categorical columns that required transformation.\n",
    "\n",
    "- Label encoding and manual encoding were applied"
   ]
  },
  {
   "cell_type": "markdown",
   "id": "c8a3ee0d",
   "metadata": {},
   "source": [
    "### Scaling"
   ]
  },
  {
   "cell_type": "markdown",
   "id": "6804669d",
   "metadata": {},
   "source": [
    "- Continuous features like Age, EmpHourlyRate, and DistanceFromHome were standardized using StandardScaler to ensure uniform scaling and improve model performance.\n",
    "\n"
   ]
  },
  {
   "cell_type": "markdown",
   "id": "1f8a1f9b",
   "metadata": {},
   "source": [
    "### Balancing the Dataset"
   ]
  },
  {
   "cell_type": "markdown",
   "id": "f2c82358",
   "metadata": {},
   "source": [
    "- The target variable, PerformanceRating, exhibited class imbalance, which could have biased the models.\n",
    "\n",
    "- To address this, SMOTE (Synthetic Minority Oversampling Technique) was applied to the training dataset, ensuring equal representation of all performance categories.\n",
    "\n"
   ]
  },
  {
   "cell_type": "markdown",
   "id": "ff287ec1",
   "metadata": {},
   "source": [
    "### Correlation Check"
   ]
  },
  {
   "cell_type": "markdown",
   "id": "ec1e8d3e",
   "metadata": {},
   "source": [
    "- A correlation matrix was generated to examine relationships among features.\n",
    "\n",
    "- No multicollinearity was detected, confirming that all features could be retained for modeling."
   ]
  },
  {
   "cell_type": "markdown",
   "id": "bd42cbf7",
   "metadata": {},
   "source": [
    "## 2.2 Exploratory Data Analysis(EDA)"
   ]
  },
  {
   "cell_type": "markdown",
   "id": "1cf7dc50",
   "metadata": {},
   "source": [
    "EDA was conducted to explore the dataset, identify patterns, and gain actionable insights:"
   ]
  },
  {
   "cell_type": "markdown",
   "id": "c564dfd8",
   "metadata": {},
   "source": [
    "##### Univariate Analysis"
   ]
  },
  {
   "cell_type": "markdown",
   "id": "b4cd438d",
   "metadata": {},
   "source": [
    "The primary goal of univariate analysis was to understand the distribution and composition of individual features:"
   ]
  },
  {
   "cell_type": "markdown",
   "id": "0878c9f4",
   "metadata": {},
   "source": [
    "###### 1. Continous Features"
   ]
  },
  {
   "cell_type": "markdown",
   "id": "4c458c27",
   "metadata": {},
   "source": [
    "- Histogram Plots were used to visualize the distribution of variables like Age, EmpHourlyRate, and DistanceFromHome.\n",
    "\n",
    "- Most continuous features followed normal or slightly skewed distributions, indicating the need for transformation in some cases (e.g., YearsSinceLastPromotion)."
   ]
  },
  {
   "cell_type": "markdown",
   "id": "1b7aab75",
   "metadata": {},
   "source": [
    "###### 2. Categorical and Discrete Features"
   ]
  },
  {
   "cell_type": "markdown",
   "id": "9b138c2a",
   "metadata": {},
   "source": [
    "- Count Plots were used to analyze categorical and discrete variables like Gender, EducationBackground, and NumCompaniesWorked."
   ]
  },
  {
   "cell_type": "markdown",
   "id": "feee3040",
   "metadata": {},
   "source": [
    "##### Bivariate Analysis"
   ]
  },
  {
   "cell_type": "markdown",
   "id": "aaa14b57",
   "metadata": {},
   "source": [
    "Bivariate analysis examined relationships between individual features and the target variable, **PerformanceRating**"
   ]
  },
  {
   "cell_type": "markdown",
   "id": "1227acd6",
   "metadata": {},
   "source": [
    "###### 1. Continous Features"
   ]
  },
  {
   "cell_type": "markdown",
   "id": "00807812",
   "metadata": {},
   "source": [
    "- Histograms with Hue (grouped by PerformanceRating) revealed trends like:\n",
    "\n",
    "Employees with longer TotalWorkExperienceInYears generally had higher performance ratings.\n",
    "\n",
    "DistanceFromHome showed no significant impact on performance, contrary to initial expectations."
   ]
  },
  {
   "cell_type": "markdown",
   "id": "a0869034",
   "metadata": {},
   "source": [
    "###### 2. Categorical and Discrete Features"
   ]
  },
  {
   "cell_type": "markdown",
   "id": "4f15a57d",
   "metadata": {},
   "source": [
    "- Count Plots with Hue showed performance distributions across categories:\n",
    "\n",
    "Employees working OverTime had lower performance ratings, suggesting burnout.\n",
    "\n",
    "Higher JobSatisfaction was associated with better performance across all departments."
   ]
  },
  {
   "cell_type": "markdown",
   "id": "47102aff",
   "metadata": {},
   "source": [
    "##### Multivariate Analysis"
   ]
  },
  {
   "cell_type": "markdown",
   "id": "ca0090e6",
   "metadata": {},
   "source": [
    " Multivariate analysis was conducted to explore interactions between multiple continuous variables and their collective impact on performance:"
   ]
  },
  {
   "cell_type": "markdown",
   "id": "eab5646f",
   "metadata": {},
   "source": [
    " Pair Plots were generated for select continuous features like Age, EmpHourlyRate, YearsSinceLastPromotion, and TotalWorkExperienceInYears."
   ]
  },
  {
   "cell_type": "markdown",
   "id": "c7550522",
   "metadata": {},
   "source": [
    "## 2.3 Model Selection and Evaluation"
   ]
  },
  {
   "cell_type": "markdown",
   "id": "08634f44",
   "metadata": {},
   "source": [
    "To build a predictive model for employee performance, several machine learning algorithms were tested and evaluated. The process included selecting models, tuning hyperparameters, and evaluating their performance using key metrics like accuracy, precision, recall and F1 score."
   ]
  },
  {
   "cell_type": "markdown",
   "id": "9d0bef73",
   "metadata": {},
   "source": [
    "### Model Selection Process"
   ]
  },
  {
   "cell_type": "markdown",
   "id": "a9ca38f7",
   "metadata": {},
   "source": [
    "###### 1. Algorithms Applied : "
   ]
  },
  {
   "cell_type": "markdown",
   "id": "a2aa3378",
   "metadata": {},
   "source": [
    "A total of 12 algorithms were tested, including:\n",
    "\n",
    "- Logistic Regression (Multinomial)\n",
    "\n",
    "- Support Vector Machine (SVM)\n",
    "\n",
    "- Decision Tree Classifier\n",
    "\n",
    "- Random Forest Classifier\n",
    "\n",
    "- Gradient Boosting Classifier\n",
    "\n",
    "- K-Nearest Neighbors (KNN)\n",
    "\n",
    "- AdaBoost Classifier\n",
    "\n",
    "- CatBoost Classifier\n",
    "\n",
    "- Multi-Layer Perceptron (MLP) Classifier\n",
    "\n",
    "- Extra Trees Classifier\n",
    "\n",
    "- Linear Discriminant Analysis (LDA)\n",
    "\n",
    "- Quadratic Discriminant Analysis (QDA)"
   ]
  },
  {
   "cell_type": "markdown",
   "id": "e8cc56cc",
   "metadata": {},
   "source": [
    "###### 2. Evaluation Metrics :"
   ]
  },
  {
   "cell_type": "markdown",
   "id": "5202f00f",
   "metadata": {},
   "source": [
    "Models were evaluated based on the following metrics:"
   ]
  },
  {
   "cell_type": "markdown",
   "id": "775e344b",
   "metadata": {},
   "source": [
    "- Accuracy: Overall percentage of correct predictions.\n",
    "\n",
    "- Precision: Ability to correctly identify positive instances.\n",
    "\n",
    "- Recall: Ability to capture all positive instances.\n",
    "\n",
    "- F1-Score: Balance between precision and recall.\n"
   ]
  },
  {
   "cell_type": "markdown",
   "id": "6a15e1c4",
   "metadata": {},
   "source": [
    "## Best-Performing Models"
   ]
  },
  {
   "cell_type": "markdown",
   "id": "312003e3",
   "metadata": {},
   "source": [
    "Among the 12 models, the following two algorithms demonstrated the best performance :"
   ]
  },
  {
   "cell_type": "markdown",
   "id": "18ed893d",
   "metadata": {},
   "source": [
    "## 1. Random Forest Classifier"
   ]
  },
  {
   "cell_type": "markdown",
   "id": "c1ce931a",
   "metadata": {},
   "source": [
    "- **Untuned Accuracy : 93.3%**\n",
    "- **Tuned Accuracy : 91.6%**"
   ]
  },
  {
   "cell_type": "markdown",
   "id": "12b1b83c",
   "metadata": {},
   "source": [
    "## 2. Gradient Boosting Classifier"
   ]
  },
  {
   "cell_type": "markdown",
   "id": "dfbb6d31",
   "metadata": {},
   "source": [
    "- **Untuned Accuracy : 92.5%**\n",
    "- **Tuned Accuracy : 92.5%**(consistent performance)"
   ]
  },
  {
   "cell_type": "markdown",
   "id": "1267a9e2",
   "metadata": {},
   "source": [
    "# Final Model Selection"
   ]
  },
  {
   "cell_type": "markdown",
   "id": "e58cee51",
   "metadata": {},
   "source": [
    "The **Random Forest Classifier** was chosen as the final model due to its superior performance, interpretability, and robustness in handling the dataset's features."
   ]
  },
  {
   "cell_type": "raw",
   "id": "78925af9",
   "metadata": {},
   "source": []
  },
  {
   "cell_type": "markdown",
   "id": "1362026e",
   "metadata": {},
   "source": [
    "# 3. SUMMARY"
   ]
  },
  {
   "cell_type": "markdown",
   "id": "4149ccc1",
   "metadata": {},
   "source": [
    "The project focused on achieving four main goals:"
   ]
  },
  {
   "cell_type": "markdown",
   "id": "978d8c6d",
   "metadata": {},
   "source": [
    "### 1. Department Wise Performance"
   ]
  },
  {
   "cell_type": "markdown",
   "id": "533b2b26",
   "metadata": {},
   "source": [
    "- Data Science and Development have the highest ratings, indicating strong performance in these areas.\n",
    "- Research & Development and Human Resources also show good performance.\n",
    "- Finance and Sales have the lowest ratings, suggesting potential areas for improvement.\n",
    "- Overall, the company maintains a consistent level of performance across departments."
   ]
  },
  {
   "cell_type": "markdown",
   "id": "28b9c83c",
   "metadata": {},
   "source": [
    "### 2. Top 3 Factors Impacting Performance"
   ]
  },
  {
   "cell_type": "markdown",
   "id": "1da1f487",
   "metadata": {},
   "source": [
    "**EmpLastSalaryHikePercent   \n",
    "EmpEnvironmentSatisfaction    \n",
    "YearsSinceLastPromotion**    \n",
    "These features significantly influence the model's predictions. Other features like EmpJobRole and ExperienceYearsInCurrentRole also contribute, but to a lesser extent. Many features at the bottom have negligible importance."
   ]
  },
  {
   "cell_type": "markdown",
   "id": "ef243469",
   "metadata": {},
   "source": [
    "### 3. Developing a Predictive Model"
   ]
  },
  {
   "cell_type": "markdown",
   "id": "5e139c8f",
   "metadata": {},
   "source": [
    "Built and evaluated 12 machine learning models to predict employee performance, with the **Random Forest Classifier** achieving the best accuracy of 93.3%"
   ]
  },
  {
   "cell_type": "markdown",
   "id": "fff3f91e",
   "metadata": {},
   "source": [
    "### 4.Recommendations"
   ]
  },
  {
   "cell_type": "markdown",
   "id": "4d959387",
   "metadata": {},
   "source": [
    "######  Enhance Employee Satisfaction and Engagement :"
   ]
  },
  {
   "cell_type": "markdown",
   "id": "b25c6f5c",
   "metadata": {},
   "source": [
    "- Regular Feedback and Recognition: Implement a system for frequent feedback and recognition to boost morale and motivation.\n",
    "- Work-Life Balance Initiatives: Promote work-life balance through flexible work arrangements and wellness programs.\n",
    "- Employee Development Programs: Invest in training and development opportunities to enhance skills and knowledge.\n",
    "- Transparent Communication: Foster open communication channels to address concerns and build trust."
   ]
  },
  {
   "cell_type": "markdown",
   "id": "9694c1f5",
   "metadata": {},
   "source": [
    "###### Optimize Performance Management :"
   ]
  },
  {
   "cell_type": "markdown",
   "id": "56abe202",
   "metadata": {},
   "source": [
    "- Clear Performance Expectations: Set clear and measurable performance goals.\n",
    "- Regular Performance Reviews: Conduct regular performance reviews to provide feedback and identify areas for improvement.\n",
    "- Performance-Based Incentives: Implement performance-based incentives to reward top performers."
   ]
  },
  {
   "cell_type": "markdown",
   "id": "2b791c17",
   "metadata": {},
   "source": [
    "###### Foster a Postivie Work Culture:"
   ]
  },
  {
   "cell_type": "markdown",
   "id": "20401784",
   "metadata": {},
   "source": [
    "- Strong Leadership: Provide strong leadership and mentorship to guide and inspire employees.\n",
    "- Team Building Activities: Organize team-building activities to improve collaboration and teamwork.\n",
    "- Positive Workplace Environment: Create a positive and supportive work environment."
   ]
  },
  {
   "cell_type": "markdown",
   "id": "e856ffc3",
   "metadata": {},
   "source": [
    "By implementing these strategies, INX Future Inc. can significantly boost employee performance and maintain its reputation as a top employer while improving client satisfaction and overall organizational success."
   ]
  },
  {
   "cell_type": "code",
   "execution_count": null,
   "id": "0d40690a",
   "metadata": {},
   "outputs": [],
   "source": []
  }
 ],
 "metadata": {
  "kernelspec": {
   "display_name": "Python 3 (ipykernel)",
   "language": "python",
   "name": "python3"
  },
  "language_info": {
   "codemirror_mode": {
    "name": "ipython",
    "version": 3
   },
   "file_extension": ".py",
   "mimetype": "text/x-python",
   "name": "python",
   "nbconvert_exporter": "python",
   "pygments_lexer": "ipython3",
   "version": "3.11.5"
  }
 },
 "nbformat": 4,
 "nbformat_minor": 5
}
